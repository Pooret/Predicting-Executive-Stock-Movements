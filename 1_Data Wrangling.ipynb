{
 "cells": [
  {
   "cell_type": "markdown",
   "metadata": {},
   "source": [
    "# Part 1. Data Wrangling:\n",
    "\n",
    "This capstone looks at tweets from a 5-year period of the CEOS of several companies. Their respective stocks are collected and the tweets are analyzed to determine if the closing price of a stock can be determined from the CEO's tweets. The CEOs, their twitter username, and their associated stocks are as follows:  \n",
    " - Elon Musk : '@elonmusk': Tesla (TSLA)\n",
    " - Aaron Levie : '@levie': Box (BOX)\n",
    " - Jack Dorsey : '@jack': Twitter (TWTR)\n",
    " - Marc Benioff : '@Benioff': Salesforce (CRM)\n",
    " - Richard Branson: @richardbranson: Virgin Galactic (SPCE)\n",
    " - John Legere: @JohnLegere: T-Mobile (TMUS)\n",
    " \n",
    " \n",
    "These CEOs were selected with the following criteria:  \n",
    " - the stock must be a publicly traded company for at least 5 years.\n",
    " - the CEO must have tweeted at least 500 times over that span of that 5 years.\n",
    " \n",
    "\n",
    "\n",
    "## Objective: \n",
    "\n",
    "To scrape the tweets and stocks from the CEOS, clean these data by standardizing dates and times, dealing with null values, and then to combine these cleaned dataframes into a single dataframe for EDA and machine learning. All datetimes are in EST."
   ]
  },
  {
   "cell_type": "code",
   "execution_count": 13,
   "metadata": {},
   "outputs": [],
   "source": [
    "import os\n",
    "import warnings\n",
    "warnings.filterwarnings('ignore')\n",
    "%matplotlib inline\n",
    "import matplotlib.pyplot as plt\n",
    "plt.style.use('fivethirtyeight')\n",
    "\n",
    "# Where to save the figures\n",
    "PROJECT_ROOT_DIR = \".\"\n",
    "PROJECT_ID = \"stock_movement_tweet_data_wrangling\"\n",
    "IMAGES_PATH = os.path.join(PROJECT_ROOT_DIR, \"images\", PROJECT_ID)\n",
    "os.makedirs(IMAGES_PATH, exist_ok=True)\n",
    "\n",
    "def save_fig(fig_id, tight_layout=True, fig_extension=\"png\", resolution=72):\n",
    "    \"\"\" \n",
    "    resolution quality\n",
    "    300 high \n",
    "    150 medium\n",
    "    72 low\n",
    "    \"\"\"\n",
    "    path = os.path.join(IMAGES_PATH, fig_id + \".\" + fig_extension)\n",
    "    print(\"Saving figure\", fig_id)\n",
    "    if tight_layout:\n",
    "        plt.tight_layout()\n",
    "    plt.savefig(path, format=fig_extension, dpi=resolution)"
   ]
  },
  {
   "cell_type": "code",
   "execution_count": 14,
   "metadata": {},
   "outputs": [],
   "source": [
    "from utils import *"
   ]
  },
  {
   "cell_type": "markdown",
   "metadata": {},
   "source": [
    "# Collecting Data"
   ]
  },
  {
   "cell_type": "markdown",
   "metadata": {},
   "source": [
    "## Collecting Stocks "
   ]
  },
  {
   "cell_type": "code",
   "execution_count": 15,
   "metadata": {
    "scrolled": true
   },
   "outputs": [],
   "source": [
    "# Import 5-year daily tesla stocks from Yahoo Finance and store in dataframe\n",
    "\n",
    "#tsla = yf.Ticker('TSLA')\n",
    "#box = yf.Ticker('BOX')\n",
    "#twtr = yf.Ticker('TWTR')\n",
    "#crm = yf.Ticker('CRM')\n",
    "#spce = yf.Ticker('SPCE')\n",
    "#tmus = yf.Ticker('TMUS')\n",
    "\n",
    "\n",
    "\n",
    "# Convert to dataframes\n",
    "#tsla_df = tsla.history(period = '5y')\n",
    "#box_df = box.history(period = '5y')\n",
    "#twtr_df = twtr.history(period = '5y')\n",
    "#crm_df = crm.history(period = '5y')\n",
    "#spce_df = spce.history(period='5y')\n",
    "#tmus_df = tmus.history(period='5y')\n",
    "\n",
    "\n",
    "\n",
    "stock_names = ['TSLA','BOX', 'TWTR','CRM','SPCE', 'TMUS']\n",
    "stocks = {}\n",
    "for stock in stock_names:\n",
    "    stocks[stock] = pd.read_pickle(f'data/{stock}.pkl')"
   ]
  },
  {
   "cell_type": "code",
   "execution_count": 16,
   "metadata": {
    "scrolled": false
   },
   "outputs": [
    {
     "name": "stdout",
     "output_type": "stream",
     "text": [
      "===============\n",
      "TSLA\n",
      "===============\n",
      "<class 'pandas.core.frame.DataFrame'>\n",
      "RangeIndex: 1259 entries, 0 to 1258\n",
      "Data columns (total 8 columns):\n",
      " #   Column        Non-Null Count  Dtype         \n",
      "---  ------        --------------  -----         \n",
      " 0   Date          1259 non-null   datetime64[ns]\n",
      " 1   Open          1259 non-null   float64       \n",
      " 2   High          1259 non-null   float64       \n",
      " 3   Low           1259 non-null   float64       \n",
      " 4   Close         1259 non-null   float64       \n",
      " 5   Volume        1259 non-null   int64         \n",
      " 6   Dividends     1259 non-null   int64         \n",
      " 7   Stock Splits  1259 non-null   float64       \n",
      "dtypes: datetime64[ns](1), float64(5), int64(2)\n",
      "memory usage: 78.8 KB\n",
      "None\n",
      "\n",
      "First Row:\n",
      "        Date       Open       High        Low      Close    Volume  Dividends  \\\n",
      "0 2016-08-23  44.863998  45.698002  44.560001  44.967999  23922000          0   \n",
      "\n",
      "   Stock Splits  \n",
      "0           0.0  \n",
      "===============\n",
      "BOX\n",
      "===============\n",
      "<class 'pandas.core.frame.DataFrame'>\n",
      "RangeIndex: 1259 entries, 0 to 1258\n",
      "Data columns (total 8 columns):\n",
      " #   Column        Non-Null Count  Dtype         \n",
      "---  ------        --------------  -----         \n",
      " 0   Date          1259 non-null   datetime64[ns]\n",
      " 1   Open          1259 non-null   float64       \n",
      " 2   High          1259 non-null   float64       \n",
      " 3   Low           1259 non-null   float64       \n",
      " 4   Close         1259 non-null   float64       \n",
      " 5   Volume        1259 non-null   int64         \n",
      " 6   Dividends     1259 non-null   int64         \n",
      " 7   Stock Splits  1259 non-null   int64         \n",
      "dtypes: datetime64[ns](1), float64(4), int64(3)\n",
      "memory usage: 78.8 KB\n",
      "None\n",
      "\n",
      "First Row:\n",
      "        Date   Open   High    Low  Close   Volume  Dividends  Stock Splits\n",
      "0 2016-08-23  12.95  13.49  12.93   13.3  1526800          0             0\n",
      "===============\n",
      "TWTR\n",
      "===============\n",
      "<class 'pandas.core.frame.DataFrame'>\n",
      "RangeIndex: 1259 entries, 0 to 1258\n",
      "Data columns (total 8 columns):\n",
      " #   Column        Non-Null Count  Dtype         \n",
      "---  ------        --------------  -----         \n",
      " 0   Date          1259 non-null   datetime64[ns]\n",
      " 1   Open          1259 non-null   float64       \n",
      " 2   High          1259 non-null   float64       \n",
      " 3   Low           1259 non-null   float64       \n",
      " 4   Close         1259 non-null   float64       \n",
      " 5   Volume        1259 non-null   int64         \n",
      " 6   Dividends     1259 non-null   int64         \n",
      " 7   Stock Splits  1259 non-null   int64         \n",
      "dtypes: datetime64[ns](1), float64(4), int64(3)\n",
      "memory usage: 78.8 KB\n",
      "None\n",
      "\n",
      "First Row:\n",
      "        Date   Open   High    Low      Close    Volume  Dividends  \\\n",
      "0 2016-08-23  18.65  18.93  18.65  18.690001  14089300          0   \n",
      "\n",
      "   Stock Splits  \n",
      "0             0  \n",
      "===============\n",
      "CRM\n",
      "===============\n",
      "<class 'pandas.core.frame.DataFrame'>\n",
      "RangeIndex: 1259 entries, 0 to 1258\n",
      "Data columns (total 8 columns):\n",
      " #   Column        Non-Null Count  Dtype         \n",
      "---  ------        --------------  -----         \n",
      " 0   Date          1259 non-null   datetime64[ns]\n",
      " 1   Open          1259 non-null   float64       \n",
      " 2   High          1259 non-null   float64       \n",
      " 3   Low           1259 non-null   float64       \n",
      " 4   Close         1259 non-null   float64       \n",
      " 5   Volume        1259 non-null   int64         \n",
      " 6   Dividends     1259 non-null   int64         \n",
      " 7   Stock Splits  1259 non-null   int64         \n",
      "dtypes: datetime64[ns](1), float64(4), int64(3)\n",
      "memory usage: 78.8 KB\n",
      "None\n",
      "\n",
      "First Row:\n",
      "        Date   Open       High    Low      Close   Volume  Dividends  \\\n",
      "0 2016-08-23  77.82  78.279999  77.68  78.019997  4328600          0   \n",
      "\n",
      "   Stock Splits  \n",
      "0             0  \n",
      "===============\n",
      "SPCE\n",
      "===============\n",
      "<class 'pandas.core.frame.DataFrame'>\n",
      "RangeIndex: 981 entries, 0 to 980\n",
      "Data columns (total 8 columns):\n",
      " #   Column        Non-Null Count  Dtype         \n",
      "---  ------        --------------  -----         \n",
      " 0   Date          981 non-null    datetime64[ns]\n",
      " 1   Open          981 non-null    float64       \n",
      " 2   High          981 non-null    float64       \n",
      " 3   Low           981 non-null    float64       \n",
      " 4   Close         981 non-null    float64       \n",
      " 5   Volume        981 non-null    int64         \n",
      " 6   Dividends     981 non-null    int64         \n",
      " 7   Stock Splits  981 non-null    int64         \n",
      "dtypes: datetime64[ns](1), float64(4), int64(3)\n",
      "memory usage: 61.4 KB\n",
      "None\n",
      "\n",
      "First Row:\n",
      "        Date  Open  High   Low  Close  Volume  Dividends  Stock Splits\n",
      "0 2017-09-29  10.5  10.5  10.0   10.1  212800          0             0\n",
      "===============\n",
      "TMUS\n",
      "===============\n",
      "<class 'pandas.core.frame.DataFrame'>\n",
      "RangeIndex: 1259 entries, 0 to 1258\n",
      "Data columns (total 8 columns):\n",
      " #   Column        Non-Null Count  Dtype         \n",
      "---  ------        --------------  -----         \n",
      " 0   Date          1259 non-null   datetime64[ns]\n",
      " 1   Open          1259 non-null   float64       \n",
      " 2   High          1259 non-null   float64       \n",
      " 3   Low           1259 non-null   float64       \n",
      " 4   Close         1259 non-null   float64       \n",
      " 5   Volume        1259 non-null   int64         \n",
      " 6   Dividends     1259 non-null   int64         \n",
      " 7   Stock Splits  1259 non-null   int64         \n",
      "dtypes: datetime64[ns](1), float64(4), int64(3)\n",
      "memory usage: 78.8 KB\n",
      "None\n",
      "\n",
      "First Row:\n",
      "        Date       Open       High        Low      Close   Volume  Dividends  \\\n",
      "0 2016-08-23  46.959999  47.310001  46.720001  46.830002  1563800          0   \n",
      "\n",
      "   Stock Splits  \n",
      "0             0  \n"
     ]
    }
   ],
   "source": [
    "# Examine stocks\n",
    "#stocks = { 'TSLA': tsla_df, 'BOX': box_df, 'TWTR': twtr_df, 'CRM':crm_df, 'SPCE': spce_df, 'TMUS':tmus_df}\n",
    "\n",
    "for stock in stocks:\n",
    "    print(\"===============\")\n",
    "    print(stock)\n",
    "    print(\"===============\")\n",
    "    print(stocks[stock].info())\n",
    "    print('\\nFirst Row:')\n",
    "    print(stocks[stock].head(1))\n",
    "  \n",
    "    stocks[stock].to_pickle(f'./data/{stock}.pkl')"
   ]
  },
  {
   "cell_type": "markdown",
   "metadata": {},
   "source": [
    "### 1.2.2 Combining the Stocks <a id='1.2.2_Combining_Stocks'></a>"
   ]
  },
  {
   "cell_type": "code",
   "execution_count": 17,
   "metadata": {},
   "outputs": [],
   "source": [
    "# Get needed columns and change the date to lowercase\n",
    "\n",
    "for stock in stocks:\n",
    "    stocks[stock].reset_index(inplace=True)\n",
    "    stocks[stock] =  stocks[stock][['Date','Open', 'Close']]\n",
    "    stocks[stock].columns = stocks[stock].columns.str.lower()"
   ]
  },
  {
   "cell_type": "code",
   "execution_count": 18,
   "metadata": {},
   "outputs": [
    {
     "name": "stdout",
     "output_type": "stream",
     "text": [
      "TSLA\n",
      "=======================\n",
      "date     2016-08-23 00:00:00\n",
      "open               36.220001\n",
      "close              35.793999\n",
      "dtype: object\n",
      "date     2021-08-23 00:00:00\n",
      "open              891.380005\n",
      "close             883.090027\n",
      "dtype: object\n",
      "\n",
      "BOX\n",
      "=======================\n",
      "date     2016-08-23 00:00:00\n",
      "open                    8.75\n",
      "close                   9.12\n",
      "dtype: object\n",
      "date     2021-08-23 00:00:00\n",
      "open                   29.25\n",
      "close                  29.01\n",
      "dtype: object\n",
      "\n",
      "TWTR\n",
      "=======================\n",
      "date     2016-08-23 00:00:00\n",
      "open                    14.3\n",
      "close                  14.29\n",
      "dtype: object\n",
      "date     2021-08-23 00:00:00\n",
      "open               78.360001\n",
      "close              77.629997\n",
      "dtype: object\n",
      "\n",
      "CRM\n",
      "=======================\n",
      "date     2016-08-23 00:00:00\n",
      "open               66.589996\n",
      "close              68.410004\n",
      "dtype: object\n",
      "date     2021-08-23 00:00:00\n",
      "open              283.470001\n",
      "close                 281.25\n",
      "dtype: object\n",
      "\n",
      "SPCE\n",
      "=======================\n",
      "date     2017-09-29 00:00:00\n",
      "open                    7.19\n",
      "close                   7.22\n",
      "dtype: object\n",
      "date     2021-08-23 00:00:00\n",
      "open                   58.59\n",
      "close                  59.41\n",
      "dtype: object\n",
      "\n",
      "TMUS\n",
      "=======================\n",
      "date     2016-08-23 00:00:00\n",
      "open                    44.5\n",
      "close                   44.5\n",
      "dtype: object\n",
      "date     2021-08-23 00:00:00\n",
      "open              149.339996\n",
      "close             149.410004\n",
      "dtype: object\n",
      "\n"
     ]
    }
   ],
   "source": [
    "for stock in stocks:\n",
    "    print(stock.upper())\n",
    "    print(\"=======================\")\n",
    "    print(stocks[stock][stocks[stock]['date'] == stocks[stock]['date']].min())\n",
    "    print(stocks[stock][stocks[stock]['date'] == stocks[stock]['date']].max())\n",
    "    print(\"\")"
   ]
  },
  {
   "cell_type": "code",
   "execution_count": 7,
   "metadata": {},
   "outputs": [],
   "source": [
    "def organize_stocks(stock): #Here\n",
    "\n",
    "        # Instatiate Open and Close\n",
    "        stock_open = stock[['date','open']]\n",
    "        stock_close = stock[['date','close']]\n",
    "\n",
    "        # Convert dates to datetime objects\n",
    "        stock_open['date'] = pd.to_datetime(stock_open['date'])\n",
    "        stock_close['date'] = pd.to_datetime(stock_close['date'])\n",
    "\n",
    "        # Convert datetimes into datetime string format\n",
    "        stock_open['date'] = stock_open['date'].dt.strftime('%Y-%m-%d 09:30:00')\n",
    "        stock_close['date'] = stock_close['date'].dt.strftime('%Y-%m-%d 16:00:00')\n",
    "\n",
    "        # Convert strings back into datetime objects\n",
    "        stock_open['date'] = pd.to_datetime(stock_open['date'])\n",
    "        stock_close['date'] = pd.to_datetime(stock_close['date'])\n",
    "\n",
    "        # Get earliest and latest stock price dates to create a date index\n",
    "        stock_open['price'] = stock_open['open']\n",
    "        stock_open.drop('open', axis=1, inplace=True)\n",
    "\n",
    "        stock_close['price'] = stock_close['close']\n",
    "        stock_close.drop('close', axis=1, inplace=True)\n",
    "\n",
    "        start_date_open = dt.strftime(stock_open.reset_index().date.min(), '%Y-%m-%d %H:%M:%S')\n",
    "        end_date_open = dt.strftime(stock_open.reset_index().date.max(), '%Y-%m-%d %H:%M:%S')\n",
    "\n",
    "        start_date_close = dt.strftime(stock_close.reset_index().date.min(), '%Y-%m-%d %H:%M:%S')\n",
    "        end_date_close = dt.strftime(stock_close.reset_index().date.max(), '%Y-%m-%d %H:%M:%S')\n",
    "\n",
    "        date_indx_open = pd.date_range(start_date_open, end_date_open).tolist()\n",
    "        date_indx_close = pd.date_range(start_date_close, end_date_close).tolist()\n",
    "        date_indx_open = pd.Series(date_indx_open, name='date')\n",
    "        date_indx_close = pd.Series(date_indx_close, name='date')\n",
    "\n",
    "        # Merge date index onto stock dataframes\n",
    "        stock_open = pd.merge(date_indx_open, stock_open, how='left')\n",
    "        stock_close = pd.merge(date_indx_close, stock_close, how='left')\n",
    "\n",
    "        # Interpolate missing values\n",
    "        #stock_open['price'].interpolate(method='linear', inplace=True)\n",
    "        #stock_close['price'].interpolate(method='linear', inplace=True)\n",
    "        \n",
    "        # MAKE SURE YOU CAN UNDERSTAND THIS\n",
    "\n",
    "        # Reset index and join open and close dataframes together\n",
    "        stock_open.set_index('date', inplace=True)\n",
    "        stock_close.set_index('date', inplace=True)\n",
    "\n",
    "        stock = pd.concat([stock_open, stock_close])\n",
    "        \n",
    "        stock.sort_index(inplace=True)\n",
    "        \n",
    "        return stock"
   ]
  },
  {
   "cell_type": "markdown",
   "metadata": {},
   "source": [
    "Our goal is to predict stock changes based off twitter data that occurs before the next opening or closing price. To get the data into a workable format, I will need to combine the opening and closing stock prices and sort them by date and time."
   ]
  },
  {
   "cell_type": "code",
   "execution_count": 8,
   "metadata": {
    "scrolled": true
   },
   "outputs": [],
   "source": [
    "for stock in stocks:\n",
    "    stocks[stock] = organize_stocks(stocks[stock])"
   ]
  },
  {
   "cell_type": "markdown",
   "metadata": {},
   "source": [
    "### 1.2.3 Examine Collected Stocks <a id='1.2.3_Examine_Stocks'></a>"
   ]
  },
  {
   "cell_type": "code",
   "execution_count": 9,
   "metadata": {
    "scrolled": false
   },
   "outputs": [
    {
     "data": {
      "image/png": "[encoded data removed]",
      "text/plain": [
       "<Figure size 432x288 with 1 Axes>"
      ]
     },
     "metadata": {
      "needs_background": "light"
     },
     "output_type": "display_data"
    },
    {
     "data": {
      "image/png": "[encoded data removed]",
      "text/plain": [
       "<Figure size 432x288 with 1 Axes>"
      ]
     },
     "metadata": {
      "needs_background": "light"
     },
     "output_type": "display_data"
    },
    {
     "data": {
      "image/png": "[encoded data removed]",
      "text/plain": [
       "<Figure size 432x288 with 1 Axes>"
      ]
     },
     "metadata": {
      "needs_background": "light"
     },
     "output_type": "display_data"
    },
    {
     "data": {
      "image/png": "[encoded data removed]",
      "text/plain": [
       "<Figure size 432x288 with 1 Axes>"
      ]
     },
     "metadata": {
      "needs_background": "light"
     },
     "output_type": "display_data"
    },
    {
     "data": {
      "image/png": "[encoded data removed]",
      "text/plain": [
       "<Figure size 432x288 with 1 Axes>"
      ]
     },
     "metadata": {
      "needs_background": "light"
     },
     "output_type": "display_data"
    },
    {
     "data": {
      "image/png": "[encoded data removed]",
      "text/plain": [
       "<Figure size 432x288 with 1 Axes>"
      ]
     },
     "metadata": {
      "needs_background": "light"
     },
     "output_type": "display_data"
    }
   ],
   "source": [
    "for stock in stocks:\n",
    "    stocks[stock].plot()\n",
    "    plt.xlabel('date', color='black')\n",
    "    plt.ylabel('price', color='black')\n",
    "    plt.title(stock, color='black')\n",
    "    plt.xticks(color='black')\n",
    "    plt.yticks(color='black')\n",
    "    plt.savefig('./figures/data_wrangling/stocks_{}.png'.format(stock), bbox_inches='tight', tranparent=True)\n",
    "    plt.show()\n",
    "    \n",
    "    "
   ]
  },
  {
   "cell_type": "code",
   "execution_count": 10,
   "metadata": {},
   "outputs": [
    {
     "name": "stdout",
     "output_type": "stream",
     "text": [
      "                     price\n",
      "date                      \n",
      "2016-08-23 09:30:00  False\n",
      "2016-08-23 16:00:00  False\n",
      "2016-08-24 09:30:00  False\n",
      "2016-08-24 16:00:00  False\n",
      "2016-08-25 09:30:00  False\n",
      "...                    ...\n",
      "2021-08-21 16:00:00   True\n",
      "2021-08-22 09:30:00   True\n",
      "2021-08-22 16:00:00   True\n",
      "2021-08-23 09:30:00  False\n",
      "2021-08-23 16:00:00  False\n",
      "\n",
      "[3654 rows x 1 columns]\n",
      "                     price\n",
      "date                      \n",
      "2016-08-23 09:30:00  False\n",
      "2016-08-23 16:00:00  False\n",
      "2016-08-24 09:30:00  False\n",
      "2016-08-24 16:00:00  False\n",
      "2016-08-25 09:30:00  False\n",
      "...                    ...\n",
      "2021-08-21 16:00:00   True\n",
      "2021-08-22 09:30:00   True\n",
      "2021-08-22 16:00:00   True\n",
      "2021-08-23 09:30:00  False\n",
      "2021-08-23 16:00:00  False\n",
      "\n",
      "[3654 rows x 1 columns]\n",
      "                     price\n",
      "date                      \n",
      "2016-08-23 09:30:00  False\n",
      "2016-08-23 16:00:00  False\n",
      "2016-08-24 09:30:00  False\n",
      "2016-08-24 16:00:00  False\n",
      "2016-08-25 09:30:00  False\n",
      "...                    ...\n",
      "2021-08-21 16:00:00   True\n",
      "2021-08-22 09:30:00   True\n",
      "2021-08-22 16:00:00   True\n",
      "2021-08-23 09:30:00  False\n",
      "2021-08-23 16:00:00  False\n",
      "\n",
      "[3654 rows x 1 columns]\n",
      "                     price\n",
      "date                      \n",
      "2016-08-23 09:30:00  False\n",
      "2016-08-23 16:00:00  False\n",
      "2016-08-24 09:30:00  False\n",
      "2016-08-24 16:00:00  False\n",
      "2016-08-25 09:30:00  False\n",
      "...                    ...\n",
      "2021-08-21 16:00:00   True\n",
      "2021-08-22 09:30:00   True\n",
      "2021-08-22 16:00:00   True\n",
      "2021-08-23 09:30:00  False\n",
      "2021-08-23 16:00:00  False\n",
      "\n",
      "[3654 rows x 1 columns]\n",
      "                     price\n",
      "date                      \n",
      "2017-09-29 09:30:00  False\n",
      "2017-09-29 16:00:00  False\n",
      "2017-09-30 09:30:00   True\n",
      "2017-09-30 16:00:00   True\n",
      "2017-10-01 09:30:00   True\n",
      "...                    ...\n",
      "2021-08-21 16:00:00   True\n",
      "2021-08-22 09:30:00   True\n",
      "2021-08-22 16:00:00   True\n",
      "2021-08-23 09:30:00  False\n",
      "2021-08-23 16:00:00  False\n",
      "\n",
      "[2850 rows x 1 columns]\n",
      "                     price\n",
      "date                      \n",
      "2016-08-23 09:30:00  False\n",
      "2016-08-23 16:00:00  False\n",
      "2016-08-24 09:30:00  False\n",
      "2016-08-24 16:00:00  False\n",
      "2016-08-25 09:30:00  False\n",
      "...                    ...\n",
      "2021-08-21 16:00:00   True\n",
      "2021-08-22 09:30:00   True\n",
      "2021-08-22 16:00:00   True\n",
      "2021-08-23 09:30:00  False\n",
      "2021-08-23 16:00:00  False\n",
      "\n",
      "[3654 rows x 1 columns]\n"
     ]
    }
   ],
   "source": [
    "for stock in stocks:\n",
    "    print(stocks[stock].isna())"
   ]
  },
  {
   "cell_type": "code",
   "execution_count": 11,
   "metadata": {},
   "outputs": [
    {
     "name": "stdout",
     "output_type": "stream",
     "text": [
      "TSLA\n",
      "<class 'pandas.core.frame.DataFrame'>\n",
      "DatetimeIndex: 3654 entries, 2016-08-23 09:30:00 to 2021-08-23 16:00:00\n",
      "Data columns (total 1 columns):\n",
      " #   Column  Non-Null Count  Dtype  \n",
      "---  ------  --------------  -----  \n",
      " 0   price   2518 non-null   float64\n",
      "dtypes: float64(1)\n",
      "memory usage: 57.1 KB\n",
      "None\n",
      "BOX\n",
      "<class 'pandas.core.frame.DataFrame'>\n",
      "DatetimeIndex: 3654 entries, 2016-08-23 09:30:00 to 2021-08-23 16:00:00\n",
      "Data columns (total 1 columns):\n",
      " #   Column  Non-Null Count  Dtype  \n",
      "---  ------  --------------  -----  \n",
      " 0   price   2518 non-null   float64\n",
      "dtypes: float64(1)\n",
      "memory usage: 57.1 KB\n",
      "None\n",
      "TWTR\n",
      "<class 'pandas.core.frame.DataFrame'>\n",
      "DatetimeIndex: 3654 entries, 2016-08-23 09:30:00 to 2021-08-23 16:00:00\n",
      "Data columns (total 1 columns):\n",
      " #   Column  Non-Null Count  Dtype  \n",
      "---  ------  --------------  -----  \n",
      " 0   price   2518 non-null   float64\n",
      "dtypes: float64(1)\n",
      "memory usage: 57.1 KB\n",
      "None\n",
      "CRM\n",
      "<class 'pandas.core.frame.DataFrame'>\n",
      "DatetimeIndex: 3654 entries, 2016-08-23 09:30:00 to 2021-08-23 16:00:00\n",
      "Data columns (total 1 columns):\n",
      " #   Column  Non-Null Count  Dtype  \n",
      "---  ------  --------------  -----  \n",
      " 0   price   2518 non-null   float64\n",
      "dtypes: float64(1)\n",
      "memory usage: 57.1 KB\n",
      "None\n",
      "SPCE\n",
      "<class 'pandas.core.frame.DataFrame'>\n",
      "DatetimeIndex: 2850 entries, 2017-09-29 09:30:00 to 2021-08-23 16:00:00\n",
      "Data columns (total 1 columns):\n",
      " #   Column  Non-Null Count  Dtype  \n",
      "---  ------  --------------  -----  \n",
      " 0   price   1962 non-null   float64\n",
      "dtypes: float64(1)\n",
      "memory usage: 44.5 KB\n",
      "None\n",
      "TMUS\n",
      "<class 'pandas.core.frame.DataFrame'>\n",
      "DatetimeIndex: 3654 entries, 2016-08-23 09:30:00 to 2021-08-23 16:00:00\n",
      "Data columns (total 1 columns):\n",
      " #   Column  Non-Null Count  Dtype  \n",
      "---  ------  --------------  -----  \n",
      " 0   price   2518 non-null   float64\n",
      "dtypes: float64(1)\n",
      "memory usage: 57.1 KB\n",
      "None\n"
     ]
    }
   ],
   "source": [
    "for stock in stocks:\n",
    "    print(stock)\n",
    "    print(stocks[stock].info())"
   ]
  },
  {
   "cell_type": "markdown",
   "metadata": {},
   "source": [
    "All of the stocks have the same number of values with the exception of Virgin Galactic, which has been on the NYSE for less than the 5 year max alloted by yfinance. No missing numbers are detected."
   ]
  },
  {
   "cell_type": "markdown",
   "metadata": {},
   "source": [
    "### De-trending the time series stock data "
   ]
  },
  {
   "cell_type": "markdown",
   "metadata": {},
   "source": [
    "We will use the percent change in the stock prices as a target that we will later bin into categories.  "
   ]
  },
  {
   "cell_type": "code",
   "execution_count": 253,
   "metadata": {},
   "outputs": [],
   "source": [
    "for stock in stocks:\n",
    "    stocks[stock]['percent change'] = stocks[stock]['price'].pct_change()\n",
    "    stocks[stock].fillna(0, inplace=True)"
   ]
  },
  {
   "cell_type": "code",
   "execution_count": 254,
   "metadata": {
    "scrolled": true
   },
   "outputs": [
    {
     "data": {
      "image/png": "[encoded data removed]",
      "text/plain": [
       "<Figure size 432x288 with 1 Axes>"
      ]
     },
     "metadata": {
      "needs_background": "light"
     },
     "output_type": "display_data"
    }
   ],
   "source": [
    "_ = plt.plot(stocks['TSLA'][['percent change']])\n",
    "_ = plt.xlabel('date')\n",
    "_ = plt.ylabel('percent change')\n",
    "_ = plt.title('Detrended TSLA stock')\n",
    "plt.savefig('./figures/data_wrangling/detrended_stock.png', bbox_inches='tight')"
   ]
  },
  {
   "cell_type": "code",
   "execution_count": 255,
   "metadata": {},
   "outputs": [],
   "source": [
    "#for stock in stocks:\n",
    "#    stocks[stock].to_pickle(f'./data/{stock}_df.pkl')"
   ]
  },
  {
   "cell_type": "markdown",
   "metadata": {},
   "source": [
    "## 1.2.5 Collecting the tweets <a id='1.2.5_Collecting_Tweet'></a>\n",
    "We will collect the CEOs tweets over the same time-span as the collected stocks"
   ]
  },
  {
   "cell_type": "code",
   "execution_count": 256,
   "metadata": {},
   "outputs": [],
   "source": [
    "# Get the tweets from the CEOs of the companies\n",
    "# Get user_ids in case of name changes. \n",
    "\n",
    "        \n",
    "user_stocks = {'elonmusk':'TSLA', 'levie':'BOX','jack':'TWTR', 'Benioff':'CRM', \n",
    "            'richardbranson':'SPCE', 'JohnLegere':'TMUS'}"
   ]
  },
  {
   "cell_type": "code",
   "execution_count": 257,
   "metadata": {},
   "outputs": [],
   "source": [
    "#start_date = {}\n",
    "#for user in user_stocks:\n",
    "#    start_date[user] = dt.strftime(stocks[user_stocks[user]].reset_index().date.min(), '%Y-%m-%d %H:%M:%S')"
   ]
  },
  {
   "cell_type": "code",
   "execution_count": 258,
   "metadata": {},
   "outputs": [],
   "source": [
    "usernames = list(user_stocks.keys())"
   ]
  },
  {
   "cell_type": "code",
   "execution_count": 259,
   "metadata": {
    "scrolled": true
   },
   "outputs": [],
   "source": [
    "#%%time\n",
    "\n",
    "#ceos = []\n",
    "#for user in usernames:\n",
    "#    c = twint.Config()\n",
    "#    c.Username = user\n",
    "#    c.User_full = True\n",
    "#    c.Count = True\n",
    "#    c.Stats = True\n",
    "#    c.Pandas = True\n",
    "#    c.Store_pandas = True\n",
    "#    c.Hide_output = True\n",
    "#    c.Pandas_clean = True\n",
    "#    c.Since = start_date[user]\n",
    "\n",
    "    # run search\n",
    "#    twint.run.Search(c)\n",
    "\n",
    "# extract columns and save dataframe in list\n",
    "#columns = twint.output.panda.Tweets_df.columns\n",
    "#ceo = twint.output.panda.Tweets_df[columns]\n",
    "#ceos.append(ceo)\n",
    "\n",
    "\n",
    "ceos = pd.read_pickle('./data/ceos.pkl')\n",
    "usernames = ['elonmusk', 'levie', 'jack', 'Benioff','richardbranson', 'JohnLegere']"
   ]
  },
  {
   "cell_type": "code",
   "execution_count": 260,
   "metadata": {
    "scrolled": false
   },
   "outputs": [
    {
     "data": {
      "text/html": [
       "<div>\n",
       "<style scoped>\n",
       "    .dataframe tbody tr th:only-of-type {\n",
       "        vertical-align: middle;\n",
       "    }\n",
       "\n",
       "    .dataframe tbody tr th {\n",
       "        vertical-align: top;\n",
       "    }\n",
       "\n",
       "    .dataframe thead th {\n",
       "        text-align: right;\n",
       "    }\n",
       "</style>\n",
       "<table border=\"1\" class=\"dataframe\">\n",
       "  <thead>\n",
       "    <tr style=\"text-align: right;\">\n",
       "      <th></th>\n",
       "      <th>id</th>\n",
       "      <th>conversation_id</th>\n",
       "      <th>created_at</th>\n",
       "      <th>date</th>\n",
       "      <th>time</th>\n",
       "      <th>timezone</th>\n",
       "      <th>user_id</th>\n",
       "      <th>username</th>\n",
       "      <th>name</th>\n",
       "      <th>place</th>\n",
       "      <th>...</th>\n",
       "      <th>source</th>\n",
       "      <th>user_rt_id</th>\n",
       "      <th>user_rt</th>\n",
       "      <th>retweet_id</th>\n",
       "      <th>reply_to</th>\n",
       "      <th>retweet_date</th>\n",
       "      <th>translate</th>\n",
       "      <th>trans_src</th>\n",
       "      <th>trans_dest</th>\n",
       "      <th>search</th>\n",
       "    </tr>\n",
       "  </thead>\n",
       "  <tbody>\n",
       "    <tr>\n",
       "      <th>0</th>\n",
       "      <td>1417453075892080641</td>\n",
       "      <td>1417427520266268677</td>\n",
       "      <td>2021-07-20 07:55:22 EDT</td>\n",
       "      <td>2021-07-20</td>\n",
       "      <td>07:55:22</td>\n",
       "      <td>-0400</td>\n",
       "      <td>44196397</td>\n",
       "      <td>elonmusk</td>\n",
       "      <td>Elon Musk</td>\n",
       "      <td></td>\n",
       "      <td>...</td>\n",
       "      <td></td>\n",
       "      <td></td>\n",
       "      <td></td>\n",
       "      <td></td>\n",
       "      <td>[{'screen_name': 'vincent13031925', 'name': 'V...</td>\n",
       "      <td></td>\n",
       "      <td></td>\n",
       "      <td></td>\n",
       "      <td></td>\n",
       "      <td>None</td>\n",
       "    </tr>\n",
       "    <tr>\n",
       "      <th>1</th>\n",
       "      <td>1417390555001098246</td>\n",
       "      <td>1417251070989029376</td>\n",
       "      <td>2021-07-20 03:46:56 EDT</td>\n",
       "      <td>2021-07-20</td>\n",
       "      <td>03:46:56</td>\n",
       "      <td>-0400</td>\n",
       "      <td>44196397</td>\n",
       "      <td>elonmusk</td>\n",
       "      <td>Elon Musk</td>\n",
       "      <td></td>\n",
       "      <td>...</td>\n",
       "      <td></td>\n",
       "      <td></td>\n",
       "      <td></td>\n",
       "      <td></td>\n",
       "      <td>[{'screen_name': 'blueorigin', 'name': 'Blue O...</td>\n",
       "      <td></td>\n",
       "      <td></td>\n",
       "      <td></td>\n",
       "      <td></td>\n",
       "      <td>None</td>\n",
       "    </tr>\n",
       "    <tr>\n",
       "      <th>2</th>\n",
       "      <td>1417293886897098762</td>\n",
       "      <td>1417278493428264963</td>\n",
       "      <td>2021-07-19 21:22:49 EDT</td>\n",
       "      <td>2021-07-19</td>\n",
       "      <td>21:22:49</td>\n",
       "      <td>-0400</td>\n",
       "      <td>44196397</td>\n",
       "      <td>elonmusk</td>\n",
       "      <td>Elon Musk</td>\n",
       "      <td></td>\n",
       "      <td>...</td>\n",
       "      <td></td>\n",
       "      <td></td>\n",
       "      <td></td>\n",
       "      <td></td>\n",
       "      <td>[{'screen_name': 'SpacePadreIsle', 'name': 'SP...</td>\n",
       "      <td></td>\n",
       "      <td></td>\n",
       "      <td></td>\n",
       "      <td></td>\n",
       "      <td>None</td>\n",
       "    </tr>\n",
       "    <tr>\n",
       "      <th>3</th>\n",
       "      <td>1417277335863140363</td>\n",
       "      <td>1417277092090191884</td>\n",
       "      <td>2021-07-19 20:17:03 EDT</td>\n",
       "      <td>2021-07-19</td>\n",
       "      <td>20:17:03</td>\n",
       "      <td>-0400</td>\n",
       "      <td>44196397</td>\n",
       "      <td>elonmusk</td>\n",
       "      <td>Elon Musk</td>\n",
       "      <td></td>\n",
       "      <td>...</td>\n",
       "      <td></td>\n",
       "      <td></td>\n",
       "      <td></td>\n",
       "      <td></td>\n",
       "      <td>[{'screen_name': 'TLPN_Official', 'name': 'The...</td>\n",
       "      <td></td>\n",
       "      <td></td>\n",
       "      <td></td>\n",
       "      <td></td>\n",
       "      <td>None</td>\n",
       "    </tr>\n",
       "    <tr>\n",
       "      <th>4</th>\n",
       "      <td>1417274819461095432</td>\n",
       "      <td>1417274819461095432</td>\n",
       "      <td>2021-07-19 20:07:03 EDT</td>\n",
       "      <td>2021-07-19</td>\n",
       "      <td>20:07:03</td>\n",
       "      <td>-0400</td>\n",
       "      <td>44196397</td>\n",
       "      <td>elonmusk</td>\n",
       "      <td>Elon Musk</td>\n",
       "      <td></td>\n",
       "      <td>...</td>\n",
       "      <td></td>\n",
       "      <td></td>\n",
       "      <td></td>\n",
       "      <td></td>\n",
       "      <td>[]</td>\n",
       "      <td></td>\n",
       "      <td></td>\n",
       "      <td></td>\n",
       "      <td></td>\n",
       "      <td>None</td>\n",
       "    </tr>\n",
       "  </tbody>\n",
       "</table>\n",
       "<p>5 rows × 37 columns</p>\n",
       "</div>"
      ],
      "text/plain": [
       "                    id      conversation_id               created_at  \\\n",
       "0  1417453075892080641  1417427520266268677  2021-07-20 07:55:22 EDT   \n",
       "1  1417390555001098246  1417251070989029376  2021-07-20 03:46:56 EDT   \n",
       "2  1417293886897098762  1417278493428264963  2021-07-19 21:22:49 EDT   \n",
       "3  1417277335863140363  1417277092090191884  2021-07-19 20:17:03 EDT   \n",
       "4  1417274819461095432  1417274819461095432  2021-07-19 20:07:03 EDT   \n",
       "\n",
       "         date      time timezone   user_id  username       name place  ...  \\\n",
       "0  2021-07-20  07:55:22    -0400  44196397  elonmusk  Elon Musk        ...   \n",
       "1  2021-07-20  03:46:56    -0400  44196397  elonmusk  Elon Musk        ...   \n",
       "2  2021-07-19  21:22:49    -0400  44196397  elonmusk  Elon Musk        ...   \n",
       "3  2021-07-19  20:17:03    -0400  44196397  elonmusk  Elon Musk        ...   \n",
       "4  2021-07-19  20:07:03    -0400  44196397  elonmusk  Elon Musk        ...   \n",
       "\n",
       "  source user_rt_id user_rt retweet_id  \\\n",
       "0                                        \n",
       "1                                        \n",
       "2                                        \n",
       "3                                        \n",
       "4                                        \n",
       "\n",
       "                                            reply_to  retweet_date  translate  \\\n",
       "0  [{'screen_name': 'vincent13031925', 'name': 'V...                            \n",
       "1  [{'screen_name': 'blueorigin', 'name': 'Blue O...                            \n",
       "2  [{'screen_name': 'SpacePadreIsle', 'name': 'SP...                            \n",
       "3  [{'screen_name': 'TLPN_Official', 'name': 'The...                            \n",
       "4                                                 []                            \n",
       "\n",
       "   trans_src trans_dest search  \n",
       "0                         None  \n",
       "1                         None  \n",
       "2                         None  \n",
       "3                         None  \n",
       "4                         None  \n",
       "\n",
       "[5 rows x 37 columns]"
      ]
     },
     "execution_count": 260,
     "metadata": {},
     "output_type": "execute_result"
    }
   ],
   "source": [
    "ceos.head()"
   ]
  },
  {
   "cell_type": "code",
   "execution_count": 261,
   "metadata": {},
   "outputs": [
    {
     "data": {
      "text/plain": [
       "37"
      ]
     },
     "execution_count": 261,
     "metadata": {},
     "output_type": "execute_result"
    }
   ],
   "source": [
    "len(ceos.columns)"
   ]
  },
  {
   "cell_type": "markdown",
   "metadata": {},
   "source": [
    "Lets look at the number of tweets and the dates they span for each executive."
   ]
  },
  {
   "cell_type": "code",
   "execution_count": 262,
   "metadata": {},
   "outputs": [],
   "source": [
    "CEOS = {}\n",
    "for user in usernames:\n",
    "    CEOS[user] = ceos[ceos['username'] == user]   "
   ]
  },
  {
   "cell_type": "code",
   "execution_count": 263,
   "metadata": {
    "scrolled": true
   },
   "outputs": [
    {
     "name": "stdout",
     "output_type": "stream",
     "text": [
      "11622\n"
     ]
    }
   ],
   "source": [
    "print(len(CEOS['elonmusk']['tweet']))"
   ]
  },
  {
   "cell_type": "code",
   "execution_count": 264,
   "metadata": {},
   "outputs": [],
   "source": [
    "for CEO in CEOS:\n",
    "\n",
    "    CEOS[CEO]['reply_length'] = -1\n",
    "    for i in range(len(CEOS[CEO])):\n",
    "        CEOS[CEO]['reply_length'].loc[i] = len(CEOS[CEO]['reply_to'].loc[i])\n",
    "\n",
    "    CEOS[CEO] = CEOS[CEO][CEOS[CEO]['reply_length'] == 0]\n",
    "    CEOS[CEO].reset_index(drop=True, inplace=True)"
   ]
  },
  {
   "cell_type": "code",
   "execution_count": 265,
   "metadata": {},
   "outputs": [
    {
     "name": "stdout",
     "output_type": "stream",
     "text": [
      "2967\n"
     ]
    }
   ],
   "source": [
    "print (len(CEOS['elonmusk']))"
   ]
  },
  {
   "cell_type": "code",
   "execution_count": 266,
   "metadata": {
    "scrolled": false
   },
   "outputs": [
    {
     "name": "stdout",
     "output_type": "stream",
     "text": [
      "ELONMUSK\n",
      "number of tweets: 2967\n",
      "date range:\n",
      "2016-07-20 --- 2021-07-19\n",
      "\n",
      "LEVIE\n",
      "number of tweets: 1183\n",
      "date range:\n",
      "2016-07-21 --- 2021-07-20\n",
      "\n",
      "JACK\n",
      "number of tweets: 2474\n",
      "date range:\n",
      "2016-07-21 --- 2021-07-20\n",
      "\n",
      "BENIOFF\n",
      "number of tweets: 4385\n",
      "date range:\n",
      "2016-07-20 --- 2021-05-28\n",
      "\n",
      "RICHARDBRANSON\n",
      "number of tweets: 6684\n",
      "date range:\n",
      "2017-09-29 --- 2021-07-20\n",
      "\n",
      "JOHNLEGERE\n",
      "number of tweets: 16623\n",
      "date range:\n",
      "2016-07-20 --- 2021-07-20\n",
      "\n"
     ]
    }
   ],
   "source": [
    "start_date = {}\n",
    "end_date = {}\n",
    "for CEO in CEOS:\n",
    "    print(CEO.upper())\n",
    "    print('number of tweets:', len(CEOS[CEO]))\n",
    "    print('date range:')\n",
    "    start_date[CEO] = CEOS[CEO]['date'].min()\n",
    "    end_date[CEO] = CEOS[CEO]['date'].max()\n",
    "    print(start_date[CEO], '---' ,end_date[CEO])\n",
    "    print(\"\")"
   ]
  },
  {
   "cell_type": "code",
   "execution_count": 267,
   "metadata": {},
   "outputs": [],
   "source": [
    "#all_tweets = pd.DataFrame()\n",
    "#for CEO in CEOS:\n",
    "#    all_tweets = all_tweets.append(CEOS[CEO])\n",
    "    \n",
    "#all_tweets.to_pickle(f'/Users/tylerpoore/Workspace/Spring Board/Projects/Capstone_notebooks/Capstone_1_Final/data/ceos.pkl')"
   ]
  },
  {
   "cell_type": "markdown",
   "metadata": {},
   "source": [
    "## Examing and Cleaning the Data "
   ]
  },
  {
   "cell_type": "markdown",
   "metadata": {},
   "source": [
    "### Examining The Tweets "
   ]
  },
  {
   "cell_type": "code",
   "execution_count": 268,
   "metadata": {},
   "outputs": [
    {
     "name": "stdout",
     "output_type": "stream",
     "text": [
      "================\n",
      "elonmusk\n",
      "================\n",
      "         date                                              tweet\n",
      "0  2021-07-19  Full test duration firing of 3 Raptors on Supe...\n",
      "1  2021-07-18               Cybrrrtruck  https://t.co/rdiMFdYOS6\n",
      "2  2021-07-17  Fred Astaire is incredible. Worth watching his...\n",
      "================\n",
      "levie\n",
      "================\n",
      "         date                                              tweet\n",
      "0  2021-07-20        This is a very sad take on entrepreneurship\n",
      "1  2021-07-20  Space innovation from many ventures is just pl...\n",
      "2  2021-07-20                   Amazing  https://t.co/YGDtOVvm92\n",
      "================\n",
      "jack\n",
      "================\n",
      "         date                                              tweet\n",
      "0  2021-07-20  Square Banking is live! Checking, savings, deb...\n",
      "1  2021-07-19                            https://t.co/Sip86oI6fU\n",
      "2  2021-07-17                        ❤️  https://t.co/c4yEfiys5v\n",
      "================\n",
      "Benioff\n",
      "================\n",
      "         date                                              tweet\n",
      "0  2021-05-28  Wonderful to be on @MadMoneyOnCNBC tonight ann...\n",
      "1  2021-05-27  It’s happening! @Dreamforce ❤️ https://t.co/7V...\n",
      "2  2021-05-27  Here comes Dreamforce 2021!  In person!  All o...\n",
      "================\n",
      "richardbranson\n",
      "================\n",
      "         date                                              tweet\n",
      "0  2021-07-20  Well done @blueorigin, @jeffbezos, Mark, Wally...\n",
      "1  2021-07-19  Virgin Mobile Canada has become @virginplus – ...\n",
      "2  2021-07-19  The moment we saw Earth from space... @virging...\n",
      "================\n",
      "JohnLegere\n",
      "================\n",
      "         date                                              tweet\n",
      "0  2021-07-20  WOW this looks so delicious!  https://t.co/hnO...\n",
      "1  2021-07-20           Up up and away!  https://t.co/jvRcpkqng3\n",
      "2  2021-07-20  Call on John is POSTPONED for today but tune i...\n"
     ]
    }
   ],
   "source": [
    "# Examine the scraped data\n",
    "\n",
    "for CEO in CEOS:\n",
    "    print(\"================\")\n",
    "    print(CEO)\n",
    "    print(\"================\")\n",
    "    print(CEOS[CEO][['date','tweet']].head(3))"
   ]
  },
  {
   "cell_type": "markdown",
   "metadata": {},
   "source": [
    "The raw twitter data has mentions, urls, emojis, and other languages besides english at first glance. "
   ]
  },
  {
   "cell_type": "code",
   "execution_count": 269,
   "metadata": {},
   "outputs": [
    {
     "name": "stdout",
     "output_type": "stream",
     "text": [
      "<class 'pandas.core.frame.DataFrame'>\n",
      "RangeIndex: 2967 entries, 0 to 2966\n",
      "Data columns (total 38 columns):\n",
      " #   Column           Non-Null Count  Dtype \n",
      "---  ------           --------------  ----- \n",
      " 0   id               2967 non-null   object\n",
      " 1   conversation_id  2967 non-null   object\n",
      " 2   created_at       2967 non-null   object\n",
      " 3   date             2967 non-null   object\n",
      " 4   time             2967 non-null   object\n",
      " 5   timezone         2967 non-null   object\n",
      " 6   user_id          2967 non-null   int64 \n",
      " 7   username         2967 non-null   object\n",
      " 8   name             2967 non-null   object\n",
      " 9   place            2967 non-null   object\n",
      " 10  tweet            2967 non-null   object\n",
      " 11  language         2967 non-null   object\n",
      " 12  mentions         2967 non-null   object\n",
      " 13  urls             2967 non-null   object\n",
      " 14  photos           2967 non-null   object\n",
      " 15  replies_count    2967 non-null   int64 \n",
      " 16  retweets_count   2967 non-null   int64 \n",
      " 17  likes_count      2967 non-null   int64 \n",
      " 18  hashtags         2967 non-null   object\n",
      " 19  cashtags         2967 non-null   object\n",
      " 20  link             2967 non-null   object\n",
      " 21  retweet          2967 non-null   bool  \n",
      " 22  quote_url        2967 non-null   object\n",
      " 23  video            2967 non-null   int64 \n",
      " 24  thumbnail        2967 non-null   object\n",
      " 25  near             2967 non-null   object\n",
      " 26  geo              2967 non-null   object\n",
      " 27  source           2967 non-null   object\n",
      " 28  user_rt_id       2967 non-null   object\n",
      " 29  user_rt          2967 non-null   object\n",
      " 30  retweet_id       2967 non-null   object\n",
      " 31  reply_to         2967 non-null   object\n",
      " 32  retweet_date     2967 non-null   object\n",
      " 33  translate        2967 non-null   object\n",
      " 34  trans_src        2967 non-null   object\n",
      " 35  trans_dest       2967 non-null   object\n",
      " 36  search           2967 non-null   object\n",
      " 37  reply_length     2967 non-null   int64 \n",
      "dtypes: bool(1), int64(6), object(31)\n",
      "memory usage: 860.7+ KB\n"
     ]
    }
   ],
   "source": [
    "# Examine the tweet columns\n",
    "\n",
    "CEOS['elonmusk'].info()"
   ]
  },
  {
   "cell_type": "markdown",
   "metadata": {},
   "source": [
    "Looking at the dataframe columns entries, there are no missing values. That may be because they are using a different character than NaN, and I will look into this later. Most are of type object, but there are 4 integer columns: user_id; reply, retweet, and like counts; and video for some odd reason; and 1 boolean retweet column. All of the columns are the same type. Let's examine the columns."
   ]
  },
  {
   "cell_type": "code",
   "execution_count": 270,
   "metadata": {},
   "outputs": [
    {
     "data": {
      "text/html": [
       "<div>\n",
       "<style scoped>\n",
       "    .dataframe tbody tr th:only-of-type {\n",
       "        vertical-align: middle;\n",
       "    }\n",
       "\n",
       "    .dataframe tbody tr th {\n",
       "        vertical-align: top;\n",
       "    }\n",
       "\n",
       "    .dataframe thead th {\n",
       "        text-align: right;\n",
       "    }\n",
       "</style>\n",
       "<table border=\"1\" class=\"dataframe\">\n",
       "  <thead>\n",
       "    <tr style=\"text-align: right;\">\n",
       "      <th></th>\n",
       "      <th>user_id</th>\n",
       "      <th>replies_count</th>\n",
       "      <th>retweets_count</th>\n",
       "      <th>likes_count</th>\n",
       "      <th>video</th>\n",
       "      <th>reply_length</th>\n",
       "    </tr>\n",
       "  </thead>\n",
       "  <tbody>\n",
       "    <tr>\n",
       "      <th>count</th>\n",
       "      <td>2967.0</td>\n",
       "      <td>2967.000000</td>\n",
       "      <td>2967.000000</td>\n",
       "      <td>2.967000e+03</td>\n",
       "      <td>2967.000000</td>\n",
       "      <td>2967.0</td>\n",
       "    </tr>\n",
       "    <tr>\n",
       "      <th>mean</th>\n",
       "      <td>44196397.0</td>\n",
       "      <td>3161.311426</td>\n",
       "      <td>9051.424671</td>\n",
       "      <td>8.390999e+04</td>\n",
       "      <td>0.195147</td>\n",
       "      <td>0.0</td>\n",
       "    </tr>\n",
       "    <tr>\n",
       "      <th>std</th>\n",
       "      <td>0.0</td>\n",
       "      <td>7102.102366</td>\n",
       "      <td>19126.534672</td>\n",
       "      <td>1.267403e+05</td>\n",
       "      <td>0.396380</td>\n",
       "      <td>0.0</td>\n",
       "    </tr>\n",
       "    <tr>\n",
       "      <th>min</th>\n",
       "      <td>44196397.0</td>\n",
       "      <td>2.000000</td>\n",
       "      <td>0.000000</td>\n",
       "      <td>1.020000e+02</td>\n",
       "      <td>0.000000</td>\n",
       "      <td>0.0</td>\n",
       "    </tr>\n",
       "    <tr>\n",
       "      <th>25%</th>\n",
       "      <td>44196397.0</td>\n",
       "      <td>441.500000</td>\n",
       "      <td>1001.500000</td>\n",
       "      <td>1.278500e+04</td>\n",
       "      <td>0.000000</td>\n",
       "      <td>0.0</td>\n",
       "    </tr>\n",
       "    <tr>\n",
       "      <th>50%</th>\n",
       "      <td>44196397.0</td>\n",
       "      <td>1003.000000</td>\n",
       "      <td>2793.000000</td>\n",
       "      <td>3.468000e+04</td>\n",
       "      <td>0.000000</td>\n",
       "      <td>0.0</td>\n",
       "    </tr>\n",
       "    <tr>\n",
       "      <th>75%</th>\n",
       "      <td>44196397.0</td>\n",
       "      <td>2557.000000</td>\n",
       "      <td>8808.500000</td>\n",
       "      <td>9.851200e+04</td>\n",
       "      <td>0.000000</td>\n",
       "      <td>0.0</td>\n",
       "    </tr>\n",
       "    <tr>\n",
       "      <th>max</th>\n",
       "      <td>44196397.0</td>\n",
       "      <td>126196.000000</td>\n",
       "      <td>355536.000000</td>\n",
       "      <td>1.574723e+06</td>\n",
       "      <td>1.000000</td>\n",
       "      <td>0.0</td>\n",
       "    </tr>\n",
       "  </tbody>\n",
       "</table>\n",
       "</div>"
      ],
      "text/plain": [
       "          user_id  replies_count  retweets_count   likes_count        video  \\\n",
       "count      2967.0    2967.000000     2967.000000  2.967000e+03  2967.000000   \n",
       "mean   44196397.0    3161.311426     9051.424671  8.390999e+04     0.195147   \n",
       "std           0.0    7102.102366    19126.534672  1.267403e+05     0.396380   \n",
       "min    44196397.0       2.000000        0.000000  1.020000e+02     0.000000   \n",
       "25%    44196397.0     441.500000     1001.500000  1.278500e+04     0.000000   \n",
       "50%    44196397.0    1003.000000     2793.000000  3.468000e+04     0.000000   \n",
       "75%    44196397.0    2557.000000     8808.500000  9.851200e+04     0.000000   \n",
       "max    44196397.0  126196.000000   355536.000000  1.574723e+06     1.000000   \n",
       "\n",
       "       reply_length  \n",
       "count        2967.0  \n",
       "mean            0.0  \n",
       "std             0.0  \n",
       "min             0.0  \n",
       "25%             0.0  \n",
       "50%             0.0  \n",
       "75%             0.0  \n",
       "max             0.0  "
      ]
     },
     "execution_count": 270,
     "metadata": {},
     "output_type": "execute_result"
    }
   ],
   "source": [
    "# Look at sample integer columns\n",
    "\n",
    "CEOS['elonmusk'].select_dtypes(include=['int']).describe()"
   ]
  },
  {
   "cell_type": "markdown",
   "metadata": {},
   "source": [
    "The video column looks like a boolean"
   ]
  },
  {
   "cell_type": "code",
   "execution_count": 271,
   "metadata": {},
   "outputs": [
    {
     "data": {
      "text/plain": [
       "2"
      ]
     },
     "execution_count": 271,
     "metadata": {},
     "output_type": "execute_result"
    }
   ],
   "source": [
    "CEOS['elonmusk']['video'].nunique()"
   ]
  },
  {
   "cell_type": "code",
   "execution_count": 272,
   "metadata": {},
   "outputs": [
    {
     "data": {
      "text/plain": [
       "579"
      ]
     },
     "execution_count": 272,
     "metadata": {},
     "output_type": "execute_result"
    }
   ],
   "source": [
    "CEOS['elonmusk']['video'].sum()"
   ]
  },
  {
   "cell_type": "code",
   "execution_count": 273,
   "metadata": {},
   "outputs": [
    {
     "data": {
      "text/html": [
       "<div>\n",
       "<style scoped>\n",
       "    .dataframe tbody tr th:only-of-type {\n",
       "        vertical-align: middle;\n",
       "    }\n",
       "\n",
       "    .dataframe tbody tr th {\n",
       "        vertical-align: top;\n",
       "    }\n",
       "\n",
       "    .dataframe thead th {\n",
       "        text-align: right;\n",
       "    }\n",
       "</style>\n",
       "<table border=\"1\" class=\"dataframe\">\n",
       "  <thead>\n",
       "    <tr style=\"text-align: right;\">\n",
       "      <th></th>\n",
       "      <th>id</th>\n",
       "      <th>conversation_id</th>\n",
       "      <th>created_at</th>\n",
       "      <th>date</th>\n",
       "      <th>time</th>\n",
       "      <th>timezone</th>\n",
       "      <th>username</th>\n",
       "      <th>name</th>\n",
       "      <th>place</th>\n",
       "      <th>tweet</th>\n",
       "      <th>...</th>\n",
       "      <th>source</th>\n",
       "      <th>user_rt_id</th>\n",
       "      <th>user_rt</th>\n",
       "      <th>retweet_id</th>\n",
       "      <th>reply_to</th>\n",
       "      <th>retweet_date</th>\n",
       "      <th>translate</th>\n",
       "      <th>trans_src</th>\n",
       "      <th>trans_dest</th>\n",
       "      <th>search</th>\n",
       "    </tr>\n",
       "  </thead>\n",
       "  <tbody>\n",
       "    <tr>\n",
       "      <th>count</th>\n",
       "      <td>2967</td>\n",
       "      <td>2967</td>\n",
       "      <td>2967</td>\n",
       "      <td>2967</td>\n",
       "      <td>2967</td>\n",
       "      <td>2967</td>\n",
       "      <td>2967</td>\n",
       "      <td>2967</td>\n",
       "      <td>2967</td>\n",
       "      <td>2967</td>\n",
       "      <td>...</td>\n",
       "      <td>2967</td>\n",
       "      <td>2967</td>\n",
       "      <td>2967</td>\n",
       "      <td>2967</td>\n",
       "      <td>2967</td>\n",
       "      <td>2967</td>\n",
       "      <td>2967</td>\n",
       "      <td>2967</td>\n",
       "      <td>2967</td>\n",
       "      <td>2967</td>\n",
       "    </tr>\n",
       "    <tr>\n",
       "      <th>unique</th>\n",
       "      <td>2967</td>\n",
       "      <td>2137</td>\n",
       "      <td>2966</td>\n",
       "      <td>1068</td>\n",
       "      <td>2895</td>\n",
       "      <td>1</td>\n",
       "      <td>1</td>\n",
       "      <td>1</td>\n",
       "      <td>1</td>\n",
       "      <td>2961</td>\n",
       "      <td>...</td>\n",
       "      <td>1</td>\n",
       "      <td>1</td>\n",
       "      <td>1</td>\n",
       "      <td>1</td>\n",
       "      <td>1</td>\n",
       "      <td>1</td>\n",
       "      <td>1</td>\n",
       "      <td>1</td>\n",
       "      <td>1</td>\n",
       "      <td>1</td>\n",
       "    </tr>\n",
       "    <tr>\n",
       "      <th>top</th>\n",
       "      <td>1417274819461095432</td>\n",
       "      <td>1162218267932446724</td>\n",
       "      <td>2018-04-01 18:02:31 EDT</td>\n",
       "      <td>2018-02-06</td>\n",
       "      <td>11:05:22</td>\n",
       "      <td>-0400</td>\n",
       "      <td>elonmusk</td>\n",
       "      <td>Elon Musk</td>\n",
       "      <td></td>\n",
       "      <td>Off Twitter for a while</td>\n",
       "      <td>...</td>\n",
       "      <td></td>\n",
       "      <td></td>\n",
       "      <td></td>\n",
       "      <td></td>\n",
       "      <td>[]</td>\n",
       "      <td></td>\n",
       "      <td></td>\n",
       "      <td></td>\n",
       "      <td></td>\n",
       "      <td>None</td>\n",
       "    </tr>\n",
       "    <tr>\n",
       "      <th>freq</th>\n",
       "      <td>1</td>\n",
       "      <td>7</td>\n",
       "      <td>2</td>\n",
       "      <td>14</td>\n",
       "      <td>2</td>\n",
       "      <td>2967</td>\n",
       "      <td>2967</td>\n",
       "      <td>2967</td>\n",
       "      <td>2967</td>\n",
       "      <td>2</td>\n",
       "      <td>...</td>\n",
       "      <td>2967</td>\n",
       "      <td>2967</td>\n",
       "      <td>2967</td>\n",
       "      <td>2967</td>\n",
       "      <td>2967</td>\n",
       "      <td>2967</td>\n",
       "      <td>2967</td>\n",
       "      <td>2967</td>\n",
       "      <td>2967</td>\n",
       "      <td>2967</td>\n",
       "    </tr>\n",
       "  </tbody>\n",
       "</table>\n",
       "<p>4 rows × 31 columns</p>\n",
       "</div>"
      ],
      "text/plain": [
       "                         id      conversation_id               created_at  \\\n",
       "count                  2967                 2967                     2967   \n",
       "unique                 2967                 2137                     2966   \n",
       "top     1417274819461095432  1162218267932446724  2018-04-01 18:02:31 EDT   \n",
       "freq                      1                    7                        2   \n",
       "\n",
       "              date      time timezone  username       name place  \\\n",
       "count         2967      2967     2967      2967       2967  2967   \n",
       "unique        1068      2895        1         1          1     1   \n",
       "top     2018-02-06  11:05:22    -0400  elonmusk  Elon Musk         \n",
       "freq            14         2     2967      2967       2967  2967   \n",
       "\n",
       "                          tweet  ... source user_rt_id user_rt retweet_id  \\\n",
       "count                      2967  ...   2967       2967    2967       2967   \n",
       "unique                     2961  ...      1          1       1          1   \n",
       "top     Off Twitter for a while  ...                                        \n",
       "freq                          2  ...   2967       2967    2967       2967   \n",
       "\n",
       "       reply_to retweet_date translate trans_src trans_dest search  \n",
       "count      2967         2967      2967      2967       2967   2967  \n",
       "unique        1            1         1         1          1      1  \n",
       "top          []                                               None  \n",
       "freq       2967         2967      2967      2967       2967   2967  \n",
       "\n",
       "[4 rows x 31 columns]"
      ]
     },
     "execution_count": 273,
     "metadata": {},
     "output_type": "execute_result"
    }
   ],
   "source": [
    "# Look at first set of object columns\n",
    "\n",
    "CEOS['elonmusk'].select_dtypes(include=['object']).describe()"
   ]
  },
  {
   "cell_type": "markdown",
   "metadata": {},
   "source": [
    "A lot of these columns I will exclude as they likely won't contribute any contributable features to predicting the stock price. I will determine the language after cleaning the tweets."
   ]
  },
  {
   "cell_type": "code",
   "execution_count": 274,
   "metadata": {},
   "outputs": [
    {
     "data": {
      "text/html": [
       "<div>\n",
       "<style scoped>\n",
       "    .dataframe tbody tr th:only-of-type {\n",
       "        vertical-align: middle;\n",
       "    }\n",
       "\n",
       "    .dataframe tbody tr th {\n",
       "        vertical-align: top;\n",
       "    }\n",
       "\n",
       "    .dataframe thead th {\n",
       "        text-align: right;\n",
       "    }\n",
       "</style>\n",
       "<table border=\"1\" class=\"dataframe\">\n",
       "  <thead>\n",
       "    <tr style=\"text-align: right;\">\n",
       "      <th></th>\n",
       "      <th>tweet</th>\n",
       "      <th>mentions</th>\n",
       "      <th>urls</th>\n",
       "      <th>photos</th>\n",
       "      <th>hashtags</th>\n",
       "      <th>cashtags</th>\n",
       "      <th>quote_url</th>\n",
       "    </tr>\n",
       "  </thead>\n",
       "  <tbody>\n",
       "    <tr>\n",
       "      <th>count</th>\n",
       "      <td>2967</td>\n",
       "      <td>2967</td>\n",
       "      <td>2967</td>\n",
       "      <td>2967</td>\n",
       "      <td>2967</td>\n",
       "      <td>2967</td>\n",
       "      <td>2967</td>\n",
       "    </tr>\n",
       "    <tr>\n",
       "      <th>unique</th>\n",
       "      <td>2961</td>\n",
       "      <td>90</td>\n",
       "      <td>574</td>\n",
       "      <td>514</td>\n",
       "      <td>12</td>\n",
       "      <td>1</td>\n",
       "      <td>372</td>\n",
       "    </tr>\n",
       "    <tr>\n",
       "      <th>top</th>\n",
       "      <td>Off Twitter for a while</td>\n",
       "      <td>[]</td>\n",
       "      <td>[]</td>\n",
       "      <td>[]</td>\n",
       "      <td>[]</td>\n",
       "      <td>[]</td>\n",
       "      <td></td>\n",
       "    </tr>\n",
       "    <tr>\n",
       "      <th>freq</th>\n",
       "      <td>2</td>\n",
       "      <td>2806</td>\n",
       "      <td>2358</td>\n",
       "      <td>2454</td>\n",
       "      <td>2954</td>\n",
       "      <td>2967</td>\n",
       "      <td>2588</td>\n",
       "    </tr>\n",
       "  </tbody>\n",
       "</table>\n",
       "</div>"
      ],
      "text/plain": [
       "                          tweet mentions  urls photos hashtags cashtags  \\\n",
       "count                      2967     2967  2967   2967     2967     2967   \n",
       "unique                     2961       90   574    514       12        1   \n",
       "top     Off Twitter for a while       []    []     []       []       []   \n",
       "freq                          2     2806  2358   2454     2954     2967   \n",
       "\n",
       "       quote_url  \n",
       "count       2967  \n",
       "unique       372  \n",
       "top               \n",
       "freq        2588  "
      ]
     },
     "execution_count": 274,
     "metadata": {},
     "output_type": "execute_result"
    }
   ],
   "source": [
    "CEOS['elonmusk'][['tweet', 'mentions', 'urls', 'photos','hashtags', 'cashtags', 'quote_url']].describe()"
   ]
  },
  {
   "cell_type": "markdown",
   "metadata": {},
   "source": [
    "The missing values are represented by empty lists. Let's turn this into a better represenation of missing values."
   ]
  },
  {
   "cell_type": "markdown",
   "metadata": {},
   "source": [
    "Let's look at the languages first."
   ]
  },
  {
   "cell_type": "code",
   "execution_count": 275,
   "metadata": {},
   "outputs": [
    {
     "name": "stdout",
     "output_type": "stream",
     "text": [
      "ELONMUSK\n",
      "en     2613\n",
      "und     246\n",
      "tl       15\n",
      "fr       11\n",
      "de       11\n",
      "Name: language, dtype: int64\n",
      "LEVIE\n",
      "en     1156\n",
      "und      19\n",
      "es        2\n",
      "it        2\n",
      "fr        2\n",
      "Name: language, dtype: int64\n",
      "JACK\n",
      "en     1875\n",
      "und     532\n",
      "es       12\n",
      "fr       11\n",
      "in        9\n",
      "Name: language, dtype: int64\n",
      "BENIOFF\n",
      "en     4288\n",
      "und      48\n",
      "fr       16\n",
      "pt        7\n",
      "es        6\n",
      "Name: language, dtype: int64\n",
      "RICHARDBRANSON\n",
      "en     6627\n",
      "und      48\n",
      "fr        3\n",
      "tl        3\n",
      "ro        2\n",
      "Name: language, dtype: int64\n",
      "JOHNLEGERE\n",
      "en     13853\n",
      "und     2686\n",
      "pt        22\n",
      "es        17\n",
      "fr         7\n",
      "Name: language, dtype: int64\n"
     ]
    }
   ],
   "source": [
    "for CEO in CEOS:\n",
    "    print(CEO.upper())\n",
    "    print(CEOS[CEO]['language'].value_counts()[:5])"
   ]
  },
  {
   "cell_type": "markdown",
   "metadata": {},
   "source": [
    "Let's see what und is"
   ]
  },
  {
   "cell_type": "code",
   "execution_count": 276,
   "metadata": {},
   "outputs": [
    {
     "data": {
      "text/plain": [
       "4                       https://t.co/d4ZOSKZESP\n",
       "9                    🤯  https://t.co/Z11qszTY4v\n",
       "22                      https://t.co/O3BGaFuMDO\n",
       "24                      https://t.co/TQZ9QvcwH1\n",
       "29      @WholeMarsBlog  https://t.co/ftFbmwIJz6\n",
       "                         ...                   \n",
       "2725                             @D1sneyNut Yes\n",
       "2737                    https://t.co/3YSXZq1EVj\n",
       "2745                    https://t.co/6Ve3YJoStm\n",
       "2837                            @chemisdrey yes\n",
       "2958                    https://t.co/Kgkz1Z3FwJ\n",
       "Name: tweet, Length: 246, dtype: object"
      ]
     },
     "execution_count": 276,
     "metadata": {},
     "output_type": "execute_result"
    }
   ],
   "source": [
    "CEOS['elonmusk']['tweet'][CEOS['elonmusk']['language'] == 'und']"
   ]
  },
  {
   "cell_type": "markdown",
   "metadata": {},
   "source": [
    "It looks like und occurs when there are a lot of mentions, links, or emojis, so I will keep this and clean them later. "
   ]
  },
  {
   "cell_type": "code",
   "execution_count": 277,
   "metadata": {},
   "outputs": [],
   "source": [
    "# Keep the en and und languages \n",
    "for CEO in CEOS:\n",
    "    CEOS[CEO] = CEOS[CEO][(CEOS[CEO]['language'] == 'en') | (CEOS[CEO]['language'] == 'und')]\n",
    "    CEOS[CEO].reset_index(inplace=True, drop=True)"
   ]
  },
  {
   "cell_type": "code",
   "execution_count": 278,
   "metadata": {},
   "outputs": [
    {
     "name": "stdout",
     "output_type": "stream",
     "text": [
      "ELONMUSK\n",
      "en     2613\n",
      "und     246\n",
      "Name: language, dtype: int64\n",
      "2859\n",
      "LEVIE\n",
      "en     1156\n",
      "und      19\n",
      "Name: language, dtype: int64\n",
      "1175\n",
      "JACK\n",
      "en     1875\n",
      "und     532\n",
      "Name: language, dtype: int64\n",
      "2407\n",
      "BENIOFF\n",
      "en     4288\n",
      "und      48\n",
      "Name: language, dtype: int64\n",
      "4336\n",
      "RICHARDBRANSON\n",
      "en     6627\n",
      "und      48\n",
      "Name: language, dtype: int64\n",
      "6675\n",
      "JOHNLEGERE\n",
      "en     13853\n",
      "und     2686\n",
      "Name: language, dtype: int64\n",
      "16539\n"
     ]
    }
   ],
   "source": [
    "for CEO in CEOS:\n",
    "    print(CEO.upper())\n",
    "    print(CEOS[CEO]['language'].value_counts())\n",
    "    print(CEOS[CEO]['language'].value_counts().sum())"
   ]
  },
  {
   "cell_type": "markdown",
   "metadata": {},
   "source": [
    "### 1.3.2 Converting to Missing Values and Categorical Features <a id='1.3.2_Missing'></a>"
   ]
  },
  {
   "cell_type": "code",
   "execution_count": 279,
   "metadata": {},
   "outputs": [
    {
     "name": "stdout",
     "output_type": "stream",
     "text": [
      "ELONMUSK\n",
      "  mentions urls photos hashtags cashtags  \\\n",
      "0       []   []     []       []       []   \n",
      "1       []   []     []       []       []   \n",
      "2       []   []     []       []       []   \n",
      "\n",
      "                                           thumbnail  \n",
      "0                                                     \n",
      "1  https://pbs.twimg.com/ext_tw_video_thumb/14166...  \n",
      "2                                                     \n",
      "LEVIE\n",
      "  mentions urls                                             photos hashtags  \\\n",
      "0       []   []                                                 []       []   \n",
      "1       []   []                                                 []       []   \n",
      "2       []   []  [https://pbs.twimg.com/media/E6vgkwJUcAIUI5z.jpg]       []   \n",
      "\n",
      "  cashtags                                        thumbnail  \n",
      "0       []                                                   \n",
      "1       []                                                   \n",
      "2       []  https://pbs.twimg.com/media/E6vgkwJUcAIUI5z.jpg  \n",
      "JACK\n",
      "  mentions                                               urls  \\\n",
      "0       []               [https://squareup.com/us/en/banking]   \n",
      "1       []                                                 []   \n",
      "2       []  [https://tv.apple.com/us/show/mccartney-3-2-1/...   \n",
      "\n",
      "                                              photos hashtags cashtags  \\\n",
      "0                                                 []       []       []   \n",
      "1  [https://pbs.twimg.com/media/E6tGb46X0AA5ou4.jpg]       []       []   \n",
      "2                                                 []       []       []   \n",
      "\n",
      "                                         thumbnail  \n",
      "0                                                   \n",
      "1  https://pbs.twimg.com/media/E6tGb46X0AA5ou4.jpg  \n",
      "2                                                   \n",
      "BENIOFF\n",
      "                                            mentions  \\\n",
      "0  [{'screen_name': 'madmoneyoncnbc', 'name': 'ma...   \n",
      "1  [{'screen_name': 'dreamforce', 'name': 'dreamf...   \n",
      "2  [{'screen_name': 'madmoneyoncnbc', 'name': 'ma...   \n",
      "\n",
      "                                                urls photos hashtags cashtags  \\\n",
      "0  [https://www.cnbc.com/video/2021/05/27/salesfo...     []       []       []   \n",
      "1  [https://www.sfchronicle.com/business/article/...     []       []       []   \n",
      "2  [https://www.cnbc.com/video/2021/05/27/salesfo...     []       []       []   \n",
      "\n",
      "  thumbnail  \n",
      "0            \n",
      "1            \n",
      "2            \n",
      "RICHARDBRANSON\n",
      "                                            mentions                    urls  \\\n",
      "0  [{'screen_name': 'blueorigin', 'name': 'blue o...                      []   \n",
      "1  [{'screen_name': 'virginplus', 'name': 'virgin...  [https://virg.in/4iTm]   \n",
      "2  [{'screen_name': 'virgingalactic', 'name': 'vi...                      []   \n",
      "\n",
      "  photos        hashtags cashtags  \\\n",
      "0     []              []       []   \n",
      "1     []  [virginfamily]       []   \n",
      "2     []       [unity22]       []   \n",
      "\n",
      "                                           thumbnail  \n",
      "0                                                     \n",
      "1  https://pbs.twimg.com/ext_tw_video_thumb/14171...  \n",
      "2  https://pbs.twimg.com/ext_tw_video_thumb/14170...  \n",
      "JOHNLEGERE\n",
      "  mentions                                               urls  \\\n",
      "0       []  [https://www.buzzfeed.com/juliawilling/milo-an...   \n",
      "1       []  [https://www.theverge.com/2021/7/19/22580542/j...   \n",
      "2       []                                                 []   \n",
      "\n",
      "                                              photos hashtags cashtags  \\\n",
      "0                                                 []       []       []   \n",
      "1                                                 []       []       []   \n",
      "2  [https://pbs.twimg.com/media/E6veOyjWUAMGWtW.jpg]       []       []   \n",
      "\n",
      "                                         thumbnail  \n",
      "0                                                   \n",
      "1                                                   \n",
      "2  https://pbs.twimg.com/media/E6veOyjWUAMGWtW.jpg  \n"
     ]
    }
   ],
   "source": [
    "for CEO in CEOS:\n",
    "    print(CEO.upper())\n",
    "    print(CEOS[CEO][['mentions', 'urls', 'photos', 'hashtags', 'cashtags', 'thumbnail']].head(3))"
   ]
  },
  {
   "cell_type": "code",
   "execution_count": 280,
   "metadata": {},
   "outputs": [],
   "source": [
    "# Convert empty lists into NaNs for easier processing\n",
    "for CEO in CEOS:\n",
    "    CEOS[CEO][['mentions', 'urls', 'photos', 'hashtags', 'cashtags', 'thumbnail']] = CEOS[CEO][['mentions', 'urls', 'photos', 'hashtags','cashtags', 'thumbnail']].applymap(lambda x: np.nan if len(x) == 0 else x)\n",
    "    "
   ]
  },
  {
   "cell_type": "code",
   "execution_count": 281,
   "metadata": {},
   "outputs": [
    {
     "name": "stdout",
     "output_type": "stream",
     "text": [
      "ELONMUSK\n",
      "<class 'pandas.core.frame.DataFrame'>\n",
      "RangeIndex: 2859 entries, 0 to 2858\n",
      "Data columns (total 6 columns):\n",
      " #   Column     Non-Null Count  Dtype  \n",
      "---  ------     --------------  -----  \n",
      " 0   mentions   157 non-null    object \n",
      " 1   urls       583 non-null    object \n",
      " 2   photos     486 non-null    object \n",
      " 3   hashtags   13 non-null     object \n",
      " 4   cashtags   0 non-null      float64\n",
      " 5   thumbnail  549 non-null    object \n",
      "dtypes: float64(1), object(5)\n",
      "memory usage: 134.1+ KB\n",
      "None\n",
      "LEVIE\n",
      "<class 'pandas.core.frame.DataFrame'>\n",
      "RangeIndex: 1175 entries, 0 to 1174\n",
      "Data columns (total 6 columns):\n",
      " #   Column     Non-Null Count  Dtype \n",
      "---  ------     --------------  ----- \n",
      " 0   mentions   70 non-null     object\n",
      " 1   urls       160 non-null    object\n",
      " 2   photos     122 non-null    object\n",
      " 3   hashtags   11 non-null     object\n",
      " 4   cashtags   1 non-null      object\n",
      " 5   thumbnail  135 non-null    object\n",
      "dtypes: object(6)\n",
      "memory usage: 55.2+ KB\n",
      "None\n",
      "JACK\n",
      "<class 'pandas.core.frame.DataFrame'>\n",
      "RangeIndex: 2407 entries, 0 to 2406\n",
      "Data columns (total 6 columns):\n",
      " #   Column     Non-Null Count  Dtype \n",
      "---  ------     --------------  ----- \n",
      " 0   mentions   543 non-null    object\n",
      " 1   urls       1072 non-null   object\n",
      " 2   photos     435 non-null    object\n",
      " 3   hashtags   344 non-null    object\n",
      " 4   cashtags   3 non-null      object\n",
      " 5   thumbnail  443 non-null    object\n",
      "dtypes: object(6)\n",
      "memory usage: 113.0+ KB\n",
      "None\n",
      "BENIOFF\n",
      "<class 'pandas.core.frame.DataFrame'>\n",
      "RangeIndex: 4336 entries, 0 to 4335\n",
      "Data columns (total 6 columns):\n",
      " #   Column     Non-Null Count  Dtype  \n",
      "---  ------     --------------  -----  \n",
      " 0   mentions   2225 non-null   object \n",
      " 1   urls       2526 non-null   object \n",
      " 2   photos     1575 non-null   object \n",
      " 3   hashtags   324 non-null    object \n",
      " 4   cashtags   0 non-null      float64\n",
      " 5   thumbnail  1944 non-null   object \n",
      "dtypes: float64(1), object(5)\n",
      "memory usage: 203.4+ KB\n",
      "None\n",
      "RICHARDBRANSON\n",
      "<class 'pandas.core.frame.DataFrame'>\n",
      "RangeIndex: 6675 entries, 0 to 6674\n",
      "Data columns (total 6 columns):\n",
      " #   Column     Non-Null Count  Dtype  \n",
      "---  ------     --------------  -----  \n",
      " 0   mentions   3291 non-null   object \n",
      " 1   urls       6302 non-null   object \n",
      " 2   photos     5458 non-null   object \n",
      " 3   hashtags   2522 non-null   object \n",
      " 4   cashtags   0 non-null      float64\n",
      " 5   thumbnail  5931 non-null   object \n",
      "dtypes: float64(1), object(5)\n",
      "memory usage: 313.0+ KB\n",
      "None\n",
      "JOHNLEGERE\n",
      "<class 'pandas.core.frame.DataFrame'>\n",
      "RangeIndex: 16539 entries, 0 to 16538\n",
      "Data columns (total 6 columns):\n",
      " #   Column     Non-Null Count  Dtype \n",
      "---  ------     --------------  ----- \n",
      " 0   mentions   5417 non-null   object\n",
      " 1   urls       6788 non-null   object\n",
      " 2   photos     5723 non-null   object\n",
      " 3   hashtags   6860 non-null   object\n",
      " 4   cashtags   197 non-null    object\n",
      " 5   thumbnail  6575 non-null   object\n",
      "dtypes: object(6)\n",
      "memory usage: 775.4+ KB\n",
      "None\n"
     ]
    }
   ],
   "source": [
    "for CEO in CEOS:\n",
    "    print(CEO.upper())\n",
    "    print(CEOS[CEO][['mentions', 'urls', 'photos', 'hashtags', 'cashtags', 'thumbnail']].info())"
   ]
  },
  {
   "cell_type": "code",
   "execution_count": 282,
   "metadata": {
    "scrolled": false
   },
   "outputs": [
    {
     "name": "stdout",
     "output_type": "stream",
     "text": [
      "ELONMUSK\n",
      "\n",
      "\n",
      "missing values\n",
      "===============\n",
      "mentions     2702\n",
      "urls         2276\n",
      "photos       2373\n",
      "hashtags     2846\n",
      "cashtags     2859\n",
      "thumbnail    2310\n",
      "dtype: int64\n",
      "\n",
      "\n",
      "LEVIE\n",
      "\n",
      "\n",
      "missing values\n",
      "===============\n",
      "mentions     1105\n",
      "urls         1015\n",
      "photos       1053\n",
      "hashtags     1164\n",
      "cashtags     1174\n",
      "thumbnail    1040\n",
      "dtype: int64\n",
      "\n",
      "\n",
      "JACK\n",
      "\n",
      "\n",
      "missing values\n",
      "===============\n",
      "mentions     1864\n",
      "urls         1335\n",
      "photos       1972\n",
      "hashtags     2063\n",
      "cashtags     2404\n",
      "thumbnail    1964\n",
      "dtype: int64\n",
      "\n",
      "\n",
      "BENIOFF\n",
      "\n",
      "\n",
      "missing values\n",
      "===============\n",
      "mentions     2111\n",
      "urls         1810\n",
      "photos       2761\n",
      "hashtags     4012\n",
      "cashtags     4336\n",
      "thumbnail    2392\n",
      "dtype: int64\n",
      "\n",
      "\n",
      "RICHARDBRANSON\n",
      "\n",
      "\n",
      "missing values\n",
      "===============\n",
      "mentions     3384\n",
      "urls          373\n",
      "photos       1217\n",
      "hashtags     4153\n",
      "cashtags     6675\n",
      "thumbnail     744\n",
      "dtype: int64\n",
      "\n",
      "\n",
      "JOHNLEGERE\n",
      "\n",
      "\n",
      "missing values\n",
      "===============\n",
      "mentions     11122\n",
      "urls          9751\n",
      "photos       10816\n",
      "hashtags      9679\n",
      "cashtags     16342\n",
      "thumbnail     9964\n",
      "dtype: int64\n",
      "\n",
      "\n"
     ]
    }
   ],
   "source": [
    "for CEO in CEOS:\n",
    "    print(CEO.upper())\n",
    "    print('\\n')\n",
    "    print('missing values')\n",
    "    print('===============')\n",
    "    print(CEOS[CEO][['mentions', 'urls', 'photos', 'hashtags', 'cashtags', 'thumbnail']].isna().sum())\n",
    "    print('\\n')"
   ]
  },
  {
   "cell_type": "code",
   "execution_count": 283,
   "metadata": {
    "scrolled": true
   },
   "outputs": [
    {
     "name": "stdout",
     "output_type": "stream",
     "text": [
      "MENTIONS\n",
      "6        [{'screen_name': 'lifehacker', 'name': 'lifeha...\n",
      "18       [{'screen_name': 'neilbarua', 'name': 'neil ba...\n",
      "20       [{'screen_name': 'candace_parker', 'name': 'ca...\n",
      "29       [{'screen_name': 'coolcatsnft', 'name': 'cool ...\n",
      "43       [{'screen_name': 'richardbranson', 'name': 'ri...\n",
      "                               ...                        \n",
      "16532    [{'screen_name': 'theorlandojones', 'name': 'o...\n",
      "16533    [{'screen_name': 'tmobile', 'name': 't-mobile'...\n",
      "16534    [{'screen_name': 'att', 'name': 'at&t', 'id': ...\n",
      "16536    [{'screen_name': 'att', 'name': 'at&t', 'id': ...\n",
      "16537    [{'screen_name': 'att', 'name': 'at&t', 'id': ...\n",
      "Name: mentions, Length: 5417, dtype: object\n",
      "===========\n",
      "URLS\n",
      "0        [https://www.buzzfeed.com/juliawilling/milo-an...\n",
      "1        [https://www.theverge.com/2021/7/19/22580542/j...\n",
      "3        [https://mashable.com/article/nasa-hubble-imag...\n",
      "5        [https://www.buzzfeed.com/hannahloewentheil/pe...\n",
      "6        [https://lifehacker.com/youve-probably-been-pi...\n",
      "                               ...                        \n",
      "16529                              [http://bit.ly/29YdERB]\n",
      "16530                              [http://bit.ly/2a4U3yK]\n",
      "16531    [https://www.pscp.tv/w/al6BUTE4NTc4fDF5bkpPemV...\n",
      "16535                              [http://bit.ly/29VyzUb]\n",
      "16538                              [http://bit.ly/2a8AhnH]\n",
      "Name: urls, Length: 6788, dtype: object\n",
      "===========\n",
      "PHOTOS\n",
      "2        [https://pbs.twimg.com/media/E6veOyjWUAMGWtW.jpg]\n",
      "4        [https://pbs.twimg.com/media/E6rjNVWWYAIctsn.j...\n",
      "10       [https://pbs.twimg.com/media/E6lviueWYAAKq8l.jpg]\n",
      "11       [https://pbs.twimg.com/media/E6hfHbEWEAYWwwN.j...\n",
      "28       [https://pbs.twimg.com/media/E6LfrZOWQAkT_AO.jpg]\n",
      "                               ...                        \n",
      "16516    [https://pbs.twimg.com/media/Cn7QFz0UkAEqLO6.jpg]\n",
      "16522    [https://pbs.twimg.com/media/Cn5qTfJWEAEIQyr.jpg]\n",
      "16527    [https://pbs.twimg.com/media/Cn2s0M8UkAIn0vg.jpg]\n",
      "16535    [https://pbs.twimg.com/media/Cn0gBayUMAELRqs.jpg]\n",
      "16537    [https://pbs.twimg.com/media/Cn0fMkOVYAIWdTB.jpg]\n",
      "Name: photos, Length: 5723, dtype: object\n",
      "===========\n",
      "HASHTAGS\n",
      "14                    [worldemojiday]\n",
      "28                       [callonjohn]\n",
      "77                       [callonjohn]\n",
      "100                      [callonjohn]\n",
      "122                [standwithreality]\n",
      "                     ...             \n",
      "16533      [duopoly, wednesdaywisdom]\n",
      "16534           [deatthstar, dumpatt]\n",
      "16535           [dumpatt, deatthstar]\n",
      "16537       [deatthstar, notshocking]\n",
      "16538    [pokemongo, tmobiletuesdays]\n",
      "Name: hashtags, Length: 6860, dtype: object\n",
      "===========\n",
      "CASHTAGS\n",
      "741            [tmus]\n",
      "1098           [tmus]\n",
      "1739           [tmus]\n",
      "1740           [tmus]\n",
      "1745           [tmus]\n",
      "             ...     \n",
      "16458          [tmus]\n",
      "16459          [tmus]\n",
      "16463          [tmus]\n",
      "16465    [tmus, tmus]\n",
      "16471      [vz, t, s]\n",
      "Name: cashtags, Length: 197, dtype: object\n",
      "===========\n",
      "THUMBNAIL\n",
      "2        https://pbs.twimg.com/media/E6veOyjWUAMGWtW.jpg\n",
      "4        https://pbs.twimg.com/media/E6rjNVWWYAIctsn.jpg\n",
      "10       https://pbs.twimg.com/media/E6lviueWYAAKq8l.jpg\n",
      "11       https://pbs.twimg.com/media/E6hfHbEWEAYWwwN.jpg\n",
      "28       https://pbs.twimg.com/media/E6LfrZOWQAkT_AO.jpg\n",
      "                              ...                       \n",
      "16516    https://pbs.twimg.com/media/Cn7QFz0UkAEqLO6.jpg\n",
      "16522    https://pbs.twimg.com/media/Cn5qTfJWEAEIQyr.jpg\n",
      "16527    https://pbs.twimg.com/media/Cn2s0M8UkAIn0vg.jpg\n",
      "16535    https://pbs.twimg.com/media/Cn0gBayUMAELRqs.jpg\n",
      "16537    https://pbs.twimg.com/media/Cn0fMkOVYAIWdTB.jpg\n",
      "Name: thumbnail, Length: 6575, dtype: object\n",
      "===========\n"
     ]
    }
   ],
   "source": [
    "categ = ['mentions', 'urls', 'photos', 'hashtags', 'cashtags', 'thumbnail']\n",
    "for categorical in categ:\n",
    "    print(categorical.upper())\n",
    "    print(CEOS['JohnLegere'][categorical][~CEOS['JohnLegere'][categorical].isna()])\n",
    "    print('===========')"
   ]
  },
  {
   "cell_type": "code",
   "execution_count": 284,
   "metadata": {},
   "outputs": [
    {
     "name": "stdout",
     "output_type": "stream",
     "text": [
      "CPU times: user 29 s, sys: 260 ms, total: 29.3 s\n",
      "Wall time: 29.5 s\n"
     ]
    }
   ],
   "source": [
    "%%time\n",
    "# Change categoricals to binary values\n",
    "for CEO in CEOS:\n",
    "    for categorical in categ:\n",
    "        CEOS[CEO][categorical][CEOS[CEO][categorical].isnull()] = 0\n",
    "\n",
    "for CEO in CEOS:\n",
    "    for categorical in categ:\n",
    "        for i in range(len(CEOS[CEO])):\n",
    "            if CEOS[CEO][categorical].iloc[i] != 0:\n",
    "                if categorical != 'thumbnail':\n",
    "                    CEOS[CEO][categorical].iloc[i] = len(CEOS[CEO][categorical].iloc[i])\n",
    "                else:\n",
    "                    CEOS[CEO]['thumbnail'].iloc[i] = 1"
   ]
  },
  {
   "cell_type": "code",
   "execution_count": 285,
   "metadata": {},
   "outputs": [],
   "source": [
    "for CEO in CEOS:\n",
    "    CEOS[CEO]['cashtags'] = CEOS[CEO]['cashtags'].astype(int)"
   ]
  },
  {
   "cell_type": "code",
   "execution_count": 286,
   "metadata": {
    "scrolled": false
   },
   "outputs": [
    {
     "name": "stdout",
     "output_type": "stream",
     "text": [
      "ELONMUSK\n",
      "0    2702\n",
      "1     138\n",
      "2      17\n",
      "4       1\n",
      "3       1\n",
      "Name: mentions, dtype: int64\n",
      "============\n",
      "0    2276\n",
      "1     575\n",
      "2       8\n",
      "Name: urls, dtype: int64\n",
      "============\n",
      "0    2373\n",
      "1     457\n",
      "2      17\n",
      "3      10\n",
      "4       2\n",
      "Name: photos, dtype: int64\n",
      "============\n",
      "0    2846\n",
      "1      12\n",
      "2       1\n",
      "Name: hashtags, dtype: int64\n",
      "============\n",
      "0    2859\n",
      "Name: cashtags, dtype: int64\n",
      "============\n",
      "0    2310\n",
      "1     549\n",
      "Name: thumbnail, dtype: int64\n",
      "============\n",
      "LEVIE\n",
      "0    1105\n",
      "1      56\n",
      "2      13\n",
      "3       1\n",
      "Name: mentions, dtype: int64\n",
      "============\n",
      "0    1015\n",
      "1     159\n",
      "2       1\n",
      "Name: urls, dtype: int64\n",
      "============\n",
      "0    1053\n",
      "1     114\n",
      "2       6\n",
      "4       2\n",
      "Name: photos, dtype: int64\n",
      "============\n",
      "0    1164\n",
      "1      11\n",
      "Name: hashtags, dtype: int64\n",
      "============\n",
      "0    1174\n",
      "1       1\n",
      "Name: cashtags, dtype: int64\n",
      "============\n",
      "0    1040\n",
      "1     135\n",
      "Name: thumbnail, dtype: int64\n",
      "============\n",
      "JACK\n",
      "0    1864\n",
      "1     427\n",
      "2      87\n",
      "3      23\n",
      "4       5\n",
      "8       1\n",
      "Name: mentions, dtype: int64\n",
      "============\n",
      "0    1335\n",
      "1    1061\n",
      "2      11\n",
      "Name: urls, dtype: int64\n",
      "============\n",
      "0    1972\n",
      "1     385\n",
      "2      24\n",
      "4      16\n",
      "3      10\n",
      "Name: photos, dtype: int64\n",
      "============\n",
      "0    2063\n",
      "1     321\n",
      "2      21\n",
      "3       2\n",
      "Name: hashtags, dtype: int64\n",
      "============\n",
      "0    2404\n",
      "1       2\n",
      "2       1\n",
      "Name: cashtags, dtype: int64\n",
      "============\n",
      "0    1964\n",
      "1     443\n",
      "Name: thumbnail, dtype: int64\n",
      "============\n",
      "BENIOFF\n",
      "0     2111\n",
      "1     1271\n",
      "2      611\n",
      "3      219\n",
      "4       78\n",
      "5       24\n",
      "6        9\n",
      "7        7\n",
      "8        5\n",
      "18       1\n",
      "Name: mentions, dtype: int64\n",
      "============\n",
      "1    2422\n",
      "0    1810\n",
      "2      99\n",
      "3       5\n",
      "Name: urls, dtype: int64\n",
      "============\n",
      "0    2761\n",
      "1    1274\n",
      "4     196\n",
      "2      91\n",
      "3      14\n",
      "Name: photos, dtype: int64\n",
      "============\n",
      "0    4012\n",
      "1     290\n",
      "2      31\n",
      "3       3\n",
      "Name: hashtags, dtype: int64\n",
      "============\n",
      "0    4336\n",
      "Name: cashtags, dtype: int64\n",
      "============\n",
      "0    2392\n",
      "1    1944\n",
      "Name: thumbnail, dtype: int64\n",
      "============\n",
      "RICHARDBRANSON\n",
      "0     3384\n",
      "1     2291\n",
      "2      760\n",
      "3      174\n",
      "4       44\n",
      "5       14\n",
      "8        3\n",
      "6        2\n",
      "9        2\n",
      "10       1\n",
      "Name: mentions, dtype: int64\n",
      "============\n",
      "1    6281\n",
      "0     373\n",
      "2      21\n",
      "Name: urls, dtype: int64\n",
      "============\n",
      "1    5393\n",
      "0    1217\n",
      "2      41\n",
      "3      24\n",
      "Name: photos, dtype: int64\n",
      "============\n",
      "0    4153\n",
      "1    2163\n",
      "2     299\n",
      "3      51\n",
      "4       7\n",
      "5       1\n",
      "6       1\n",
      "Name: hashtags, dtype: int64\n",
      "============\n",
      "0    6675\n",
      "Name: cashtags, dtype: int64\n",
      "============\n",
      "1    5931\n",
      "0     744\n",
      "Name: thumbnail, dtype: int64\n",
      "============\n",
      "JOHNLEGERE\n",
      "0     11122\n",
      "1      3920\n",
      "2      1063\n",
      "3       273\n",
      "4        86\n",
      "5        31\n",
      "6        12\n",
      "7         8\n",
      "11        4\n",
      "10        4\n",
      "9         3\n",
      "12        3\n",
      "8         2\n",
      "17        2\n",
      "14        2\n",
      "15        2\n",
      "13        1\n",
      "18        1\n",
      "Name: mentions, dtype: int64\n",
      "============\n",
      "0    9751\n",
      "1    6689\n",
      "2      98\n",
      "4       1\n",
      "Name: urls, dtype: int64\n",
      "============\n",
      "0    10816\n",
      "1     5001\n",
      "2      358\n",
      "4      249\n",
      "3      115\n",
      "Name: photos, dtype: int64\n",
      "============\n",
      "0     9679\n",
      "1     4544\n",
      "2     1768\n",
      "3      436\n",
      "4       86\n",
      "5       19\n",
      "6        2\n",
      "11       2\n",
      "17       1\n",
      "22       1\n",
      "20       1\n",
      "Name: hashtags, dtype: int64\n",
      "============\n",
      "0    16342\n",
      "1      181\n",
      "2       13\n",
      "3        3\n",
      "Name: cashtags, dtype: int64\n",
      "============\n",
      "0    9964\n",
      "1    6575\n",
      "Name: thumbnail, dtype: int64\n",
      "============\n"
     ]
    }
   ],
   "source": [
    "for CEO in CEOS:\n",
    "    print(CEO.upper())\n",
    "    for categorical in categ:\n",
    "        print(CEOS[CEO][categorical].value_counts())\n",
    "        print('============')"
   ]
  },
  {
   "cell_type": "markdown",
   "metadata": {},
   "source": [
    "### 1.3.3 Select Feature Columns and Combine Tweets for Each Day <a id='1.3.3_Features'></a>\n",
    "\n",
    "I will be keeping most of the categorical and int features, but I won't be keeping the Cashtag column as it is empty for most of the tweets"
   ]
  },
  {
   "cell_type": "code",
   "execution_count": 287,
   "metadata": {},
   "outputs": [],
   "source": [
    "# Set appropriate columns \n",
    "\n",
    "for CEO in CEOS:\n",
    "    CEOS[CEO] = CEOS[CEO][[\n",
    "        'date', 'time', 'username', 'tweet', \n",
    "        'mentions', 'hashtags', 'video', 'photos', 'urls']]"
   ]
  },
  {
   "cell_type": "code",
   "execution_count": 288,
   "metadata": {},
   "outputs": [],
   "source": [
    "# Need to change some of the features to integers\n",
    "for CEO in CEOS:\n",
    "    CEOS[CEO].fillna(0, inplace=True)"
   ]
  },
  {
   "cell_type": "markdown",
   "metadata": {},
   "source": [
    "I will make a separate dataframe for these and append them to a dataframe of tweets that have been grouped by the date. Because I am looking how tweets impact the stock prices, I want to analyze tweets that happen before the price point. To this end I will be looking at the closing price, and tweets that occur on the same day after the market closes will be counted towards the following day. "
   ]
  },
  {
   "cell_type": "code",
   "execution_count": 289,
   "metadata": {},
   "outputs": [],
   "source": [
    "num_tweets = len(CEOS['elonmusk'])"
   ]
  },
  {
   "cell_type": "code",
   "execution_count": 290,
   "metadata": {},
   "outputs": [
    {
     "data": {
      "text/plain": [
       "2859"
      ]
     },
     "execution_count": 290,
     "metadata": {},
     "output_type": "execute_result"
    }
   ],
   "source": [
    "num_tweets"
   ]
  },
  {
   "cell_type": "code",
   "execution_count": 291,
   "metadata": {
    "scrolled": false
   },
   "outputs": [
    {
     "name": "stdout",
     "output_type": "stream",
     "text": [
      "CPU times: user 26.6 s, sys: 355 ms, total: 26.9 s\n",
      "Wall time: 27.3 s\n"
     ]
    }
   ],
   "source": [
    "%%time \n",
    "# Takes ~1 min\n",
    "for CEO in CEOS:\n",
    "    CEOS[CEO] = combine_tweets(CEOS[CEO])"
   ]
  },
  {
   "cell_type": "code",
   "execution_count": 292,
   "metadata": {},
   "outputs": [],
   "source": [
    "assert num_tweets == CEOS['elonmusk']['number of tweets'].sum()"
   ]
  },
  {
   "cell_type": "code",
   "execution_count": 293,
   "metadata": {},
   "outputs": [
    {
     "name": "stdout",
     "output_type": "stream",
     "text": [
      "ELONMUSK\n",
      "Number of days collected: 1273\n",
      "\n",
      "LEVIE\n",
      "Number of days collected: 862\n",
      "\n",
      "JACK\n",
      "Number of days collected: 1123\n",
      "\n",
      "BENIOFF\n",
      "Number of days collected: 1808\n",
      "\n",
      "RICHARDBRANSON\n",
      "Number of days collected: 1991\n",
      "\n",
      "JOHNLEGERE\n",
      "Number of days collected: 3363\n",
      "\n"
     ]
    }
   ],
   "source": [
    "for CEO in CEOS:\n",
    "    print(CEO.upper())\n",
    "    print('Number of days collected: {}'.format(CEOS[CEO].shape[0]))\n",
    "    print(\"\")"
   ]
  },
  {
   "cell_type": "markdown",
   "metadata": {},
   "source": [
    "## 1.4 Combining Stocks and Tweets DataFrames <a id='1.4_Combining_DataFrames'></a>"
   ]
  },
  {
   "cell_type": "code",
   "execution_count": 294,
   "metadata": {
    "scrolled": true
   },
   "outputs": [
    {
     "name": "stdout",
     "output_type": "stream",
     "text": [
      "<built-in method upper of str object at 0x7f856dec6970>\n",
      "                 date      price  percent change\n",
      "0 2016-08-23 09:30:00  44.863998        0.000000\n",
      "1 2016-08-23 16:00:00  44.967999        0.002318\n",
      "2 2016-08-24 09:30:00  45.410000        0.009829\n",
      "\n",
      "<built-in method upper of str object at 0x7f85943011b0>\n",
      "                 date  price  percent change\n",
      "0 2016-08-23 09:30:00  12.95        0.000000\n",
      "1 2016-08-23 16:00:00  13.30        0.027027\n",
      "2 2016-08-24 09:30:00  13.40        0.007519\n",
      "\n",
      "<built-in method upper of str object at 0x7f856dec6830>\n",
      "                 date      price  percent change\n",
      "0 2016-08-23 09:30:00  18.650000        0.000000\n",
      "1 2016-08-23 16:00:00  18.690001        0.002145\n",
      "2 2016-08-24 09:30:00  18.799999        0.005885\n",
      "\n",
      "<built-in method upper of str object at 0x7f856dec6ab0>\n",
      "                 date      price  percent change\n",
      "0 2016-08-23 09:30:00  77.820000        0.000000\n",
      "1 2016-08-23 16:00:00  78.019997        0.002570\n",
      "2 2016-08-24 09:30:00  78.000000       -0.000256\n",
      "\n",
      "<built-in method upper of str object at 0x7f856dec6e70>\n",
      "                 date  price  percent change\n",
      "0 2017-09-29 09:30:00   10.5        0.000000\n",
      "1 2017-09-29 16:00:00   10.1       -0.038095\n",
      "2 2017-09-30 09:30:00    0.0        0.000000\n",
      "\n",
      "<built-in method upper of str object at 0x7f856dec6f30>\n",
      "                 date      price  percent change\n",
      "0 2016-08-23 09:30:00  46.959999        0.000000\n",
      "1 2016-08-23 16:00:00  46.830002       -0.002768\n",
      "2 2016-08-24 09:30:00  46.660000       -0.003630\n",
      "\n"
     ]
    }
   ],
   "source": [
    "# merge stocks on to tweets\n",
    "for stock in stocks:\n",
    "    stocks[stock].reset_index(inplace=True)\n",
    "    print(stock.upper)\n",
    "    print(stocks[stock].head(3))\n",
    "    print(\"\")"
   ]
  },
  {
   "cell_type": "code",
   "execution_count": 295,
   "metadata": {},
   "outputs": [],
   "source": [
    "CEOS_list = list(CEOS.keys())\n",
    "stocks_list = list(stocks.keys())"
   ]
  },
  {
   "cell_type": "code",
   "execution_count": 296,
   "metadata": {},
   "outputs": [],
   "source": [
    "for i in range(len(CEOS_list)):\n",
    "    CEOS[CEOS_list[i]] = CEOS[CEOS_list[i]].merge(stocks[stocks_list[i]], how='left', on='date')\n",
    "    CEOS[CEOS_list[i]] = CEOS[CEOS_list[i]].sort_values(by = 'date').reset_index(drop=True)"
   ]
  },
  {
   "cell_type": "code",
   "execution_count": 297,
   "metadata": {
    "scrolled": true
   },
   "outputs": [
    {
     "name": "stdout",
     "output_type": "stream",
     "text": [
      "ELONMUSK\n",
      "                 date                                              tweet  \\\n",
      "0 2016-07-20 16:00:00  California time Post should go live on Tesla w...   \n",
      "1 2016-07-21 09:30:00  Autopilot prevents serious injury or death of ...   \n",
      "2 2016-07-22 09:30:00  Looking forward to the Gigafactory opening par...   \n",
      "\n",
      "   username  mentions  hashtags  video  photos  urls  number of tweets  price  \\\n",
      "0  elonmusk         0         0      0       0     0                 5    NaN   \n",
      "1  elonmusk         0         0      1       1     0                 1    NaN   \n",
      "2  elonmusk         0         0      0       0     0                 1    NaN   \n",
      "\n",
      "   percent change  \n",
      "0             NaN  \n",
      "1             NaN  \n",
      "2             NaN  \n",
      "LEVIE\n",
      "                 date                                              tweet  \\\n",
      "0 2016-07-21 09:30:00  One part of Twitter right now is a mad man tha...   \n",
      "1 2016-07-21 16:00:00  Ted Cruz deserves kudos. Might be the only per...   \n",
      "2 2016-07-22 09:30:00  Thiel just delivered the first tech speech in ...   \n",
      "\n",
      "  username  mentions  hashtags  video  photos  urls  number of tweets  price  \\\n",
      "0    levie         0         0      0       0     0                 1    NaN   \n",
      "1    levie         0         0      0       0     1                 1    NaN   \n",
      "2    levie         0         0      0       0     0                 2    NaN   \n",
      "\n",
      "   percent change  \n",
      "0             NaN  \n",
      "1             NaN  \n",
      "2             NaN  \n",
      "JACK\n",
      "                 date                                              tweet  \\\n",
      "0 2016-07-21 16:00:00  Listening to: What Are Gender Barriers Made Of...   \n",
      "1 2016-07-23 16:00:00  \"…you didn't like who you were, so the only th...   \n",
      "2 2016-07-24 16:00:00  Tell Congress to fix voter discrimination befo...   \n",
      "\n",
      "  username  mentions  hashtags  video  photos  urls  number of tweets  price  \\\n",
      "0     jack         0         0      1       1     1                 1    NaN   \n",
      "1     jack         1         0      0       0     2                 2    NaN   \n",
      "2     jack         0         1      0       0     1                 1    NaN   \n",
      "\n",
      "   percent change  \n",
      "0             NaN  \n",
      "1             NaN  \n",
      "2             NaN  \n",
      "BENIOFF\n",
      "                 date                                              tweet  \\\n",
      "0 2016-07-21 09:30:00  Don't you love @Neilyoung @Willynelson - Are T...   \n",
      "1 2016-07-22 09:30:00  Congratulations @nba!  And thank you.   https:...   \n",
      "2 2016-07-23 09:30:00  Thank you @cnn @LaurieSegallCNN for @peterthie...   \n",
      "\n",
      "  username  mentions  hashtags  video  photos  urls  number of tweets  price  \\\n",
      "0  Benioff         3         0      0       0     2                 2    NaN   \n",
      "1  Benioff         2         0      0       0     1                 2    NaN   \n",
      "2  Benioff         8         0      0       0     4                 5    NaN   \n",
      "\n",
      "   percent change  \n",
      "0             NaN  \n",
      "1             NaN  \n",
      "2             NaN  \n",
      "RICHARDBRANSON\n",
      "                 date                                              tweet  \\\n",
      "0 2017-09-29 16:00:00  Climate change creates huge opportunities for ...   \n",
      "1 2017-09-30 09:30:00  My top ten quotes on inspiring leadership:  ht...   \n",
      "2 2017-09-30 16:00:00  While I’m excited for the future, it’s interes...   \n",
      "\n",
      "         username  mentions  hashtags  video  photos  urls  number of tweets  \\\n",
      "0  richardbranson         1         3      6       6     8                 9   \n",
      "1  richardbranson         2         3      5       5     5                 5   \n",
      "2  richardbranson         2         4      1       1     3                 3   \n",
      "\n",
      "   price  percent change  \n",
      "0   10.1       -0.038095  \n",
      "1    0.0        0.000000  \n",
      "2    0.0        0.000000  \n",
      "JOHNLEGERE\n",
      "                 date                                              tweet  \\\n",
      "0 2016-07-20 16:00:00  .@TheOrlandoJones We got you! 👍🏼 Email me! .@T...   \n",
      "1 2016-07-21 09:30:00  .@TMobile customers are getting unlimited high...   \n",
      "2 2016-07-21 16:00:00  Batman had to make an appearance in #SuicideSq...   \n",
      "\n",
      "     username  mentions  hashtags  video  photos  urls  number of tweets  \\\n",
      "0  JohnLegere         5        10      2       2     2                 7   \n",
      "1  JohnLegere         6         7      1       1     6                 9   \n",
      "2  JohnLegere         1         7      1       1     3                 4   \n",
      "\n",
      "   price  percent change  \n",
      "0    NaN             NaN  \n",
      "1    NaN             NaN  \n",
      "2    NaN             NaN  \n"
     ]
    }
   ],
   "source": [
    "for CEO in CEOS:\n",
    "    print(CEO.upper())\n",
    "    print(CEOS[CEO].head(3))"
   ]
  },
  {
   "cell_type": "markdown",
   "metadata": {},
   "source": [
    "### 1.4.1 Sort DataFrames and Clean <a id='1.4.1_Sorting_and_Cleaning'></a>"
   ]
  },
  {
   "cell_type": "code",
   "execution_count": 298,
   "metadata": {},
   "outputs": [],
   "source": [
    "# Combine tweets that occur when market it closed and add to next market open.\n",
    "\n",
    "for CEO in CEOS:\n",
    "    CEOS[CEO] = fix_closed_market_tweets(CEOS[CEO])\n",
    "    CEOS[CEO].reset_index('date', inplace=True)"
   ]
  },
  {
   "cell_type": "code",
   "execution_count": 299,
   "metadata": {},
   "outputs": [
    {
     "name": "stdout",
     "output_type": "stream",
     "text": [
      "elonmusk\n",
      "date                0\n",
      "tweet               0\n",
      "username            0\n",
      "mentions            0\n",
      "hashtags            0\n",
      "video               0\n",
      "photos              0\n",
      "urls                0\n",
      "number of tweets    0\n",
      "price               0\n",
      "percent change      0\n",
      "dtype: int64\n",
      "levie\n",
      "date                0\n",
      "tweet               0\n",
      "username            0\n",
      "mentions            0\n",
      "hashtags            0\n",
      "video               0\n",
      "photos              0\n",
      "urls                0\n",
      "number of tweets    0\n",
      "price               0\n",
      "percent change      0\n",
      "dtype: int64\n",
      "jack\n",
      "date                0\n",
      "tweet               0\n",
      "username            0\n",
      "mentions            0\n",
      "hashtags            0\n",
      "video               0\n",
      "photos              0\n",
      "urls                0\n",
      "number of tweets    0\n",
      "price               0\n",
      "percent change      0\n",
      "dtype: int64\n",
      "Benioff\n",
      "date                0\n",
      "tweet               0\n",
      "username            0\n",
      "mentions            0\n",
      "hashtags            0\n",
      "video               0\n",
      "photos              0\n",
      "urls                0\n",
      "number of tweets    0\n",
      "price               0\n",
      "percent change      0\n",
      "dtype: int64\n",
      "richardbranson\n",
      "date                0\n",
      "tweet               0\n",
      "username            0\n",
      "mentions            0\n",
      "hashtags            0\n",
      "video               0\n",
      "photos              0\n",
      "urls                0\n",
      "number of tweets    0\n",
      "price               0\n",
      "percent change      0\n",
      "dtype: int64\n",
      "JohnLegere\n",
      "date                0\n",
      "tweet               0\n",
      "username            0\n",
      "mentions            0\n",
      "hashtags            0\n",
      "video               0\n",
      "photos              0\n",
      "urls                0\n",
      "number of tweets    0\n",
      "price               0\n",
      "percent change      0\n",
      "dtype: int64\n"
     ]
    }
   ],
   "source": [
    "# Check for missing values\n",
    "for CEO in CEOS:\n",
    "    print(CEO)\n",
    "    print(CEOS[CEO].isna().sum())"
   ]
  },
  {
   "cell_type": "markdown",
   "metadata": {},
   "source": [
    "Because the latest tweets are before the next market opens, some of them have missing values and I will have to remove them for now."
   ]
  },
  {
   "cell_type": "code",
   "execution_count": 300,
   "metadata": {},
   "outputs": [
    {
     "name": "stdout",
     "output_type": "stream",
     "text": [
      "(859, 11)\n",
      "(644, 11)\n",
      "(861, 11)\n",
      "(1329, 11)\n",
      "(1388, 11)\n",
      "(2275, 11)\n"
     ]
    }
   ],
   "source": [
    "for CEO in CEOS:\n",
    "    print(CEOS[CEO].shape)"
   ]
  },
  {
   "cell_type": "markdown",
   "metadata": {},
   "source": [
    "Normalize data types"
   ]
  },
  {
   "cell_type": "code",
   "execution_count": 301,
   "metadata": {
    "scrolled": true
   },
   "outputs": [
    {
     "name": "stdout",
     "output_type": "stream",
     "text": [
      "<class 'pandas.core.frame.DataFrame'>\n",
      "RangeIndex: 859 entries, 0 to 858\n",
      "Data columns (total 11 columns):\n",
      " #   Column            Non-Null Count  Dtype         \n",
      "---  ------            --------------  -----         \n",
      " 0   date              859 non-null    datetime64[ns]\n",
      " 1   tweet             859 non-null    object        \n",
      " 2   username          859 non-null    object        \n",
      " 3   mentions          859 non-null    int64         \n",
      " 4   hashtags          859 non-null    int64         \n",
      " 5   video             859 non-null    int64         \n",
      " 6   photos            859 non-null    int64         \n",
      " 7   urls              859 non-null    int64         \n",
      " 8   number of tweets  859 non-null    int64         \n",
      " 9   price             859 non-null    float64       \n",
      " 10  percent change    859 non-null    float64       \n",
      "dtypes: datetime64[ns](1), float64(2), int64(6), object(2)\n",
      "memory usage: 73.9+ KB\n"
     ]
    }
   ],
   "source": [
    "CEOS['elonmusk'].info()"
   ]
  },
  {
   "cell_type": "code",
   "execution_count": 302,
   "metadata": {},
   "outputs": [],
   "source": [
    "ints_columns = CEOS['elonmusk'].select_dtypes(include=['int']).columns\n",
    "floats_columns = CEOS['elonmusk'].select_dtypes(include=['float']).columns"
   ]
  },
  {
   "cell_type": "code",
   "execution_count": 303,
   "metadata": {},
   "outputs": [],
   "source": [
    "for CEO in CEOS:\n",
    "    CEOS[CEO][ints_columns] = CEOS[CEO][ints_columns].astype(int)\n",
    "    CEOS[CEO][floats_columns] = CEOS[CEO][floats_columns].astype(float)"
   ]
  },
  {
   "cell_type": "markdown",
   "metadata": {},
   "source": [
    "### 1.4.2 DataFrame Prices vs Original Stock Prices <a id='1.4.2_Looking_at_Original_Stocks'></a>"
   ]
  },
  {
   "cell_type": "code",
   "execution_count": 304,
   "metadata": {},
   "outputs": [
    {
     "data": {
      "image/png": "[encoded data removed]",
      "text/plain": [
       "<Figure size 432x288 with 1 Axes>"
      ]
     },
     "metadata": {
      "needs_background": "light"
     },
     "output_type": "display_data"
    },
    {
     "data": {
      "image/png": "[encoded data removed]",
      "text/plain": [
       "<Figure size 432x288 with 1 Axes>"
      ]
     },
     "metadata": {
      "needs_background": "light"
     },
     "output_type": "display_data"
    },
    {
     "data": {
      "image/png": "[encoded data removed]",
      "text/plain": [
       "<Figure size 432x288 with 1 Axes>"
      ]
     },
     "metadata": {
      "needs_background": "light"
     },
     "output_type": "display_data"
    },
    {
     "data": {
      "image/png": "[encoded data removed]",
      "text/plain": [
       "<Figure size 432x288 with 1 Axes>"
      ]
     },
     "metadata": {
      "needs_background": "light"
     },
     "output_type": "display_data"
    },
    {
     "data": {
      "image/png": "[encoded data removed]",
      "text/plain": [
       "<Figure size 432x288 with 1 Axes>"
      ]
     },
     "metadata": {
      "needs_background": "light"
     },
     "output_type": "display_data"
    },
    {
     "data": {
      "image/png": "[encoded data removed]",
      "text/plain": [
       "<Figure size 432x288 with 1 Axes>"
      ]
     },
     "metadata": {
      "needs_background": "light"
     },
     "output_type": "display_data"
    },
    {
     "data": {
      "text/plain": [
       "<Figure size 432x288 with 0 Axes>"
      ]
     },
     "metadata": {},
     "output_type": "display_data"
    }
   ],
   "source": [
    "# Let's look to see how well the full stock prices match the merged tweet and stock DataFrames\n",
    "for i in range(len(stocks_list)):\n",
    "    _ = plt.plot(stocks[stocks_list[i]]['date'], stocks[stocks_list[i]]['price'])\n",
    "    _ = plt.plot(CEOS[CEOS_list[i]]['date'], CEOS[CEOS_list[i]]['price'], c='red')\n",
    "    _ = plt.title(stocks_list[i])\n",
    "    _ = plt.xticks(rotation=60)\n",
    "    _ = plt.legend(['Stock Data', 'Stock Price with Tweets'])\n",
    "    _ = plt.show()\n",
    "    plt.savefig('./figures/data_wrangling/Price_Tweets_{}.png'.format(stocks_list[i]), bbox_inches='tight')"
   ]
  },
  {
   "cell_type": "code",
   "execution_count": 305,
   "metadata": {
    "scrolled": false
   },
   "outputs": [
    {
     "data": {
      "image/png": "[encoded data removed]",
      "text/plain": [
       "<Figure size 432x288 with 2 Axes>"
      ]
     },
     "metadata": {
      "needs_background": "light"
     },
     "output_type": "display_data"
    },
    {
     "data": {
      "image/png": "[encoded data removed]",
      "text/plain": [
       "<Figure size 432x288 with 2 Axes>"
      ]
     },
     "metadata": {
      "needs_background": "light"
     },
     "output_type": "display_data"
    },
    {
     "data": {
      "image/png": "[encoded data removed]",
      "text/plain": [
       "<Figure size 432x288 with 2 Axes>"
      ]
     },
     "metadata": {
      "needs_background": "light"
     },
     "output_type": "display_data"
    },
    {
     "data": {
      "image/png": "[encoded data removed]",
      "text/plain": [
       "<Figure size 432x288 with 2 Axes>"
      ]
     },
     "metadata": {
      "needs_background": "light"
     },
     "output_type": "display_data"
    },
    {
     "data": {
      "image/png": "[encoded data removed]",
      "text/plain": [
       "<Figure size 432x288 with 2 Axes>"
      ]
     },
     "metadata": {
      "needs_background": "light"
     },
     "output_type": "display_data"
    },
    {
     "data": {
      "image/png": "[encoded data removed]",
      "text/plain": [
       "<Figure size 432x288 with 2 Axes>"
      ]
     },
     "metadata": {
      "needs_background": "light"
     },
     "output_type": "display_data"
    }
   ],
   "source": [
    "# Initalize a Figure and Axes\n",
    "for CEO in CEOS:\n",
    "    fig, ax = plt.subplots()\n",
    "\n",
    "    ax.plot(CEOS[CEO]['date'], CEOS[CEO]['price'], color='blue')\n",
    "    plt.ylabel('price')\n",
    "    plt.title(f'{CEO} tweets with stock price')\n",
    "    plt.xticks(rotation=60)\n",
    "\n",
    "    # Create a twin Axes that shares the x-axis\n",
    "    ax2 = ax.twinx()\n",
    "    \n",
    "    ax2.plot(CEOS[CEO]['date'], CEOS[CEO]['number of tweets'], color='g', alpha = 0.4)\n",
    "    plt.ylabel('number of tweets')\n",
    "    plt.legend(['number of tweets'])\n",
    "    plt.savefig('./figures/data_wrangling/num_tweets_stock_price_{}.png'.format(CEO), bbox_inches='tight')\n",
    "    plt.show()"
   ]
  },
  {
   "cell_type": "code",
   "execution_count": 306,
   "metadata": {},
   "outputs": [],
   "source": [
    "test = CEOS['JohnLegere']\n",
    "test2 = CEOS['richardbranson']"
   ]
  },
  {
   "cell_type": "code",
   "execution_count": 307,
   "metadata": {},
   "outputs": [],
   "source": [
    "test = test[test['date'] <= '2019']\n",
    "test2 = test2[test2['date'] >= '2020-07']"
   ]
  },
  {
   "cell_type": "code",
   "execution_count": 308,
   "metadata": {},
   "outputs": [
    {
     "data": {
      "image/png": "[encoded data removed]",
      "text/plain": [
       "<Figure size 432x288 with 2 Axes>"
      ]
     },
     "metadata": {
      "needs_background": "light"
     },
     "output_type": "display_data"
    }
   ],
   "source": [
    "fig, ax = plt.subplots()\n",
    "\n",
    "ax.plot(test['date'], test['price'], color='blue')\n",
    "plt.ylabel('price')\n",
    "plt.title('John Legere tweets with stock price pre 2019')\n",
    "plt.xticks(rotation=60)\n",
    "\n",
    "# Create a twin Axes that shares the x-axis\n",
    "ax2 = ax.twinx()\n",
    "\n",
    "\n",
    "ax2.plot(test['date'], test['number of tweets'], color='g', alpha = 0.4)\n",
    "plt.ylabel('number of tweets')\n",
    "plt.legend(['number of tweets'])\n",
    "plt.savefig('./figures/data_wrangling/num_tweets_stock_price_JohnLegere_pre2019', bbox_inches='tight')\n",
    "plt.show()"
   ]
  },
  {
   "cell_type": "code",
   "execution_count": 309,
   "metadata": {},
   "outputs": [
    {
     "data": {
      "image/png": "[encoded data removed]",
      "text/plain": [
       "<Figure size 432x288 with 2 Axes>"
      ]
     },
     "metadata": {
      "needs_background": "light"
     },
     "output_type": "display_data"
    }
   ],
   "source": [
    "fig, ax = plt.subplots()\n",
    "\n",
    "ax.plot(test2['date'], test2['price'], color='blue')\n",
    "plt.ylabel('price')\n",
    "plt.title('Richard Branson tweets with stock price post July 2020')\n",
    "plt.xticks(rotation=60)\n",
    "\n",
    "# Create a twin Axes that shares the x-axis\n",
    "ax2 = ax.twinx()\n",
    "\n",
    "ax2.plot(test2['date'], test2['number of tweets'], color='g', alpha = 0.4)\n",
    "plt.ylabel('number of tweets')\n",
    "plt.legend(['number of tweets'])\n",
    "plt.savefig('./figures/data_wrangling/num_tweets_stock_price_richardbranson_post2020', bbox_inches='tight')\n",
    "plt.show()"
   ]
  },
  {
   "cell_type": "markdown",
   "metadata": {},
   "source": [
    "## 1.5 Saving Dataframes <a id='1.5_Exporting_DataFrames'></a>"
   ]
  },
  {
   "cell_type": "code",
   "execution_count": 310,
   "metadata": {},
   "outputs": [],
   "source": [
    "for i in range(len(CEOS_list)):\n",
    "    CEOS[CEOS_list[i]].to_pickle(f'./data/{CEOS_list[i]}_df.pkl')"
   ]
  },
  {
   "cell_type": "code",
   "execution_count": 311,
   "metadata": {},
   "outputs": [],
   "source": [
    "tweet_stocks = pd.DataFrame()\n",
    "for CEO in CEOS:\n",
    "    tweet_stocks = tweet_stocks.append(CEOS[CEO])"
   ]
  },
  {
   "cell_type": "code",
   "execution_count": 312,
   "metadata": {
    "scrolled": true
   },
   "outputs": [
    {
     "name": "stdout",
     "output_type": "stream",
     "text": [
      "<class 'pandas.core.frame.DataFrame'>\n",
      "Int64Index: 7356 entries, 0 to 2274\n",
      "Data columns (total 11 columns):\n",
      " #   Column            Non-Null Count  Dtype         \n",
      "---  ------            --------------  -----         \n",
      " 0   date              7356 non-null   datetime64[ns]\n",
      " 1   tweet             7356 non-null   object        \n",
      " 2   username          7356 non-null   object        \n",
      " 3   mentions          7356 non-null   int64         \n",
      " 4   hashtags          7356 non-null   int64         \n",
      " 5   video             7356 non-null   int64         \n",
      " 6   photos            7356 non-null   int64         \n",
      " 7   urls              7356 non-null   int64         \n",
      " 8   number of tweets  7356 non-null   int64         \n",
      " 9   price             7356 non-null   float64       \n",
      " 10  percent change    7356 non-null   float64       \n",
      "dtypes: datetime64[ns](1), float64(2), int64(6), object(2)\n",
      "memory usage: 689.6+ KB\n"
     ]
    }
   ],
   "source": [
    "tweet_stocks.info()"
   ]
  },
  {
   "cell_type": "code",
   "execution_count": 313,
   "metadata": {},
   "outputs": [],
   "source": [
    "tweet_stocks.to_pickle(f'./data/tweet_stocks.pkl')"
   ]
  },
  {
   "cell_type": "code",
   "execution_count": null,
   "metadata": {},
   "outputs": [],
   "source": []
  },
  {
   "cell_type": "code",
   "execution_count": null,
   "metadata": {},
   "outputs": [],
   "source": []
  },
  {
   "cell_type": "code",
   "execution_count": null,
   "metadata": {},
   "outputs": [],
   "source": []
  },
  {
   "cell_type": "code",
   "execution_count": null,
   "metadata": {},
   "outputs": [],
   "source": []
  },
  {
   "cell_type": "code",
   "execution_count": null,
   "metadata": {},
   "outputs": [],
   "source": []
  },
  {
   "cell_type": "code",
   "execution_count": null,
   "metadata": {},
   "outputs": [],
   "source": []
  }
 ],
 "metadata": {
  "kernelspec": {
   "display_name": "Python 3",
   "language": "python",
   "name": "python3"
  },
  "language_info": {
   "codemirror_mode": {
    "name": "ipython",
    "version": 3
   },
   "file_extension": ".py",
   "mimetype": "text/x-python",
   "name": "python",
   "nbconvert_exporter": "python",
   "pygments_lexer": "ipython3",
   "version": "3.9.4"
  }
 },
 "nbformat": 4,
 "nbformat_minor": 4
}
