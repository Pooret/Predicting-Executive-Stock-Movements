{
 "cells": [
  {
   "cell_type": "code",
   "execution_count": 302,
   "metadata": {},
   "outputs": [],
   "source": [
    "# See utils.py for the imports\n",
    "\n",
    "from utils import *\n",
    "import os\n",
    "import warnings\n",
    "warnings.filterwarnings('ignore')\n",
    "\n",
    "import timeit\n",
    "import nest_asyncio\n",
    "nest_asyncio.apply()\n",
    "#%load_ext line_profiler\n",
    "\n",
    "%matplotlib inline\n",
    "import matplotlib.pyplot as plt\n",
    "plt.style.use('fivethirtyeight')\n",
    "\n",
    "# Where to save the figures (adapted this from https://github.com/ageron/handson-ml2)\n",
    "PROJECT_ROOT_DIR = \".\"\n",
    "PROJECT_ID = \"stock_movement_tweet_data_wrangling\"\n",
    "IMAGES_PATH = os.path.join(PROJECT_ROOT_DIR, \"images\", PROJECT_ID)\n",
    "os.makedirs(IMAGES_PATH, exist_ok=True)\n",
    "\n",
    "def save_fig(fig_id, tight_layout=True, fig_extension=\"png\", resolution=72):\n",
    "    \"\"\" \n",
    "    resolution quality\n",
    "    300 high \n",
    "    150 medium\n",
    "    72 low\n",
    "    \"\"\"\n",
    "    path = os.path.join(IMAGES_PATH, fig_id + \".\" + fig_extension)\n",
    "    print(\"Saving figure\", fig_id)\n",
    "    if tight_layout:\n",
    "        plt.tight_layout()\n",
    "    plt.savefig(path, format=fig_extension, dpi=resolution)\n",
    "    \n",
    "plt.style.use('fivethirtyeight')"
   ]
  },
  {
   "cell_type": "code",
   "execution_count": 312,
   "metadata": {},
   "outputs": [],
   "source": [
    "def combine_tweets_user(df):\n",
    "    # convert dates to datetime and split\n",
    "    datetimes = pd.to_datetime(df['created_at'])\n",
    "    df['time'], df['date'] = datetimes.dt.time, datetimes.dt.date\n",
    "    \n",
    "    # get open and closing times\n",
    "    open_t = dt.strptime('09:30:00', '%H:%M:%S').time()\n",
    "    close_t = dt.strptime('16:00:00', '%H:%M:%S').time()\n",
    "    \n",
    "    # filter dataframes based off when tweet occurs\n",
    "    before_df = df[df['time'] < open_t]\n",
    "    during_df = df[((df['time'] >= open_t) & (df['time'] < close_t))]\n",
    "    after_df = df[df['time'] >= close_t]\n",
    "    \n",
    "    # reset tweet times to next open or close time\n",
    "    before_df['time'] = open_t\n",
    "    during_df['time'] = close_t\n",
    "    \n",
    "    # if tweet occurs after close, set it to next day and set time to open\n",
    "    after_df['date'] += timedelta(days=1)\n",
    "    after_df['time'] = open_t\n",
    "\n",
    "    # reassemble dataframes with updated dates/times\n",
    "    df = before_df.append(during_df).append(after_df)\n",
    "    \n",
    "    # sort by date and time\n",
    "    df['date'] = pd.to_datetime(df['date'].astype(str) + ' ' + df['time'].astype(str))\n",
    "    df = df.sort_values(by='date', ascending=True)\n",
    "    \n",
    "    # collect tweets in a dictionary (key:value ->  Date : [tweets])\n",
    "    collected_tweets = {}\n",
    "    tweet = []\n",
    "    combined_df = pd.DataFrame(index=sorted(list(set(df['date']))))\n",
    "    combined_df['tweet'] = [[] for _ in range(len(combined_df))]\n",
    "    \n",
    "    # iterate over dataframe and add tweets to matching dates\n",
    "    for i in range(len(combined_df)):\n",
    "        time = combined_df.index[i]\n",
    "        matching_dates = df[df['date'] == time]\n",
    "        for tweet in matching_dates['tweet']:\n",
    "            combined_df['tweet'].iloc[i].append(tweet)\n",
    "     \n",
    "    # add number of tweets and username and return\n",
    "    combined_df['num_tweets'] = combined_df['tweet'].apply(lambda x: len(x))\n",
    "    combined_df['username'] = df['username'].unique()[0]\n",
    "    return combined_df\n",
    "\n",
    "def combine_tweets(full_df, verbose=False):\n",
    "    \"\"\"\n",
    "    group tweets together by next open/close date\n",
    "    \n",
    "    Arguments:\n",
    "    full_df -- A dataframe of users tweets and created_at dates. \n",
    "    \n",
    "    Returns:\n",
    "    merged_df -- A dataframe of grouped user tweets as lists before the next open/close datetime\n",
    "  \n",
    "    A tweet is grouped via the following criteria:\n",
    "    market_open = 09:30:00 EST\n",
    "    market_close = 16:00:00 EST\n",
    "    \n",
    "    - If tweet created_at occurs before market_open on same date, it is grouped as before_market_tweets. \n",
    "    - It tweet is on or after market_open but before market_close, (i.e. during market hours) it is grouped as during_market_tweets. \n",
    "    - If tweet is on or after market_close, it is grouped as after_market_tweets.\n",
    "    \"\"\"\n",
    "    \n",
    "    users = full_df.username.unique()\n",
    "    merged_df = pd.DataFrame()\n",
    "    if verbose:\n",
    "        max_length = 11963\n",
    "        start = timeit.default_timer()\n",
    "        print('')\n",
    "        print('digesting dataframes....')\n",
    "        print('---{:.2f} % complete -------'.format(0.0))\n",
    "    for user in users:\n",
    "        merged_df = merged_df.append(combine_tweets_user(full_df[full_df['username'] == user]))\n",
    "        if verbose:\n",
    "            print('')\n",
    "            print('--{:.2f} % complete -------'.format(100*len(merged_df) / max_length))\n",
    "    if verbose:\n",
    "        stop = timeit.default_timer()\n",
    "        print('digestion completed ---- runtime {:.2f} seconds'.format(stop - start))\n",
    "    return merged_df.reset_index(drop=False).rename(columns={'index':'date'})\n",
    "    \n",
    "def combine_tweets_stocks(ceos_merged, stocks_full):\n",
    "    new_df = pd.DataFrame()\n",
    "    for user in ceos_merged['username'].unique():\n",
    "        ticker = handles_tickers[user]\n",
    "        tweet_df = ceos_merged[ceos_merged['username'] == user]\n",
    "        stock_df = stocks_full[stocks_full['ticker'] == ticker]\n",
    "        new_df = new_df.append(tweet_df.merge(stock_df, how='left', on='date')).dropna(subset=['ticker'])  \n",
    "    return new_df\n",
    "\n",
    "def fix_closed_market_tweets(test):\n",
    "    test = test.dropna()\n",
    "    test.reset_index(inplace=True, drop=True)\n",
    "    test = test.set_index('date')\n",
    "    for i in range(len(test)):\n",
    "        test['tweet'].iloc[i] += \" \"\n",
    "\n",
    "    i = 0\n",
    "    combined=pd.DataFrame()\n",
    "\n",
    "    while i < len(test):\n",
    "        if test['price'].iloc[i] == 0:\n",
    "            combined = test.iloc[i]\n",
    "            j = i + 1\n",
    "            while test['price'].iloc[j] == 0:\n",
    "                combined += test.iloc[j]\n",
    "                j += 1\n",
    "            username = test.iloc[j]['username']\n",
    "            price = test.iloc[j]['price']\n",
    "            percent_change = test.iloc[j]['percent change']\n",
    "            test.iloc[j] += combined\n",
    "            test['username'].iloc[j] = username\n",
    "            test['price'].iloc[j] = price\n",
    "            test['percent change'].iloc[j] = percent_change\n",
    "            i = j\n",
    "        i += 1\n",
    "    test = test[test['price'] !=0]\n",
    "    return test\n",
    "\n",
    "def organize_stocks(df): \n",
    "    \"\"\"\n",
    "    Combines the open/close dates and prices into a single dataframe\n",
    "    \"\"\"\n",
    "    stock_open = pd.DataFrame()\n",
    "    stock_close = pd.DataFrame()\n",
    "\n",
    "    stock_open['date'] = pd.to_datetime(df['date'].dt.strftime('%Y-%m-%d 09:30:00'))\n",
    "    stock_close['date'] = pd.to_datetime(df['date'].dt.strftime('%Y-%m-%d 16:00:00'))\n",
    "\n",
    "    stock_open['price'] = df['open']\n",
    "    stock_close['price'] = df['close']\n",
    "    \n",
    "    start_date_open = dt.strftime(stock_open.date.min(), '%Y-%m-%d %H:%M:%S')\n",
    "    start_date_close = dt.strftime(stock_close.date.min(), '%Y-%m-%d %H:%M:%S')\n",
    "\n",
    "    end_date_open = dt.strftime(stock_open.date.max(), '%Y-%m-%d %H:%M:%S')\n",
    "    end_date_close = dt.strftime(stock_close.date.max(), '%Y-%m-%d %H:%M:%S')\n",
    "    \n",
    "    date_indx_open = pd.Series(pd.date_range(start_date_open, end_date_open), name='date')\n",
    "    date_indx_close = pd.Series(pd.date_range(start_date_close, end_date_close), name='date')\n",
    "    \n",
    "    stock_open = pd.merge(date_indx_open, stock_open, how='left')\n",
    "    stock_close = pd.merge(date_indx_close, stock_close, how='left')\n",
    "    \n",
    "    stock = pd.concat([stock_open, stock_close])\n",
    "    return stock.sort_values(by='date', ascending=True)"
   ]
  },
  {
   "cell_type": "markdown",
   "metadata": {},
   "source": [
    "# Collecting Data"
   ]
  },
  {
   "cell_type": "code",
   "execution_count": 313,
   "metadata": {
    "scrolled": false
   },
   "outputs": [],
   "source": [
    "# Collect the stock data from yahoo Finance and organize a dictionary of dataframes with the open/close prices combined. \n",
    "usernames = ['elonmusk', 'levie', 'jack', 'Benioff','richardbranson', 'JohnLegere']\n",
    "stock_names = ['TSLA','BOX', 'TWTR','CRM','SPCE', 'TMUS']\n",
    "user_stock_mapping = dict(zip(usernames, stock_names))\n",
    "stocks = {stock:pd.read_pickle(f'data/{stock}.pkl') for stock in stock_names}"
   ]
  },
  {
   "cell_type": "code",
   "execution_count": 314,
   "metadata": {},
   "outputs": [],
   "source": [
    "# Get needed columns and change the date to lowercase\n",
    "for stock in stocks:\n",
    "    stocks[stock].reset_index(inplace=True)\n",
    "    stocks[stock] =  stocks[stock][['Date','Open', 'Close']]\n",
    "    stocks[stock].columns = stocks[stock].columns.str.lower()"
   ]
  },
  {
   "cell_type": "code",
   "execution_count": 315,
   "metadata": {},
   "outputs": [],
   "source": [
    "for stock in stocks:\n",
    "    stocks[stock] = organize_stocks(stocks[stock])"
   ]
  },
  {
   "cell_type": "markdown",
   "metadata": {},
   "source": [
    "### De-trending the time series stock data "
   ]
  },
  {
   "cell_type": "markdown",
   "metadata": {},
   "source": [
    "We will use the percent change in the stock prices as a target that we will later bin into categories.  "
   ]
  },
  {
   "cell_type": "code",
   "execution_count": 316,
   "metadata": {},
   "outputs": [],
   "source": [
    "# create a percent change column from the price feature\n",
    "for stock in stocks:\n",
    "    stocks[stock]['percent change'] = stocks[stock]['price'].pct_change()\n",
    "    stocks[stock].fillna(0, inplace=True)\n",
    "    \n",
    "# convert to dataframe\n",
    "stocks_full = pd.DataFrame()\n",
    "for stock in stocks:\n",
    "    # get stock ticker for grouping\n",
    "    stocks[stock]['ticker'] = stock\n",
    "    stocks_full = stocks_full.append(stocks[stock])\n",
    "\n",
    "# pickle and save\n",
    "#pd.to_pickle(stocks_full, './data/stocks_full_df.pkl')"
   ]
  },
  {
   "cell_type": "markdown",
   "metadata": {},
   "source": [
    "## 1.2.5 Collecting the tweets <a id='1.2.5_Collecting_Tweet'></a>\n",
    "We will collect the CEOs tweets over the same time-span as the collected stocks"
   ]
  },
  {
   "cell_type": "code",
   "execution_count": 317,
   "metadata": {},
   "outputs": [],
   "source": [
    "# Get the tweets from the CEOs of the companies\n",
    "        \n",
    "handles_tickers = {'elonmusk':'TSLA', 'levie':'BOX','jack':'TWTR', 'Benioff':'CRM', \n",
    "            'richardbranson':'SPCE', 'JohnLegere':'TMUS'}\n",
    "\n",
    "start_date = {}\n",
    "for user in handles_tickers:\n",
    "    start_date[user] = dt.strftime(stocks[handles_tickers[user]].reset_index().date.min(), '%Y-%m-%d %H:%M:%S')\n",
    "    \n",
    "ceos = pd.read_pickle('./data/ceos.pkl')"
   ]
  },
  {
   "cell_type": "code",
   "execution_count": 318,
   "metadata": {},
   "outputs": [
    {
     "name": "stdout",
     "output_type": "stream",
     "text": [
      "\n",
      "digesting dataframes....\n",
      "---0.00 % complete -------\n",
      "\n",
      "--18.38 % complete -------\n",
      "\n",
      "--26.44 % complete -------\n",
      "\n",
      "--38.93 % complete -------\n",
      "\n",
      "--54.63 % complete -------\n",
      "\n",
      "--71.44 % complete -------\n",
      "\n",
      "--100.00 % complete -------\n",
      "digestion completed ---- runtime 66.36 seconds\n"
     ]
    }
   ],
   "source": [
    "ceos_merged = combine_tweets(ceos, verbose=True)\n",
    "wrangled_df = combine_tweets_stocks(ceos_merged, stocks_full)"
   ]
  },
  {
   "cell_type": "code",
   "execution_count": 378,
   "metadata": {},
   "outputs": [
    {
     "data": {
      "text/plain": [
       "22    [Journalist Q&amp;A for 30 mins and embargo en...\n",
       "22    [7,000 people registered for BoxWorks this wee...\n",
       "22    [When was the last time you tried something fo...\n",
       "Name: tweet, dtype: object"
      ]
     },
     "execution_count": 378,
     "metadata": {},
     "output_type": "execute_result"
    }
   ],
   "source": [
    "wrangled_df.loc[22]['tweet']"
   ]
  },
  {
   "cell_type": "code",
   "execution_count": 319,
   "metadata": {},
   "outputs": [],
   "source": [
    "def combine_tweets_stocks(ceos_merged, stocks_full):\n",
    "    new_df = pd.DataFrame()\n",
    "    for user in ceos_merged['username'].unique():\n",
    "        ticker = handles_tickers[user]\n",
    "        tweet_df = ceos_merged[ceos_merged['username'] == user]\n",
    "        stock_df = stocks_full[stocks_full['ticker'] == ticker]\n",
    "        \n",
    "        # drop na values where \n",
    "        new_df = new_df.append(tweet_df.merge(stock_df, how='left', on='date')).dropna(subset=['ticker'])  \n",
    "    return new_df"
   ]
  },
  {
   "cell_type": "code",
   "execution_count": null,
   "metadata": {},
   "outputs": [],
   "source": [
    "####################\n",
    "######!!WORK!!######\n",
    "####################"
   ]
  },
  {
   "cell_type": "code",
   "execution_count": null,
   "metadata": {},
   "outputs": [],
   "source": [
    "####################\n",
    "######!!WORK!!######\n",
    "####################"
   ]
  },
  {
   "cell_type": "code",
   "execution_count": null,
   "metadata": {},
   "outputs": [],
   "source": [
    "####################\n",
    "######!!WORK!!######\n",
    "####################"
   ]
  },
  {
   "cell_type": "code",
   "execution_count": null,
   "metadata": {},
   "outputs": [],
   "source": [
    "####################\n",
    "######!!WORK!!######\n",
    "####################"
   ]
  },
  {
   "cell_type": "code",
   "execution_count": null,
   "metadata": {},
   "outputs": [],
   "source": [
    "####################\n",
    "######!!WORK!!######\n",
    "####################"
   ]
  },
  {
   "cell_type": "code",
   "execution_count": 375,
   "metadata": {},
   "outputs": [],
   "source": [
    "####################\n",
    "######!!WORK!!######\n",
    "####################"
   ]
  },
  {
   "cell_type": "code",
   "execution_count": 376,
   "metadata": {},
   "outputs": [],
   "source": [
    "df = wrangled_df[wrangled_df['username'] == 'elonmusk'].copy(deep=True)"
   ]
  },
  {
   "cell_type": "code",
   "execution_count": 377,
   "metadata": {},
   "outputs": [
    {
     "data": {
      "text/html": [
       "<div>\n",
       "<style scoped>\n",
       "    .dataframe tbody tr th:only-of-type {\n",
       "        vertical-align: middle;\n",
       "    }\n",
       "\n",
       "    .dataframe tbody tr th {\n",
       "        vertical-align: top;\n",
       "    }\n",
       "\n",
       "    .dataframe thead th {\n",
       "        text-align: right;\n",
       "    }\n",
       "</style>\n",
       "<table border=\"1\" class=\"dataframe\">\n",
       "  <thead>\n",
       "    <tr style=\"text-align: right;\">\n",
       "      <th></th>\n",
       "      <th>tweet</th>\n",
       "      <th>num_tweets</th>\n",
       "      <th>username</th>\n",
       "      <th>price</th>\n",
       "      <th>percent change</th>\n",
       "      <th>ticker</th>\n",
       "    </tr>\n",
       "    <tr>\n",
       "      <th>date</th>\n",
       "      <th></th>\n",
       "      <th></th>\n",
       "      <th></th>\n",
       "      <th></th>\n",
       "      <th></th>\n",
       "      <th></th>\n",
       "    </tr>\n",
       "  </thead>\n",
       "  <tbody>\n",
       "    <tr>\n",
       "      <th>2021-07-16 16:00:00</th>\n",
       "      <td>[@TeslaNY Do you even press?, @Teslarati Impro...</td>\n",
       "      <td>4</td>\n",
       "      <td>elonmusk</td>\n",
       "      <td>644.219971</td>\n",
       "      <td>-0.015977</td>\n",
       "      <td>TSLA</td>\n",
       "    </tr>\n",
       "    <tr>\n",
       "      <th>2021-07-17 09:30:00</th>\n",
       "      <td>[@fael097 Pure coincidence!, @ValaAfshar Even ...</td>\n",
       "      <td>9</td>\n",
       "      <td>elonmusk</td>\n",
       "      <td>0.000000</td>\n",
       "      <td>0.000000</td>\n",
       "      <td>TSLA</td>\n",
       "    </tr>\n",
       "    <tr>\n",
       "      <th>2021-07-17 16:00:00</th>\n",
       "      <td>[@SamTwits Nice,  https://t.co/d4ZOSKZESP, Tap...</td>\n",
       "      <td>12</td>\n",
       "      <td>elonmusk</td>\n",
       "      <td>0.000000</td>\n",
       "      <td>0.000000</td>\n",
       "      <td>TSLA</td>\n",
       "    </tr>\n",
       "    <tr>\n",
       "      <th>2021-07-18 09:30:00</th>\n",
       "      <td>[@ArtifactsHub And all-time hodl champion, @Ar...</td>\n",
       "      <td>6</td>\n",
       "      <td>elonmusk</td>\n",
       "      <td>0.000000</td>\n",
       "      <td>0.000000</td>\n",
       "      <td>TSLA</td>\n",
       "    </tr>\n",
       "    <tr>\n",
       "      <th>2021-07-18 16:00:00</th>\n",
       "      <td>[@thePiggsBoson Problem 1st, theory 2nd is for...</td>\n",
       "      <td>1</td>\n",
       "      <td>elonmusk</td>\n",
       "      <td>0.000000</td>\n",
       "      <td>0.000000</td>\n",
       "      <td>TSLA</td>\n",
       "    </tr>\n",
       "    <tr>\n",
       "      <th>2021-07-19 09:30:00</th>\n",
       "      <td>[@DragTimes @Tesla Nice, @grimnut @Tesla @Whol...</td>\n",
       "      <td>3</td>\n",
       "      <td>elonmusk</td>\n",
       "      <td>629.890015</td>\n",
       "      <td>-0.022244</td>\n",
       "      <td>TSLA</td>\n",
       "    </tr>\n",
       "  </tbody>\n",
       "</table>\n",
       "</div>"
      ],
      "text/plain": [
       "                                                                 tweet  \\\n",
       "date                                                                     \n",
       "2021-07-16 16:00:00  [@TeslaNY Do you even press?, @Teslarati Impro...   \n",
       "2021-07-17 09:30:00  [@fael097 Pure coincidence!, @ValaAfshar Even ...   \n",
       "2021-07-17 16:00:00  [@SamTwits Nice,  https://t.co/d4ZOSKZESP, Tap...   \n",
       "2021-07-18 09:30:00  [@ArtifactsHub And all-time hodl champion, @Ar...   \n",
       "2021-07-18 16:00:00  [@thePiggsBoson Problem 1st, theory 2nd is for...   \n",
       "2021-07-19 09:30:00  [@DragTimes @Tesla Nice, @grimnut @Tesla @Whol...   \n",
       "\n",
       "                     num_tweets  username       price  percent change ticker  \n",
       "date                                                                          \n",
       "2021-07-16 16:00:00           4  elonmusk  644.219971       -0.015977   TSLA  \n",
       "2021-07-17 09:30:00           9  elonmusk    0.000000        0.000000   TSLA  \n",
       "2021-07-17 16:00:00          12  elonmusk    0.000000        0.000000   TSLA  \n",
       "2021-07-18 09:30:00           6  elonmusk    0.000000        0.000000   TSLA  \n",
       "2021-07-18 16:00:00           1  elonmusk    0.000000        0.000000   TSLA  \n",
       "2021-07-19 09:30:00           3  elonmusk  629.890015       -0.022244   TSLA  "
      ]
     },
     "execution_count": 377,
     "metadata": {},
     "output_type": "execute_result"
    }
   ],
   "source": [
    "df.set_index('date')['2021-07-16 16:00:00': '2021-07-19 09:30:00']"
   ]
  },
  {
   "cell_type": "code",
   "execution_count": 368,
   "metadata": {},
   "outputs": [],
   "source": [
    "df = df.set_index('date')\n",
    "combined = pd.DataFrame()\n",
    "i = 0\n",
    "while i < len(df):\n",
    "    \n",
    "    # find where price is zero (saturday, sunday, or holiday)\n",
    "    if df['price'].iloc[i] == 0:\n",
    "        combined = df[['tweet', 'num_tweets']].iloc[i]\n",
    "        \n",
    "        # iterate through dataframe until next non-zero price entry\n",
    "        j = i + 1\n",
    "        while df['price'].iloc[j] == 0:\n",
    "            combined += df[['tweet', 'num_tweets']].iloc[j]\n",
    "            j += 1\n",
    "        username = df.iloc[j]['username']\n",
    "        price = df.iloc[j]['price']\n",
    "        percent_change = df.iloc[j]['percent change']\n",
    "        df.iloc[j] += combined\n",
    "        df['username'].iloc[j] = username\n",
    "        df['price'].iloc[j] = price\n",
    "        df['percent change'].iloc[j] = percent_change\n",
    "        i = j\n",
    "    i += 1\n",
    "df = df[df['price'] !=0]"
   ]
  },
  {
   "cell_type": "code",
   "execution_count": 369,
   "metadata": {},
   "outputs": [
    {
     "data": {
      "text/html": [
       "<div>\n",
       "<style scoped>\n",
       "    .dataframe tbody tr th:only-of-type {\n",
       "        vertical-align: middle;\n",
       "    }\n",
       "\n",
       "    .dataframe tbody tr th {\n",
       "        vertical-align: top;\n",
       "    }\n",
       "\n",
       "    .dataframe thead th {\n",
       "        text-align: right;\n",
       "    }\n",
       "</style>\n",
       "<table border=\"1\" class=\"dataframe\">\n",
       "  <thead>\n",
       "    <tr style=\"text-align: right;\">\n",
       "      <th></th>\n",
       "      <th>tweet</th>\n",
       "      <th>num_tweets</th>\n",
       "      <th>username</th>\n",
       "      <th>price</th>\n",
       "      <th>percent change</th>\n",
       "      <th>ticker</th>\n",
       "    </tr>\n",
       "    <tr>\n",
       "      <th>date</th>\n",
       "      <th></th>\n",
       "      <th></th>\n",
       "      <th></th>\n",
       "      <th></th>\n",
       "      <th></th>\n",
       "      <th></th>\n",
       "    </tr>\n",
       "  </thead>\n",
       "  <tbody>\n",
       "    <tr>\n",
       "      <th>2016-08-23 16:00:00</th>\n",
       "      <td>[Journalist Q&amp;amp;A for 30 mins and embargo en...</td>\n",
       "      <td>2</td>\n",
       "      <td>elonmusk</td>\n",
       "      <td>44.967999</td>\n",
       "      <td>0.002318</td>\n",
       "      <td>TSLA</td>\n",
       "    </tr>\n",
       "    <tr>\n",
       "      <th>2016-08-30 16:00:00</th>\n",
       "      <td>[Thanks for the longstanding faith in SpaceX. ...</td>\n",
       "      <td>3</td>\n",
       "      <td>elonmusk</td>\n",
       "      <td>42.268002</td>\n",
       "      <td>-0.022072</td>\n",
       "      <td>NaN</td>\n",
       "    </tr>\n",
       "    <tr>\n",
       "      <th>2016-08-31 16:00:00</th>\n",
       "      <td>[@Lockyep Not allowed, according to HK regulat...</td>\n",
       "      <td>5</td>\n",
       "      <td>elonmusk</td>\n",
       "      <td>42.402000</td>\n",
       "      <td>0.007508</td>\n",
       "      <td>TSLA</td>\n",
       "    </tr>\n",
       "    <tr>\n",
       "      <th>2016-09-01 16:00:00</th>\n",
       "      <td>[Loss of Falcon vehicle today during propellan...</td>\n",
       "      <td>1</td>\n",
       "      <td>elonmusk</td>\n",
       "      <td>40.153999</td>\n",
       "      <td>-0.039424</td>\n",
       "      <td>TSLA</td>\n",
       "    </tr>\n",
       "    <tr>\n",
       "      <th>2016-09-02 09:30:00</th>\n",
       "      <td>[Finishing Autopilot blog postponed to  end of...</td>\n",
       "      <td>2</td>\n",
       "      <td>elonmusk</td>\n",
       "      <td>40.466000</td>\n",
       "      <td>0.007770</td>\n",
       "      <td>TSLA</td>\n",
       "    </tr>\n",
       "    <tr>\n",
       "      <th>...</th>\n",
       "      <td>...</td>\n",
       "      <td>...</td>\n",
       "      <td>...</td>\n",
       "      <td>...</td>\n",
       "      <td>...</td>\n",
       "      <td>...</td>\n",
       "    </tr>\n",
       "    <tr>\n",
       "      <th>2021-07-16 09:30:00</th>\n",
       "      <td>[@AaronS5_ @FrenchieEAP @karpathy Yes, @Austin...</td>\n",
       "      <td>4</td>\n",
       "      <td>elonmusk</td>\n",
       "      <td>654.679993</td>\n",
       "      <td>0.006271</td>\n",
       "      <td>TSLA</td>\n",
       "    </tr>\n",
       "    <tr>\n",
       "      <th>2021-07-16 16:00:00</th>\n",
       "      <td>[@TeslaNY Do you even press?, @Teslarati Impro...</td>\n",
       "      <td>4</td>\n",
       "      <td>elonmusk</td>\n",
       "      <td>644.219971</td>\n",
       "      <td>-0.015977</td>\n",
       "      <td>TSLA</td>\n",
       "    </tr>\n",
       "    <tr>\n",
       "      <th>2021-07-19 09:30:00</th>\n",
       "      <td>[@DragTimes @Tesla Nice, @grimnut @Tesla @Whol...</td>\n",
       "      <td>31</td>\n",
       "      <td>elonmusk</td>\n",
       "      <td>629.890015</td>\n",
       "      <td>-0.022244</td>\n",
       "      <td>NaN</td>\n",
       "    </tr>\n",
       "    <tr>\n",
       "      <th>2021-07-19 16:00:00</th>\n",
       "      <td>[@jack @BitcoinMagazine @CathieDWood Sure, I h...</td>\n",
       "      <td>2</td>\n",
       "      <td>elonmusk</td>\n",
       "      <td>646.219971</td>\n",
       "      <td>0.025925</td>\n",
       "      <td>TSLA</td>\n",
       "    </tr>\n",
       "    <tr>\n",
       "      <th>2021-07-20 09:30:00</th>\n",
       "      <td>[@TLPN_Official @SpaceX Depending on progress ...</td>\n",
       "      <td>5</td>\n",
       "      <td>elonmusk</td>\n",
       "      <td>651.989990</td>\n",
       "      <td>0.008929</td>\n",
       "      <td>TSLA</td>\n",
       "    </tr>\n",
       "  </tbody>\n",
       "</table>\n",
       "<p>1545 rows × 6 columns</p>\n",
       "</div>"
      ],
      "text/plain": [
       "                                                                 tweet  \\\n",
       "date                                                                     \n",
       "2016-08-23 16:00:00  [Journalist Q&amp;A for 30 mins and embargo en...   \n",
       "2016-08-30 16:00:00  [Thanks for the longstanding faith in SpaceX. ...   \n",
       "2016-08-31 16:00:00  [@Lockyep Not allowed, according to HK regulat...   \n",
       "2016-09-01 16:00:00  [Loss of Falcon vehicle today during propellan...   \n",
       "2016-09-02 09:30:00  [Finishing Autopilot blog postponed to  end of...   \n",
       "...                                                                ...   \n",
       "2021-07-16 09:30:00  [@AaronS5_ @FrenchieEAP @karpathy Yes, @Austin...   \n",
       "2021-07-16 16:00:00  [@TeslaNY Do you even press?, @Teslarati Impro...   \n",
       "2021-07-19 09:30:00  [@DragTimes @Tesla Nice, @grimnut @Tesla @Whol...   \n",
       "2021-07-19 16:00:00  [@jack @BitcoinMagazine @CathieDWood Sure, I h...   \n",
       "2021-07-20 09:30:00  [@TLPN_Official @SpaceX Depending on progress ...   \n",
       "\n",
       "                     num_tweets  username       price  percent change ticker  \n",
       "date                                                                          \n",
       "2016-08-23 16:00:00           2  elonmusk   44.967999        0.002318   TSLA  \n",
       "2016-08-30 16:00:00           3  elonmusk   42.268002       -0.022072    NaN  \n",
       "2016-08-31 16:00:00           5  elonmusk   42.402000        0.007508   TSLA  \n",
       "2016-09-01 16:00:00           1  elonmusk   40.153999       -0.039424   TSLA  \n",
       "2016-09-02 09:30:00           2  elonmusk   40.466000        0.007770   TSLA  \n",
       "...                         ...       ...         ...             ...    ...  \n",
       "2021-07-16 09:30:00           4  elonmusk  654.679993        0.006271   TSLA  \n",
       "2021-07-16 16:00:00           4  elonmusk  644.219971       -0.015977   TSLA  \n",
       "2021-07-19 09:30:00          31  elonmusk  629.890015       -0.022244    NaN  \n",
       "2021-07-19 16:00:00           2  elonmusk  646.219971        0.025925   TSLA  \n",
       "2021-07-20 09:30:00           5  elonmusk  651.989990        0.008929   TSLA  \n",
       "\n",
       "[1545 rows x 6 columns]"
      ]
     },
     "execution_count": 369,
     "metadata": {},
     "output_type": "execute_result"
    }
   ],
   "source": [
    "df"
   ]
  },
  {
   "cell_type": "code",
   "execution_count": 374,
   "metadata": {},
   "outputs": [
    {
     "data": {
      "text/html": [
       "<div>\n",
       "<style scoped>\n",
       "    .dataframe tbody tr th:only-of-type {\n",
       "        vertical-align: middle;\n",
       "    }\n",
       "\n",
       "    .dataframe tbody tr th {\n",
       "        vertical-align: top;\n",
       "    }\n",
       "\n",
       "    .dataframe thead th {\n",
       "        text-align: right;\n",
       "    }\n",
       "</style>\n",
       "<table border=\"1\" class=\"dataframe\">\n",
       "  <thead>\n",
       "    <tr style=\"text-align: right;\">\n",
       "      <th></th>\n",
       "      <th>tweet</th>\n",
       "      <th>num_tweets</th>\n",
       "      <th>username</th>\n",
       "      <th>price</th>\n",
       "      <th>percent change</th>\n",
       "      <th>ticker</th>\n",
       "    </tr>\n",
       "    <tr>\n",
       "      <th>date</th>\n",
       "      <th></th>\n",
       "      <th></th>\n",
       "      <th></th>\n",
       "      <th></th>\n",
       "      <th></th>\n",
       "      <th></th>\n",
       "    </tr>\n",
       "  </thead>\n",
       "  <tbody>\n",
       "    <tr>\n",
       "      <th>2021-07-16 16:00:00</th>\n",
       "      <td>[@TeslaNY Do you even press?, @Teslarati Impro...</td>\n",
       "      <td>4</td>\n",
       "      <td>elonmusk</td>\n",
       "      <td>644.219971</td>\n",
       "      <td>-0.015977</td>\n",
       "      <td>TSLA</td>\n",
       "    </tr>\n",
       "    <tr>\n",
       "      <th>2021-07-19 09:30:00</th>\n",
       "      <td>[@DragTimes @Tesla Nice, @grimnut @Tesla @Whol...</td>\n",
       "      <td>31</td>\n",
       "      <td>elonmusk</td>\n",
       "      <td>629.890015</td>\n",
       "      <td>-0.022244</td>\n",
       "      <td>NaN</td>\n",
       "    </tr>\n",
       "  </tbody>\n",
       "</table>\n",
       "</div>"
      ],
      "text/plain": [
       "                                                                 tweet  \\\n",
       "date                                                                     \n",
       "2021-07-16 16:00:00  [@TeslaNY Do you even press?, @Teslarati Impro...   \n",
       "2021-07-19 09:30:00  [@DragTimes @Tesla Nice, @grimnut @Tesla @Whol...   \n",
       "\n",
       "                     num_tweets  username       price  percent change ticker  \n",
       "date                                                                          \n",
       "2021-07-16 16:00:00           4  elonmusk  644.219971       -0.015977   TSLA  \n",
       "2021-07-19 09:30:00          31  elonmusk  629.890015       -0.022244    NaN  "
      ]
     },
     "execution_count": 374,
     "metadata": {},
     "output_type": "execute_result"
    }
   ],
   "source": [
    "df['2021-07-16 16:00:00': '2021-07-19 09:30:00']"
   ]
  },
  {
   "cell_type": "code",
   "execution_count": 14,
   "metadata": {},
   "outputs": [],
   "source": [
    "####################\n",
    "######!!SNIP!!######\n",
    "####################\n",
    "def snip1(df):\n",
    "    df = df.set_index('date')\n",
    "    combined = pd.DataFrame()\n",
    "    i = 0\n",
    "    while i < len(df):\n",
    "        if df['price'].iloc[i] == 0:\n",
    "            combined = df.iloc[i]\n",
    "            j = i + 1\n",
    "            while df['price'].iloc[j] == 0:\n",
    "                combined += df.iloc[j]\n",
    "                j += 1\n",
    "            username = df.iloc[j]['username']\n",
    "            price = df.iloc[j]['price']\n",
    "            percent_change = df.iloc[j]['percent change']\n",
    "            df.iloc[j] += combined\n",
    "            df['username'].iloc[j] = username\n",
    "            df['price'].iloc[j] = price\n",
    "            df['percent change'].iloc[j] = percent_change\n",
    "            i = j\n",
    "        i += 1\n",
    "    df = df[df['price'] !=0]\n",
    "    return df"
   ]
  },
  {
   "cell_type": "code",
   "execution_count": 18,
   "metadata": {},
   "outputs": [
    {
     "data": {
      "text/html": [
       "<div>\n",
       "<style scoped>\n",
       "    .dataframe tbody tr th:only-of-type {\n",
       "        vertical-align: middle;\n",
       "    }\n",
       "\n",
       "    .dataframe tbody tr th {\n",
       "        vertical-align: top;\n",
       "    }\n",
       "\n",
       "    .dataframe thead th {\n",
       "        text-align: right;\n",
       "    }\n",
       "</style>\n",
       "<table border=\"1\" class=\"dataframe\">\n",
       "  <thead>\n",
       "    <tr style=\"text-align: right;\">\n",
       "      <th></th>\n",
       "      <th>date</th>\n",
       "      <th>tweet</th>\n",
       "      <th>num_tweets</th>\n",
       "      <th>username</th>\n",
       "      <th>price</th>\n",
       "      <th>percent change</th>\n",
       "      <th>ticker</th>\n",
       "    </tr>\n",
       "  </thead>\n",
       "  <tbody>\n",
       "    <tr>\n",
       "      <th>22</th>\n",
       "      <td>2016-08-23 16:00:00</td>\n",
       "      <td>[Journalist Q&amp;amp;A for 30 mins and embargo en...</td>\n",
       "      <td>2</td>\n",
       "      <td>elonmusk</td>\n",
       "      <td>44.967999</td>\n",
       "      <td>0.002318</td>\n",
       "      <td>TSLA</td>\n",
       "    </tr>\n",
       "    <tr>\n",
       "      <th>23</th>\n",
       "      <td>2016-08-28 09:30:00</td>\n",
       "      <td>[@Kotaku one of my favorite games as a kid, @B...</td>\n",
       "      <td>2</td>\n",
       "      <td>elonmusk</td>\n",
       "      <td>44.162666</td>\n",
       "      <td>0.011081</td>\n",
       "      <td>TSLA</td>\n",
       "    </tr>\n",
       "    <tr>\n",
       "      <th>24</th>\n",
       "      <td>2016-08-30 16:00:00</td>\n",
       "      <td>[Thanks for the longstanding faith in SpaceX. ...</td>\n",
       "      <td>1</td>\n",
       "      <td>elonmusk</td>\n",
       "      <td>42.268002</td>\n",
       "      <td>-0.022072</td>\n",
       "      <td>TSLA</td>\n",
       "    </tr>\n",
       "    <tr>\n",
       "      <th>25</th>\n",
       "      <td>2016-08-31 16:00:00</td>\n",
       "      <td>[@Lockyep Not allowed, according to HK regulat...</td>\n",
       "      <td>5</td>\n",
       "      <td>elonmusk</td>\n",
       "      <td>42.402000</td>\n",
       "      <td>0.007508</td>\n",
       "      <td>TSLA</td>\n",
       "    </tr>\n",
       "    <tr>\n",
       "      <th>26</th>\n",
       "      <td>2016-09-01 16:00:00</td>\n",
       "      <td>[Loss of Falcon vehicle today during propellan...</td>\n",
       "      <td>1</td>\n",
       "      <td>elonmusk</td>\n",
       "      <td>40.153999</td>\n",
       "      <td>-0.039424</td>\n",
       "      <td>TSLA</td>\n",
       "    </tr>\n",
       "    <tr>\n",
       "      <th>...</th>\n",
       "      <td>...</td>\n",
       "      <td>...</td>\n",
       "      <td>...</td>\n",
       "      <td>...</td>\n",
       "      <td>...</td>\n",
       "      <td>...</td>\n",
       "      <td>...</td>\n",
       "    </tr>\n",
       "    <tr>\n",
       "      <th>2194</th>\n",
       "      <td>2021-07-18 09:30:00</td>\n",
       "      <td>[@ArtifactsHub And all-time hodl champion, @Ar...</td>\n",
       "      <td>6</td>\n",
       "      <td>elonmusk</td>\n",
       "      <td>638.153341</td>\n",
       "      <td>-0.010441</td>\n",
       "      <td>TSLA</td>\n",
       "    </tr>\n",
       "    <tr>\n",
       "      <th>2195</th>\n",
       "      <td>2021-07-18 16:00:00</td>\n",
       "      <td>[@thePiggsBoson Problem 1st, theory 2nd is for...</td>\n",
       "      <td>1</td>\n",
       "      <td>elonmusk</td>\n",
       "      <td>645.553304</td>\n",
       "      <td>0.011596</td>\n",
       "      <td>TSLA</td>\n",
       "    </tr>\n",
       "    <tr>\n",
       "      <th>2196</th>\n",
       "      <td>2021-07-19 09:30:00</td>\n",
       "      <td>[@DragTimes @Tesla Nice, @grimnut @Tesla @Whol...</td>\n",
       "      <td>3</td>\n",
       "      <td>elonmusk</td>\n",
       "      <td>629.890015</td>\n",
       "      <td>-0.024263</td>\n",
       "      <td>TSLA</td>\n",
       "    </tr>\n",
       "    <tr>\n",
       "      <th>2197</th>\n",
       "      <td>2021-07-19 16:00:00</td>\n",
       "      <td>[@jack @BitcoinMagazine @CathieDWood Sure, I h...</td>\n",
       "      <td>2</td>\n",
       "      <td>elonmusk</td>\n",
       "      <td>646.219971</td>\n",
       "      <td>0.025925</td>\n",
       "      <td>TSLA</td>\n",
       "    </tr>\n",
       "    <tr>\n",
       "      <th>2198</th>\n",
       "      <td>2021-07-20 09:30:00</td>\n",
       "      <td>[@TLPN_Official @SpaceX Depending on progress ...</td>\n",
       "      <td>5</td>\n",
       "      <td>elonmusk</td>\n",
       "      <td>651.989990</td>\n",
       "      <td>0.008929</td>\n",
       "      <td>TSLA</td>\n",
       "    </tr>\n",
       "  </tbody>\n",
       "</table>\n",
       "<p>2177 rows × 7 columns</p>\n",
       "</div>"
      ],
      "text/plain": [
       "                    date                                              tweet  \\\n",
       "22   2016-08-23 16:00:00  [Journalist Q&amp;A for 30 mins and embargo en...   \n",
       "23   2016-08-28 09:30:00  [@Kotaku one of my favorite games as a kid, @B...   \n",
       "24   2016-08-30 16:00:00  [Thanks for the longstanding faith in SpaceX. ...   \n",
       "25   2016-08-31 16:00:00  [@Lockyep Not allowed, according to HK regulat...   \n",
       "26   2016-09-01 16:00:00  [Loss of Falcon vehicle today during propellan...   \n",
       "...                  ...                                                ...   \n",
       "2194 2021-07-18 09:30:00  [@ArtifactsHub And all-time hodl champion, @Ar...   \n",
       "2195 2021-07-18 16:00:00  [@thePiggsBoson Problem 1st, theory 2nd is for...   \n",
       "2196 2021-07-19 09:30:00  [@DragTimes @Tesla Nice, @grimnut @Tesla @Whol...   \n",
       "2197 2021-07-19 16:00:00  [@jack @BitcoinMagazine @CathieDWood Sure, I h...   \n",
       "2198 2021-07-20 09:30:00  [@TLPN_Official @SpaceX Depending on progress ...   \n",
       "\n",
       "      num_tweets  username       price  percent change ticker  \n",
       "22             2  elonmusk   44.967999        0.002318   TSLA  \n",
       "23             2  elonmusk   44.162666        0.011081   TSLA  \n",
       "24             1  elonmusk   42.268002       -0.022072   TSLA  \n",
       "25             5  elonmusk   42.402000        0.007508   TSLA  \n",
       "26             1  elonmusk   40.153999       -0.039424   TSLA  \n",
       "...          ...       ...         ...             ...    ...  \n",
       "2194           6  elonmusk  638.153341       -0.010441   TSLA  \n",
       "2195           1  elonmusk  645.553304        0.011596   TSLA  \n",
       "2196           3  elonmusk  629.890015       -0.024263   TSLA  \n",
       "2197           2  elonmusk  646.219971        0.025925   TSLA  \n",
       "2198           5  elonmusk  651.989990        0.008929   TSLA  \n",
       "\n",
       "[2177 rows x 7 columns]"
      ]
     },
     "execution_count": 18,
     "metadata": {},
     "output_type": "execute_result"
    }
   ],
   "source": [
    "df = wrangled_df[wrangled_df['username'] == 'elonmusk']\n",
    "df"
   ]
  },
  {
   "cell_type": "code",
   "execution_count": 19,
   "metadata": {},
   "outputs": [],
   "source": [
    "test = snip1(df)"
   ]
  },
  {
   "cell_type": "code",
   "execution_count": 25,
   "metadata": {},
   "outputs": [
    {
     "data": {
      "text/plain": [
       "date\n",
       "2016-08-23 16:00:00    2\n",
       "2016-08-28 09:30:00    2\n",
       "2016-08-30 16:00:00    1\n",
       "2016-08-31 16:00:00    5\n",
       "2016-09-01 16:00:00    1\n",
       "                      ..\n",
       "2021-07-18 09:30:00    6\n",
       "2021-07-18 16:00:00    1\n",
       "2021-07-19 09:30:00    3\n",
       "2021-07-19 16:00:00    2\n",
       "2021-07-20 09:30:00    5\n",
       "Name: num_tweets, Length: 2177, dtype: int64"
      ]
     },
     "execution_count": 25,
     "metadata": {},
     "output_type": "execute_result"
    }
   ],
   "source": [
    "test['num_tweets'] "
   ]
  },
  {
   "cell_type": "code",
   "execution_count": null,
   "metadata": {},
   "outputs": [],
   "source": [
    "####################\n",
    "######!!REST!!######\n",
    "####################"
   ]
  },
  {
   "cell_type": "code",
   "execution_count": null,
   "metadata": {},
   "outputs": [],
   "source": [
    "####################\n",
    "######!!FULL!!######\n",
    "####################\n",
    "\n",
    "def fix_closed_market_tweets(test):\n",
    "    test = test.dropna()\n",
    "    test.reset_index(inplace=True, drop=True)\n",
    "    test = test.set_index('date')\n",
    "    for i in range(len(test)):\n",
    "        test['tweet'].iloc[i] += \" \"\n",
    "\n",
    "    i = 0\n",
    "    combined=pd.DataFrame()\n",
    "\n",
    "    while i < len(test):\n",
    "        if test['price'].iloc[i] == 0:\n",
    "            combined = test.iloc[i]\n",
    "            j = i + 1\n",
    "            while test['price'].iloc[j] == 0:\n",
    "                combined += test.iloc[j]\n",
    "                j += 1\n",
    "            username = test.iloc[j]['username']\n",
    "            price = test.iloc[j]['price']\n",
    "            percent_change = test.iloc[j]['percent change']\n",
    "            test.iloc[j] += combined\n",
    "            test['username'].iloc[j] = username\n",
    "            test['price'].iloc[j] = price\n",
    "            test['percent change'].iloc[j] = percent_change\n",
    "            i = j\n",
    "        i += 1\n",
    "    test = test[test['price'] !=0]\n",
    "    return test"
   ]
  },
  {
   "cell_type": "code",
   "execution_count": null,
   "metadata": {},
   "outputs": [],
   "source": [
    "####################\n",
    "######!!WORK!!######\n",
    "####################"
   ]
  },
  {
   "cell_type": "code",
   "execution_count": null,
   "metadata": {},
   "outputs": [],
   "source": [
    "####################\n",
    "######!!WORK!!######\n",
    "####################"
   ]
  },
  {
   "cell_type": "code",
   "execution_count": null,
   "metadata": {},
   "outputs": [],
   "source": [
    "####################\n",
    "######!!WORK!!######\n",
    "####################"
   ]
  },
  {
   "cell_type": "code",
   "execution_count": null,
   "metadata": {},
   "outputs": [],
   "source": [
    "####################\n",
    "######!!WORK!!######\n",
    "####################"
   ]
  },
  {
   "cell_type": "code",
   "execution_count": null,
   "metadata": {},
   "outputs": [],
   "source": [
    "####################\n",
    "######!!WORK!!######\n",
    "####################"
   ]
  },
  {
   "cell_type": "code",
   "execution_count": null,
   "metadata": {},
   "outputs": [],
   "source": [
    "####################\n",
    "######!!WORK!!######\n",
    "####################"
   ]
  },
  {
   "cell_type": "code",
   "execution_count": null,
   "metadata": {},
   "outputs": [],
   "source": []
  },
  {
   "cell_type": "code",
   "execution_count": null,
   "metadata": {},
   "outputs": [],
   "source": []
  },
  {
   "cell_type": "code",
   "execution_count": null,
   "metadata": {},
   "outputs": [],
   "source": []
  },
  {
   "cell_type": "code",
   "execution_count": 166,
   "metadata": {},
   "outputs": [],
   "source": [
    "wrangled_df = wrangled_df.set_index('date')"
   ]
  },
  {
   "cell_type": "code",
   "execution_count": 167,
   "metadata": {},
   "outputs": [
    {
     "data": {
      "text/plain": [
       "Index(['tweet', 'num_tweets', 'username', 'price', 'percent change', 'ticker'], dtype='object')"
      ]
     },
     "execution_count": 167,
     "metadata": {},
     "output_type": "execute_result"
    }
   ],
   "source": [
    "wrangled_df.columns"
   ]
  },
  {
   "cell_type": "code",
   "execution_count": 168,
   "metadata": {},
   "outputs": [
    {
     "data": {
      "text/plain": [
       "<AxesSubplot:xlabel='date'>"
      ]
     },
     "execution_count": 168,
     "metadata": {},
     "output_type": "execute_result"
    },
    {
     "data": {
      "image/png": "[encoded data removed]",
      "text/plain": [
       "<Figure size 432x288 with 1 Axes>"
      ]
     },
     "metadata": {},
     "output_type": "display_data"
    }
   ],
   "source": [
    "wrangled_df[wrangled_df['username'] == 'elonmusk']['num_tweets'].plot()"
   ]
  },
  {
   "cell_type": "markdown",
   "metadata": {},
   "source": [
    "# Text Analysis/Cleaning/and Preprocessing"
   ]
  },
  {
   "cell_type": "code",
   "execution_count": 25,
   "metadata": {
    "scrolled": false
   },
   "outputs": [],
   "source": [
    "from gensim.models.coherencemodel import CoherenceModel\n",
    "from gensim.models import Nmf\n",
    "from gensim.corpora import Dictionary\n",
    "\n",
    "# Corpus\n",
    "tweet_corpus = list(ceos['tweet'].values)\n",
    "\n",
    "# tokenize\n",
    "texts = [[text for text in doc.split()] for doc in tweet_corpus]\n",
    "\n",
    "# Dictionary\n",
    "dictionary = Dictionary(texts)"
   ]
  },
  {
   "cell_type": "code",
   "execution_count": null,
   "metadata": {},
   "outputs": [],
   "source": []
  },
  {
   "cell_type": "code",
   "execution_count": null,
   "metadata": {},
   "outputs": [],
   "source": []
  },
  {
   "cell_type": "code",
   "execution_count": null,
   "metadata": {},
   "outputs": [],
   "source": []
  },
  {
   "cell_type": "code",
   "execution_count": 85,
   "metadata": {},
   "outputs": [],
   "source": [
    "# regex patterns\n",
    "import re\n",
    "import html \n",
    "import demoji\n",
    "from collections import Counter\n",
    "import spacy\n",
    "nlp = spacy.load('en_core_web_sm')\n",
    "from spacy.lang.en.stop_words import STOP_WORDS\n",
    "from nltk.stem import WordNetLemmatizer\n",
    "from nltk.stem import PorterStemmer\n",
    "import contractions\n",
    "\n",
    "demoji.download_codes()\n",
    "EMAIL_PATTERN = r'[A-Za-z0-9]+[@]+[^\\s]+'\n",
    "MENTION_PATTERN = r'[@]+[^\\s]+'\n",
    "HASHTAG_PATTERN = r'[#]\\S+'\n",
    "LINK_PATTERN = r'https?:\\S+'\n",
    "CASHTAG_PATTERN = r'[$][A-Z]+'\n",
    "EMOJIS_PATTERN = r'((:\\))|(;\\)))'\n",
    "\n",
    "stop_words = []\n",
    "\n",
    "STOP_WORDS = STOP_WORDS.union(set(['s', 'it', 'm', 'you', 're', 'it ', ' s', 's ', 'i', 't', 'week', 'month', 'year', 'day']))\n",
    "\n",
    "def engineer_tweet_features(wrangled_df, method='count'):\n",
    "    \"\"\"\n",
    "    Takes in raw tweet and extracts mentions, hashtags, links,\n",
    "    (currently only counts, will look into scikit learn before implementing my own code for future transformations)\n",
    "    \"\"\"\n",
    "    \n",
    "    \n",
    "    wrangled_df[['emails', 'links', 'mentions', 'hashtags', 'emojis']] = 0\n",
    "    features_df = wrangled_df[['emails', 'links', 'mentions', 'hashtags', 'emojis']] \n",
    "    features_df['emails'] = wrangled_df['tweet'].apply(lambda x: re.findall(EMAIL_PATTERN, x)).apply(lambda x: len(x))\n",
    "    features_df['links'] = wrangled_df['tweet'].apply(lambda x: re.findall(LINK_PATTERN, x)).apply(lambda x: len(x))\n",
    "    features_df['mentions'] = wrangled_df['tweet'].apply(lambda x: re.findall(MENTION_PATTERN, x)).apply(lambda x: len(x))\n",
    "    features_df['hashtags'] = wrangled_df['tweet'].apply(lambda x: re.findall(HASHTAG_PATTERN, x)).apply(lambda x: len(x))\n",
    "    features_df['emojis'] = wrangled_df['tweet'].apply(lambda x: demoji.findall_list(x)).apply(lambda x: len(x))\n",
    "    return features_df\n",
    "\n",
    "import numpy as np\n",
    "import multiprocessing as mp\n",
    "\n",
    "import string\n",
    "import spacy \n",
    "import en_core_web_sm\n",
    "from nltk.tokenize import word_tokenize\n",
    "from sklearn.base import TransformerMixin, BaseEstimator\n",
    "import normalize\n",
    "\n",
    "\n",
    "class TextPreprocessor(BaseEstimator, TransformerMixin):\n",
    "    def __init__(self,\n",
    "                 variety=\"BrE\",\n",
    "                 user_abbrevs={},\n",
    "                 n_jobs=1):\n",
    "        \"\"\"\n",
    "        Text preprocessing transformer includes steps:\n",
    "            1. Text normalization\n",
    "            2. Punctuation removal\n",
    "            3. Stop words removal\n",
    "            4. Lemmatization\n",
    "        \n",
    "        variety - format of date (AmE - american type, BrE - british format) \n",
    "        user_abbrevs - dict of user abbreviations mappings (from normalise package)\n",
    "        n_jobs - parallel jobs to run\n",
    "        \"\"\"\n",
    "        self.username = userna,e\n",
    "        self.user_abbrevs = user_abbrevs\n",
    "        self.n_jobs = n_jobs\n",
    "\n",
    "    def fit(self, X, y=None):\n",
    "        return self\n",
    "\n",
    "    def transform(self, X, *_):\n",
    "        X_copy = X.copy()\n",
    "\n",
    "        partitions = 1\n",
    "        cores = mp.cpu_count()\n",
    "        if self.n_jobs <= -1:\n",
    "            partitions = cores\n",
    "        elif self.n_jobs <= 0:\n",
    "            return X_copy.apply(self._preprocess_text)\n",
    "        else:\n",
    "            partitions = min(self.n_jobs, cores)\n",
    "\n",
    "        data_split = np.array_split(X_copy, partitions)\n",
    "        pool = mp.Pool(cores)\n",
    "        data = pd.concat(pool.map(self._preprocess_part, data_split))\n",
    "        pool.close()\n",
    "        pool.join()\n",
    "\n",
    "        return data\n",
    "\n",
    "    def _preprocess_part(self, part):\n",
    "        return part.apply(self._preprocess_text)\n",
    "\n",
    "    def _preprocess_text(self, text):\n",
    "        normalized_text = self._normalize(text)\n",
    "        doc = nlp(normalized_text)\n",
    "        removed_punct = self._remove_punct(doc)\n",
    "        removed_stop_words = self._remove_stop_words(removed_punct)\n",
    "        return self._lemmatize(removed_stop_words)\n",
    "\n",
    "    def _normalize(self, text):\n",
    "        # some issues in normalise package\n",
    "        try:\n",
    "            return ' '.join(normalise(text, variety=self.variety, user_abbrevs=self.user_abbrevs, verbose=False))\n",
    "        except:\n",
    "            return text\n",
    "\n",
    "    def _remove_punct(self, doc):\n",
    "        return [t for t in doc if t.text not in string.punctuation]\n",
    "\n",
    "    def _remove_stop_words(self, doc):\n",
    "        return [t for t in doc if not t.is_stop]\n",
    "\n",
    "    def _lemmatize(self, doc):\n",
    "        return ' '.join([t.lemma_ for t in doc])\n",
    "\n",
    "def clean_text(sample_tweets, stop_words=None):\n",
    "    \"\"\"\n",
    "    add normalize, do some exploring to see if any abbreviations need to be used\n",
    "    https://towardsdatascience.com/text-preprocessing-steps-and-universal-pipeline-94233cb6725a\n",
    "    \"\"\"\n",
    "    new_sample_tweets = html.unescape(sample_tweets)\n",
    "    new_sample_tweets = ' '.join(re.sub(EMAIL_PATTERN, ' ', new_sample_tweets).split())\n",
    "    new_sample_tweets = ' '.join(re.sub(MENTION_PATTERN, ' ', new_sample_tweets).split())\n",
    "    new_sample_tweets = ' '.join(re.sub(HASHTAG_PATTERN, ' ', new_sample_tweets).split())\n",
    "    new_sample_tweets = ' '.join(re.sub(CASHTAG_PATTERN, ' ', new_sample_tweets).split())\n",
    "    new_sample_tweets = ' '.join(re.sub(LINK_PATTERN, ' ', new_sample_tweets).split())\n",
    "    new_sample_tweets = ' '.join(re.sub(r'(w/)', 'with ', new_sample_tweets).split())\n",
    "    new_sample_tweets = demoji.replace(new_sample_tweets, repl=' ')\n",
    "    new_sample_tweets = ' '.join(re.sub(r'((:\\)))', 'smiling face', new_sample_tweets).split())\n",
    "    new_sample_tweets = ' '.join(re.sub(r'((;\\)))', 'winking face', new_sample_tweets).split())\n",
    "    new_sample_tweets = new_sample_tweets.lower()\n",
    "    new_sample_tweets = new_sample_tweets.replace('/', '')\n",
    "    new_sample_tweets = new_sample_tweets.replace('\\\\', '')\n",
    "    new_sample_tweets = ' '.join([contractions.fix(word) for word in new_sample_tweets.split()])\n",
    "    new_sample_tweets = ' '.join(re.sub(r'[^a-z]', ' ', new_sample_tweets).split())\n",
    "    new_sample_tweets = PorterStemmer().stem(new_sample_tweets) #\n",
    "    new_sample_tweets = ' '.join([word for word in new_sample_tweets.split() if len(word) >2 ])\n",
    "    if stop_words !=None:\n",
    "        new_sample_tweets = ' '.join([word for word in new_sample_tweets.split() if word not in stop_words]) # Go through this\n",
    "    return new_sample_tweets\n",
    "\n"
   ]
  },
  {
   "cell_type": "code",
   "execution_count": 86,
   "metadata": {
    "scrolled": true
   },
   "outputs": [
    {
     "name": "stdout",
     "output_type": "stream",
     "text": [
      "CPU times: user 1min 12s, sys: 1.68 s, total: 1min 14s\n",
      "Wall time: 1min 40s\n"
     ]
    }
   ],
   "source": [
    "%%time\n",
    "\n",
    "# clean up and add counts of twitter tags\n",
    "wrangled_df['cleaned'] = wrangled_df['tweet']\n",
    "wrangled_df['cleaned'] = wrangled_df['tweet'].apply(lambda x: clean_text(x))\n",
    "wrangled_df[['emails', 'links', 'mentions', 'hashtags', 'emojis']] = engineer_tweet_features(wrangled_df)"
   ]
  },
  {
   "cell_type": "code",
   "execution_count": 29,
   "metadata": {},
   "outputs": [],
   "source": [
    "# make some data to play with\n",
    "X, y = wrangled_df[['emails', 'links', 'mentions', 'hashtags', 'emojis']], wrangled_df['percent change']\n",
    "X_train, X_test, y_train, y_test = train_test_split(X, y, test_size=0.2, random_state=0)"
   ]
  },
  {
   "cell_type": "markdown",
   "metadata": {},
   "source": [
    "## Word2Vec\n",
    "\n",
    "In this exercise you will create a Word2Vec model using Keras.\n",
    "\n",
    "The corpus used to pre-train the model is the script of all episodes of the The Big Bang Theory TV show, divided sentence by sentence. It is available in the variable bigbang.\n",
    "\n",
    "The text on the corpus was transformed to lower case and all words were tokenized. The result is stored in the tokenized_corpus variable.\n",
    "\n",
    "A Word2Vec model was pre-trained using a window size of 10 words for context (5 before and 5 after the center word), words with less than 3 occurrences were removed and the skip gram model method was used with 50 dimension. The model is saved on the file bigbang_word2vec.model.\n",
    "\n",
    "The class Word2Vec is already loaded in the environment from gensim.models.word2vec."
   ]
  },
  {
   "cell_type": "code",
   "execution_count": null,
   "metadata": {},
   "outputs": [],
   "source": [
    "from gensim.models import word2vec\n",
    "\n",
    "# Train the model\n",
    "w2v_model = word2vec.Word2Vec(tokenized_corpus, size=embedding_dim, window=neighbor_words_num, iter=100)\n",
    "\n",
    "# Get top 3 similar words to 'captain'\n",
    "w2v_model.wv.most_similar(['captain'], topn=3)"
   ]
  },
  {
   "cell_type": "markdown",
   "metadata": {},
   "source": [
    "## FastText"
   ]
  },
  {
   "cell_type": "code",
   "execution_count": null,
   "metadata": {},
   "outputs": [],
   "source": [
    "from gensim.models import fasttext\n",
    "\n",
    "# instatiate the model\n",
    "ft_model = fasttext.FastText(size=embedding_dim, window=neighbor_words_num)\n",
    "\n",
    "# Build vocabulary\n",
    "ft_model.build_vocab(sentences=tokenized_corpus)\n",
    "\n",
    "# train the model\n",
    "ft_model.train(sentences=tokenized_corpus, total_examples=len(tokenized_corpus), epochs=100)"
   ]
  },
  {
   "cell_type": "code",
   "execution_count": null,
   "metadata": {},
   "outputs": [],
   "source": []
  },
  {
   "cell_type": "code",
   "execution_count": 45,
   "metadata": {},
   "outputs": [],
   "source": [
    "wrangled_df['target'] = wrangled_df['percent change'].apply(lambda x: 1 if x >= 0.005 else 0)"
   ]
  },
  {
   "cell_type": "code",
   "execution_count": 46,
   "metadata": {},
   "outputs": [
    {
     "data": {
      "text/plain": [
       "0    9238\n",
       "1    2559\n",
       "Name: target, dtype: int64"
      ]
     },
     "execution_count": 46,
     "metadata": {},
     "output_type": "execute_result"
    }
   ],
   "source": [
    "wrangled_df['target'].value_counts()"
   ]
  },
  {
   "cell_type": "markdown",
   "metadata": {},
   "source": [
    "# XGBoost"
   ]
  },
  {
   "cell_type": "code",
   "execution_count": 48,
   "metadata": {},
   "outputs": [],
   "source": [
    "import xgboost as xgb\n",
    "X, y = X, y = wrangled_df[['emails', 'links', 'mentions', 'hashtags', 'emojis']], wrangled_df['target']\n",
    "X_train, X_test, y_train, y_test = train_test_split(X, y, test_size=0.2, random_state=0, stratify=y)"
   ]
  },
  {
   "cell_type": "code",
   "execution_count": 61,
   "metadata": {},
   "outputs": [
    {
     "name": "stdout",
     "output_type": "stream",
     "text": [
      "   train-auc-mean  train-auc-std  test-auc-mean  test-auc-std\n",
      "0        0.592141       0.005504       0.575732      0.002577\n",
      "1        0.600751       0.007511       0.580254      0.007691\n",
      "2        0.613030       0.005498       0.585576      0.008279\n",
      "3        0.614671       0.005419       0.582568      0.005032\n",
      "4        0.616571       0.005108       0.584612      0.006766\n",
      "CPU times: user 124 ms, sys: 14.6 ms, total: 139 ms\n",
      "Wall time: 1.86 s\n"
     ]
    }
   ],
   "source": [
    "%%time\n",
    "\n",
    "train_dmatrix = xgb.DMatrix(data=X_train, label=y_train)\n",
    "params = {'objective':'reg:logistic', 'max_depth':3}\n",
    "\n",
    "# num_boost_round = number of trees to build\n",
    "cv_results = xgb.cv(dtrain=train_dmatrix, params=params, nfold=3, num_boost_round=5, metrics='auc', as_pandas=True, seed=0)\n",
    "#print(cv_results)\n",
    "#cv_results['accuracy'] = 1 - cv_results['test-error-mean']\n",
    "print(cv_results)"
   ]
  },
  {
   "cell_type": "code",
   "execution_count": 55,
   "metadata": {},
   "outputs": [
    {
     "name": "stdout",
     "output_type": "stream",
     "text": [
      "0.49864718614718617\n",
      "[[1843    5]\n",
      " [ 512    0]]\n"
     ]
    }
   ],
   "source": [
    "%%time\n",
    "\n",
    "xg_cl = xgb.XGBClassifier(objective='binary:logistic', n_estimators=10, seed=0)\n",
    "xg_cl.fit(X_train, y_train)\n",
    "y_pred = xg_cl.predict(X_test)\n",
    "\n",
    "from sklearn.metrics import roc_auc_score, confusion_matrix\n",
    "print(roc_auc_score(y_test, y_pred))\n",
    "print(confusion_matrix(y_test, y_pred))"
   ]
  },
  {
   "cell_type": "code",
   "execution_count": 84,
   "metadata": {},
   "outputs": [],
   "source": [
    "# Do NMF\n",
    "from sklearn.feature_extraction.text import TfidfVectorizer\n",
    "from sklearn.decomposition import NMF\n",
    "\n",
    "# https://towardsdatascience.com/topic-modeling-articles-with-nmf-8c6b2a227a45\n",
    "\n",
    "nmf = NMF(n_components=20, random_state=0, init='nndsvd')\n",
    "vect = TfidfVectorizer(min_df = 3, max_df = 0.85)\n",
    "csr_matrix = vect.fit_transform(wrangled_df['cleaned'])\n",
    "factors = nmf.fit_transform(csr_matrix)\n"
   ]
  },
  {
   "cell_type": "code",
   "execution_count": 85,
   "metadata": {},
   "outputs": [
    {
     "data": {
      "text/plain": [
       "10242"
      ]
     },
     "execution_count": 85,
     "metadata": {},
     "output_type": "execute_result"
    }
   ],
   "source": [
    "len(vect.get_feature_names())"
   ]
  },
  {
   "cell_type": "code",
   "execution_count": 86,
   "metadata": {},
   "outputs": [],
   "source": [
    "topics = pd.DataFrame(nmf.components_, columns=vect.get_feature_names())"
   ]
  },
  {
   "cell_type": "code",
   "execution_count": 87,
   "metadata": {
    "scrolled": true
   },
   "outputs": [
    {
     "data": {
      "text/plain": [
       "3     65.588279\n",
       "14    63.998729\n",
       "9     37.727167\n",
       "15    36.803168\n",
       "0     35.150401\n",
       "13    33.912393\n",
       "5     31.238873\n",
       "8     31.027398\n",
       "17    26.503978\n",
       "10    25.275397\n",
       "12    24.661935\n",
       "4     23.283768\n",
       "19    21.878420\n",
       "1     20.475386\n",
       "7     17.987849\n",
       "16    16.856223\n",
       "11    16.042645\n",
       "6     13.021920\n",
       "2     10.086956\n",
       "18     6.368625\n",
       "dtype: float64"
      ]
     },
     "execution_count": 87,
     "metadata": {},
     "output_type": "execute_result"
    }
   ],
   "source": [
    "topics.sum(axis=1).sort_values(ascending=False)"
   ]
  },
  {
   "cell_type": "code",
   "execution_count": 93,
   "metadata": {
    "scrolled": true
   },
   "outputs": [
    {
     "data": {
      "text/plain": [
       "tesla         1.363440\n",
       "yes           0.722400\n",
       "but           0.464052\n",
       "car           0.450761\n",
       "model         0.400234\n",
       "haha          0.390790\n",
       "production    0.301104\n",
       "cars          0.284971\n",
       "than          0.269163\n",
       "next          0.263617\n",
       "Name: 3, dtype: float64"
      ]
     },
     "execution_count": 93,
     "metadata": {},
     "output_type": "execute_result"
    }
   ],
   "source": [
    "topics.iloc[3].sort_values(ascending=False)[:10]"
   ]
  },
  {
   "cell_type": "code",
   "execution_count": null,
   "metadata": {},
   "outputs": [],
   "source": []
  },
  {
   "cell_type": "code",
   "execution_count": null,
   "metadata": {},
   "outputs": [],
   "source": []
  },
  {
   "cell_type": "code",
   "execution_count": 57,
   "metadata": {},
   "outputs": [
    {
     "name": "stdout",
     "output_type": "stream",
     "text": [
      "75\n",
      "CPU times: user 12min 42s, sys: 1min, total: 13min 42s\n",
      "Wall time: 13min 56s\n"
     ]
    }
   ],
   "source": [
    "%%time\n",
    "\n",
    "#https://towardsdatascience.com/topic-modeling-articles-with-nmf-8c6b2a227a45\n",
    "\n",
    "from gensim.models.coherencemodel import CoherenceModel\n",
    "from gensim.models import Nmf\n",
    "from gensim.corpora import Dictionary\n",
    "\n",
    "# Corpus\n",
    "tweet_corpus = list(ceos['tweet'].values)\n",
    "\n",
    "# tokenize\n",
    "texts = [[text for text in doc.split()] for doc in tweet_corpus]\n",
    "\n",
    "# Dictionary\n",
    "dictionary = Dictionary(texts)\n",
    "# Use Gensim's NMF to get the best num of topics via coherence score\n",
    "\n",
    "# Create a dictionary\n",
    "\n",
    "# Filter out extremes to limit the number of features\n",
    "dictionary.filter_extremes(\n",
    "    no_below=3,\n",
    "    no_above=0.85,\n",
    "    keep_n=5000\n",
    ")\n",
    "\n",
    "# Create the bag-of-words format (list of (token_id, token_count))\n",
    "corpus = [dictionary.doc2bow(text) for text in texts]\n",
    "\n",
    "# Create a list of the topic numbers we want to try\n",
    "topic_nums = list(np.arange(5, 75 + 1, 5))\n",
    "\n",
    "# Run the nmf model and calculate the coherence score\n",
    "# for each number of topics\n",
    "coherence_scores = []\n",
    "\n",
    "for num in topic_nums:\n",
    "    nmf = Nmf(\n",
    "        corpus=corpus,\n",
    "        num_topics=num,\n",
    "        id2word=dictionary,\n",
    "        chunksize=2000,\n",
    "        passes=5,\n",
    "        kappa=.1,\n",
    "        minimum_probability=0.01,\n",
    "        w_max_iter=300,\n",
    "        w_stop_condition=0.0001,\n",
    "        h_max_iter=100,\n",
    "        h_stop_condition=0.001,\n",
    "        eval_every=10,\n",
    "        normalize=True,\n",
    "        random_state=42\n",
    "    )\n",
    "    \n",
    "    # Run the coherence model to get the score\n",
    "    cm = CoherenceModel(\n",
    "        model=nmf,\n",
    "        texts=texts,\n",
    "        dictionary=dictionary,\n",
    "        coherence='c_v'\n",
    "    )\n",
    "    \n",
    "    coherence_scores.append(round(cm.get_coherence(), 5))\n",
    "\n",
    "# Get the number of topics with the highest coherence score\n",
    "scores = list(zip(topic_nums, coherence_scores))\n",
    "best_num_topics = sorted(scores, reverse=True)[0][0]\n",
    "\n",
    "print(best_num_topics)"
   ]
  },
  {
   "cell_type": "code",
   "execution_count": 56,
   "metadata": {},
   "outputs": [
    {
     "name": "stdout",
     "output_type": "stream",
     "text": [
      "75\n"
     ]
    }
   ],
   "source": [
    "scores = list(zip(topic_nums, coherence_scores))\n",
    "best_num_topics = sorted(scores, reverse=True)[0][0]\n",
    "\n",
    "print(best_num_topics)"
   ]
  },
  {
   "cell_type": "code",
   "execution_count": 55,
   "metadata": {},
   "outputs": [
    {
     "data": {
      "text/plain": [
       "[(5, 0.54752),\n",
       " (10, 0.51356),\n",
       " (15, 0.52321),\n",
       " (20, 0.52289),\n",
       " (25, 0.50343),\n",
       " (30, 0.50165),\n",
       " (35, 0.48579),\n",
       " (40, 0.47474),\n",
       " (45, 0.46916),\n",
       " (50, 0.46047),\n",
       " (55, 0.44977),\n",
       " (60, 0.45063),\n",
       " (65, 0.43021),\n",
       " (70, 0.42988),\n",
       " (75, 0.42049)]"
      ]
     },
     "execution_count": 55,
     "metadata": {},
     "output_type": "execute_result"
    }
   ],
   "source": [
    "scores"
   ]
  },
  {
   "cell_type": "code",
   "execution_count": null,
   "metadata": {},
   "outputs": [],
   "source": [
    "%%time\n",
    "# currently testing these features out as counts, but adding them (some/all) into the nlp pipeline when later developed\n",
    "wrangled_df[['emails', 'links', 'mentions', 'hashtags', 'emojis']] = 0\n",
    "\n",
    "wrangled_df['emails'] = wrangled_df['tweet'].apply(lambda x: re.findall(EMAIL_PATTERN, x)).apply(lambda x: len(x))\n",
    "wrangled_df['links'] = wrangled_df['tweet'].apply(lambda x: re.findall(LINK_PATTERN, x)).apply(lambda x: len(x))\n",
    "wrangled_df['mentions'] = wrangled_df['tweet'].apply(lambda x: re.findall(MENTION_PATTERN, x)).apply(lambda x: len(x))\n",
    "wrangled_df['hashtags'] = wrangled_df['tweet'].apply(lambda x: re.findall(HASHTAG_PATTERN, x)).apply(lambda x: len(x))\n",
    "wrangled_df['emojis'] = wrangled_df['tweet'].apply(lambda x: demoji.findall_list(x)).apply(lambda x: len(x))"
   ]
  },
  {
   "cell_type": "code",
   "execution_count": null,
   "metadata": {},
   "outputs": [],
   "source": [
    "wrangled_df"
   ]
  },
  {
   "cell_type": "code",
   "execution_count": null,
   "metadata": {},
   "outputs": [],
   "source": [
    "wrangled_df['emojis'].max()"
   ]
  },
  {
   "cell_type": "code",
   "execution_count": null,
   "metadata": {},
   "outputs": [],
   "source": []
  },
  {
   "cell_type": "code",
   "execution_count": null,
   "metadata": {},
   "outputs": [],
   "source": []
  },
  {
   "cell_type": "code",
   "execution_count": null,
   "metadata": {},
   "outputs": [],
   "source": [
    "wrangled_df.head()"
   ]
  },
  {
   "cell_type": "code",
   "execution_count": null,
   "metadata": {},
   "outputs": [],
   "source": [
    "pd.DataFrame(new_sample_tweets.split()).value_counts()"
   ]
  },
  {
   "cell_type": "code",
   "execution_count": null,
   "metadata": {},
   "outputs": [],
   "source": []
  },
  {
   "cell_type": "code",
   "execution_count": null,
   "metadata": {},
   "outputs": [],
   "source": [
    "stop_words += [most_common[i][0] for i in range(len(most_common))]"
   ]
  },
  {
   "cell_type": "code",
   "execution_count": null,
   "metadata": {},
   "outputs": [],
   "source": [
    "stop_words += ['not', 'up', 'we', 'pls', 'm', 'an', 'if', 'do']"
   ]
  },
  {
   "cell_type": "code",
   "execution_count": null,
   "metadata": {},
   "outputs": [],
   "source": [
    "new_sample_tweets = ' '.join([w for w in new_sample_tweets.split() if w not in stop_words])"
   ]
  },
  {
   "cell_type": "code",
   "execution_count": null,
   "metadata": {},
   "outputs": [],
   "source": [
    "new_sample_tweets"
   ]
  },
  {
   "cell_type": "code",
   "execution_count": null,
   "metadata": {},
   "outputs": [],
   "source": [
    "all_words = set(new_sample_tweets.split())\n",
    "word_freq = {}\n",
    "for word in new_sample_tweets.split():\n",
    "    if word in word_freq.keys():\n",
    "        word_freq[word] += 1\n",
    "    else:\n",
    "        word_freq[word] = 1"
   ]
  },
  {
   "cell_type": "code",
   "execution_count": null,
   "metadata": {},
   "outputs": [],
   "source": [
    "np.array(word_freq.values())"
   ]
  },
  {
   "cell_type": "code",
   "execution_count": null,
   "metadata": {},
   "outputs": [],
   "source": [
    "stripped_tweets = sample_tweets.join(re.sub())\n",
    "\n",
    "# mentions (@)\n",
    "# hashtags(#)\n",
    "# urls\n",
    "# encoding\n",
    "# emojis\n",
    "# punctuation"
   ]
  },
  {
   "cell_type": "code",
   "execution_count": null,
   "metadata": {},
   "outputs": [],
   "source": [
    "import html\n",
    "html.unescape(sample_tweets)"
   ]
  },
  {
   "cell_type": "markdown",
   "metadata": {},
   "source": [
    "# Pipeline Testing"
   ]
  },
  {
   "cell_type": "code",
   "execution_count": null,
   "metadata": {},
   "outputs": [],
   "source": [
    "def combine_tweets(full_df):\n",
    "    \"\"\"\n",
    "        takes in a pandas dataframe of tweets with dates and times for each created tweet, and the tweet author's handle.\n",
    "        It groups all of the user's tweets that occured between opening (9:30:00 EST) and closing (16:00:00 EST) stock times for open stock days, and returns a dataframe of the grouped tweets and the number of tweets\n",
    "        that were collected for that time frame.\n",
    "        A tweet is grouped via the following criteria:\n",
    "        - If tweet is earlier than 9:30, it applies to that price (opening) on the same date. \n",
    "        - It tweet is after 9:30, but before 16:00 (closing), it applies to the following price on the same date.\n",
    "        - If tweet is after 16:00, it applies to the next opening date.\n",
    "\n",
    "        To Do (not in order):\n",
    "        collect tweets and stocks directly \n",
    "        allow to specify period\n",
    "\n",
    "        \"\"\"\n",
    "    categorical_features = ['urls', 'photos', 'hashtags', 'cashtags', 'thumbnail', 'mentions']\n",
    "    text_features = ['tweet']\n",
    "    timestamp_features = ['date', 'time']\n",
    "    users = full_df.username.unique()\n",
    "    merged_df = pd.DataFrame()\n",
    "    def combine_tweets_user(df):\n",
    "        username = df.username\n",
    "        collected_tweets = {}\n",
    "        #df['time'] = pd.to_datetime(df['time'])\n",
    "        #df['number of tweets'] = 1\n",
    "        # fix missing vals\n",
    "        df[categorical_features] = df[categorical_features].applymap(lambda x: np.nan if len(x) == 0 else x)\n",
    "        # If tweet is earlier than 9:30, it applies to that price (opening) on the same date. \n",
    "\n",
    "        df['time'] = pd.to_datetime(df['created_at']).dt.time\n",
    "        df['date'] = pd.to_datetime(df['created_at']).dt.date\n",
    "\n",
    "        for i in range(len(df)):\n",
    "            if df['time'].iloc[i] <= dt.strptime('09:30:00', '%H:%M:%S').time():\n",
    "                df['time'].iloc[i] = dt.strptime('09:30:00', '%H:%M:%S').time()\n",
    "\n",
    "        # It tweet is after 9:30, but before 16:00 (closing), it applies to the following price on the same date.\n",
    "\n",
    "            if (df['time'].iloc[i] > dt.strptime('09:30:00', '%H:%M:%S').time()) and (df['time'].iloc[i] <= dt.strptime('16:00:00', '%H:%M:%S').time()):\n",
    "                df['time'].iloc[i] = dt.strptime('16:00:00', '%H:%M:%S').time()\n",
    "\n",
    "        # If tweet is after 16:00, apply it to the next opening date.\n",
    "        #for i in range(len(df)):\n",
    "            if df['time'].iloc[i] > dt.strptime('16:00:00', '%H:%M:%S').time():\n",
    "                df['date'].iloc[i] = df['date'].iloc[i] + timedelta(days=1)\n",
    "                df['time'].iloc[i] = dt.strptime('09:30:00', '%H:%M:%S').time()\n",
    "\n",
    "        # Combine dates and times\n",
    "        df['date'] = df['date'].astype(str)\n",
    "        df['time'] = df['time'].astype(str)\n",
    "        df['date'] = pd.to_datetime(df['date'] + ' ' + df['time'])\n",
    "\n",
    "        tweet = \"\"\n",
    "        df['number of tweets'] = 1\n",
    "        to_merge = df.groupby('date').sum()\n",
    "        #to_merge['date'] = pd.to_datetime(to_merge['date'], format='%Y-%M-%d').dt.date\n",
    "        # date is dictionary key\n",
    "        collected_tweets[df['date'].iloc[0]] = tweet\n",
    "\n",
    "        for i in range(len(df.index)):\n",
    "            current_date = df['date'].iloc[i]\n",
    "            if current_date in collected_tweets:\n",
    "                collected_tweets[current_date] += \" \" + str(df['tweet'].iloc[i])\n",
    "            else:\n",
    "                collected_tweets[current_date] = str(df['tweet'].iloc[i])\n",
    "\n",
    "        df = pd.DataFrame.from_dict(collected_tweets, orient='index', columns = ['tweet'])\n",
    "        df.reset_index(inplace=True)\n",
    "        df = df.rename(columns={'index':'date'})\n",
    "        df['username'] = username\n",
    "        df_merged = pd.merge(df, to_merge.reset_index(), on='date')\n",
    "\n",
    "        return df_merged\n",
    "    for user in users:\n",
    "        merged_df = merged_df.append(combine_tweets_user(full_df[full_df['username'] == user]))\n",
    "    return merged_df[['username', 'tweet', 'date', 'number of tweets']]\n",
    "    \n",
    "def combine_tweets_stocks(ceos_merged, stocks_full):\n",
    "    new_df = pd.DataFrame()\n",
    "    for user in ceos_merged['username'].unique():\n",
    "        ticker = handles_tickers[user]\n",
    "        tweet_df = ceos_merged[ceos_merged['username'] == user]\n",
    "        stock_df = stocks_full[stocks_full['ticker'] == ticker]\n",
    "        new_df = new_df.append(tweet_df.merge(stock_df, how='left', on='date')).dropna(subset=['ticker'])  \n",
    "    return new_df"
   ]
  },
  {
   "cell_type": "code",
   "execution_count": null,
   "metadata": {},
   "outputs": [],
   "source": [
    "%%time\n",
    "# test\n",
    "ceos_merged = combine_tweets(ceos)"
   ]
  },
  {
   "cell_type": "code",
   "execution_count": null,
   "metadata": {},
   "outputs": [],
   "source": [
    "ts = ceos_merged['date'].dt.time"
   ]
  },
  {
   "cell_type": "code",
   "execution_count": null,
   "metadata": {},
   "outputs": [],
   "source": [
    "ts.value_counts()"
   ]
  },
  {
   "cell_type": "code",
   "execution_count": null,
   "metadata": {},
   "outputs": [],
   "source": [
    "ceos_merged"
   ]
  },
  {
   "cell_type": "code",
   "execution_count": null,
   "metadata": {
    "scrolled": false
   },
   "outputs": [],
   "source": [
    "stocks_full"
   ]
  },
  {
   "cell_type": "code",
   "execution_count": null,
   "metadata": {},
   "outputs": [],
   "source": [
    "ceos_merged['username'].unique()"
   ]
  },
  {
   "cell_type": "code",
   "execution_count": null,
   "metadata": {},
   "outputs": [],
   "source": [
    "new_df = pd.DataFrame()\n",
    "for user in ceos_merged['username'].unique():\n",
    "    ticker = handles_tickers[user]\n",
    "    tweet_df = ceos_merged[ceos_merged['username'] == user]\n",
    "    stock_df = stocks_full[stocks_full['ticker'] == ticker]\n",
    "    new_df = new_df.append(tweet_df.merge(stock_df, how='left', on='date'))\n",
    "    new_df = new_df.dropna(subset=['ticker'])"
   ]
  },
  {
   "cell_type": "code",
   "execution_count": null,
   "metadata": {},
   "outputs": [],
   "source": [
    "new_df"
   ]
  },
  {
   "cell_type": "code",
   "execution_count": null,
   "metadata": {},
   "outputs": [],
   "source": []
  },
  {
   "cell_type": "code",
   "execution_count": null,
   "metadata": {},
   "outputs": [],
   "source": []
  },
  {
   "cell_type": "code",
   "execution_count": null,
   "metadata": {},
   "outputs": [],
   "source": [
    "CEOS_list = list(CEOS.keys())\n",
    "stocks_list = list(stocks.keys())"
   ]
  },
  {
   "cell_type": "code",
   "execution_count": null,
   "metadata": {},
   "outputs": [],
   "source": [
    "for i in range(len(CEOS_list)):\n",
    "    CEOS[CEOS_list[i]] = CEOS[CEOS_list[i]].merge(stocks[stocks_list[i]], how='left', on='date')\n",
    "    CEOS[CEOS_list[i]] = CEOS[CEOS_list[i]].sort_values(by = 'date').reset_index(drop=True)"
   ]
  },
  {
   "cell_type": "code",
   "execution_count": null,
   "metadata": {
    "scrolled": true
   },
   "outputs": [],
   "source": [
    "\n",
    "\n",
    "object_features = ceos.dtypes[ceos.dtypes == 'object'].index"
   ]
  },
  {
   "cell_type": "code",
   "execution_count": null,
   "metadata": {},
   "outputs": [],
   "source": [
    "musk_merged"
   ]
  },
  {
   "cell_type": "code",
   "execution_count": null,
   "metadata": {},
   "outputs": [],
   "source": [
    "def organize_stocks(stock): #Here\n",
    "\n",
    "        # Instatiate Open and Close\n",
    "        stock_open = stock[['date','open']]\n",
    "        stock_close = stock[['date','close']]\n",
    "\n",
    "        # Convert dates to datetime objects\n",
    "        stock_open['date'] = pd.to_datetime(stock_open['date'])\n",
    "        stock_close['date'] = pd.to_datetime(stock_close['date'])\n",
    "\n",
    "        # Convert datetimes into datetime string format\n",
    "        stock_open['date'] = stock_open['date'].dt.strftime('%Y-%m-%d 09:30:00')\n",
    "        stock_close['date'] = stock_close['date'].dt.strftime('%Y-%m-%d 16:00:00')\n",
    "\n",
    "        # Convert strings back into datetime objects\n",
    "        stock_open['date'] = pd.to_datetime(stock_open['date'])\n",
    "        stock_close['date'] = pd.to_datetime(stock_close['date'])\n",
    "\n",
    "        # Get earliest and latest stock price dates to create a date index\n",
    "        stock_open['price'] = stock_open['open']\n",
    "        stock_open.drop('open', axis=1, inplace=True)\n",
    "\n",
    "        stock_close['price'] = stock_close['close']\n",
    "        stock_close.drop('close', axis=1, inplace=True)\n",
    "\n",
    "        start_date_open = dt.strftime(stock_open.reset_index().date.min(), '%Y-%m-%d %H:%M:%S')\n",
    "        end_date_open = dt.strftime(stock_open.reset_index().date.max(), '%Y-%m-%d %H:%M:%S')\n",
    "\n",
    "        start_date_close = dt.strftime(stock_close.reset_index().date.min(), '%Y-%m-%d %H:%M:%S')\n",
    "        end_date_close = dt.strftime(stock_close.reset_index().date.max(), '%Y-%m-%d %H:%M:%S')\n",
    "\n",
    "        date_indx_open = pd.date_range(start_date_open, end_date_open).tolist()\n",
    "        date_indx_close = pd.date_range(start_date_close, end_date_close).tolist()\n",
    "        date_indx_open = pd.Series(date_indx_open, name='date')\n",
    "        date_indx_close = pd.Series(date_indx_close, name='date')\n",
    "\n",
    "        # Merge date index onto stock dataframes\n",
    "        stock_open = pd.merge(date_indx_open, stock_open, how='left')\n",
    "        stock_close = pd.merge(date_indx_close, stock_close, how='left')\n",
    "\n",
    "        # Interpolate missing values\n",
    "        stock_open['price'].interpolate(method='linear', inplace=True)\n",
    "        stock_close['price'].interpolate(method='linear', inplace=True)\n",
    "        \n",
    "        # MAKE SURE YOU CAN UNDERSTAND THIS\n",
    "\n",
    "        # Reset index and join open and close dataframes together\n",
    "        stock_open.set_index('date', inplace=True)\n",
    "        stock_close.set_index('date', inplace=True)\n",
    "\n",
    "        stock = pd.concat([stock_open, stock_close])\n",
    "        \n",
    "        stock.sort_index(inplace=True)\n",
    "        \n",
    "        return stock"
   ]
  },
  {
   "cell_type": "code",
   "execution_count": null,
   "metadata": {},
   "outputs": [],
   "source": [
    "CEOS = {}\n",
    "for user in usernames:\n",
    "    CEOS[user] = ceos[ceos['username'] == user]   "
   ]
  },
  {
   "cell_type": "code",
   "execution_count": null,
   "metadata": {},
   "outputs": [],
   "source": []
  },
  {
   "cell_type": "code",
   "execution_count": null,
   "metadata": {
    "scrolled": false
   },
   "outputs": [],
   "source": [
    "print(len(CEOS['elonmusk']['tweet']))"
   ]
  },
  {
   "cell_type": "code",
   "execution_count": null,
   "metadata": {},
   "outputs": [],
   "source": [
    "for CEO in CEOS:\n",
    "# Get tweets that aren't replies\n",
    "    CEOS[CEO]['reply_length'] = -1\n",
    "    for i in range(len(CEOS[CEO])):\n",
    "        CEOS[CEO]['reply_length'].loc[i] = len(CEOS[CEO]['reply_to'].loc[i])\n",
    "\n",
    "    CEOS[CEO] = CEOS[CEO][CEOS[CEO]['reply_length'] == 0]\n",
    "    CEOS[CEO].reset_index(drop=True, inplace=True)"
   ]
  },
  {
   "cell_type": "code",
   "execution_count": null,
   "metadata": {},
   "outputs": [],
   "source": [
    "#all_tweets = pd.DataFrame()\n",
    "#for CEO in CEOS:\n",
    "#    all_tweets = all_tweets.append(CEOS[CEO])\n",
    "    \n",
    "#all_tweets.to_pickle(f'/Users/tylerpoore/Workspace/Spring Board/Projects/Capstone_notebooks/Capstone_1_Final/data/ceos.pkl')"
   ]
  },
  {
   "cell_type": "markdown",
   "metadata": {},
   "source": [
    "## Examing and Cleaning the Data "
   ]
  },
  {
   "cell_type": "markdown",
   "metadata": {},
   "source": [
    "### Examining The Tweets "
   ]
  },
  {
   "cell_type": "code",
   "execution_count": null,
   "metadata": {},
   "outputs": [],
   "source": [
    "# Examine the scraped data\n",
    "\n",
    "for CEO in CEOS:\n",
    "    print(\"================\")\n",
    "    print(CEO)\n",
    "    print(\"================\")\n",
    "    print(CEOS[CEO][['date','tweet']].head(3))"
   ]
  },
  {
   "cell_type": "markdown",
   "metadata": {},
   "source": [
    "The raw twitter data has mentions, urls, emojis, and other languages besides english at first glance. "
   ]
  },
  {
   "cell_type": "code",
   "execution_count": null,
   "metadata": {},
   "outputs": [],
   "source": [
    "# Examine the tweet columns\n",
    "\n",
    "CEOS['elonmusk'].info()"
   ]
  },
  {
   "cell_type": "markdown",
   "metadata": {},
   "source": [
    "Looking at the dataframe columns entries, there are no missing values. That may be because they are using a different character than NaN, and I will look into this later. Most are of type object, but there are 4 integer columns: user_id; reply, retweet, and like counts; and video for some odd reason; and 1 boolean retweet column. All of the columns are the same type. Let's examine the columns."
   ]
  },
  {
   "cell_type": "code",
   "execution_count": null,
   "metadata": {},
   "outputs": [],
   "source": [
    "# Look at sample integer columns\n",
    "\n",
    "CEOS['elonmusk'].select_dtypes(include=['int']).describe()"
   ]
  },
  {
   "cell_type": "code",
   "execution_count": null,
   "metadata": {},
   "outputs": [],
   "source": [
    "# Look at first set of object columns\n",
    "\n",
    "CEOS['elonmusk'].select_dtypes(include=['object']).describe()"
   ]
  },
  {
   "cell_type": "markdown",
   "metadata": {},
   "source": [
    "A lot of these columns I will exclude as they likely won't contribute any contributable features to predicting the stock price. I will determine the language after cleaning the tweets."
   ]
  },
  {
   "cell_type": "code",
   "execution_count": null,
   "metadata": {},
   "outputs": [],
   "source": [
    "CEOS['elonmusk'][['tweet', 'mentions', 'urls', 'photos','hashtags', 'cashtags', 'quote_url']].describe()"
   ]
  },
  {
   "cell_type": "markdown",
   "metadata": {},
   "source": [
    "The missing values are represented by empty lists. Let's turn this into a better represenation of missing values."
   ]
  },
  {
   "cell_type": "markdown",
   "metadata": {},
   "source": [
    "Let's look at the languages first."
   ]
  },
  {
   "cell_type": "code",
   "execution_count": null,
   "metadata": {},
   "outputs": [],
   "source": [
    "for CEO in CEOS:\n",
    "    print(CEO.upper())\n",
    "    print(CEOS[CEO]['language'].value_counts()[:5])"
   ]
  },
  {
   "cell_type": "markdown",
   "metadata": {},
   "source": [
    "Let's see what und is"
   ]
  },
  {
   "cell_type": "code",
   "execution_count": null,
   "metadata": {},
   "outputs": [],
   "source": [
    "CEOS['elonmusk']['tweet'][CEOS['elonmusk']['language'] == 'und']"
   ]
  },
  {
   "cell_type": "markdown",
   "metadata": {},
   "source": [
    "It looks like und occurs when there are a lot of mentions, links, or emojis, so I will keep this and clean them later. "
   ]
  },
  {
   "cell_type": "code",
   "execution_count": null,
   "metadata": {},
   "outputs": [],
   "source": [
    "# Keep the en and und languages \n",
    "for CEO in CEOS:\n",
    "    CEOS[CEO] = CEOS[CEO][(CEOS[CEO]['language'] == 'en') | (CEOS[CEO]['language'] == 'und')]\n",
    "    CEOS[CEO].reset_index(inplace=True, drop=True)"
   ]
  },
  {
   "cell_type": "code",
   "execution_count": null,
   "metadata": {},
   "outputs": [],
   "source": [
    "for CEO in CEOS:\n",
    "    print(CEO.upper())\n",
    "    print(CEOS[CEO]['language'].value_counts())\n",
    "    print(CEOS[CEO]['language'].value_counts().sum())"
   ]
  },
  {
   "cell_type": "markdown",
   "metadata": {},
   "source": [
    "### 1.3.2 Converting to Missing Values and Categorical Features <a id='1.3.2_Missing'></a>"
   ]
  },
  {
   "cell_type": "code",
   "execution_count": null,
   "metadata": {},
   "outputs": [],
   "source": [
    "for CEO in CEOS:\n",
    "    print(CEO.upper())\n",
    "    CEOS[CEO][['mentions', 'urls', 'photos', 'hashtags', 'cashtags', 'thumbnail']].head(3)"
   ]
  },
  {
   "cell_type": "code",
   "execution_count": null,
   "metadata": {},
   "outputs": [],
   "source": [
    "# Convert empty lists into NaNs for easier processing\n",
    "for CEO in CEOS:\n",
    "    CEOS[CEO][['mentions', 'urls', 'photos', 'hashtags', 'cashtags', 'thumbnail']] = CEOS[CEO][['mentions', 'urls', 'photos', 'hashtags','cashtags', 'thumbnail']].applymap(lambda x: np.nan if len(x) == 0 else x)\n",
    "    "
   ]
  },
  {
   "cell_type": "code",
   "execution_count": null,
   "metadata": {},
   "outputs": [],
   "source": [
    "for CEO in CEOS:\n",
    "    print(CEO.upper())\n",
    "    print(CEOS[CEO][['mentions', 'urls', 'photos', 'hashtags', 'cashtags', 'thumbnail']].info())"
   ]
  },
  {
   "cell_type": "code",
   "execution_count": null,
   "metadata": {
    "scrolled": false
   },
   "outputs": [],
   "source": [
    "for CEO in CEOS:\n",
    "    print(CEO.upper())\n",
    "    print('\\n')\n",
    "    print('missing values')\n",
    "    print('===============')\n",
    "    print(CEOS[CEO][['mentions', 'urls', 'photos', 'hashtags', 'cashtags', 'thumbnail']].isna().sum())\n",
    "    print('\\n')"
   ]
  },
  {
   "cell_type": "code",
   "execution_count": null,
   "metadata": {
    "scrolled": true
   },
   "outputs": [],
   "source": [
    "categ = ['mentions', 'urls', 'photos', 'hashtags', 'cashtags', 'thumbnail']\n",
    "for categorical in categ:\n",
    "    print(categorical.upper())\n",
    "    print(CEOS['JohnLegere'][categorical][~CEOS['JohnLegere'][categorical].isna()])\n",
    "    print('===========')"
   ]
  },
  {
   "cell_type": "code",
   "execution_count": null,
   "metadata": {},
   "outputs": [],
   "source": [
    "%%time\n",
    "# Change categoricals to binary values\n",
    "for CEO in CEOS:\n",
    "    for categorical in categ:\n",
    "        CEOS[CEO][categorical][CEOS[CEO][categorical].isnull()] = 0\n",
    "\n",
    "for CEO in CEOS:\n",
    "    for categorical in categ:\n",
    "        for i in range(len(CEOS[CEO])):\n",
    "            if CEOS[CEO][categorical].iloc[i] != 0:\n",
    "                if categorical != 'thumbnail':\n",
    "                    CEOS[CEO][categorical].iloc[i] = len(CEOS[CEO][categorical].iloc[i])\n",
    "                else:\n",
    "                    CEOS[CEO]['thumbnail'].iloc[i] = 1"
   ]
  },
  {
   "cell_type": "code",
   "execution_count": null,
   "metadata": {},
   "outputs": [],
   "source": [
    "for CEO in CEOS:\n",
    "    CEOS[CEO]['cashtags'] = CEOS[CEO]['cashtags'].astype(int)"
   ]
  },
  {
   "cell_type": "code",
   "execution_count": null,
   "metadata": {
    "scrolled": false
   },
   "outputs": [],
   "source": [
    "for categorical in categ:\n",
    "    print(CEOS['elonmusk'][categorical].value_counts())\n",
    "    print('============')"
   ]
  },
  {
   "cell_type": "markdown",
   "metadata": {},
   "source": [
    "### 1.3.3 Select Feature Columns and Combine Tweets for Each Day <a id='1.3.3_Features'></a>\n",
    "\n",
    "I will be keeping most of the categorical and int features, but I won't be keeping the Cashtag column as it is empty for most of the tweets"
   ]
  },
  {
   "cell_type": "code",
   "execution_count": null,
   "metadata": {},
   "outputs": [],
   "source": [
    "# Set appropriate columns \n",
    "\n",
    "for CEO in CEOS:\n",
    "    CEOS[CEO] = CEOS[CEO][[\n",
    "        'date', 'time', 'username', 'tweet', \n",
    "        'mentions', 'hashtags', 'video', 'photos', 'urls']]"
   ]
  },
  {
   "cell_type": "code",
   "execution_count": null,
   "metadata": {},
   "outputs": [],
   "source": [
    "# Need to change some of the features to integers\n",
    "for CEO in CEOS:\n",
    "    CEOS[CEO].fillna(0, inplace=True)"
   ]
  },
  {
   "cell_type": "markdown",
   "metadata": {},
   "source": [
    "I will make a separate dataframe for these and append them to a dataframe of tweets that have been grouped by the date. Because I am looking how tweets impact the stock prices, I want to analyze tweets that happen before the price point. To this end I will be looking at the closing price, and tweets that occur on the same day after the market closes will be counted towards the following day. "
   ]
  },
  {
   "cell_type": "code",
   "execution_count": null,
   "metadata": {},
   "outputs": [],
   "source": [
    "num_tweets = len(CEOS['elonmusk'])"
   ]
  },
  {
   "cell_type": "code",
   "execution_count": null,
   "metadata": {},
   "outputs": [],
   "source": [
    "num_tweets"
   ]
  },
  {
   "cell_type": "code",
   "execution_count": null,
   "metadata": {
    "scrolled": false
   },
   "outputs": [],
   "source": [
    "%%time \n",
    "# Takes ~1 min\n",
    "# is preprocessing with dictionaries faster than with a pandas dataframe?\n",
    "for CEO in CEOS:\n",
    "    CEOS[CEO] = combine_tweets(CEOS[CEO])"
   ]
  },
  {
   "cell_type": "code",
   "execution_count": null,
   "metadata": {},
   "outputs": [],
   "source": [
    "assert num_tweets == CEOS['elonmusk']['number of tweets'].sum()"
   ]
  },
  {
   "cell_type": "code",
   "execution_count": null,
   "metadata": {},
   "outputs": [],
   "source": [
    "for CEO in CEOS:\n",
    "    print(CEO.upper())\n",
    "    print('Number of days collected: {}'.format(CEOS[CEO].shape[0]))\n",
    "    print(\"\")"
   ]
  },
  {
   "cell_type": "markdown",
   "metadata": {},
   "source": [
    "## 1.4 Combining Stocks and Tweets DataFrames <a id='1.4_Combining_DataFrames'></a>"
   ]
  },
  {
   "cell_type": "code",
   "execution_count": null,
   "metadata": {
    "scrolled": true
   },
   "outputs": [],
   "source": [
    "# merge stocks on to tweets\n",
    "for stock in stocks:\n",
    "    stocks[stock].reset_index(inplace=True)\n",
    "    print(stock.upper)\n",
    "    print(stocks[stock].head(3))\n",
    "    print(\"\")"
   ]
  },
  {
   "cell_type": "code",
   "execution_count": null,
   "metadata": {},
   "outputs": [],
   "source": [
    "CEOS_list = list(CEOS.keys())\n",
    "stocks_list = list(stocks.keys())"
   ]
  },
  {
   "cell_type": "code",
   "execution_count": null,
   "metadata": {},
   "outputs": [],
   "source": [
    "for i in range(len(CEOS_list)):\n",
    "    CEOS[CEOS_list[i]] = CEOS[CEOS_list[i]].merge(stocks[stocks_list[i]], how='left', on='date')\n",
    "    CEOS[CEOS_list[i]] = CEOS[CEOS_list[i]].sort_values(by = 'date').reset_index(drop=True)"
   ]
  },
  {
   "cell_type": "code",
   "execution_count": null,
   "metadata": {
    "scrolled": true
   },
   "outputs": [],
   "source": [
    "for CEO in CEOS:\n",
    "    print(CEO.upper())\n",
    "    print(CEOS[CEO].head(3))"
   ]
  },
  {
   "cell_type": "markdown",
   "metadata": {},
   "source": [
    "### 1.4.1 Sort DataFrames and Clean <a id='1.4.1_Sorting_and_Cleaning'></a>"
   ]
  },
  {
   "cell_type": "code",
   "execution_count": null,
   "metadata": {},
   "outputs": [],
   "source": [
    "# Combine tweets that occur when market it closed and add to next market open.\n",
    "\n",
    "for CEO in CEOS:\n",
    "    CEOS[CEO] = fix_closed_market_tweets(CEOS[CEO])\n",
    "    CEOS[CEO].reset_index('date', inplace=True)"
   ]
  },
  {
   "cell_type": "code",
   "execution_count": null,
   "metadata": {},
   "outputs": [],
   "source": [
    "# Check for missing values\n",
    "for CEO in CEOS:\n",
    "    print(CEO)\n",
    "    print(CEOS[CEO].isna().sum())"
   ]
  },
  {
   "cell_type": "markdown",
   "metadata": {},
   "source": [
    "Because the latest tweets are before the next market opens, some of them have missing values and I will have to remove them for now."
   ]
  },
  {
   "cell_type": "code",
   "execution_count": null,
   "metadata": {},
   "outputs": [],
   "source": [
    "for CEO in CEOS:\n",
    "    print(CEOS[CEO].shape)"
   ]
  },
  {
   "cell_type": "markdown",
   "metadata": {},
   "source": [
    "Normalize data types"
   ]
  },
  {
   "cell_type": "code",
   "execution_count": null,
   "metadata": {
    "scrolled": true
   },
   "outputs": [],
   "source": [
    "CEOS['elonmusk'].info()"
   ]
  },
  {
   "cell_type": "code",
   "execution_count": null,
   "metadata": {},
   "outputs": [],
   "source": [
    "ints_columns = CEOS['elonmusk'].select_dtypes(include=['int']).columns\n",
    "floats_columns = CEOS['elonmusk'].select_dtypes(include=['float']).columns"
   ]
  },
  {
   "cell_type": "code",
   "execution_count": null,
   "metadata": {},
   "outputs": [],
   "source": [
    "for CEO in CEOS:\n",
    "    CEOS[CEO][ints_columns] = CEOS[CEO][ints_columns].astype(int)\n",
    "    CEOS[CEO][floats_columns] = CEOS[CEO][floats_columns].astype(float)"
   ]
  },
  {
   "cell_type": "markdown",
   "metadata": {},
   "source": [
    "### 1.4.2 DataFrame Prices vs Original Stock Prices <a id='1.4.2_Looking_at_Original_Stocks'></a>"
   ]
  },
  {
   "cell_type": "code",
   "execution_count": null,
   "metadata": {},
   "outputs": [],
   "source": [
    "# Let's look to see how well the full stock prices match the merged tweet and stock DataFrames\n",
    "for i in range(len(stocks_list)):\n",
    "    _ = plt.plot(stocks[stocks_list[i]]['date'], stocks[stocks_list[i]]['price'])\n",
    "    _ = plt.plot(CEOS[CEOS_list[i]]['date'], CEOS[CEOS_list[i]]['price'], c='red')\n",
    "    _ = plt.title(stocks_list[i])\n",
    "    _ = plt.xticks(rotation=60)\n",
    "    _ = plt.legend(['Stock Data', 'Stock Price with Tweets'])\n",
    "    _ = plt.show()\n",
    "    plt.savefig('./figures/data_wrangling/Price_Tweets_{}.png'.format(stocks_list[i]), bbox_inches='tight')"
   ]
  },
  {
   "cell_type": "code",
   "execution_count": null,
   "metadata": {
    "scrolled": false
   },
   "outputs": [],
   "source": [
    "# Initalize a Figure and Axes\n",
    "for CEO in CEOS:\n",
    "    fig, ax = plt.subplots()\n",
    "\n",
    "    ax.plot(CEOS[CEO]['date'], CEOS[CEO]['price'], color='blue')\n",
    "    plt.ylabel('price')\n",
    "    plt.title(f'{CEO} tweets with stock price')\n",
    "    plt.xticks(rotation=60)\n",
    "\n",
    "    # Create a twin Axes that shares the x-axis\n",
    "    ax2 = ax.twinx()\n",
    "    \n",
    "    ax2.plot(CEOS[CEO]['date'], CEOS[CEO]['number of tweets'], color='g', alpha = 0.4)\n",
    "    plt.ylabel('number of tweets')\n",
    "    plt.legend(['number of tweets'])\n",
    "    plt.savefig('./figures/data_wrangling/num_tweets_stock_price_{}.png'.format(CEO), bbox_inches='tight')\n",
    "    plt.show()"
   ]
  },
  {
   "cell_type": "code",
   "execution_count": null,
   "metadata": {},
   "outputs": [],
   "source": [
    "test = CEOS['JohnLegere']\n",
    "test2 = CEOS['richardbranson']"
   ]
  },
  {
   "cell_type": "code",
   "execution_count": null,
   "metadata": {},
   "outputs": [],
   "source": [
    "test = test[test['date'] <= '2019']\n",
    "test2 = test2[test2['date'] >= '2020-07']"
   ]
  },
  {
   "cell_type": "code",
   "execution_count": null,
   "metadata": {},
   "outputs": [],
   "source": [
    "fig, ax = plt.subplots()\n",
    "\n",
    "ax.plot(test['date'], test['price'], color='blue')\n",
    "plt.ylabel('price')\n",
    "plt.title('John Legere tweets with stock price pre 2019')\n",
    "plt.xticks(rotation=60)\n",
    "\n",
    "# Create a twin Axes that shares the x-axis\n",
    "ax2 = ax.twinx()\n",
    "\n",
    "\n",
    "ax2.plot(test['date'], test['number of tweets'], color='g', alpha = 0.4)\n",
    "plt.ylabel('number of tweets')\n",
    "plt.legend(['number of tweets'])\n",
    "plt.savefig('./figures/data_wrangling/num_tweets_stock_price_JohnLegere_pre2019', bbox_inches='tight')\n",
    "plt.show()"
   ]
  },
  {
   "cell_type": "code",
   "execution_count": null,
   "metadata": {},
   "outputs": [],
   "source": [
    "fig, ax = plt.subplots()\n",
    "\n",
    "ax.plot(test2['date'], test2['price'], color='blue')\n",
    "plt.ylabel('price')\n",
    "plt.title('Richard Branson tweets with stock price post July 2020')\n",
    "plt.xticks(rotation=60)\n",
    "\n",
    "# Create a twin Axes that shares the x-axis\n",
    "ax2 = ax.twinx()\n",
    "\n",
    "ax2.plot(test2['date'], test2['number of tweets'], color='g', alpha = 0.4)\n",
    "plt.ylabel('number of tweets')\n",
    "plt.legend(['number of tweets'])\n",
    "plt.savefig('./figures/data_wrangling/num_tweets_stock_price_richardbranson_post2020', bbox_inches='tight')\n",
    "plt.show()"
   ]
  },
  {
   "cell_type": "markdown",
   "metadata": {},
   "source": [
    "## 1.5 Saving Dataframes <a id='1.5_Exporting_DataFrames'></a>"
   ]
  },
  {
   "cell_type": "code",
   "execution_count": null,
   "metadata": {},
   "outputs": [],
   "source": [
    "for i in range(len(CEOS_list)):\n",
    "    CEOS[CEOS_list[i]].to_pickle(f'./data/{CEOS_list[i]}_df.pkl')"
   ]
  },
  {
   "cell_type": "code",
   "execution_count": null,
   "metadata": {},
   "outputs": [],
   "source": [
    "tweet_stocks = pd.DataFrame()\n",
    "for CEO in CEOS:\n",
    "    tweet_stocks = tweet_stocks.append(CEOS[CEO])"
   ]
  },
  {
   "cell_type": "code",
   "execution_count": null,
   "metadata": {
    "scrolled": true
   },
   "outputs": [],
   "source": [
    "tweet_stocks.info()"
   ]
  },
  {
   "cell_type": "code",
   "execution_count": null,
   "metadata": {},
   "outputs": [],
   "source": [
    "tweet_stocks.to_pickle(f'./data/tweet_stocks.pkl')"
   ]
  },
  {
   "cell_type": "markdown",
   "metadata": {},
   "source": [
    "# Data Inspection"
   ]
  },
  {
   "cell_type": "code",
   "execution_count": null,
   "metadata": {
    "scrolled": true
   },
   "outputs": [],
   "source": [
    "ceos.head()"
   ]
  },
  {
   "cell_type": "code",
   "execution_count": null,
   "metadata": {},
   "outputs": [],
   "source": [
    "# Correct the data types\n",
    "\n"
   ]
  }
 ],
 "metadata": {
  "kernelspec": {
   "display_name": "Python 3",
   "language": "python",
   "name": "python3"
  },
  "language_info": {
   "codemirror_mode": {
    "name": "ipython",
    "version": 3
   },
   "file_extension": ".py",
   "mimetype": "text/x-python",
   "name": "python",
   "nbconvert_exporter": "python",
   "pygments_lexer": "ipython3",
   "version": "3.9.4"
  }
 },
 "nbformat": 4,
 "nbformat_minor": 4
}
