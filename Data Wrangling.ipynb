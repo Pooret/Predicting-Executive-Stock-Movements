{
 "cells": [
  {
   "cell_type": "markdown",
   "metadata": {},
   "source": [
    "# Part 1. Data Wrangling:\n",
    "\n",
    "This capstone looks at tweets from a 5-year period of the CEOS of several companies. Their respective stocks are collected and the tweets are analyzed to determine if the closing price of a stock can be determined from the CEO's tweets. The CEOs, their twitter username, and their associated stocks are as follows:  \n",
    " - Elon Musk : '@elonmusk': Tesla (TSLA)\n",
    " - Aaron Levie : '@levie': Box (BOX)\n",
    " - Jack Dorsey : '@jack': Twitter (TWTR)\n",
    " - Marc Benioff : '@Benioff': Salesforce (CRM)\n",
    " - Richard Branson: @richardbranson: Virgin Galactic (SPCE)\n",
    " - John Legere: @JohnLegere: T-Mobile (TMUS)\n",
    " \n",
    " \n",
    "These CEOs were selected with the following criteria:  \n",
    " - the stock must be a publicly traded company for at least 5 years.\n",
    " - the CEO must have tweeted at least 500 times over that span of that 5 years.\n",
    " \n",
    "\n",
    "\n",
    "## Objective: \n",
    "\n",
    "To scrape the tweets and stocks from the CEOS, clean these data by standardizing dates and times, dealing with null values, and then to combine these cleaned dataframes into a single dataframe for EDA and machine learning. All datetimes are in EST."
   ]
  },
  {
   "cell_type": "code",
   "execution_count": 70,
   "metadata": {},
   "outputs": [],
   "source": [
    "from utils import *"
   ]
  },
  {
   "cell_type": "markdown",
   "metadata": {},
   "source": [
    "# Collecting Data"
   ]
  },
  {
   "cell_type": "markdown",
   "metadata": {},
   "source": [
    "## Collecting Stocks "
   ]
  },
  {
   "cell_type": "code",
   "execution_count": 71,
   "metadata": {
    "scrolled": true
   },
   "outputs": [],
   "source": [
    "# Import 5-year daily tesla stocks from Yahoo Finance and store in dataframe\n",
    "\n",
    "#tsla = yf.Ticker('TSLA')\n",
    "#box = yf.Ticker('BOX')\n",
    "#twtr = yf.Ticker('TWTR')\n",
    "#crm = yf.Ticker('CRM')\n",
    "#spce = yf.Ticker('SPCE')\n",
    "#tmus = yf.Ticker('TMUS')\n",
    "\n",
    "\n",
    "\n",
    "# Convert to dataframes\n",
    "#tsla_df = tsla.history(period = '5y')\n",
    "#box_df = box.history(period = '5y')\n",
    "#twtr_df = twtr.history(period = '5y')\n",
    "#crm_df = crm.history(period = '5y')\n",
    "#spce_df = spce.history(period='5y')\n",
    "#tmus_df = tmus.history(period='5y')\n",
    "\n",
    "\n",
    "\n",
    "stock_names = ['TSLA','BOX', 'TWTR','CRM','SPCE', 'TMUS']\n",
    "stocks = {}\n",
    "for stock in stock_names:\n",
    "    stocks[stock] = pd.read_pickle(f'data/{stock}.pkl')"
   ]
  },
  {
   "cell_type": "code",
   "execution_count": 72,
   "metadata": {
    "scrolled": false
   },
   "outputs": [
    {
     "name": "stdout",
     "output_type": "stream",
     "text": [
      "===============\n",
      "TSLA\n",
      "===============\n",
      "<class 'pandas.core.frame.DataFrame'>\n",
      "RangeIndex: 1259 entries, 0 to 1258\n",
      "Data columns (total 8 columns):\n",
      " #   Column        Non-Null Count  Dtype         \n",
      "---  ------        --------------  -----         \n",
      " 0   Date          1259 non-null   datetime64[ns]\n",
      " 1   Open          1259 non-null   float64       \n",
      " 2   High          1259 non-null   float64       \n",
      " 3   Low           1259 non-null   float64       \n",
      " 4   Close         1259 non-null   float64       \n",
      " 5   Volume        1259 non-null   int64         \n",
      " 6   Dividends     1259 non-null   int64         \n",
      " 7   Stock Splits  1259 non-null   float64       \n",
      "dtypes: datetime64[ns](1), float64(5), int64(2)\n",
      "memory usage: 78.8 KB\n",
      "None\n",
      "        Date       Open       High        Low      Close    Volume  Dividends  \\\n",
      "0 2016-08-23  44.863998  45.698002  44.560001  44.967999  23922000          0   \n",
      "1 2016-08-24  45.410000  45.430000  44.444000  44.523998  12853500          0   \n",
      "2 2016-08-25  44.622002  44.759998  44.153999  44.192001   8812500          0   \n",
      "\n",
      "   Stock Splits  \n",
      "0           0.0  \n",
      "1           0.0  \n",
      "2           0.0  \n",
      "===============\n",
      "BOX\n",
      "===============\n",
      "<class 'pandas.core.frame.DataFrame'>\n",
      "RangeIndex: 1259 entries, 0 to 1258\n",
      "Data columns (total 8 columns):\n",
      " #   Column        Non-Null Count  Dtype         \n",
      "---  ------        --------------  -----         \n",
      " 0   Date          1259 non-null   datetime64[ns]\n",
      " 1   Open          1259 non-null   float64       \n",
      " 2   High          1259 non-null   float64       \n",
      " 3   Low           1259 non-null   float64       \n",
      " 4   Close         1259 non-null   float64       \n",
      " 5   Volume        1259 non-null   int64         \n",
      " 6   Dividends     1259 non-null   int64         \n",
      " 7   Stock Splits  1259 non-null   int64         \n",
      "dtypes: datetime64[ns](1), float64(4), int64(3)\n",
      "memory usage: 78.8 KB\n",
      "None\n",
      "        Date   Open   High    Low  Close   Volume  Dividends  Stock Splits\n",
      "0 2016-08-23  12.95  13.49  12.93  13.30  1526800          0             0\n",
      "1 2016-08-24  13.40  13.44  12.97  13.07   547400          0             0\n",
      "2 2016-08-25  13.05  13.32  13.01  13.14   478900          0             0\n",
      "===============\n",
      "TWTR\n",
      "===============\n",
      "<class 'pandas.core.frame.DataFrame'>\n",
      "RangeIndex: 1259 entries, 0 to 1258\n",
      "Data columns (total 8 columns):\n",
      " #   Column        Non-Null Count  Dtype         \n",
      "---  ------        --------------  -----         \n",
      " 0   Date          1259 non-null   datetime64[ns]\n",
      " 1   Open          1259 non-null   float64       \n",
      " 2   High          1259 non-null   float64       \n",
      " 3   Low           1259 non-null   float64       \n",
      " 4   Close         1259 non-null   float64       \n",
      " 5   Volume        1259 non-null   int64         \n",
      " 6   Dividends     1259 non-null   int64         \n",
      " 7   Stock Splits  1259 non-null   int64         \n",
      "dtypes: datetime64[ns](1), float64(4), int64(3)\n",
      "memory usage: 78.8 KB\n",
      "None\n",
      "        Date       Open       High        Low      Close    Volume  Dividends  \\\n",
      "0 2016-08-23  18.650000  18.930000  18.650000  18.690001  14089300          0   \n",
      "1 2016-08-24  18.799999  18.969999  18.200001  18.250000  16788800          0   \n",
      "2 2016-08-25  18.330000  18.650000  18.230000  18.320000  13276500          0   \n",
      "\n",
      "   Stock Splits  \n",
      "0             0  \n",
      "1             0  \n",
      "2             0  \n",
      "===============\n",
      "CRM\n",
      "===============\n",
      "<class 'pandas.core.frame.DataFrame'>\n",
      "RangeIndex: 1259 entries, 0 to 1258\n",
      "Data columns (total 8 columns):\n",
      " #   Column        Non-Null Count  Dtype         \n",
      "---  ------        --------------  -----         \n",
      " 0   Date          1259 non-null   datetime64[ns]\n",
      " 1   Open          1259 non-null   float64       \n",
      " 2   High          1259 non-null   float64       \n",
      " 3   Low           1259 non-null   float64       \n",
      " 4   Close         1259 non-null   float64       \n",
      " 5   Volume        1259 non-null   int64         \n",
      " 6   Dividends     1259 non-null   int64         \n",
      " 7   Stock Splits  1259 non-null   int64         \n",
      "dtypes: datetime64[ns](1), float64(4), int64(3)\n",
      "memory usage: 78.8 KB\n",
      "None\n",
      "        Date       Open       High        Low      Close   Volume  Dividends  \\\n",
      "0 2016-08-23  77.820000  78.279999  77.680000  78.019997  4328600          0   \n",
      "1 2016-08-24  78.000000  78.690002  77.580002  77.820000  3661700          0   \n",
      "2 2016-08-25  78.139999  80.239998  78.110001  80.160004  7495900          0   \n",
      "\n",
      "   Stock Splits  \n",
      "0             0  \n",
      "1             0  \n",
      "2             0  \n",
      "===============\n",
      "SPCE\n",
      "===============\n",
      "<class 'pandas.core.frame.DataFrame'>\n",
      "RangeIndex: 981 entries, 0 to 980\n",
      "Data columns (total 8 columns):\n",
      " #   Column        Non-Null Count  Dtype         \n",
      "---  ------        --------------  -----         \n",
      " 0   Date          981 non-null    datetime64[ns]\n",
      " 1   Open          981 non-null    float64       \n",
      " 2   High          981 non-null    float64       \n",
      " 3   Low           981 non-null    float64       \n",
      " 4   Close         981 non-null    float64       \n",
      " 5   Volume        981 non-null    int64         \n",
      " 6   Dividends     981 non-null    int64         \n",
      " 7   Stock Splits  981 non-null    int64         \n",
      "dtypes: datetime64[ns](1), float64(4), int64(3)\n",
      "memory usage: 61.4 KB\n",
      "None\n",
      "        Date    Open  High     Low  Close  Volume  Dividends  Stock Splits\n",
      "0 2017-09-29  10.500  10.5  10.000  10.10  212800          0             0\n",
      "1 2017-10-02  10.150  10.2  10.050  10.08   36500          0             0\n",
      "2 2017-10-03  10.091  10.1  10.079  10.10   13300          0             0\n",
      "===============\n",
      "TMUS\n",
      "===============\n",
      "<class 'pandas.core.frame.DataFrame'>\n",
      "RangeIndex: 1259 entries, 0 to 1258\n",
      "Data columns (total 8 columns):\n",
      " #   Column        Non-Null Count  Dtype         \n",
      "---  ------        --------------  -----         \n",
      " 0   Date          1259 non-null   datetime64[ns]\n",
      " 1   Open          1259 non-null   float64       \n",
      " 2   High          1259 non-null   float64       \n",
      " 3   Low           1259 non-null   float64       \n",
      " 4   Close         1259 non-null   float64       \n",
      " 5   Volume        1259 non-null   int64         \n",
      " 6   Dividends     1259 non-null   int64         \n",
      " 7   Stock Splits  1259 non-null   int64         \n",
      "dtypes: datetime64[ns](1), float64(4), int64(3)\n",
      "memory usage: 78.8 KB\n",
      "None\n",
      "        Date       Open       High        Low      Close   Volume  Dividends  \\\n",
      "0 2016-08-23  46.959999  47.310001  46.720001  46.830002  1563800          0   \n",
      "1 2016-08-24  46.660000  47.049999  46.090000  46.209999  1615800          0   \n",
      "2 2016-08-25  46.310001  46.599998  46.119999  46.279999  1151100          0   \n",
      "\n",
      "   Stock Splits  \n",
      "0             0  \n",
      "1             0  \n",
      "2             0  \n"
     ]
    }
   ],
   "source": [
    "# Examine stocks\n",
    "#stocks = { 'TSLA': tsla_df, 'BOX': box_df, 'TWTR': twtr_df, 'CRM':crm_df, 'SPCE': spce_df, 'TMUS':tmus_df}\n",
    "\n",
    "for stock in stocks:\n",
    "    print(\"===============\")\n",
    "    print(stock)\n",
    "    print(\"===============\")\n",
    "    print(stocks[stock].info())\n",
    "    print(stocks[stock].head(3))\n",
    "    stocks[stock].to_pickle(f'./data/{stock}.pkl')"
   ]
  },
  {
   "cell_type": "markdown",
   "metadata": {},
   "source": [
    "I will keep the Open and Close columns, dropping the rest. The Open and Close columns will be changed to their respective times and combined into a single dataframe."
   ]
  },
  {
   "cell_type": "markdown",
   "metadata": {},
   "source": [
    "### 1.2.2 Combining the Stocks <a id='1.2.2_Combining_Stocks'></a>"
   ]
  },
  {
   "cell_type": "code",
   "execution_count": 73,
   "metadata": {},
   "outputs": [],
   "source": [
    "# Get needed columns and change the date to lowercase\n",
    "\n",
    "for stock in stocks:\n",
    "    stocks[stock].reset_index(inplace=True)\n",
    "    stocks[stock] =  stocks[stock][['Date','Open', 'Close']]\n",
    "    stocks[stock].columns = stocks[stock].columns.str.lower()"
   ]
  },
  {
   "cell_type": "code",
   "execution_count": 74,
   "metadata": {},
   "outputs": [
    {
     "name": "stdout",
     "output_type": "stream",
     "text": [
      "TSLA\n",
      "=======================\n",
      "date     2016-08-23 00:00:00\n",
      "open               36.220001\n",
      "close              35.793999\n",
      "dtype: object\n",
      "date     2021-08-23 00:00:00\n",
      "open              891.380005\n",
      "close             883.090027\n",
      "dtype: object\n",
      "\n",
      "BOX\n",
      "=======================\n",
      "date     2016-08-23 00:00:00\n",
      "open                    8.75\n",
      "close                   9.12\n",
      "dtype: object\n",
      "date     2021-08-23 00:00:00\n",
      "open                   29.25\n",
      "close                  29.01\n",
      "dtype: object\n",
      "\n",
      "TWTR\n",
      "=======================\n",
      "date     2016-08-23 00:00:00\n",
      "open                    14.3\n",
      "close                  14.29\n",
      "dtype: object\n",
      "date     2021-08-23 00:00:00\n",
      "open               78.360001\n",
      "close              77.629997\n",
      "dtype: object\n",
      "\n",
      "CRM\n",
      "=======================\n",
      "date     2016-08-23 00:00:00\n",
      "open               66.589996\n",
      "close              68.410004\n",
      "dtype: object\n",
      "date     2021-08-23 00:00:00\n",
      "open              283.470001\n",
      "close                 281.25\n",
      "dtype: object\n",
      "\n",
      "SPCE\n",
      "=======================\n",
      "date     2017-09-29 00:00:00\n",
      "open                    7.19\n",
      "close                   7.22\n",
      "dtype: object\n",
      "date     2021-08-23 00:00:00\n",
      "open                   58.59\n",
      "close                  59.41\n",
      "dtype: object\n",
      "\n",
      "TMUS\n",
      "=======================\n",
      "date     2016-08-23 00:00:00\n",
      "open                    44.5\n",
      "close                   44.5\n",
      "dtype: object\n",
      "date     2021-08-23 00:00:00\n",
      "open              149.339996\n",
      "close             149.410004\n",
      "dtype: object\n",
      "\n"
     ]
    }
   ],
   "source": [
    "for stock in stocks:\n",
    "    print(stock.upper())\n",
    "    print(\"=======================\")\n",
    "    print(stocks[stock][stocks[stock]['date'] == stocks[stock]['date']].min())\n",
    "    print(stocks[stock][stocks[stock]['date'] == stocks[stock]['date']].max())\n",
    "    print(\"\")"
   ]
  },
  {
   "cell_type": "markdown",
   "metadata": {},
   "source": [
    "The stock data is limited to 5 years. So to determine how far back the tweets need to be scraped, I'll convert the starting date index to a string that the twint module can recognize to set a starting date. I'll also set the entire range of dates (e.g. holidays and weekends) to the stock data and interpolate the missing values."
   ]
  },
  {
   "cell_type": "markdown",
   "metadata": {},
   "source": [
    "Our goal is to predict stock changes based off twitter data that occurs before the next opening or closing price. To get the data into a workable format, I will need to combine the opening and closing stock prices and sort them by date and time. Missing prices (holidays, weekends, etc...) will be filled via mean imputation on the organized stocks. "
   ]
  },
  {
   "cell_type": "code",
   "execution_count": 75,
   "metadata": {
    "scrolled": true
   },
   "outputs": [],
   "source": [
    "for stock in stocks:\n",
    "    stocks[stock] = organize_stocks(stocks[stock])"
   ]
  },
  {
   "cell_type": "markdown",
   "metadata": {},
   "source": [
    "### 1.2.3 Examine Collected Stocks <a id='1.2.3_Examine_Stocks'></a>"
   ]
  },
  {
   "cell_type": "code",
   "execution_count": 76,
   "metadata": {},
   "outputs": [
    {
     "data": {
      "image/png": "[encoded data removed]",
      "text/plain": [
       "<Figure size 432x288 with 1 Axes>"
      ]
     },
     "metadata": {
      "needs_background": "light"
     },
     "output_type": "display_data"
    },
    {
     "data": {
      "image/png": "[encoded data removed]",
      "text/plain": [
       "<Figure size 432x288 with 1 Axes>"
      ]
     },
     "metadata": {
      "needs_background": "light"
     },
     "output_type": "display_data"
    },
    {
     "data": {
      "image/png": "[encoded data removed]",
      "text/plain": [
       "<Figure size 432x288 with 1 Axes>"
      ]
     },
     "metadata": {
      "needs_background": "light"
     },
     "output_type": "display_data"
    },
    {
     "data": {
      "image/png": "[encoded data removed]",
      "text/plain": [
       "<Figure size 432x288 with 1 Axes>"
      ]
     },
     "metadata": {
      "needs_background": "light"
     },
     "output_type": "display_data"
    },
    {
     "data": {
      "image/png": "[encoded data removed]",
      "text/plain": [
       "<Figure size 432x288 with 1 Axes>"
      ]
     },
     "metadata": {
      "needs_background": "light"
     },
     "output_type": "display_data"
    },
    {
     "data": {
      "image/png": "[encoded data removed]",
      "text/plain": [
       "<Figure size 432x288 with 1 Axes>"
      ]
     },
     "metadata": {
      "needs_background": "light"
     },
     "output_type": "display_data"
    }
   ],
   "source": [
    "for stock in stocks:\n",
    "    _ = stocks[stock].plot()\n",
    "    _ = plt.xlabel('date')\n",
    "    _ = plt.ylabel('price')\n",
    "    _ = plt.title(stock)\n",
    "    plt.savefig('./figures/data_wrangling/stocks_{}.png'.format(stock), bbox_inches='tight')"
   ]
  },
  {
   "cell_type": "code",
   "execution_count": 77,
   "metadata": {},
   "outputs": [
    {
     "name": "stdout",
     "output_type": "stream",
     "text": [
      "TSLA\n",
      "<class 'pandas.core.frame.DataFrame'>\n",
      "DatetimeIndex: 3654 entries, 2016-08-23 09:30:00 to 2021-08-23 16:00:00\n",
      "Data columns (total 1 columns):\n",
      " #   Column  Non-Null Count  Dtype  \n",
      "---  ------  --------------  -----  \n",
      " 0   price   3654 non-null   float64\n",
      "dtypes: float64(1)\n",
      "memory usage: 57.1 KB\n",
      "None\n",
      "BOX\n",
      "<class 'pandas.core.frame.DataFrame'>\n",
      "DatetimeIndex: 3654 entries, 2016-08-23 09:30:00 to 2021-08-23 16:00:00\n",
      "Data columns (total 1 columns):\n",
      " #   Column  Non-Null Count  Dtype  \n",
      "---  ------  --------------  -----  \n",
      " 0   price   3654 non-null   float64\n",
      "dtypes: float64(1)\n",
      "memory usage: 57.1 KB\n",
      "None\n",
      "TWTR\n",
      "<class 'pandas.core.frame.DataFrame'>\n",
      "DatetimeIndex: 3654 entries, 2016-08-23 09:30:00 to 2021-08-23 16:00:00\n",
      "Data columns (total 1 columns):\n",
      " #   Column  Non-Null Count  Dtype  \n",
      "---  ------  --------------  -----  \n",
      " 0   price   3654 non-null   float64\n",
      "dtypes: float64(1)\n",
      "memory usage: 57.1 KB\n",
      "None\n",
      "CRM\n",
      "<class 'pandas.core.frame.DataFrame'>\n",
      "DatetimeIndex: 3654 entries, 2016-08-23 09:30:00 to 2021-08-23 16:00:00\n",
      "Data columns (total 1 columns):\n",
      " #   Column  Non-Null Count  Dtype  \n",
      "---  ------  --------------  -----  \n",
      " 0   price   3654 non-null   float64\n",
      "dtypes: float64(1)\n",
      "memory usage: 57.1 KB\n",
      "None\n",
      "SPCE\n",
      "<class 'pandas.core.frame.DataFrame'>\n",
      "DatetimeIndex: 2850 entries, 2017-09-29 09:30:00 to 2021-08-23 16:00:00\n",
      "Data columns (total 1 columns):\n",
      " #   Column  Non-Null Count  Dtype  \n",
      "---  ------  --------------  -----  \n",
      " 0   price   2850 non-null   float64\n",
      "dtypes: float64(1)\n",
      "memory usage: 44.5 KB\n",
      "None\n",
      "TMUS\n",
      "<class 'pandas.core.frame.DataFrame'>\n",
      "DatetimeIndex: 3654 entries, 2016-08-23 09:30:00 to 2021-08-23 16:00:00\n",
      "Data columns (total 1 columns):\n",
      " #   Column  Non-Null Count  Dtype  \n",
      "---  ------  --------------  -----  \n",
      " 0   price   3654 non-null   float64\n",
      "dtypes: float64(1)\n",
      "memory usage: 57.1 KB\n",
      "None\n"
     ]
    }
   ],
   "source": [
    "for stock in stocks:\n",
    "    print(stock)\n",
    "    print(stocks[stock].info())"
   ]
  },
  {
   "cell_type": "markdown",
   "metadata": {},
   "source": [
    "All of the stocks have the same number of values with the exception of Virgin Galactic, which has been on the NYSE for less than the 5 year max alloted by yfinance. No missing numbers are detected."
   ]
  },
  {
   "cell_type": "markdown",
   "metadata": {},
   "source": [
    "### De-trending the time series stock data "
   ]
  },
  {
   "cell_type": "markdown",
   "metadata": {},
   "source": [
    "We will use the percent change in the stock prices as a target that we will later bin into categories.  "
   ]
  },
  {
   "cell_type": "code",
   "execution_count": 78,
   "metadata": {},
   "outputs": [],
   "source": [
    "for stock in stocks:\n",
    "    stocks[stock]['percent change'] = stocks[stock]['price'].pct_change()\n",
    "    stocks[stock].fillna(0, inplace=True)"
   ]
  },
  {
   "cell_type": "code",
   "execution_count": 79,
   "metadata": {
    "scrolled": true
   },
   "outputs": [
    {
     "data": {
      "image/png": "[encoded data removed]",
      "text/plain": [
       "<Figure size 432x288 with 1 Axes>"
      ]
     },
     "metadata": {
      "needs_background": "light"
     },
     "output_type": "display_data"
    }
   ],
   "source": [
    "_ = plt.plot(stocks['TSLA'][['percent change']])\n",
    "_ = plt.xlabel('date')\n",
    "_ = plt.ylabel('percent change')\n",
    "_ = plt.title('Detrended TSLA stock')\n",
    "plt.savefig('./figures/data_wrangling/detrended_stock.png', bbox_inches='tight')"
   ]
  },
  {
   "cell_type": "code",
   "execution_count": 80,
   "metadata": {},
   "outputs": [],
   "source": [
    "#for stock in stocks:\n",
    "#    stocks[stock].to_pickle(f'./data/{stock}_df.pkl')"
   ]
  },
  {
   "cell_type": "markdown",
   "metadata": {},
   "source": [
    "## 1.2.5 Collecting the tweets <a id='1.2.5_Collecting_Tweet'></a>\n",
    "We will collect the CEOs tweets over the same time-span as the collected stocks"
   ]
  },
  {
   "cell_type": "code",
   "execution_count": 81,
   "metadata": {},
   "outputs": [],
   "source": [
    "# Get the tweets from the CEOs of the companies\n",
    "# Get user_ids in case of name changes. \n",
    "\n",
    "        \n",
    "user_stocks = {'elonmusk':'TSLA', 'levie':'BOX','jack':'TWTR', 'Benioff':'CRM', \n",
    "            'richardbranson':'SPCE', 'JohnLegere':'TMUS'}"
   ]
  },
  {
   "cell_type": "code",
   "execution_count": 82,
   "metadata": {},
   "outputs": [],
   "source": [
    "#start_date = {}\n",
    "#for user in user_stocks:\n",
    "#    start_date[user] = dt.strftime(stocks[user_stocks[user]].reset_index().date.min(), '%Y-%m-%d %H:%M:%S')"
   ]
  },
  {
   "cell_type": "code",
   "execution_count": 83,
   "metadata": {},
   "outputs": [],
   "source": [
    "usernames = list(user_stocks.keys())"
   ]
  },
  {
   "cell_type": "code",
   "execution_count": 84,
   "metadata": {
    "scrolled": true
   },
   "outputs": [],
   "source": [
    "#%%time\n",
    "\n",
    "#ceos = []\n",
    "#for user in usernames:\n",
    "#    c = twint.Config()\n",
    "#    c.Username = user\n",
    "#    c.User_full = True\n",
    "#    c.Count = True\n",
    "#    c.Stats = True\n",
    "#    c.Pandas = True\n",
    "#    c.Store_pandas = True\n",
    "#    c.Hide_output = True\n",
    "#    c.Pandas_clean = True\n",
    "#    c.Since = start_date[user]\n",
    "\n",
    "    # run search\n",
    "#    twint.run.Search(c)\n",
    "\n",
    "# extract columns and save dataframe in list\n",
    "#columns = twint.output.panda.Tweets_df.columns\n",
    "#ceo = twint.output.panda.Tweets_df[columns]\n",
    "#ceos.append(ceo)\n",
    "\n",
    "\n",
    "ceos = pd.read_pickle('./data/ceos.pkl')\n",
    "usernames = ['elonmusk', 'levie', 'jack', 'Benioff','richardbranson', 'JohnLegere']"
   ]
  },
  {
   "cell_type": "code",
   "execution_count": 85,
   "metadata": {
    "scrolled": false
   },
   "outputs": [
    {
     "data": {
      "text/html": [
       "<div>\n",
       "<style scoped>\n",
       "    .dataframe tbody tr th:only-of-type {\n",
       "        vertical-align: middle;\n",
       "    }\n",
       "\n",
       "    .dataframe tbody tr th {\n",
       "        vertical-align: top;\n",
       "    }\n",
       "\n",
       "    .dataframe thead th {\n",
       "        text-align: right;\n",
       "    }\n",
       "</style>\n",
       "<table border=\"1\" class=\"dataframe\">\n",
       "  <thead>\n",
       "    <tr style=\"text-align: right;\">\n",
       "      <th></th>\n",
       "      <th>id</th>\n",
       "      <th>conversation_id</th>\n",
       "      <th>created_at</th>\n",
       "      <th>date</th>\n",
       "      <th>time</th>\n",
       "      <th>timezone</th>\n",
       "      <th>user_id</th>\n",
       "      <th>username</th>\n",
       "      <th>name</th>\n",
       "      <th>place</th>\n",
       "      <th>...</th>\n",
       "      <th>source</th>\n",
       "      <th>user_rt_id</th>\n",
       "      <th>user_rt</th>\n",
       "      <th>retweet_id</th>\n",
       "      <th>reply_to</th>\n",
       "      <th>retweet_date</th>\n",
       "      <th>translate</th>\n",
       "      <th>trans_src</th>\n",
       "      <th>trans_dest</th>\n",
       "      <th>search</th>\n",
       "    </tr>\n",
       "  </thead>\n",
       "  <tbody>\n",
       "    <tr>\n",
       "      <th>0</th>\n",
       "      <td>1417453075892080641</td>\n",
       "      <td>1417427520266268677</td>\n",
       "      <td>2021-07-20 07:55:22 EDT</td>\n",
       "      <td>2021-07-20</td>\n",
       "      <td>07:55:22</td>\n",
       "      <td>-0400</td>\n",
       "      <td>44196397</td>\n",
       "      <td>elonmusk</td>\n",
       "      <td>Elon Musk</td>\n",
       "      <td></td>\n",
       "      <td>...</td>\n",
       "      <td></td>\n",
       "      <td></td>\n",
       "      <td></td>\n",
       "      <td></td>\n",
       "      <td>[{'screen_name': 'vincent13031925', 'name': 'V...</td>\n",
       "      <td></td>\n",
       "      <td></td>\n",
       "      <td></td>\n",
       "      <td></td>\n",
       "      <td>None</td>\n",
       "    </tr>\n",
       "    <tr>\n",
       "      <th>1</th>\n",
       "      <td>1417390555001098246</td>\n",
       "      <td>1417251070989029376</td>\n",
       "      <td>2021-07-20 03:46:56 EDT</td>\n",
       "      <td>2021-07-20</td>\n",
       "      <td>03:46:56</td>\n",
       "      <td>-0400</td>\n",
       "      <td>44196397</td>\n",
       "      <td>elonmusk</td>\n",
       "      <td>Elon Musk</td>\n",
       "      <td></td>\n",
       "      <td>...</td>\n",
       "      <td></td>\n",
       "      <td></td>\n",
       "      <td></td>\n",
       "      <td></td>\n",
       "      <td>[{'screen_name': 'blueorigin', 'name': 'Blue O...</td>\n",
       "      <td></td>\n",
       "      <td></td>\n",
       "      <td></td>\n",
       "      <td></td>\n",
       "      <td>None</td>\n",
       "    </tr>\n",
       "    <tr>\n",
       "      <th>2</th>\n",
       "      <td>1417293886897098762</td>\n",
       "      <td>1417278493428264963</td>\n",
       "      <td>2021-07-19 21:22:49 EDT</td>\n",
       "      <td>2021-07-19</td>\n",
       "      <td>21:22:49</td>\n",
       "      <td>-0400</td>\n",
       "      <td>44196397</td>\n",
       "      <td>elonmusk</td>\n",
       "      <td>Elon Musk</td>\n",
       "      <td></td>\n",
       "      <td>...</td>\n",
       "      <td></td>\n",
       "      <td></td>\n",
       "      <td></td>\n",
       "      <td></td>\n",
       "      <td>[{'screen_name': 'SpacePadreIsle', 'name': 'SP...</td>\n",
       "      <td></td>\n",
       "      <td></td>\n",
       "      <td></td>\n",
       "      <td></td>\n",
       "      <td>None</td>\n",
       "    </tr>\n",
       "    <tr>\n",
       "      <th>3</th>\n",
       "      <td>1417277335863140363</td>\n",
       "      <td>1417277092090191884</td>\n",
       "      <td>2021-07-19 20:17:03 EDT</td>\n",
       "      <td>2021-07-19</td>\n",
       "      <td>20:17:03</td>\n",
       "      <td>-0400</td>\n",
       "      <td>44196397</td>\n",
       "      <td>elonmusk</td>\n",
       "      <td>Elon Musk</td>\n",
       "      <td></td>\n",
       "      <td>...</td>\n",
       "      <td></td>\n",
       "      <td></td>\n",
       "      <td></td>\n",
       "      <td></td>\n",
       "      <td>[{'screen_name': 'TLPN_Official', 'name': 'The...</td>\n",
       "      <td></td>\n",
       "      <td></td>\n",
       "      <td></td>\n",
       "      <td></td>\n",
       "      <td>None</td>\n",
       "    </tr>\n",
       "    <tr>\n",
       "      <th>4</th>\n",
       "      <td>1417274819461095432</td>\n",
       "      <td>1417274819461095432</td>\n",
       "      <td>2021-07-19 20:07:03 EDT</td>\n",
       "      <td>2021-07-19</td>\n",
       "      <td>20:07:03</td>\n",
       "      <td>-0400</td>\n",
       "      <td>44196397</td>\n",
       "      <td>elonmusk</td>\n",
       "      <td>Elon Musk</td>\n",
       "      <td></td>\n",
       "      <td>...</td>\n",
       "      <td></td>\n",
       "      <td></td>\n",
       "      <td></td>\n",
       "      <td></td>\n",
       "      <td>[]</td>\n",
       "      <td></td>\n",
       "      <td></td>\n",
       "      <td></td>\n",
       "      <td></td>\n",
       "      <td>None</td>\n",
       "    </tr>\n",
       "  </tbody>\n",
       "</table>\n",
       "<p>5 rows × 37 columns</p>\n",
       "</div>"
      ],
      "text/plain": [
       "                    id      conversation_id               created_at  \\\n",
       "0  1417453075892080641  1417427520266268677  2021-07-20 07:55:22 EDT   \n",
       "1  1417390555001098246  1417251070989029376  2021-07-20 03:46:56 EDT   \n",
       "2  1417293886897098762  1417278493428264963  2021-07-19 21:22:49 EDT   \n",
       "3  1417277335863140363  1417277092090191884  2021-07-19 20:17:03 EDT   \n",
       "4  1417274819461095432  1417274819461095432  2021-07-19 20:07:03 EDT   \n",
       "\n",
       "         date      time timezone   user_id  username       name place  ...  \\\n",
       "0  2021-07-20  07:55:22    -0400  44196397  elonmusk  Elon Musk        ...   \n",
       "1  2021-07-20  03:46:56    -0400  44196397  elonmusk  Elon Musk        ...   \n",
       "2  2021-07-19  21:22:49    -0400  44196397  elonmusk  Elon Musk        ...   \n",
       "3  2021-07-19  20:17:03    -0400  44196397  elonmusk  Elon Musk        ...   \n",
       "4  2021-07-19  20:07:03    -0400  44196397  elonmusk  Elon Musk        ...   \n",
       "\n",
       "  source user_rt_id user_rt retweet_id  \\\n",
       "0                                        \n",
       "1                                        \n",
       "2                                        \n",
       "3                                        \n",
       "4                                        \n",
       "\n",
       "                                            reply_to  retweet_date  translate  \\\n",
       "0  [{'screen_name': 'vincent13031925', 'name': 'V...                            \n",
       "1  [{'screen_name': 'blueorigin', 'name': 'Blue O...                            \n",
       "2  [{'screen_name': 'SpacePadreIsle', 'name': 'SP...                            \n",
       "3  [{'screen_name': 'TLPN_Official', 'name': 'The...                            \n",
       "4                                                 []                            \n",
       "\n",
       "   trans_src trans_dest search  \n",
       "0                         None  \n",
       "1                         None  \n",
       "2                         None  \n",
       "3                         None  \n",
       "4                         None  \n",
       "\n",
       "[5 rows x 37 columns]"
      ]
     },
     "execution_count": 85,
     "metadata": {},
     "output_type": "execute_result"
    }
   ],
   "source": [
    "ceos.head()"
   ]
  },
  {
   "cell_type": "code",
   "execution_count": 150,
   "metadata": {},
   "outputs": [
    {
     "data": {
      "text/plain": [
       "37"
      ]
     },
     "execution_count": 150,
     "metadata": {},
     "output_type": "execute_result"
    }
   ],
   "source": [
    "len(ceos.columns)"
   ]
  },
  {
   "cell_type": "markdown",
   "metadata": {},
   "source": [
    "Lets look at the number of tweets and the dates they span for each executive."
   ]
  },
  {
   "cell_type": "code",
   "execution_count": 86,
   "metadata": {},
   "outputs": [],
   "source": [
    "CEOS = {}\n",
    "for user in usernames:\n",
    "    CEOS[user] = ceos[ceos['username'] == user]   "
   ]
  },
  {
   "cell_type": "code",
   "execution_count": 87,
   "metadata": {},
   "outputs": [
    {
     "name": "stdout",
     "output_type": "stream",
     "text": [
      "ELONMUSK\n",
      "number of tweets: 11622\n",
      "date range:\n",
      "2016-07-20 --- 2021-07-20\n",
      "\n",
      "LEVIE\n",
      "number of tweets: 1736\n",
      "date range:\n",
      "2016-07-21 --- 2021-07-20\n",
      "\n",
      "JACK\n",
      "number of tweets: 5124\n",
      "date range:\n",
      "2016-07-21 --- 2021-07-20\n",
      "\n",
      "BENIOFF\n",
      "number of tweets: 4871\n",
      "date range:\n",
      "2016-07-20 --- 2021-05-28\n",
      "\n",
      "RICHARDBRANSON\n",
      "number of tweets: 7711\n",
      "date range:\n",
      "2017-09-29 --- 2021-07-20\n",
      "\n",
      "JOHNLEGERE\n",
      "number of tweets: 37302\n",
      "date range:\n",
      "2016-07-20 --- 2021-07-20\n",
      "\n"
     ]
    }
   ],
   "source": [
    "start_date = {}\n",
    "end_date = {}\n",
    "for CEO in CEOS:\n",
    "    print(CEO.upper())\n",
    "    print('number of tweets:', len(CEOS[CEO]))\n",
    "    print('date range:')\n",
    "    start_date[CEO] = CEOS[CEO]['date'].min()\n",
    "    end_date[CEO] = CEOS[CEO]['date'].max()\n",
    "    print(start_date[CEO], '---' ,end_date[CEO])\n",
    "    print(\"\")"
   ]
  },
  {
   "cell_type": "code",
   "execution_count": 88,
   "metadata": {},
   "outputs": [],
   "source": [
    "#all_tweets = pd.DataFrame()\n",
    "#for CEO in CEOS:\n",
    "#    all_tweets = all_tweets.append(CEOS[CEO])\n",
    "    \n",
    "#all_tweets.to_pickle(f'/Users/tylerpoore/Workspace/Spring Board/Projects/Capstone_notebooks/Capstone_1_Final/data/ceos.pkl')"
   ]
  },
  {
   "cell_type": "markdown",
   "metadata": {},
   "source": [
    "## Examing and Cleaning the Data "
   ]
  },
  {
   "cell_type": "markdown",
   "metadata": {},
   "source": [
    "### Examining The Tweets "
   ]
  },
  {
   "cell_type": "code",
   "execution_count": 89,
   "metadata": {},
   "outputs": [
    {
     "name": "stdout",
     "output_type": "stream",
     "text": [
      "================\n",
      "elonmusk\n",
      "================\n",
      "         date                               tweet\n",
      "0  2021-07-20     @vincent13031925 Great to hear!\n",
      "1  2021-07-20  @blueorigin Best of luck tomorrow!\n",
      "2  2021-07-19        @SpacePadreIsle @SpaceX Haha\n",
      "================\n",
      "levie\n",
      "================\n",
      "         date                                              tweet\n",
      "0  2021-07-20        This is a very sad take on entrepreneurship\n",
      "1  2021-07-20  Space innovation from many ventures is just pl...\n",
      "2  2021-07-20                   Amazing  https://t.co/YGDtOVvm92\n",
      "================\n",
      "jack\n",
      "================\n",
      "         date                                              tweet\n",
      "0  2021-07-20  Square Banking is live! Checking, savings, deb...\n",
      "1  2021-07-19                                 @cslingsby Español\n",
      "2  2021-07-19                            https://t.co/Sip86oI6fU\n",
      "================\n",
      "Benioff\n",
      "================\n",
      "         date                                              tweet\n",
      "0  2021-05-28  Wonderful to be on @MadMoneyOnCNBC tonight ann...\n",
      "1  2021-05-27  It’s happening! @Dreamforce ❤️ https://t.co/7V...\n",
      "2  2021-05-27  Here comes Dreamforce 2021!  In person!  All o...\n",
      "================\n",
      "richardbranson\n",
      "================\n",
      "         date                                              tweet\n",
      "0  2021-07-20                             @virginplus Brilliant!\n",
      "1  2021-07-20  @virginhotels @VirginVoyages @belvederevodka L...\n",
      "2  2021-07-20  Well done @blueorigin, @jeffbezos, Mark, Wally...\n",
      "================\n",
      "JohnLegere\n",
      "================\n",
      "         date                                              tweet\n",
      "0  2021-07-20  WOW this looks so delicious!  https://t.co/hnO...\n",
      "1  2021-07-20           Up up and away!  https://t.co/jvRcpkqng3\n",
      "2  2021-07-20  Call on John is POSTPONED for today but tune i...\n"
     ]
    }
   ],
   "source": [
    "# Examine the scraped data\n",
    "\n",
    "for CEO in CEOS:\n",
    "    print(\"================\")\n",
    "    print(CEO)\n",
    "    print(\"================\")\n",
    "    print(CEOS[CEO][['date','tweet']].head(3))"
   ]
  },
  {
   "cell_type": "markdown",
   "metadata": {},
   "source": [
    "The raw twitter data has mentions, urls, emojis, and other languages besides english at first glance. "
   ]
  },
  {
   "cell_type": "code",
   "execution_count": 90,
   "metadata": {},
   "outputs": [
    {
     "name": "stdout",
     "output_type": "stream",
     "text": [
      "<class 'pandas.core.frame.DataFrame'>\n",
      "Int64Index: 11622 entries, 0 to 11621\n",
      "Data columns (total 37 columns):\n",
      " #   Column           Non-Null Count  Dtype \n",
      "---  ------           --------------  ----- \n",
      " 0   id               11622 non-null  object\n",
      " 1   conversation_id  11622 non-null  object\n",
      " 2   created_at       11622 non-null  object\n",
      " 3   date             11622 non-null  object\n",
      " 4   time             11622 non-null  object\n",
      " 5   timezone         11622 non-null  object\n",
      " 6   user_id          11622 non-null  int64 \n",
      " 7   username         11622 non-null  object\n",
      " 8   name             11622 non-null  object\n",
      " 9   place            11622 non-null  object\n",
      " 10  tweet            11622 non-null  object\n",
      " 11  language         11622 non-null  object\n",
      " 12  mentions         11622 non-null  object\n",
      " 13  urls             11622 non-null  object\n",
      " 14  photos           11622 non-null  object\n",
      " 15  replies_count    11622 non-null  int64 \n",
      " 16  retweets_count   11622 non-null  int64 \n",
      " 17  likes_count      11622 non-null  int64 \n",
      " 18  hashtags         11622 non-null  object\n",
      " 19  cashtags         11622 non-null  object\n",
      " 20  link             11622 non-null  object\n",
      " 21  retweet          11622 non-null  bool  \n",
      " 22  quote_url        11622 non-null  object\n",
      " 23  video            11622 non-null  int64 \n",
      " 24  thumbnail        11622 non-null  object\n",
      " 25  near             11622 non-null  object\n",
      " 26  geo              11622 non-null  object\n",
      " 27  source           11622 non-null  object\n",
      " 28  user_rt_id       11622 non-null  object\n",
      " 29  user_rt          11622 non-null  object\n",
      " 30  retweet_id       11622 non-null  object\n",
      " 31  reply_to         11622 non-null  object\n",
      " 32  retweet_date     11622 non-null  object\n",
      " 33  translate        11622 non-null  object\n",
      " 34  trans_src        11622 non-null  object\n",
      " 35  trans_dest       11622 non-null  object\n",
      " 36  search           11622 non-null  object\n",
      "dtypes: bool(1), int64(5), object(31)\n",
      "memory usage: 3.3+ MB\n"
     ]
    }
   ],
   "source": [
    "# Examine the tweet columns\n",
    "\n",
    "CEOS['elonmusk'].info()"
   ]
  },
  {
   "cell_type": "markdown",
   "metadata": {},
   "source": [
    "Looking at the dataframe columns entries, there are no missing values. That may be because they are using a different character than NaN, and I will look into this later. Most are of type object, but there are 4 integer columns: user_id; reply, retweet, and like counts; and video for some odd reason; and 1 boolean retweet column. All of the columns are the same type. Let's examine the columns."
   ]
  },
  {
   "cell_type": "code",
   "execution_count": 92,
   "metadata": {},
   "outputs": [
    {
     "data": {
      "text/html": [
       "<div>\n",
       "<style scoped>\n",
       "    .dataframe tbody tr th:only-of-type {\n",
       "        vertical-align: middle;\n",
       "    }\n",
       "\n",
       "    .dataframe tbody tr th {\n",
       "        vertical-align: top;\n",
       "    }\n",
       "\n",
       "    .dataframe thead th {\n",
       "        text-align: right;\n",
       "    }\n",
       "</style>\n",
       "<table border=\"1\" class=\"dataframe\">\n",
       "  <thead>\n",
       "    <tr style=\"text-align: right;\">\n",
       "      <th></th>\n",
       "      <th>user_id</th>\n",
       "      <th>replies_count</th>\n",
       "      <th>retweets_count</th>\n",
       "      <th>likes_count</th>\n",
       "      <th>video</th>\n",
       "    </tr>\n",
       "  </thead>\n",
       "  <tbody>\n",
       "    <tr>\n",
       "      <th>count</th>\n",
       "      <td>11622.0</td>\n",
       "      <td>11622.000000</td>\n",
       "      <td>11622.000000</td>\n",
       "      <td>1.162200e+04</td>\n",
       "      <td>11622.000000</td>\n",
       "    </tr>\n",
       "    <tr>\n",
       "      <th>mean</th>\n",
       "      <td>44196397.0</td>\n",
       "      <td>985.211065</td>\n",
       "      <td>2602.205989</td>\n",
       "      <td>2.602342e+04</td>\n",
       "      <td>0.060833</td>\n",
       "    </tr>\n",
       "    <tr>\n",
       "      <th>std</th>\n",
       "      <td>0.0</td>\n",
       "      <td>3843.169195</td>\n",
       "      <td>10442.067297</td>\n",
       "      <td>7.333076e+04</td>\n",
       "      <td>0.239034</td>\n",
       "    </tr>\n",
       "    <tr>\n",
       "      <th>min</th>\n",
       "      <td>44196397.0</td>\n",
       "      <td>0.000000</td>\n",
       "      <td>0.000000</td>\n",
       "      <td>9.100000e+01</td>\n",
       "      <td>0.000000</td>\n",
       "    </tr>\n",
       "    <tr>\n",
       "      <th>25%</th>\n",
       "      <td>44196397.0</td>\n",
       "      <td>55.000000</td>\n",
       "      <td>49.000000</td>\n",
       "      <td>1.204000e+03</td>\n",
       "      <td>0.000000</td>\n",
       "    </tr>\n",
       "    <tr>\n",
       "      <th>50%</th>\n",
       "      <td>44196397.0</td>\n",
       "      <td>143.500000</td>\n",
       "      <td>163.000000</td>\n",
       "      <td>3.655500e+03</td>\n",
       "      <td>0.000000</td>\n",
       "    </tr>\n",
       "    <tr>\n",
       "      <th>75%</th>\n",
       "      <td>44196397.0</td>\n",
       "      <td>534.750000</td>\n",
       "      <td>984.000000</td>\n",
       "      <td>1.542325e+04</td>\n",
       "      <td>0.000000</td>\n",
       "    </tr>\n",
       "    <tr>\n",
       "      <th>max</th>\n",
       "      <td>44196397.0</td>\n",
       "      <td>126196.000000</td>\n",
       "      <td>355536.000000</td>\n",
       "      <td>1.574723e+06</td>\n",
       "      <td>1.000000</td>\n",
       "    </tr>\n",
       "  </tbody>\n",
       "</table>\n",
       "</div>"
      ],
      "text/plain": [
       "          user_id  replies_count  retweets_count   likes_count         video\n",
       "count     11622.0   11622.000000    11622.000000  1.162200e+04  11622.000000\n",
       "mean   44196397.0     985.211065     2602.205989  2.602342e+04      0.060833\n",
       "std           0.0    3843.169195    10442.067297  7.333076e+04      0.239034\n",
       "min    44196397.0       0.000000        0.000000  9.100000e+01      0.000000\n",
       "25%    44196397.0      55.000000       49.000000  1.204000e+03      0.000000\n",
       "50%    44196397.0     143.500000      163.000000  3.655500e+03      0.000000\n",
       "75%    44196397.0     534.750000      984.000000  1.542325e+04      0.000000\n",
       "max    44196397.0  126196.000000   355536.000000  1.574723e+06      1.000000"
      ]
     },
     "execution_count": 92,
     "metadata": {},
     "output_type": "execute_result"
    }
   ],
   "source": [
    "# Look at sample integer columns\n",
    "\n",
    "CEOS['elonmusk'].select_dtypes(include=['int']).describe()"
   ]
  },
  {
   "cell_type": "markdown",
   "metadata": {},
   "source": [
    "The video column looks like a boolean"
   ]
  },
  {
   "cell_type": "code",
   "execution_count": 93,
   "metadata": {},
   "outputs": [
    {
     "data": {
      "text/plain": [
       "2"
      ]
     },
     "execution_count": 93,
     "metadata": {},
     "output_type": "execute_result"
    }
   ],
   "source": [
    "CEOS['elonmusk']['video'].nunique()"
   ]
  },
  {
   "cell_type": "code",
   "execution_count": 94,
   "metadata": {},
   "outputs": [
    {
     "data": {
      "text/plain": [
       "707"
      ]
     },
     "execution_count": 94,
     "metadata": {},
     "output_type": "execute_result"
    }
   ],
   "source": [
    "CEOS['elonmusk']['video'].sum()"
   ]
  },
  {
   "cell_type": "code",
   "execution_count": 95,
   "metadata": {},
   "outputs": [
    {
     "data": {
      "text/html": [
       "<div>\n",
       "<style scoped>\n",
       "    .dataframe tbody tr th:only-of-type {\n",
       "        vertical-align: middle;\n",
       "    }\n",
       "\n",
       "    .dataframe tbody tr th {\n",
       "        vertical-align: top;\n",
       "    }\n",
       "\n",
       "    .dataframe thead th {\n",
       "        text-align: right;\n",
       "    }\n",
       "</style>\n",
       "<table border=\"1\" class=\"dataframe\">\n",
       "  <thead>\n",
       "    <tr style=\"text-align: right;\">\n",
       "      <th></th>\n",
       "      <th>id</th>\n",
       "      <th>conversation_id</th>\n",
       "      <th>created_at</th>\n",
       "      <th>date</th>\n",
       "      <th>time</th>\n",
       "      <th>timezone</th>\n",
       "      <th>username</th>\n",
       "      <th>name</th>\n",
       "      <th>place</th>\n",
       "      <th>tweet</th>\n",
       "      <th>...</th>\n",
       "      <th>source</th>\n",
       "      <th>user_rt_id</th>\n",
       "      <th>user_rt</th>\n",
       "      <th>retweet_id</th>\n",
       "      <th>reply_to</th>\n",
       "      <th>retweet_date</th>\n",
       "      <th>translate</th>\n",
       "      <th>trans_src</th>\n",
       "      <th>trans_dest</th>\n",
       "      <th>search</th>\n",
       "    </tr>\n",
       "  </thead>\n",
       "  <tbody>\n",
       "    <tr>\n",
       "      <th>count</th>\n",
       "      <td>11622</td>\n",
       "      <td>11622</td>\n",
       "      <td>11622</td>\n",
       "      <td>11622</td>\n",
       "      <td>11622</td>\n",
       "      <td>11622</td>\n",
       "      <td>11622</td>\n",
       "      <td>11622</td>\n",
       "      <td>11622</td>\n",
       "      <td>11622</td>\n",
       "      <td>...</td>\n",
       "      <td>11622</td>\n",
       "      <td>11622</td>\n",
       "      <td>11622</td>\n",
       "      <td>11622</td>\n",
       "      <td>11622</td>\n",
       "      <td>11622</td>\n",
       "      <td>11622</td>\n",
       "      <td>11622</td>\n",
       "      <td>11622</td>\n",
       "      <td>11622</td>\n",
       "    </tr>\n",
       "    <tr>\n",
       "      <th>unique</th>\n",
       "      <td>11622</td>\n",
       "      <td>5665</td>\n",
       "      <td>11619</td>\n",
       "      <td>1465</td>\n",
       "      <td>10736</td>\n",
       "      <td>1</td>\n",
       "      <td>1</td>\n",
       "      <td>1</td>\n",
       "      <td>1</td>\n",
       "      <td>11554</td>\n",
       "      <td>...</td>\n",
       "      <td>1</td>\n",
       "      <td>1</td>\n",
       "      <td>1</td>\n",
       "      <td>1</td>\n",
       "      <td>5620</td>\n",
       "      <td>1</td>\n",
       "      <td>1</td>\n",
       "      <td>1</td>\n",
       "      <td>1</td>\n",
       "      <td>1</td>\n",
       "    </tr>\n",
       "    <tr>\n",
       "      <th>top</th>\n",
       "      <td>1417453075892080641</td>\n",
       "      <td>828280866451374085</td>\n",
       "      <td>2018-04-01 18:02:31 EDT</td>\n",
       "      <td>2017-03-24</td>\n",
       "      <td>15:39:16</td>\n",
       "      <td>-0400</td>\n",
       "      <td>elonmusk</td>\n",
       "      <td>Elon Musk</td>\n",
       "      <td></td>\n",
       "      <td>@flcnhvy True</td>\n",
       "      <td>...</td>\n",
       "      <td></td>\n",
       "      <td></td>\n",
       "      <td></td>\n",
       "      <td></td>\n",
       "      <td>[]</td>\n",
       "      <td></td>\n",
       "      <td></td>\n",
       "      <td></td>\n",
       "      <td></td>\n",
       "      <td>None</td>\n",
       "    </tr>\n",
       "    <tr>\n",
       "      <th>freq</th>\n",
       "      <td>1</td>\n",
       "      <td>34</td>\n",
       "      <td>2</td>\n",
       "      <td>49</td>\n",
       "      <td>4</td>\n",
       "      <td>11622</td>\n",
       "      <td>11622</td>\n",
       "      <td>11622</td>\n",
       "      <td>11622</td>\n",
       "      <td>6</td>\n",
       "      <td>...</td>\n",
       "      <td>11622</td>\n",
       "      <td>11622</td>\n",
       "      <td>11622</td>\n",
       "      <td>11622</td>\n",
       "      <td>2967</td>\n",
       "      <td>11622</td>\n",
       "      <td>11622</td>\n",
       "      <td>11622</td>\n",
       "      <td>11622</td>\n",
       "      <td>11622</td>\n",
       "    </tr>\n",
       "  </tbody>\n",
       "</table>\n",
       "<p>4 rows × 31 columns</p>\n",
       "</div>"
      ],
      "text/plain": [
       "                         id     conversation_id               created_at  \\\n",
       "count                 11622               11622                    11622   \n",
       "unique                11622                5665                    11619   \n",
       "top     1417453075892080641  828280866451374085  2018-04-01 18:02:31 EDT   \n",
       "freq                      1                  34                        2   \n",
       "\n",
       "              date      time timezone  username       name  place  \\\n",
       "count        11622     11622    11622     11622      11622  11622   \n",
       "unique        1465     10736        1         1          1      1   \n",
       "top     2017-03-24  15:39:16    -0400  elonmusk  Elon Musk          \n",
       "freq            49         4    11622     11622      11622  11622   \n",
       "\n",
       "                tweet  ... source user_rt_id user_rt retweet_id reply_to  \\\n",
       "count           11622  ...  11622      11622   11622      11622    11622   \n",
       "unique          11554  ...      1          1       1          1     5620   \n",
       "top     @flcnhvy True  ...                                            []   \n",
       "freq                6  ...  11622      11622   11622      11622     2967   \n",
       "\n",
       "       retweet_date translate trans_src trans_dest search  \n",
       "count         11622     11622     11622      11622  11622  \n",
       "unique            1         1         1          1      1  \n",
       "top                                                  None  \n",
       "freq          11622     11622     11622      11622  11622  \n",
       "\n",
       "[4 rows x 31 columns]"
      ]
     },
     "execution_count": 95,
     "metadata": {},
     "output_type": "execute_result"
    }
   ],
   "source": [
    "# Look at first set of object columns\n",
    "\n",
    "CEOS['elonmusk'].select_dtypes(include=['object']).describe()"
   ]
  },
  {
   "cell_type": "markdown",
   "metadata": {},
   "source": [
    "A lot of these columns I will exclude as they likely won't contribute any contributable features to predicting the stock price. I will determine the language after cleaning the tweets."
   ]
  },
  {
   "cell_type": "code",
   "execution_count": 96,
   "metadata": {},
   "outputs": [
    {
     "data": {
      "text/html": [
       "<div>\n",
       "<style scoped>\n",
       "    .dataframe tbody tr th:only-of-type {\n",
       "        vertical-align: middle;\n",
       "    }\n",
       "\n",
       "    .dataframe tbody tr th {\n",
       "        vertical-align: top;\n",
       "    }\n",
       "\n",
       "    .dataframe thead th {\n",
       "        text-align: right;\n",
       "    }\n",
       "</style>\n",
       "<table border=\"1\" class=\"dataframe\">\n",
       "  <thead>\n",
       "    <tr style=\"text-align: right;\">\n",
       "      <th></th>\n",
       "      <th>tweet</th>\n",
       "      <th>mentions</th>\n",
       "      <th>urls</th>\n",
       "      <th>photos</th>\n",
       "      <th>hashtags</th>\n",
       "      <th>cashtags</th>\n",
       "      <th>quote_url</th>\n",
       "    </tr>\n",
       "  </thead>\n",
       "  <tbody>\n",
       "    <tr>\n",
       "      <th>count</th>\n",
       "      <td>11622</td>\n",
       "      <td>11622</td>\n",
       "      <td>11622</td>\n",
       "      <td>11622</td>\n",
       "      <td>11622</td>\n",
       "      <td>11622</td>\n",
       "      <td>11622</td>\n",
       "    </tr>\n",
       "    <tr>\n",
       "      <th>unique</th>\n",
       "      <td>11554</td>\n",
       "      <td>137</td>\n",
       "      <td>746</td>\n",
       "      <td>640</td>\n",
       "      <td>17</td>\n",
       "      <td>2</td>\n",
       "      <td>382</td>\n",
       "    </tr>\n",
       "    <tr>\n",
       "      <th>top</th>\n",
       "      <td>@flcnhvy True</td>\n",
       "      <td>[]</td>\n",
       "      <td>[]</td>\n",
       "      <td>[]</td>\n",
       "      <td>[]</td>\n",
       "      <td>[]</td>\n",
       "      <td></td>\n",
       "    </tr>\n",
       "    <tr>\n",
       "      <th>freq</th>\n",
       "      <td>6</td>\n",
       "      <td>11357</td>\n",
       "      <td>10812</td>\n",
       "      <td>10983</td>\n",
       "      <td>11604</td>\n",
       "      <td>11621</td>\n",
       "      <td>11231</td>\n",
       "    </tr>\n",
       "  </tbody>\n",
       "</table>\n",
       "</div>"
      ],
      "text/plain": [
       "                tweet mentions   urls photos hashtags cashtags quote_url\n",
       "count           11622    11622  11622  11622    11622    11622     11622\n",
       "unique          11554      137    746    640       17        2       382\n",
       "top     @flcnhvy True       []     []     []       []       []          \n",
       "freq                6    11357  10812  10983    11604    11621     11231"
      ]
     },
     "execution_count": 96,
     "metadata": {},
     "output_type": "execute_result"
    }
   ],
   "source": [
    "CEOS['elonmusk'][['tweet', 'mentions', 'urls', 'photos','hashtags', 'cashtags', 'quote_url']].describe()"
   ]
  },
  {
   "cell_type": "markdown",
   "metadata": {},
   "source": [
    "The missing values are represented by empty lists. Let's turn this into a better represenation of missing values."
   ]
  },
  {
   "cell_type": "markdown",
   "metadata": {},
   "source": [
    "Let's look at the languages first."
   ]
  },
  {
   "cell_type": "code",
   "execution_count": 97,
   "metadata": {},
   "outputs": [
    {
     "name": "stdout",
     "output_type": "stream",
     "text": [
      "ELONMUSK\n",
      "en     10105\n",
      "und     1123\n",
      "tl       123\n",
      "fr        38\n",
      "de        36\n",
      "Name: language, dtype: int64\n",
      "LEVIE\n",
      "en     1677\n",
      "und      44\n",
      "fr        5\n",
      "es        3\n",
      "it        2\n",
      "Name: language, dtype: int64\n",
      "JACK\n",
      "en     4041\n",
      "und     983\n",
      "es       18\n",
      "fr       15\n",
      "in       11\n",
      "Name: language, dtype: int64\n",
      "BENIOFF\n",
      "en     4696\n",
      "und     117\n",
      "fr       17\n",
      "pt        9\n",
      "es        7\n",
      "Name: language, dtype: int64\n",
      "RICHARDBRANSON\n",
      "en     7652\n",
      "und      48\n",
      "fr        3\n",
      "tl        3\n",
      "ro        2\n",
      "Name: language, dtype: int64\n",
      "JOHNLEGERE\n",
      "en     28752\n",
      "und     8207\n",
      "pt       152\n",
      "es        55\n",
      "fr        33\n",
      "Name: language, dtype: int64\n"
     ]
    }
   ],
   "source": [
    "for CEO in CEOS:\n",
    "    print(CEO.upper())\n",
    "    print(CEOS[CEO]['language'].value_counts()[:5])"
   ]
  },
  {
   "cell_type": "markdown",
   "metadata": {},
   "source": [
    "Let's see what und is"
   ]
  },
  {
   "cell_type": "code",
   "execution_count": 98,
   "metadata": {},
   "outputs": [
    {
     "data": {
      "text/plain": [
       "15                                  @waitbutwhy Pohtaytohz\n",
       "28                                 https://t.co/d4ZOSKZESP\n",
       "31       @JeffTutorials @TonyTesla4Life @WholeMarsBlog Yes\n",
       "44                    @AaronS5_ @FrenchieEAP @karpathy Yes\n",
       "53                                      @Kristennetten Yup\n",
       "                               ...                        \n",
       "11505                                    @huntster1701 yes\n",
       "11506                                      @DavidKYoon yes\n",
       "11540                                 @asunshinegreene yes\n",
       "11605                              https://t.co/Kgkz1Z3FwJ\n",
       "11616                                         @vitiral yup\n",
       "Name: tweet, Length: 1123, dtype: object"
      ]
     },
     "execution_count": 98,
     "metadata": {},
     "output_type": "execute_result"
    }
   ],
   "source": [
    "CEOS['elonmusk']['tweet'][CEOS['elonmusk']['language'] == 'und']"
   ]
  },
  {
   "cell_type": "markdown",
   "metadata": {},
   "source": [
    "It looks like und occurs when there are a lot of mentions, links, or emojis, so I will keep this and clean them later. "
   ]
  },
  {
   "cell_type": "code",
   "execution_count": 99,
   "metadata": {},
   "outputs": [],
   "source": [
    "# Keep the en and und languages \n",
    "for CEO in CEOS:\n",
    "    CEOS[CEO] = CEOS[CEO][(CEOS[CEO]['language'] == 'en') | (CEOS[CEO]['language'] == 'und')]\n",
    "    CEOS[CEO].reset_index(inplace=True, drop=True)"
   ]
  },
  {
   "cell_type": "code",
   "execution_count": 100,
   "metadata": {},
   "outputs": [
    {
     "name": "stdout",
     "output_type": "stream",
     "text": [
      "ELONMUSK\n",
      "en     10105\n",
      "und     1123\n",
      "Name: language, dtype: int64\n",
      "11228\n",
      "LEVIE\n",
      "en     1677\n",
      "und      44\n",
      "Name: language, dtype: int64\n",
      "1721\n",
      "JACK\n",
      "en     4041\n",
      "und     983\n",
      "Name: language, dtype: int64\n",
      "5024\n",
      "BENIOFF\n",
      "en     4696\n",
      "und     117\n",
      "Name: language, dtype: int64\n",
      "4813\n",
      "RICHARDBRANSON\n",
      "en     7652\n",
      "und      48\n",
      "Name: language, dtype: int64\n",
      "7700\n",
      "JOHNLEGERE\n",
      "en     28752\n",
      "und     8207\n",
      "Name: language, dtype: int64\n",
      "36959\n"
     ]
    }
   ],
   "source": [
    "for CEO in CEOS:\n",
    "    print(CEO.upper())\n",
    "    print(CEOS[CEO]['language'].value_counts())\n",
    "    print(CEOS[CEO]['language'].value_counts().sum())"
   ]
  },
  {
   "cell_type": "markdown",
   "metadata": {},
   "source": [
    "### 1.3.2 Converting to Missing Values and Categorical Features <a id='1.3.2_Missing'></a>"
   ]
  },
  {
   "cell_type": "code",
   "execution_count": 101,
   "metadata": {},
   "outputs": [
    {
     "name": "stdout",
     "output_type": "stream",
     "text": [
      "ELONMUSK\n",
      "  mentions urls photos hashtags cashtags thumbnail\n",
      "0       []   []     []       []       []          \n",
      "1       []   []     []       []       []          \n",
      "2       []   []     []       []       []          \n",
      "LEVIE\n",
      "  mentions urls                                             photos hashtags  \\\n",
      "0       []   []                                                 []       []   \n",
      "1       []   []                                                 []       []   \n",
      "2       []   []  [https://pbs.twimg.com/media/E6vgkwJUcAIUI5z.jpg]       []   \n",
      "\n",
      "  cashtags                                        thumbnail  \n",
      "0       []                                                   \n",
      "1       []                                                   \n",
      "2       []  https://pbs.twimg.com/media/E6vgkwJUcAIUI5z.jpg  \n",
      "JACK\n",
      "  mentions                                  urls  \\\n",
      "0       []  [https://squareup.com/us/en/banking]   \n",
      "1       []                                    []   \n",
      "2       []        [https://youtu.be/VcjzHMhBtf0]   \n",
      "\n",
      "                                              photos hashtags cashtags  \\\n",
      "0                                                 []       []       []   \n",
      "1  [https://pbs.twimg.com/media/E6tGb46X0AA5ou4.jpg]       []       []   \n",
      "2                                                 []       []       []   \n",
      "\n",
      "                                         thumbnail  \n",
      "0                                                   \n",
      "1  https://pbs.twimg.com/media/E6tGb46X0AA5ou4.jpg  \n",
      "2                                                   \n",
      "BENIOFF\n",
      "                                            mentions  \\\n",
      "0  [{'screen_name': 'madmoneyoncnbc', 'name': 'ma...   \n",
      "1  [{'screen_name': 'dreamforce', 'name': 'dreamf...   \n",
      "2  [{'screen_name': 'madmoneyoncnbc', 'name': 'ma...   \n",
      "\n",
      "                                                urls photos hashtags cashtags  \\\n",
      "0  [https://www.cnbc.com/video/2021/05/27/salesfo...     []       []       []   \n",
      "1  [https://www.sfchronicle.com/business/article/...     []       []       []   \n",
      "2  [https://www.cnbc.com/video/2021/05/27/salesfo...     []       []       []   \n",
      "\n",
      "  thumbnail  \n",
      "0            \n",
      "1            \n",
      "2            \n",
      "RICHARDBRANSON\n",
      "                                            mentions urls photos hashtags  \\\n",
      "0                                                 []   []     []       []   \n",
      "1  [{'screen_name': 'virginhotels', 'name': 'virg...   []     []       []   \n",
      "2  [{'screen_name': 'blueorigin', 'name': 'blue o...   []     []       []   \n",
      "\n",
      "  cashtags thumbnail  \n",
      "0       []            \n",
      "1       []            \n",
      "2       []            \n",
      "JOHNLEGERE\n",
      "  mentions                                               urls  \\\n",
      "0       []  [https://www.buzzfeed.com/juliawilling/milo-an...   \n",
      "1       []  [https://www.theverge.com/2021/7/19/22580542/j...   \n",
      "2       []                                                 []   \n",
      "\n",
      "                                              photos hashtags cashtags  \\\n",
      "0                                                 []       []       []   \n",
      "1                                                 []       []       []   \n",
      "2  [https://pbs.twimg.com/media/E6veOyjWUAMGWtW.jpg]       []       []   \n",
      "\n",
      "                                         thumbnail  \n",
      "0                                                   \n",
      "1                                                   \n",
      "2  https://pbs.twimg.com/media/E6veOyjWUAMGWtW.jpg  \n"
     ]
    }
   ],
   "source": [
    "for CEO in CEOS:\n",
    "    print(CEO.upper())\n",
    "    print(CEOS[CEO][['mentions', 'urls', 'photos', 'hashtags', 'cashtags', 'thumbnail']].head(3))"
   ]
  },
  {
   "cell_type": "code",
   "execution_count": 102,
   "metadata": {},
   "outputs": [],
   "source": [
    "# Convert empty lists into NaNs for easier processing\n",
    "for CEO in CEOS:\n",
    "    CEOS[CEO][['mentions', 'urls', 'photos', 'hashtags', 'cashtags', 'thumbnail']] = CEOS[CEO][['mentions', 'urls', 'photos', 'hashtags','cashtags', 'thumbnail']].applymap(lambda x: np.nan if len(x) == 0 else x)\n",
    "    "
   ]
  },
  {
   "cell_type": "code",
   "execution_count": 103,
   "metadata": {},
   "outputs": [
    {
     "name": "stdout",
     "output_type": "stream",
     "text": [
      "ELONMUSK\n",
      "<class 'pandas.core.frame.DataFrame'>\n",
      "RangeIndex: 11228 entries, 0 to 11227\n",
      "Data columns (total 6 columns):\n",
      " #   Column     Non-Null Count  Dtype  \n",
      "---  ------     --------------  -----  \n",
      " 0   mentions   259 non-null    object \n",
      " 1   urls       775 non-null    object \n",
      " 2   photos     607 non-null    object \n",
      " 3   hashtags   18 non-null     object \n",
      " 4   cashtags   0 non-null      float64\n",
      " 5   thumbnail  672 non-null    object \n",
      "dtypes: float64(1), object(5)\n",
      "memory usage: 526.4+ KB\n",
      "None\n",
      "LEVIE\n",
      "<class 'pandas.core.frame.DataFrame'>\n",
      "RangeIndex: 1721 entries, 0 to 1720\n",
      "Data columns (total 6 columns):\n",
      " #   Column     Non-Null Count  Dtype \n",
      "---  ------     --------------  ----- \n",
      " 0   mentions   81 non-null     object\n",
      " 1   urls       165 non-null    object\n",
      " 2   photos     135 non-null    object\n",
      " 3   hashtags   12 non-null     object\n",
      " 4   cashtags   2 non-null      object\n",
      " 5   thumbnail  148 non-null    object\n",
      "dtypes: object(6)\n",
      "memory usage: 80.8+ KB\n",
      "None\n",
      "JACK\n",
      "<class 'pandas.core.frame.DataFrame'>\n",
      "RangeIndex: 5024 entries, 0 to 5023\n",
      "Data columns (total 6 columns):\n",
      " #   Column     Non-Null Count  Dtype \n",
      "---  ------     --------------  ----- \n",
      " 0   mentions   729 non-null    object\n",
      " 1   urls       1124 non-null   object\n",
      " 2   photos     462 non-null    object\n",
      " 3   hashtags   410 non-null    object\n",
      " 4   cashtags   5 non-null      object\n",
      " 5   thumbnail  470 non-null    object\n",
      "dtypes: object(6)\n",
      "memory usage: 235.6+ KB\n",
      "None\n",
      "BENIOFF\n",
      "<class 'pandas.core.frame.DataFrame'>\n",
      "RangeIndex: 4813 entries, 0 to 4812\n",
      "Data columns (total 6 columns):\n",
      " #   Column     Non-Null Count  Dtype  \n",
      "---  ------     --------------  -----  \n",
      " 0   mentions   2367 non-null   object \n",
      " 1   urls       2612 non-null   object \n",
      " 2   photos     1651 non-null   object \n",
      " 3   hashtags   329 non-null    object \n",
      " 4   cashtags   0 non-null      float64\n",
      " 5   thumbnail  2026 non-null   object \n",
      "dtypes: float64(1), object(5)\n",
      "memory usage: 225.7+ KB\n",
      "None\n",
      "RICHARDBRANSON\n",
      "<class 'pandas.core.frame.DataFrame'>\n",
      "RangeIndex: 7700 entries, 0 to 7699\n",
      "Data columns (total 6 columns):\n",
      " #   Column     Non-Null Count  Dtype  \n",
      "---  ------     --------------  -----  \n",
      " 0   mentions   3400 non-null   object \n",
      " 1   urls       6331 non-null   object \n",
      " 2   photos     5460 non-null   object \n",
      " 3   hashtags   2742 non-null   object \n",
      " 4   cashtags   0 non-null      float64\n",
      " 5   thumbnail  5933 non-null   object \n",
      "dtypes: float64(1), object(5)\n",
      "memory usage: 361.1+ KB\n",
      "None\n",
      "JOHNLEGERE\n",
      "<class 'pandas.core.frame.DataFrame'>\n",
      "RangeIndex: 36959 entries, 0 to 36958\n",
      "Data columns (total 6 columns):\n",
      " #   Column     Non-Null Count  Dtype \n",
      "---  ------     --------------  ----- \n",
      " 0   mentions   7550 non-null   object\n",
      " 1   urls       7379 non-null   object\n",
      " 2   photos     9057 non-null   object\n",
      " 3   hashtags   9188 non-null   object\n",
      " 4   cashtags   222 non-null    object\n",
      " 5   thumbnail  9940 non-null   object\n",
      "dtypes: object(6)\n",
      "memory usage: 1.7+ MB\n",
      "None\n"
     ]
    }
   ],
   "source": [
    "for CEO in CEOS:\n",
    "    print(CEO.upper())\n",
    "    print(CEOS[CEO][['mentions', 'urls', 'photos', 'hashtags', 'cashtags', 'thumbnail']].info())"
   ]
  },
  {
   "cell_type": "code",
   "execution_count": 104,
   "metadata": {
    "scrolled": true
   },
   "outputs": [
    {
     "name": "stdout",
     "output_type": "stream",
     "text": [
      "ELONMUSK\n",
      "\n",
      "\n",
      "missing values\n",
      "===============\n",
      "mentions     10969\n",
      "urls         10453\n",
      "photos       10621\n",
      "hashtags     11210\n",
      "cashtags     11228\n",
      "thumbnail    10556\n",
      "dtype: int64\n",
      "\n",
      "\n",
      "LEVIE\n",
      "\n",
      "\n",
      "missing values\n",
      "===============\n",
      "mentions     1640\n",
      "urls         1556\n",
      "photos       1586\n",
      "hashtags     1709\n",
      "cashtags     1719\n",
      "thumbnail    1573\n",
      "dtype: int64\n",
      "\n",
      "\n",
      "JACK\n",
      "\n",
      "\n",
      "missing values\n",
      "===============\n",
      "mentions     4295\n",
      "urls         3900\n",
      "photos       4562\n",
      "hashtags     4614\n",
      "cashtags     5019\n",
      "thumbnail    4554\n",
      "dtype: int64\n",
      "\n",
      "\n",
      "BENIOFF\n",
      "\n",
      "\n",
      "missing values\n",
      "===============\n",
      "mentions     2446\n",
      "urls         2201\n",
      "photos       3162\n",
      "hashtags     4484\n",
      "cashtags     4813\n",
      "thumbnail    2787\n",
      "dtype: int64\n",
      "\n",
      "\n",
      "RICHARDBRANSON\n",
      "\n",
      "\n",
      "missing values\n",
      "===============\n",
      "mentions     4300\n",
      "urls         1369\n",
      "photos       2240\n",
      "hashtags     4958\n",
      "cashtags     7700\n",
      "thumbnail    1767\n",
      "dtype: int64\n",
      "\n",
      "\n",
      "JOHNLEGERE\n",
      "\n",
      "\n",
      "missing values\n",
      "===============\n",
      "mentions     29409\n",
      "urls         29580\n",
      "photos       27902\n",
      "hashtags     27771\n",
      "cashtags     36737\n",
      "thumbnail    27019\n",
      "dtype: int64\n",
      "\n",
      "\n"
     ]
    }
   ],
   "source": [
    "for CEO in CEOS:\n",
    "    print(CEO.upper())\n",
    "    print('\\n')\n",
    "    print('missing values')\n",
    "    print('===============')\n",
    "    print(CEOS[CEO][['mentions', 'urls', 'photos', 'hashtags', 'cashtags', 'thumbnail']].isna().sum())\n",
    "    print('\\n')"
   ]
  },
  {
   "cell_type": "code",
   "execution_count": 105,
   "metadata": {
    "scrolled": true
   },
   "outputs": [
    {
     "name": "stdout",
     "output_type": "stream",
     "text": [
      "MENTIONS\n",
      "6        [{'screen_name': 'lifehacker', 'name': 'lifeha...\n",
      "18       [{'screen_name': 'neilbarua', 'name': 'neil ba...\n",
      "20       [{'screen_name': 'candace_parker', 'name': 'ca...\n",
      "29       [{'screen_name': 'coolcatsnft', 'name': 'cool ...\n",
      "43       [{'screen_name': 'richardbranson', 'name': 'ri...\n",
      "                               ...                        \n",
      "36951    [{'screen_name': 'theorlandojones', 'name': 'o...\n",
      "36952    [{'screen_name': 'tmobile', 'name': 't-mobile'...\n",
      "36954    [{'screen_name': 'att', 'name': 'at&t', 'id': ...\n",
      "36956    [{'screen_name': 'att', 'name': 'at&t', 'id': ...\n",
      "36957    [{'screen_name': 'att', 'name': 'at&t', 'id': ...\n",
      "Name: mentions, Length: 7550, dtype: object\n",
      "===========\n",
      "URLS\n",
      "0        [https://www.buzzfeed.com/juliawilling/milo-an...\n",
      "1        [https://www.theverge.com/2021/7/19/22580542/j...\n",
      "3        [https://mashable.com/article/nasa-hubble-imag...\n",
      "5        [https://www.buzzfeed.com/hannahloewentheil/pe...\n",
      "6        [https://lifehacker.com/youve-probably-been-pi...\n",
      "                               ...                        \n",
      "36947                              [http://bit.ly/29YdERB]\n",
      "36948                              [http://bit.ly/2a4U3yK]\n",
      "36949    [https://www.pscp.tv/w/al6BUTE4NTc4fDF5bkpPemV...\n",
      "36955                              [http://bit.ly/29VyzUb]\n",
      "36958                              [http://bit.ly/2a8AhnH]\n",
      "Name: urls, Length: 7379, dtype: object\n",
      "===========\n",
      "PHOTOS\n",
      "2        [https://pbs.twimg.com/media/E6veOyjWUAMGWtW.jpg]\n",
      "4        [https://pbs.twimg.com/media/E6rjNVWWYAIctsn.j...\n",
      "10       [https://pbs.twimg.com/media/E6lviueWYAAKq8l.jpg]\n",
      "11       [https://pbs.twimg.com/media/E6hfHbEWEAYWwwN.j...\n",
      "28       [https://pbs.twimg.com/media/E6LfrZOWQAkT_AO.jpg]\n",
      "                               ...                        \n",
      "36924    [https://pbs.twimg.com/media/Cn7QFz0UkAEqLO6.jpg]\n",
      "36932    [https://pbs.twimg.com/media/Cn5qTfJWEAEIQyr.jpg]\n",
      "36945    [https://pbs.twimg.com/media/Cn2s0M8UkAIn0vg.jpg]\n",
      "36955    [https://pbs.twimg.com/media/Cn0gBayUMAELRqs.jpg]\n",
      "36957    [https://pbs.twimg.com/media/Cn0fMkOVYAIWdTB.jpg]\n",
      "Name: photos, Length: 9057, dtype: object\n",
      "===========\n",
      "HASHTAGS\n",
      "14                    [worldemojiday]\n",
      "28                       [callonjohn]\n",
      "77                       [callonjohn]\n",
      "100                      [callonjohn]\n",
      "122                [standwithreality]\n",
      "                     ...             \n",
      "36952      [duopoly, wednesdaywisdom]\n",
      "36954           [deatthstar, dumpatt]\n",
      "36955           [dumpatt, deatthstar]\n",
      "36957       [deatthstar, notshocking]\n",
      "36958    [pokemongo, tmobiletuesdays]\n",
      "Name: hashtags, Length: 9188, dtype: object\n",
      "===========\n",
      "CASHTAGS\n",
      "780            [tmus]\n",
      "1159           [tmus]\n",
      "2378           [tmus]\n",
      "2379           [tmus]\n",
      "2384           [tmus]\n",
      "             ...     \n",
      "36831          [tmus]\n",
      "36832          [tmus]\n",
      "36836          [tmus]\n",
      "36838    [tmus, tmus]\n",
      "36849      [vz, t, s]\n",
      "Name: cashtags, Length: 222, dtype: object\n",
      "===========\n",
      "THUMBNAIL\n",
      "2        https://pbs.twimg.com/media/E6veOyjWUAMGWtW.jpg\n",
      "4        https://pbs.twimg.com/media/E6rjNVWWYAIctsn.jpg\n",
      "10       https://pbs.twimg.com/media/E6lviueWYAAKq8l.jpg\n",
      "11       https://pbs.twimg.com/media/E6hfHbEWEAYWwwN.jpg\n",
      "28       https://pbs.twimg.com/media/E6LfrZOWQAkT_AO.jpg\n",
      "                              ...                       \n",
      "36924    https://pbs.twimg.com/media/Cn7QFz0UkAEqLO6.jpg\n",
      "36932    https://pbs.twimg.com/media/Cn5qTfJWEAEIQyr.jpg\n",
      "36945    https://pbs.twimg.com/media/Cn2s0M8UkAIn0vg.jpg\n",
      "36955    https://pbs.twimg.com/media/Cn0gBayUMAELRqs.jpg\n",
      "36957    https://pbs.twimg.com/media/Cn0fMkOVYAIWdTB.jpg\n",
      "Name: thumbnail, Length: 9940, dtype: object\n",
      "===========\n"
     ]
    }
   ],
   "source": [
    "categ = ['mentions', 'urls', 'photos', 'hashtags', 'cashtags', 'thumbnail']\n",
    "for categorical in categ:\n",
    "    print(categorical.upper())\n",
    "    print(CEOS['JohnLegere'][categorical][~CEOS['JohnLegere'][categorical].isna()])\n",
    "    print('===========')"
   ]
  },
  {
   "cell_type": "code",
   "execution_count": 106,
   "metadata": {},
   "outputs": [
    {
     "name": "stdout",
     "output_type": "stream",
     "text": [
      "CPU times: user 1min 9s, sys: 734 ms, total: 1min 10s\n",
      "Wall time: 1min 16s\n"
     ]
    }
   ],
   "source": [
    "%%time\n",
    "# Change categoricals to binary values\n",
    "for CEO in CEOS:\n",
    "    for categorical in categ:\n",
    "        CEOS[CEO][categorical][CEOS[CEO][categorical].isnull()] = 0\n",
    "\n",
    "for CEO in CEOS:\n",
    "    for categorical in categ:\n",
    "        for i in range(len(CEOS[CEO])):\n",
    "            if CEOS[CEO][categorical].iloc[i] != 0:\n",
    "                if categorical != 'thumbnail':\n",
    "                    CEOS[CEO][categorical].iloc[i] = len(CEOS[CEO][categorical].iloc[i])\n",
    "                else:\n",
    "                    CEOS[CEO]['thumbnail'].iloc[i] = 1"
   ]
  },
  {
   "cell_type": "code",
   "execution_count": 107,
   "metadata": {},
   "outputs": [],
   "source": [
    "for CEO in CEOS:\n",
    "    CEOS[CEO]['cashtags'] = CEOS[CEO]['cashtags'].astype(int)"
   ]
  },
  {
   "cell_type": "code",
   "execution_count": 108,
   "metadata": {
    "scrolled": false
   },
   "outputs": [
    {
     "name": "stdout",
     "output_type": "stream",
     "text": [
      "ELONMUSK\n",
      "0    10969\n",
      "1      230\n",
      "2       25\n",
      "3        2\n",
      "4        2\n",
      "Name: mentions, dtype: int64\n",
      "============\n",
      "0    10453\n",
      "1      765\n",
      "2        9\n",
      "3        1\n",
      "Name: urls, dtype: int64\n",
      "============\n",
      "0    10621\n",
      "1      571\n",
      "2       23\n",
      "3       11\n",
      "4        2\n",
      "Name: photos, dtype: int64\n",
      "============\n",
      "0    11210\n",
      "1       17\n",
      "2        1\n",
      "Name: hashtags, dtype: int64\n",
      "============\n",
      "0    11228\n",
      "Name: cashtags, dtype: int64\n",
      "============\n",
      "0    10556\n",
      "1      672\n",
      "Name: thumbnail, dtype: int64\n",
      "============\n",
      "LEVIE\n",
      "0    1640\n",
      "1      64\n",
      "2      15\n",
      "3       2\n",
      "Name: mentions, dtype: int64\n",
      "============\n",
      "0    1556\n",
      "1     164\n",
      "2       1\n",
      "Name: urls, dtype: int64\n",
      "============\n",
      "0    1586\n",
      "1     127\n",
      "2       6\n",
      "4       2\n",
      "Name: photos, dtype: int64\n",
      "============\n",
      "0    1709\n",
      "1      12\n",
      "Name: hashtags, dtype: int64\n",
      "============\n",
      "0    1719\n",
      "1       2\n",
      "Name: cashtags, dtype: int64\n",
      "============\n",
      "0    1573\n",
      "1     148\n",
      "Name: thumbnail, dtype: int64\n",
      "============\n",
      "JACK\n",
      "0    4295\n",
      "1     571\n",
      "2     118\n",
      "3      30\n",
      "4       8\n",
      "8       1\n",
      "9       1\n",
      "Name: mentions, dtype: int64\n",
      "============\n",
      "0    3900\n",
      "1    1113\n",
      "2      11\n",
      "Name: urls, dtype: int64\n",
      "============\n",
      "0    4562\n",
      "1     411\n",
      "2      25\n",
      "4      16\n",
      "3      10\n",
      "Name: photos, dtype: int64\n",
      "============\n",
      "0    4614\n",
      "1     386\n",
      "2      22\n",
      "3       2\n",
      "Name: hashtags, dtype: int64\n",
      "============\n",
      "0    5019\n",
      "1       4\n",
      "2       1\n",
      "Name: cashtags, dtype: int64\n",
      "============\n",
      "0    4554\n",
      "1     470\n",
      "Name: thumbnail, dtype: int64\n",
      "============\n",
      "BENIOFF\n",
      "0     2446\n",
      "1     1376\n",
      "2      632\n",
      "3      232\n",
      "4       79\n",
      "5       26\n",
      "6        9\n",
      "7        7\n",
      "8        5\n",
      "18       1\n",
      "Name: mentions, dtype: int64\n",
      "============\n",
      "1    2504\n",
      "0    2201\n",
      "2      99\n",
      "3       9\n",
      "Name: urls, dtype: int64\n",
      "============\n",
      "0    3162\n",
      "1    1345\n",
      "4     199\n",
      "2      93\n",
      "3      14\n",
      "Name: photos, dtype: int64\n",
      "============\n",
      "0    4484\n",
      "1     295\n",
      "2      31\n",
      "3       3\n",
      "Name: hashtags, dtype: int64\n",
      "============\n",
      "0    4813\n",
      "Name: cashtags, dtype: int64\n",
      "============\n",
      "0    2787\n",
      "1    2026\n",
      "Name: thumbnail, dtype: int64\n",
      "============\n",
      "RICHARDBRANSON\n",
      "0     4300\n",
      "1     2378\n",
      "2      777\n",
      "3      179\n",
      "4       44\n",
      "5       14\n",
      "8        3\n",
      "6        2\n",
      "9        2\n",
      "10       1\n",
      "Name: mentions, dtype: int64\n",
      "============\n",
      "1    6310\n",
      "0    1369\n",
      "2      21\n",
      "Name: urls, dtype: int64\n",
      "============\n",
      "1    5395\n",
      "0    2240\n",
      "2      41\n",
      "3      24\n",
      "Name: photos, dtype: int64\n",
      "============\n",
      "0    4958\n",
      "1    2378\n",
      "2     303\n",
      "3      52\n",
      "4       7\n",
      "5       1\n",
      "6       1\n",
      "Name: hashtags, dtype: int64\n",
      "============\n",
      "0    7700\n",
      "Name: cashtags, dtype: int64\n",
      "============\n",
      "1    5933\n",
      "0    1767\n",
      "Name: thumbnail, dtype: int64\n",
      "============\n",
      "JOHNLEGERE\n",
      "0     29409\n",
      "1      5814\n",
      "2      1227\n",
      "3       303\n",
      "4        98\n",
      "5        38\n",
      "6        17\n",
      "7        12\n",
      "8        11\n",
      "12        6\n",
      "10        5\n",
      "9         5\n",
      "11        4\n",
      "14        3\n",
      "17        2\n",
      "15        2\n",
      "13        1\n",
      "18        1\n",
      "16        1\n",
      "Name: mentions, dtype: int64\n",
      "============\n",
      "0    29580\n",
      "1     7280\n",
      "2       98\n",
      "4        1\n",
      "Name: urls, dtype: int64\n",
      "============\n",
      "0    27902\n",
      "1     8331\n",
      "2      359\n",
      "4      251\n",
      "3      116\n",
      "Name: photos, dtype: int64\n",
      "============\n",
      "0     27771\n",
      "1      6689\n",
      "2      1887\n",
      "3       481\n",
      "4       101\n",
      "5        21\n",
      "6         2\n",
      "17        2\n",
      "11        2\n",
      "22        1\n",
      "7         1\n",
      "20        1\n",
      "Name: hashtags, dtype: int64\n",
      "============\n",
      "0    36737\n",
      "1      202\n",
      "2       16\n",
      "3        4\n",
      "Name: cashtags, dtype: int64\n",
      "============\n",
      "0    27019\n",
      "1     9940\n",
      "Name: thumbnail, dtype: int64\n",
      "============\n"
     ]
    }
   ],
   "source": [
    "for CEO in CEOS:\n",
    "    print(CEO.upper())\n",
    "    for categorical in categ:\n",
    "        print(CEOS[CEO][categorical].value_counts())\n",
    "        print('============')"
   ]
  },
  {
   "cell_type": "markdown",
   "metadata": {},
   "source": [
    "### 1.3.3 Select Feature Columns and Combine Tweets for Each Day <a id='1.3.3_Features'></a>\n",
    "\n",
    "I will be keeping most of the categorical and int features, but I won't be keeping the Cashtag column as it is empty for most of the tweets"
   ]
  },
  {
   "cell_type": "code",
   "execution_count": 109,
   "metadata": {},
   "outputs": [],
   "source": [
    "# Set appropriate columns \n",
    "\n",
    "for CEO in CEOS:\n",
    "    CEOS[CEO] = CEOS[CEO][[\n",
    "        'date', 'time', 'username', 'tweet', \n",
    "        'mentions', 'hashtags', 'cashtags', 'video', 'photos', 'urls', 'thumbnail', \n",
    "        'replies_count', 'retweets_count', 'likes_count',\n",
    "       ]]"
   ]
  },
  {
   "cell_type": "code",
   "execution_count": 110,
   "metadata": {},
   "outputs": [],
   "source": [
    "# Need to change some of the features to integers\n",
    "for CEO in CEOS:\n",
    "    CEOS[CEO].fillna(0, inplace=True)"
   ]
  },
  {
   "cell_type": "markdown",
   "metadata": {},
   "source": [
    "I will make a separate dataframe for these and append them to a dataframe of tweets that have been grouped by the date. Because I am looking how tweets impact the stock prices, I want to analyze tweets that happen before the price point. To this end I will be looking at the closing price, and tweets that occur on the same day after the market closes will be counted towards the following day. "
   ]
  },
  {
   "cell_type": "code",
   "execution_count": 111,
   "metadata": {},
   "outputs": [],
   "source": [
    "num_tweets = len(CEOS['elonmusk'])"
   ]
  },
  {
   "cell_type": "code",
   "execution_count": 112,
   "metadata": {},
   "outputs": [
    {
     "data": {
      "text/plain": [
       "11228"
      ]
     },
     "execution_count": 112,
     "metadata": {},
     "output_type": "execute_result"
    }
   ],
   "source": [
    "num_tweets"
   ]
  },
  {
   "cell_type": "code",
   "execution_count": 113,
   "metadata": {
    "scrolled": false
   },
   "outputs": [
    {
     "name": "stdout",
     "output_type": "stream",
     "text": [
      "CPU times: user 1min 59s, sys: 1.59 s, total: 2min\n",
      "Wall time: 2min 14s\n"
     ]
    }
   ],
   "source": [
    "%%time \n",
    "for CEO in CEOS:\n",
    "    CEOS[CEO] = combine_tweets(CEOS[CEO])"
   ]
  },
  {
   "cell_type": "code",
   "execution_count": 114,
   "metadata": {},
   "outputs": [],
   "source": [
    "assert num_tweets == CEOS['elonmusk']['number of tweets'].sum()"
   ]
  },
  {
   "cell_type": "code",
   "execution_count": 115,
   "metadata": {},
   "outputs": [
    {
     "name": "stdout",
     "output_type": "stream",
     "text": [
      "ELONMUSK\n",
      "Number of days collected: 2179\n",
      "\n",
      "LEVIE\n",
      "Number of days collected: 957\n",
      "\n",
      "JACK\n",
      "Number of days collected: 1476\n",
      "\n",
      "BENIOFF\n",
      "Number of days collected: 1868\n",
      "\n",
      "RICHARDBRANSON\n",
      "Number of days collected: 2009\n",
      "\n",
      "JOHNLEGERE\n",
      "Number of days collected: 3415\n",
      "\n"
     ]
    }
   ],
   "source": [
    "for CEO in CEOS:\n",
    "    print(CEO.upper())\n",
    "    print('Number of days collected: {}'.format(CEOS[CEO].shape[0]))\n",
    "    print(\"\")"
   ]
  },
  {
   "cell_type": "markdown",
   "metadata": {},
   "source": [
    "## 1.4 Combining Stocks and Tweets DataFrames <a id='1.4_Combining_DataFrames'></a>"
   ]
  },
  {
   "cell_type": "code",
   "execution_count": 116,
   "metadata": {
    "scrolled": true
   },
   "outputs": [
    {
     "name": "stdout",
     "output_type": "stream",
     "text": [
      "<built-in method upper of str object at 0x7fd4ec643130>\n",
      "                 date      price  percent change\n",
      "0 2016-08-23 09:30:00  44.863998        0.000000\n",
      "1 2016-08-23 16:00:00  44.967999        0.002318\n",
      "2 2016-08-24 09:30:00  45.410000        0.009829\n",
      "\n",
      "<built-in method upper of str object at 0x7fd4ff8a51b0>\n",
      "                 date  price  percent change\n",
      "0 2016-08-23 09:30:00  12.95        0.000000\n",
      "1 2016-08-23 16:00:00  13.30        0.027027\n",
      "2 2016-08-24 09:30:00  13.40        0.007519\n",
      "\n",
      "<built-in method upper of str object at 0x7fd4ec643170>\n",
      "                 date      price  percent change\n",
      "0 2016-08-23 09:30:00  18.650000        0.000000\n",
      "1 2016-08-23 16:00:00  18.690001        0.002145\n",
      "2 2016-08-24 09:30:00  18.799999        0.005885\n",
      "\n",
      "<built-in method upper of str object at 0x7fd4ec643030>\n",
      "                 date      price  percent change\n",
      "0 2016-08-23 09:30:00  77.820000        0.000000\n",
      "1 2016-08-23 16:00:00  78.019997        0.002570\n",
      "2 2016-08-24 09:30:00  78.000000       -0.000256\n",
      "\n",
      "<built-in method upper of str object at 0x7fd4ec6430b0>\n",
      "                 date      price  percent change\n",
      "0 2017-09-29 09:30:00  10.500000        0.000000\n",
      "1 2017-09-29 16:00:00  10.100000       -0.038095\n",
      "2 2017-09-30 09:30:00  10.383333        0.028053\n",
      "\n",
      "<built-in method upper of str object at 0x7fd4ec643330>\n",
      "                 date      price  percent change\n",
      "0 2016-08-23 09:30:00  46.959999        0.000000\n",
      "1 2016-08-23 16:00:00  46.830002       -0.002768\n",
      "2 2016-08-24 09:30:00  46.660000       -0.003630\n",
      "\n"
     ]
    }
   ],
   "source": [
    "# merge stocks on to tweets\n",
    "for stock in stocks:\n",
    "    stocks[stock].reset_index(inplace=True)\n",
    "    print(stock.upper)\n",
    "    print(stocks[stock].head(3))\n",
    "    print(\"\")"
   ]
  },
  {
   "cell_type": "code",
   "execution_count": 117,
   "metadata": {},
   "outputs": [],
   "source": [
    "CEOS_list = list(CEOS.keys())\n",
    "stocks_list = list(stocks.keys())"
   ]
  },
  {
   "cell_type": "code",
   "execution_count": 118,
   "metadata": {},
   "outputs": [],
   "source": [
    "for i in range(len(CEOS_list)):\n",
    "    CEOS[CEOS_list[i]] = CEOS[CEOS_list[i]].merge(stocks[stocks_list[i]], how='left', on='date')"
   ]
  },
  {
   "cell_type": "code",
   "execution_count": 119,
   "metadata": {
    "scrolled": true
   },
   "outputs": [
    {
     "name": "stdout",
     "output_type": "stream",
     "text": [
      "ELONMUSK\n",
      "                 date                                              tweet  \\\n",
      "0 2021-07-20 09:30:00   @vincent13031925 Great to hear! @blueorigin B...   \n",
      "1 2021-07-19 16:00:00  @jack @BitcoinMagazine @CathieDWood Sure, I ha...   \n",
      "2 2021-07-19 09:30:00  @DragTimes @Tesla Nice @WholeMarsBlog You don’...   \n",
      "\n",
      "   username  mentions  hashtags  cashtags  video  photos  urls  thumbnail  \\\n",
      "0  elonmusk         0         0         0      0       0     0          0   \n",
      "1  elonmusk         0         0         0      0       0     1          0   \n",
      "2  elonmusk         0         0         0      0       0     0          0   \n",
      "\n",
      "   replies_count  retweets_count  likes_count  number of tweets       price  \\\n",
      "0           7024            7245       145057                 4  651.989990   \n",
      "1           1953            1477        22616                 2  646.219971   \n",
      "2           1257             819        19337                 2  629.890015   \n",
      "\n",
      "   percent change  \n",
      "0        0.008929  \n",
      "1        0.025925  \n",
      "2       -0.024263  \n",
      "LEVIE\n",
      "                 date                                              tweet  \\\n",
      "0 2021-07-20 16:00:00   This is a very sad take on entrepreneurship S...   \n",
      "1 2021-07-20 09:30:00                   Amazing  https://t.co/YGDtOVvm92   \n",
      "2 2021-07-19 09:30:00    @rowantrollope @ericsyuan 🥳🎉🥂 congrats you two!   \n",
      "\n",
      "  username  mentions  hashtags  cashtags  video  photos  urls  thumbnail  \\\n",
      "0    levie         0         0         0      0       0     0          0   \n",
      "1    levie         0         0         0      1       1     0          1   \n",
      "2    levie         1         0         0      0       0     0          0   \n",
      "\n",
      "   replies_count  retweets_count  likes_count  number of tweets      price  \\\n",
      "0             63              80          970                 2  23.740000   \n",
      "1              3               6          145                 1  23.129999   \n",
      "2              1               1           16                 1  23.260000   \n",
      "\n",
      "   percent change  \n",
      "0        0.026373  \n",
      "1        0.006966  \n",
      "2        0.005331  \n",
      "JACK\n",
      "                 date                                              tweet  \\\n",
      "0 2021-07-20 09:30:00   Square Banking is live! Checking, savings, de...   \n",
      "1 2021-07-19 16:00:00  @elonmusk @BitcoinMagazine @CathieDWood Can I ...   \n",
      "2 2021-07-18 16:00:00                @MikeTyson  https://t.co/0j3aZAXcwp   \n",
      "\n",
      "  username  mentions  hashtags  cashtags  video  photos  urls  thumbnail  \\\n",
      "0     jack         0         0         0      1       1     2          1   \n",
      "1     jack         0         0         0      0       0     0          0   \n",
      "2     jack         0         0         0      0       0     1          0   \n",
      "\n",
      "   replies_count  retweets_count  likes_count  number of tweets      price  \\\n",
      "0            665             847         7807                 3  66.250000   \n",
      "1            399             378         9588                 1  66.019997   \n",
      "2             27              76          643                 1  66.149999   \n",
      "\n",
      "   percent change  \n",
      "0        0.003484  \n",
      "1        0.011956  \n",
      "2       -0.002964  \n",
      "BENIOFF\n",
      "                 date                                              tweet  \\\n",
      "0 2021-05-28 09:30:00   Wonderful to be on @MadMoneyOnCNBC tonight an...   \n",
      "1 2021-05-27 16:00:00  Our 2nd relief aircraft has landed in India &a...   \n",
      "2 2021-05-26 16:00:00  Congrats @zackparisa @MaxNova90! “Mi­crosoft, ...   \n",
      "\n",
      "  username  mentions  hashtags  cashtags  video  photos  urls  thumbnail  \\\n",
      "0  Benioff         4         0         0      1       1     3          1   \n",
      "1  Benioff         3         0         0      1       0     0          1   \n",
      "2  Benioff         3         0         0      0       0     1          0   \n",
      "\n",
      "   replies_count  retweets_count  likes_count  number of tweets       price  \\\n",
      "0            128             407         4397                 4  239.220001   \n",
      "1             34             104          866                 1  225.830002   \n",
      "2              7              18           97                 1  229.679993   \n",
      "\n",
      "   percent change  \n",
      "0        0.059292  \n",
      "1       -0.016077  \n",
      "2        0.005252  \n",
      "RICHARDBRANSON\n",
      "                 date                                              tweet  \\\n",
      "0 2021-07-20 16:00:00   @virginplus Brilliant! @virginhotels @VirginV...   \n",
      "1 2021-07-19 16:00:00  Virgin Mobile Canada has become @virginplus – ...   \n",
      "2 2021-07-19 09:30:00  The moment we saw Earth from space... @virging...   \n",
      "\n",
      "         username  mentions  hashtags  cashtags  video  photos  urls  \\\n",
      "0  richardbranson         5         0         0      0       0     0   \n",
      "1  richardbranson         1         1         0      1       0     1   \n",
      "2  richardbranson         3         2         0      2       1     1   \n",
      "\n",
      "   thumbnail  replies_count  retweets_count  likes_count  number of tweets  \\\n",
      "0          0            422            1047        14275                 3   \n",
      "1          1             46              29          292                 1   \n",
      "2          2            440             698         8142                20   \n",
      "\n",
      "       price  percent change  \n",
      "0  32.029999        0.030235  \n",
      "1  32.400002        0.100170  \n",
      "2  29.450001       -0.070000  \n",
      "JOHNLEGERE\n",
      "                 date                                              tweet  \\\n",
      "0 2021-07-20 16:00:00   WOW this looks so delicious!  https://t.co/hn...   \n",
      "1 2021-07-20 09:30:00  Call on John is POSTPONED for today but tune i...   \n",
      "2 2021-07-19 16:00:00  Gorgeous! Maybe I should charter a magenta roc...   \n",
      "\n",
      "     username  mentions  hashtags  cashtags  video  photos  urls  thumbnail  \\\n",
      "0  JohnLegere         0         0         0      0       0     2          0   \n",
      "1  JohnLegere         0         0         0      1       1     0          1   \n",
      "2  JohnLegere         1         0         0      1       2     3          1   \n",
      "\n",
      "   replies_count  retweets_count  likes_count  number of tweets       price  \\\n",
      "0             28               9          115                 2  144.399994   \n",
      "1              7               3           18                 1  144.789993   \n",
      "2             25              17          236                 4  144.610001   \n",
      "\n",
      "   percent change  \n",
      "0       -0.002694  \n",
      "1        0.001245  \n",
      "2       -0.019593  \n"
     ]
    }
   ],
   "source": [
    "for CEO in CEOS:\n",
    "    print(CEO.upper())\n",
    "    print(CEOS[CEO].head(3))"
   ]
  },
  {
   "cell_type": "markdown",
   "metadata": {},
   "source": [
    "### 1.4.1 Sort DataFrames and Clean <a id='1.4.1_Sorting_and_Cleaning'></a>"
   ]
  },
  {
   "cell_type": "code",
   "execution_count": 120,
   "metadata": {},
   "outputs": [],
   "source": [
    "# Sort by date and reset index\n",
    "\n",
    "for CEO in CEOS:\n",
    "    CEOS[CEO] = CEOS[CEO].sort_values(by='date')\n",
    "    CEOS[CEO] = CEOS[CEO].set_index('date')\n",
    "    CEOS[CEO] = CEOS[CEO].reset_index()"
   ]
  },
  {
   "cell_type": "code",
   "execution_count": 121,
   "metadata": {},
   "outputs": [
    {
     "name": "stdout",
     "output_type": "stream",
     "text": [
      "elonmusk\n",
      "date                False\n",
      "tweet               False\n",
      "username            False\n",
      "mentions            False\n",
      "hashtags            False\n",
      "cashtags            False\n",
      "video               False\n",
      "photos              False\n",
      "urls                False\n",
      "thumbnail           False\n",
      "replies_count       False\n",
      "retweets_count      False\n",
      "likes_count         False\n",
      "number of tweets    False\n",
      "price                True\n",
      "percent change       True\n",
      "dtype: bool\n",
      "levie\n",
      "date                False\n",
      "tweet               False\n",
      "username            False\n",
      "mentions            False\n",
      "hashtags            False\n",
      "cashtags            False\n",
      "video               False\n",
      "photos              False\n",
      "urls                False\n",
      "thumbnail           False\n",
      "replies_count       False\n",
      "retweets_count      False\n",
      "likes_count         False\n",
      "number of tweets    False\n",
      "price                True\n",
      "percent change       True\n",
      "dtype: bool\n",
      "jack\n",
      "date                False\n",
      "tweet               False\n",
      "username            False\n",
      "mentions            False\n",
      "hashtags            False\n",
      "cashtags            False\n",
      "video               False\n",
      "photos              False\n",
      "urls                False\n",
      "thumbnail           False\n",
      "replies_count       False\n",
      "retweets_count      False\n",
      "likes_count         False\n",
      "number of tweets    False\n",
      "price                True\n",
      "percent change       True\n",
      "dtype: bool\n",
      "Benioff\n",
      "date                False\n",
      "tweet               False\n",
      "username            False\n",
      "mentions            False\n",
      "hashtags            False\n",
      "cashtags            False\n",
      "video               False\n",
      "photos              False\n",
      "urls                False\n",
      "thumbnail           False\n",
      "replies_count       False\n",
      "retweets_count      False\n",
      "likes_count         False\n",
      "number of tweets    False\n",
      "price                True\n",
      "percent change       True\n",
      "dtype: bool\n",
      "richardbranson\n",
      "date                False\n",
      "tweet               False\n",
      "username            False\n",
      "mentions            False\n",
      "hashtags            False\n",
      "cashtags            False\n",
      "video               False\n",
      "photos              False\n",
      "urls                False\n",
      "thumbnail           False\n",
      "replies_count       False\n",
      "retweets_count      False\n",
      "likes_count         False\n",
      "number of tweets    False\n",
      "price               False\n",
      "percent change      False\n",
      "dtype: bool\n",
      "JohnLegere\n",
      "date                False\n",
      "tweet               False\n",
      "username            False\n",
      "mentions            False\n",
      "hashtags            False\n",
      "cashtags            False\n",
      "video               False\n",
      "photos              False\n",
      "urls                False\n",
      "thumbnail           False\n",
      "replies_count       False\n",
      "retweets_count      False\n",
      "likes_count         False\n",
      "number of tweets    False\n",
      "price                True\n",
      "percent change       True\n",
      "dtype: bool\n"
     ]
    }
   ],
   "source": [
    "# Check for missing values\n",
    "for CEO in CEOS:\n",
    "    print(CEO)\n",
    "    print(CEOS[CEO].isna().any())"
   ]
  },
  {
   "cell_type": "markdown",
   "metadata": {},
   "source": [
    "Because the latest tweets are before the next market opens, some of them have missing values and I will have to remove them for now."
   ]
  },
  {
   "cell_type": "code",
   "execution_count": 122,
   "metadata": {},
   "outputs": [
    {
     "name": "stdout",
     "output_type": "stream",
     "text": [
      "(2179, 16)\n",
      "(957, 16)\n",
      "(1476, 16)\n",
      "(1868, 16)\n",
      "(2009, 16)\n",
      "(3415, 16)\n"
     ]
    }
   ],
   "source": [
    "for CEO in CEOS:\n",
    "    print(CEOS[CEO].shape)"
   ]
  },
  {
   "cell_type": "code",
   "execution_count": 123,
   "metadata": {},
   "outputs": [],
   "source": [
    "for CEO in CEOS:\n",
    "    CEOS[CEO].dropna(inplace=True)"
   ]
  },
  {
   "cell_type": "code",
   "execution_count": 124,
   "metadata": {},
   "outputs": [
    {
     "name": "stdout",
     "output_type": "stream",
     "text": [
      "0\n",
      "0\n",
      "0\n",
      "0\n",
      "0\n",
      "0\n"
     ]
    }
   ],
   "source": [
    "for CEO in CEOS:\n",
    "    print(CEOS[CEO].isna().any().sum())"
   ]
  },
  {
   "cell_type": "code",
   "execution_count": 125,
   "metadata": {
    "scrolled": true
   },
   "outputs": [
    {
     "name": "stdout",
     "output_type": "stream",
     "text": [
      "(2157, 16)\n",
      "(943, 16)\n",
      "(1442, 16)\n",
      "(1836, 16)\n",
      "(2009, 16)\n",
      "(3351, 16)\n"
     ]
    }
   ],
   "source": [
    "for CEO in CEOS:\n",
    "    print(CEOS[CEO].shape)"
   ]
  },
  {
   "cell_type": "markdown",
   "metadata": {},
   "source": [
    "Normalize data types"
   ]
  },
  {
   "cell_type": "code",
   "execution_count": 126,
   "metadata": {
    "scrolled": true
   },
   "outputs": [
    {
     "name": "stdout",
     "output_type": "stream",
     "text": [
      "<class 'pandas.core.frame.DataFrame'>\n",
      "Int64Index: 2157 entries, 22 to 2178\n",
      "Data columns (total 16 columns):\n",
      " #   Column            Non-Null Count  Dtype         \n",
      "---  ------            --------------  -----         \n",
      " 0   date              2157 non-null   datetime64[ns]\n",
      " 1   tweet             2157 non-null   object        \n",
      " 2   username          2157 non-null   object        \n",
      " 3   mentions          2157 non-null   int64         \n",
      " 4   hashtags          2157 non-null   int64         \n",
      " 5   cashtags          2157 non-null   int64         \n",
      " 6   video             2157 non-null   int64         \n",
      " 7   photos            2157 non-null   int64         \n",
      " 8   urls              2157 non-null   int64         \n",
      " 9   thumbnail         2157 non-null   int64         \n",
      " 10  replies_count     2157 non-null   int64         \n",
      " 11  retweets_count    2157 non-null   int64         \n",
      " 12  likes_count       2157 non-null   int64         \n",
      " 13  number of tweets  2157 non-null   int64         \n",
      " 14  price             2157 non-null   float64       \n",
      " 15  percent change    2157 non-null   float64       \n",
      "dtypes: datetime64[ns](1), float64(2), int64(11), object(2)\n",
      "memory usage: 286.5+ KB\n"
     ]
    }
   ],
   "source": [
    "CEOS['elonmusk'].info()"
   ]
  },
  {
   "cell_type": "code",
   "execution_count": 127,
   "metadata": {},
   "outputs": [],
   "source": [
    "ints_columns = CEOS['elonmusk'].select_dtypes(include=['int']).columns\n",
    "floats_columns = CEOS['elonmusk'].select_dtypes(include=['float']).columns"
   ]
  },
  {
   "cell_type": "code",
   "execution_count": 128,
   "metadata": {},
   "outputs": [],
   "source": [
    "for CEO in CEOS:\n",
    "    CEOS[CEO][ints_columns] = CEOS[CEO][ints_columns].astype(int)\n",
    "    CEOS[CEO][floats_columns] = CEOS[CEO][floats_columns].astype(float)"
   ]
  },
  {
   "cell_type": "markdown",
   "metadata": {},
   "source": [
    "### 1.4.2 DataFrame Prices vs Original Stock Prices <a id='1.4.2_Looking_at_Original_Stocks'></a>"
   ]
  },
  {
   "cell_type": "code",
   "execution_count": 129,
   "metadata": {},
   "outputs": [
    {
     "data": {
      "image/png": "[encoded data removed]",
      "text/plain": [
       "<Figure size 432x288 with 1 Axes>"
      ]
     },
     "metadata": {
      "needs_background": "light"
     },
     "output_type": "display_data"
    },
    {
     "data": {
      "image/png": "[encoded data removed]",
      "text/plain": [
       "<Figure size 432x288 with 1 Axes>"
      ]
     },
     "metadata": {
      "needs_background": "light"
     },
     "output_type": "display_data"
    },
    {
     "data": {
      "image/png": "[encoded data removed]",
      "text/plain": [
       "<Figure size 432x288 with 1 Axes>"
      ]
     },
     "metadata": {
      "needs_background": "light"
     },
     "output_type": "display_data"
    },
    {
     "data": {
      "image/png": "[encoded data removed]",
      "text/plain": [
       "<Figure size 432x288 with 1 Axes>"
      ]
     },
     "metadata": {
      "needs_background": "light"
     },
     "output_type": "display_data"
    },
    {
     "data": {
      "image/png": "[encoded data removed]",
      "text/plain": [
       "<Figure size 432x288 with 1 Axes>"
      ]
     },
     "metadata": {
      "needs_background": "light"
     },
     "output_type": "display_data"
    },
    {
     "data": {
      "image/png": "[encoded data removed]",
      "text/plain": [
       "<Figure size 432x288 with 1 Axes>"
      ]
     },
     "metadata": {
      "needs_background": "light"
     },
     "output_type": "display_data"
    },
    {
     "data": {
      "text/plain": [
       "<Figure size 432x288 with 0 Axes>"
      ]
     },
     "metadata": {},
     "output_type": "display_data"
    }
   ],
   "source": [
    "# Let's look to see how well the full stock prices match the merged tweet and stock DataFrames\n",
    "for i in range(len(stocks_list)):\n",
    "    _ = plt.plot(stocks[stocks_list[i]]['date'], stocks[stocks_list[i]]['price'])\n",
    "    _ = plt.plot(CEOS[CEOS_list[i]]['date'], CEOS[CEOS_list[i]]['price'], c='red')\n",
    "    _ = plt.title(stocks_list[i])\n",
    "    _ = plt.xticks(rotation=60)\n",
    "    _ = plt.legend(['Stock Data', 'Stock Price with Tweets'])\n",
    "    _ = plt.show()\n",
    "    plt.savefig('./figures/data_wrangling/Price_Tweets_{}.png'.format(stocks_list[i]), bbox_inches='tight')"
   ]
  },
  {
   "cell_type": "code",
   "execution_count": 130,
   "metadata": {
    "scrolled": false
   },
   "outputs": [
    {
     "data": {
      "image/png": "[encoded data removed]",
      "text/plain": [
       "<Figure size 432x288 with 2 Axes>"
      ]
     },
     "metadata": {
      "needs_background": "light"
     },
     "output_type": "display_data"
    },
    {
     "data": {
      "image/png": "[encoded data removed]",
      "text/plain": [
       "<Figure size 432x288 with 2 Axes>"
      ]
     },
     "metadata": {
      "needs_background": "light"
     },
     "output_type": "display_data"
    },
    {
     "data": {
      "image/png": "[encoded data removed]",
      "text/plain": [
       "<Figure size 432x288 with 2 Axes>"
      ]
     },
     "metadata": {
      "needs_background": "light"
     },
     "output_type": "display_data"
    },
    {
     "data": {
      "image/png": "[encoded data removed]",
      "text/plain": [
       "<Figure size 432x288 with 2 Axes>"
      ]
     },
     "metadata": {
      "needs_background": "light"
     },
     "output_type": "display_data"
    },
    {
     "data": {
      "image/png": "[encoded data removed]",
      "text/plain": [
       "<Figure size 432x288 with 2 Axes>"
      ]
     },
     "metadata": {
      "needs_background": "light"
     },
     "output_type": "display_data"
    },
    {
     "data": {
      "image/png": "[encoded data removed]",
      "text/plain": [
       "<Figure size 432x288 with 2 Axes>"
      ]
     },
     "metadata": {
      "needs_background": "light"
     },
     "output_type": "display_data"
    }
   ],
   "source": [
    "# Initalize a Figure and Axes\n",
    "for CEO in CEOS:\n",
    "    fig, ax = plt.subplots()\n",
    "\n",
    "    # Plot the CO2 variable in blue\n",
    "    ax.plot(CEOS[CEO]['date'], CEOS[CEO]['price'], color='blue')\n",
    "    plt.ylabel('price')\n",
    "    plt.title(f'{CEO} tweets with stock price')\n",
    "    plt.xticks(rotation=60)\n",
    "\n",
    "    # Create a twin Axes that shares the x-axis\n",
    "    ax2 = ax.twinx()\n",
    "\n",
    "    # Plot the relative temperature in red\n",
    "    ax2.plot(CEOS[CEO]['date'], CEOS[CEO]['number of tweets'], color='g', alpha = 0.4)\n",
    "    plt.ylabel('number of tweets')\n",
    "    plt.legend(['number of tweets'])\n",
    "    plt.savefig('./figures/data_wrangling/num_tweets_stock_price_{}.png'.format(CEO), bbox_inches='tight')\n",
    "    plt.show()"
   ]
  },
  {
   "cell_type": "code",
   "execution_count": 131,
   "metadata": {},
   "outputs": [],
   "source": [
    "test = CEOS['JohnLegere']\n",
    "test2 = CEOS['richardbranson']"
   ]
  },
  {
   "cell_type": "code",
   "execution_count": 132,
   "metadata": {},
   "outputs": [],
   "source": [
    "test = test[test['date'] <= '2019']\n",
    "test2 = test2[test2['date'] >= '2020-07']"
   ]
  },
  {
   "cell_type": "code",
   "execution_count": 133,
   "metadata": {},
   "outputs": [
    {
     "data": {
      "image/png": "[encoded data removed]",
      "text/plain": [
       "<Figure size 432x288 with 2 Axes>"
      ]
     },
     "metadata": {
      "needs_background": "light"
     },
     "output_type": "display_data"
    }
   ],
   "source": [
    "fig, ax = plt.subplots()\n",
    "\n",
    "# Plot the CO2 variable in blue\n",
    "ax.plot(test['date'], test['price'], color='blue')\n",
    "plt.ylabel('price')\n",
    "plt.title('John Legere tweets with stock price pre 2019')\n",
    "plt.xticks(rotation=60)\n",
    "\n",
    "# Create a twin Axes that shares the x-axis\n",
    "ax2 = ax.twinx()\n",
    "\n",
    "# Plot the relative temperature in red\n",
    "ax2.plot(test['date'], test['number of tweets'], color='g', alpha = 0.4)\n",
    "plt.ylabel('number of tweets')\n",
    "plt.legend(['number of tweets'])\n",
    "plt.savefig('./figures/data_wrangling/num_tweets_stock_price_JohnLegere_pre2019', bbox_inches='tight')\n",
    "plt.show()"
   ]
  },
  {
   "cell_type": "code",
   "execution_count": 134,
   "metadata": {},
   "outputs": [
    {
     "data": {
      "image/png": "[encoded data removed]",
      "text/plain": [
       "<Figure size 432x288 with 2 Axes>"
      ]
     },
     "metadata": {
      "needs_background": "light"
     },
     "output_type": "display_data"
    }
   ],
   "source": [
    "fig, ax = plt.subplots()\n",
    "\n",
    "# Plot the CO2 variable in blue\n",
    "ax.plot(test2['date'], test2['price'], color='blue')\n",
    "plt.ylabel('price')\n",
    "plt.title('Richard Branson tweets with stock price post July 2020')\n",
    "plt.xticks(rotation=60)\n",
    "\n",
    "# Create a twin Axes that shares the x-axis\n",
    "ax2 = ax.twinx()\n",
    "\n",
    "# Plot the relative temperature in red\n",
    "ax2.plot(test2['date'], test2['number of tweets'], color='g', alpha = 0.4)\n",
    "plt.ylabel('number of tweets')\n",
    "plt.legend(['number of tweets'])\n",
    "plt.savefig('./figures/data_wrangling/num_tweets_stock_price_richardbranson_post2020', bbox_inches='tight')\n",
    "plt.show()"
   ]
  },
  {
   "cell_type": "markdown",
   "metadata": {},
   "source": [
    "## 1.5 Saving Dataframes <a id='1.5_Exporting_DataFrames'></a>"
   ]
  },
  {
   "cell_type": "code",
   "execution_count": 135,
   "metadata": {},
   "outputs": [],
   "source": [
    "for i in range(len(CEOS_list)):\n",
    "    CEOS[CEOS_list[i]].to_pickle(f'./data/{CEOS_list[i]}_df.pkl')"
   ]
  },
  {
   "cell_type": "code",
   "execution_count": 136,
   "metadata": {},
   "outputs": [],
   "source": [
    "tweet_stocks = pd.DataFrame()\n",
    "for CEO in CEOS:\n",
    "    tweet_stocks = tweet_stocks.append(CEOS[CEO])"
   ]
  },
  {
   "cell_type": "code",
   "execution_count": 137,
   "metadata": {
    "scrolled": true
   },
   "outputs": [
    {
     "name": "stdout",
     "output_type": "stream",
     "text": [
      "<class 'pandas.core.frame.DataFrame'>\n",
      "Int64Index: 11738 entries, 22 to 3414\n",
      "Data columns (total 16 columns):\n",
      " #   Column            Non-Null Count  Dtype         \n",
      "---  ------            --------------  -----         \n",
      " 0   date              11738 non-null  datetime64[ns]\n",
      " 1   tweet             11738 non-null  object        \n",
      " 2   username          11738 non-null  object        \n",
      " 3   mentions          11738 non-null  int64         \n",
      " 4   hashtags          11738 non-null  int64         \n",
      " 5   cashtags          11738 non-null  int64         \n",
      " 6   video             11738 non-null  int64         \n",
      " 7   photos            11738 non-null  int64         \n",
      " 8   urls              11738 non-null  int64         \n",
      " 9   thumbnail         11738 non-null  int64         \n",
      " 10  replies_count     11738 non-null  int64         \n",
      " 11  retweets_count    11738 non-null  int64         \n",
      " 12  likes_count       11738 non-null  int64         \n",
      " 13  number of tweets  11738 non-null  int64         \n",
      " 14  price             11738 non-null  float64       \n",
      " 15  percent change    11738 non-null  float64       \n",
      "dtypes: datetime64[ns](1), float64(2), int64(11), object(2)\n",
      "memory usage: 1.5+ MB\n"
     ]
    }
   ],
   "source": [
    "tweet_stocks.info()"
   ]
  },
  {
   "cell_type": "code",
   "execution_count": 138,
   "metadata": {},
   "outputs": [],
   "source": [
    "tweet_stocks.to_pickle(f'./data/tweet_stocks.pkl')"
   ]
  },
  {
   "cell_type": "code",
   "execution_count": 151,
   "metadata": {
    "scrolled": false
   },
   "outputs": [],
   "source": [
    "#for CEO in CEOS:\n",
    "#    for feature in features:\n",
    "#        fig, ax = plt.subplots()\n",
    "\n",
    "        # Plot the CO2 variable in blue\n",
    "#        ax.plot(CEOS[CEO]['date'], CEOS[CEO]['price'], color='blue')\n",
    "#        plt.ylabel('price')\n",
    "#        plt.title('{} {} with stock price'.format(CEO, feature))\n",
    "#        plt.xticks(rotation=60)\n",
    "\n",
    "        # Create a twin Axes that shares the x-axis\n",
    "#        ax2 = ax.twinx()\n",
    "\n",
    "        # Plot the relative temperature in red\n",
    "#        ax2.plot(CEOS[CEO]['date'], CEOS[CEO][feature], color='g', alpha = 0.4)\n",
    "#        plt.ylabel('{}'.format(feature))\n",
    "#        plt.legend(['{}'.format(feature)])\n",
    "#        plt.savefig('./figures/data_wrangling/{}_stock_price_{}.png'.format(feature, CEO), bbox_inches='tight')\n",
    "#        plt.show()"
   ]
  },
  {
   "cell_type": "code",
   "execution_count": null,
   "metadata": {},
   "outputs": [],
   "source": []
  }
 ],
 "metadata": {
  "kernelspec": {
   "display_name": "Python 3",
   "language": "python",
   "name": "python3"
  },
  "language_info": {
   "codemirror_mode": {
    "name": "ipython",
    "version": 3
   },
   "file_extension": ".py",
   "mimetype": "text/x-python",
   "name": "python",
   "nbconvert_exporter": "python",
   "pygments_lexer": "ipython3",
   "version": "3.9.4"
  }
 },
 "nbformat": 4,
 "nbformat_minor": 4
}
