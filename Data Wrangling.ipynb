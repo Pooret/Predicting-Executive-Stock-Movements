{
 "cells": [
  {
   "cell_type": "markdown",
   "metadata": {},
   "source": [
    "# Part 1. Data Wrangling:\n",
    "\n",
    "This capstone looks at tweets from a 5-year period of the CEOS of several companies. Their respective stocks are collected and the tweets are analyzed to determine if the closing price of a stock can be determined from the CEO's tweets. The CEOs, their twitter username, and their associated stocks are as follows:  \n",
    " - Elon Musk : '@elonmusk': Tesla (TSLA)\n",
    " - Aaron Levie : '@levie': Box (BOX)\n",
    " - Jack Dorsey : '@jack': Twitter (TWTR)\n",
    " - Marc Benioff : '@Benioff': Salesforce (CRM)\n",
    " - Richard Branson: @richardbranson: Virgin Galactic (SPCE)\n",
    " - John Legere: @JohnLegere: T-Mobile (TMUS)\n",
    " \n",
    " \n",
    "These CEOs were selected with the following criteria:  \n",
    " - the stock must be a publicly traded company for at least 5 years.\n",
    " - the CEO must have tweeted at least 500 times over that span of that 5 years.\n",
    " \n",
    "\n",
    "\n",
    "## Objective: \n",
    "\n",
    "To scrape the tweets and stocks from the CEOS, clean these data by standardizing dates and times, dealing with null values, and then to combine these cleaned dataframes into a single dataframe for EDA and machine learning. All datetimes are in EST."
   ]
  },
  {
   "cell_type": "code",
   "execution_count": 303,
   "metadata": {},
   "outputs": [],
   "source": [
    "from utils import *"
   ]
  },
  {
   "cell_type": "markdown",
   "metadata": {},
   "source": [
    "# Collecting Data"
   ]
  },
  {
   "cell_type": "markdown",
   "metadata": {},
   "source": [
    "## Collecting Stocks "
   ]
  },
  {
   "cell_type": "code",
   "execution_count": 304,
   "metadata": {
    "scrolled": true
   },
   "outputs": [],
   "source": [
    "# Import 5-year daily tesla stocks from Yahoo Finance and store in dataframe\n",
    "\n",
    "#tsla = yf.Ticker('TSLA')\n",
    "#box = yf.Ticker('BOX')\n",
    "#twtr = yf.Ticker('TWTR')\n",
    "#crm = yf.Ticker('CRM')\n",
    "#spce = yf.Ticker('SPCE')\n",
    "#tmus = yf.Ticker('TMUS')\n",
    "\n",
    "\n",
    "\n",
    "# Convert to dataframes\n",
    "#tsla_df = tsla.history(period = '5y')\n",
    "#box_df = box.history(period = '5y')\n",
    "#twtr_df = twtr.history(period = '5y')\n",
    "#crm_df = crm.history(period = '5y')\n",
    "#spce_df = spce.history(period='5y')\n",
    "#tmus_df = tmus.history(period='5y')\n",
    "\n",
    "\n",
    "\n",
    "stock_names = ['TSLA','BOX', 'TWTR','CRM','SPCE', 'TMUS']\n",
    "stocks = {}\n",
    "for stock in stock_names:\n",
    "    stocks[stock] = pd.read_pickle(f'data/{stock}.pkl')"
   ]
  },
  {
   "cell_type": "code",
   "execution_count": 305,
   "metadata": {
    "scrolled": false
   },
   "outputs": [
    {
     "name": "stdout",
     "output_type": "stream",
     "text": [
      "===============\n",
      "TSLA\n",
      "===============\n",
      "<class 'pandas.core.frame.DataFrame'>\n",
      "RangeIndex: 1259 entries, 0 to 1258\n",
      "Data columns (total 8 columns):\n",
      " #   Column        Non-Null Count  Dtype         \n",
      "---  ------        --------------  -----         \n",
      " 0   Date          1259 non-null   datetime64[ns]\n",
      " 1   Open          1259 non-null   float64       \n",
      " 2   High          1259 non-null   float64       \n",
      " 3   Low           1259 non-null   float64       \n",
      " 4   Close         1259 non-null   float64       \n",
      " 5   Volume        1259 non-null   int64         \n",
      " 6   Dividends     1259 non-null   int64         \n",
      " 7   Stock Splits  1259 non-null   float64       \n",
      "dtypes: datetime64[ns](1), float64(5), int64(2)\n",
      "memory usage: 78.8 KB\n",
      "None\n",
      "\n",
      "First Row:\n",
      "        Date       Open       High        Low      Close    Volume  Dividends  \\\n",
      "0 2016-08-23  44.863998  45.698002  44.560001  44.967999  23922000          0   \n",
      "\n",
      "   Stock Splits  \n",
      "0           0.0  \n",
      "===============\n",
      "BOX\n",
      "===============\n",
      "<class 'pandas.core.frame.DataFrame'>\n",
      "RangeIndex: 1259 entries, 0 to 1258\n",
      "Data columns (total 8 columns):\n",
      " #   Column        Non-Null Count  Dtype         \n",
      "---  ------        --------------  -----         \n",
      " 0   Date          1259 non-null   datetime64[ns]\n",
      " 1   Open          1259 non-null   float64       \n",
      " 2   High          1259 non-null   float64       \n",
      " 3   Low           1259 non-null   float64       \n",
      " 4   Close         1259 non-null   float64       \n",
      " 5   Volume        1259 non-null   int64         \n",
      " 6   Dividends     1259 non-null   int64         \n",
      " 7   Stock Splits  1259 non-null   int64         \n",
      "dtypes: datetime64[ns](1), float64(4), int64(3)\n",
      "memory usage: 78.8 KB\n",
      "None\n",
      "\n",
      "First Row:\n",
      "        Date   Open   High    Low  Close   Volume  Dividends  Stock Splits\n",
      "0 2016-08-23  12.95  13.49  12.93   13.3  1526800          0             0\n",
      "===============\n",
      "TWTR\n",
      "===============\n",
      "<class 'pandas.core.frame.DataFrame'>\n",
      "RangeIndex: 1259 entries, 0 to 1258\n",
      "Data columns (total 8 columns):\n",
      " #   Column        Non-Null Count  Dtype         \n",
      "---  ------        --------------  -----         \n",
      " 0   Date          1259 non-null   datetime64[ns]\n",
      " 1   Open          1259 non-null   float64       \n",
      " 2   High          1259 non-null   float64       \n",
      " 3   Low           1259 non-null   float64       \n",
      " 4   Close         1259 non-null   float64       \n",
      " 5   Volume        1259 non-null   int64         \n",
      " 6   Dividends     1259 non-null   int64         \n",
      " 7   Stock Splits  1259 non-null   int64         \n",
      "dtypes: datetime64[ns](1), float64(4), int64(3)\n",
      "memory usage: 78.8 KB\n",
      "None\n",
      "\n",
      "First Row:\n",
      "        Date   Open   High    Low      Close    Volume  Dividends  \\\n",
      "0 2016-08-23  18.65  18.93  18.65  18.690001  14089300          0   \n",
      "\n",
      "   Stock Splits  \n",
      "0             0  \n",
      "===============\n",
      "CRM\n",
      "===============\n",
      "<class 'pandas.core.frame.DataFrame'>\n",
      "RangeIndex: 1259 entries, 0 to 1258\n",
      "Data columns (total 8 columns):\n",
      " #   Column        Non-Null Count  Dtype         \n",
      "---  ------        --------------  -----         \n",
      " 0   Date          1259 non-null   datetime64[ns]\n",
      " 1   Open          1259 non-null   float64       \n",
      " 2   High          1259 non-null   float64       \n",
      " 3   Low           1259 non-null   float64       \n",
      " 4   Close         1259 non-null   float64       \n",
      " 5   Volume        1259 non-null   int64         \n",
      " 6   Dividends     1259 non-null   int64         \n",
      " 7   Stock Splits  1259 non-null   int64         \n",
      "dtypes: datetime64[ns](1), float64(4), int64(3)\n",
      "memory usage: 78.8 KB\n",
      "None\n",
      "\n",
      "First Row:\n",
      "        Date   Open       High    Low      Close   Volume  Dividends  \\\n",
      "0 2016-08-23  77.82  78.279999  77.68  78.019997  4328600          0   \n",
      "\n",
      "   Stock Splits  \n",
      "0             0  \n",
      "===============\n",
      "SPCE\n",
      "===============\n",
      "<class 'pandas.core.frame.DataFrame'>\n",
      "RangeIndex: 981 entries, 0 to 980\n",
      "Data columns (total 8 columns):\n",
      " #   Column        Non-Null Count  Dtype         \n",
      "---  ------        --------------  -----         \n",
      " 0   Date          981 non-null    datetime64[ns]\n",
      " 1   Open          981 non-null    float64       \n",
      " 2   High          981 non-null    float64       \n",
      " 3   Low           981 non-null    float64       \n",
      " 4   Close         981 non-null    float64       \n",
      " 5   Volume        981 non-null    int64         \n",
      " 6   Dividends     981 non-null    int64         \n",
      " 7   Stock Splits  981 non-null    int64         \n",
      "dtypes: datetime64[ns](1), float64(4), int64(3)\n",
      "memory usage: 61.4 KB\n",
      "None\n",
      "\n",
      "First Row:\n",
      "        Date  Open  High   Low  Close  Volume  Dividends  Stock Splits\n",
      "0 2017-09-29  10.5  10.5  10.0   10.1  212800          0             0\n",
      "===============\n",
      "TMUS\n",
      "===============\n",
      "<class 'pandas.core.frame.DataFrame'>\n",
      "RangeIndex: 1259 entries, 0 to 1258\n",
      "Data columns (total 8 columns):\n",
      " #   Column        Non-Null Count  Dtype         \n",
      "---  ------        --------------  -----         \n",
      " 0   Date          1259 non-null   datetime64[ns]\n",
      " 1   Open          1259 non-null   float64       \n",
      " 2   High          1259 non-null   float64       \n",
      " 3   Low           1259 non-null   float64       \n",
      " 4   Close         1259 non-null   float64       \n",
      " 5   Volume        1259 non-null   int64         \n",
      " 6   Dividends     1259 non-null   int64         \n",
      " 7   Stock Splits  1259 non-null   int64         \n",
      "dtypes: datetime64[ns](1), float64(4), int64(3)\n",
      "memory usage: 78.8 KB\n",
      "None\n",
      "\n",
      "First Row:\n",
      "        Date       Open       High        Low      Close   Volume  Dividends  \\\n",
      "0 2016-08-23  46.959999  47.310001  46.720001  46.830002  1563800          0   \n",
      "\n",
      "   Stock Splits  \n",
      "0             0  \n"
     ]
    }
   ],
   "source": [
    "# Examine stocks\n",
    "#stocks = { 'TSLA': tsla_df, 'BOX': box_df, 'TWTR': twtr_df, 'CRM':crm_df, 'SPCE': spce_df, 'TMUS':tmus_df}\n",
    "\n",
    "for stock in stocks:\n",
    "    print(\"===============\")\n",
    "    print(stock)\n",
    "    print(\"===============\")\n",
    "    print(stocks[stock].info())\n",
    "    print('\\nFirst Row:')\n",
    "    print(stocks[stock].head(1))\n",
    "  \n",
    "    stocks[stock].to_pickle(f'./data/{stock}.pkl')"
   ]
  },
  {
   "cell_type": "markdown",
   "metadata": {},
   "source": [
    "### 1.2.2 Combining the Stocks <a id='1.2.2_Combining_Stocks'></a>"
   ]
  },
  {
   "cell_type": "code",
   "execution_count": 306,
   "metadata": {},
   "outputs": [],
   "source": [
    "# Get needed columns and change the date to lowercase\n",
    "\n",
    "for stock in stocks:\n",
    "    stocks[stock].reset_index(inplace=True)\n",
    "    stocks[stock] =  stocks[stock][['Date','Open', 'Close']]\n",
    "    stocks[stock].columns = stocks[stock].columns.str.lower()"
   ]
  },
  {
   "cell_type": "code",
   "execution_count": 307,
   "metadata": {},
   "outputs": [
    {
     "name": "stdout",
     "output_type": "stream",
     "text": [
      "TSLA\n",
      "=======================\n",
      "date     2016-08-23 00:00:00\n",
      "open               36.220001\n",
      "close              35.793999\n",
      "dtype: object\n",
      "date     2021-08-23 00:00:00\n",
      "open              891.380005\n",
      "close             883.090027\n",
      "dtype: object\n",
      "\n",
      "BOX\n",
      "=======================\n",
      "date     2016-08-23 00:00:00\n",
      "open                    8.75\n",
      "close                   9.12\n",
      "dtype: object\n",
      "date     2021-08-23 00:00:00\n",
      "open                   29.25\n",
      "close                  29.01\n",
      "dtype: object\n",
      "\n",
      "TWTR\n",
      "=======================\n",
      "date     2016-08-23 00:00:00\n",
      "open                    14.3\n",
      "close                  14.29\n",
      "dtype: object\n",
      "date     2021-08-23 00:00:00\n",
      "open               78.360001\n",
      "close              77.629997\n",
      "dtype: object\n",
      "\n",
      "CRM\n",
      "=======================\n",
      "date     2016-08-23 00:00:00\n",
      "open               66.589996\n",
      "close              68.410004\n",
      "dtype: object\n",
      "date     2021-08-23 00:00:00\n",
      "open              283.470001\n",
      "close                 281.25\n",
      "dtype: object\n",
      "\n",
      "SPCE\n",
      "=======================\n",
      "date     2017-09-29 00:00:00\n",
      "open                    7.19\n",
      "close                   7.22\n",
      "dtype: object\n",
      "date     2021-08-23 00:00:00\n",
      "open                   58.59\n",
      "close                  59.41\n",
      "dtype: object\n",
      "\n",
      "TMUS\n",
      "=======================\n",
      "date     2016-08-23 00:00:00\n",
      "open                    44.5\n",
      "close                   44.5\n",
      "dtype: object\n",
      "date     2021-08-23 00:00:00\n",
      "open              149.339996\n",
      "close             149.410004\n",
      "dtype: object\n",
      "\n"
     ]
    }
   ],
   "source": [
    "for stock in stocks:\n",
    "    print(stock.upper())\n",
    "    print(\"=======================\")\n",
    "    print(stocks[stock][stocks[stock]['date'] == stocks[stock]['date']].min())\n",
    "    print(stocks[stock][stocks[stock]['date'] == stocks[stock]['date']].max())\n",
    "    print(\"\")"
   ]
  },
  {
   "cell_type": "code",
   "execution_count": 308,
   "metadata": {},
   "outputs": [
    {
     "data": {
      "text/plain": [
       "{'TSLA':            date        open       close\n",
       " 0    2016-08-23   44.863998   44.967999\n",
       " 1    2016-08-24   45.410000   44.523998\n",
       " 2    2016-08-25   44.622002   44.192001\n",
       " 3    2016-08-26   44.428001   43.998001\n",
       " 4    2016-08-29   44.029999   43.040001\n",
       " ...         ...         ...         ...\n",
       " 1254 2021-08-17  672.659973  665.710022\n",
       " 1255 2021-08-18  669.750000  688.989990\n",
       " 1256 2021-08-19  678.210022  673.469971\n",
       " 1257 2021-08-20  682.849976  680.260010\n",
       " 1258 2021-08-23  685.442017  703.700012\n",
       " \n",
       " [1259 rows x 3 columns],\n",
       " 'BOX':            date       open      close\n",
       " 0    2016-08-23  12.950000  13.300000\n",
       " 1    2016-08-24  13.400000  13.070000\n",
       " 2    2016-08-25  13.050000  13.140000\n",
       " 3    2016-08-26  13.170000  13.050000\n",
       " 4    2016-08-29  13.050000  13.290000\n",
       " ...         ...        ...        ...\n",
       " 1254 2021-08-17  25.100000  24.510000\n",
       " 1255 2021-08-18  24.620001  25.040001\n",
       " 1256 2021-08-19  24.930000  24.629999\n",
       " 1257 2021-08-20  24.600000  24.870001\n",
       " 1258 2021-08-23  25.110001  25.440001\n",
       " \n",
       " [1259 rows x 3 columns],\n",
       " 'TWTR':            date       open      close\n",
       " 0    2016-08-23  18.650000  18.690001\n",
       " 1    2016-08-24  18.799999  18.250000\n",
       " 2    2016-08-25  18.330000  18.320000\n",
       " 3    2016-08-26  18.400000  18.299999\n",
       " 4    2016-08-29  18.389999  18.469999\n",
       " ...         ...        ...        ...\n",
       " 1254 2021-08-17  63.340000  62.880001\n",
       " 1255 2021-08-18  62.849998  62.119999\n",
       " 1256 2021-08-19  61.590000  62.049999\n",
       " 1257 2021-08-20  62.130001  62.520000\n",
       " 1258 2021-08-23  63.200001  63.959999\n",
       " \n",
       " [1259 rows x 3 columns],\n",
       " 'CRM':            date        open       close\n",
       " 0    2016-08-23   77.820000   78.019997\n",
       " 1    2016-08-24   78.000000   77.820000\n",
       " 2    2016-08-25   78.139999   80.160004\n",
       " 3    2016-08-26   80.389999   80.029999\n",
       " 4    2016-08-29   80.209999   79.919998\n",
       " ...         ...         ...         ...\n",
       " 1254 2021-08-17  248.259995  246.990005\n",
       " 1255 2021-08-18  248.000000  251.220001\n",
       " 1256 2021-08-19  249.169998  253.070007\n",
       " 1257 2021-08-20  253.000000  256.130005\n",
       " 1258 2021-08-23  257.000000  260.940002\n",
       " \n",
       " [1259 rows x 3 columns],\n",
       " 'SPCE':           date       open      close\n",
       " 0   2017-09-29  10.500000  10.100000\n",
       " 1   2017-10-02  10.150000  10.080000\n",
       " 2   2017-10-03  10.091000  10.100000\n",
       " 3   2017-10-04  10.100000  10.110000\n",
       " 4   2017-10-05  10.150000  10.100000\n",
       " ..         ...        ...        ...\n",
       " 976 2021-08-17  25.020000  25.240000\n",
       " 977 2021-08-18  25.190001  25.250000\n",
       " 978 2021-08-19  25.260000  24.250000\n",
       " 979 2021-08-20  24.120001  24.530001\n",
       " 980 2021-08-23  24.600000  25.440500\n",
       " \n",
       " [981 rows x 3 columns],\n",
       " 'TMUS':            date        open       close\n",
       " 0    2016-08-23   46.959999   46.830002\n",
       " 1    2016-08-24   46.660000   46.209999\n",
       " 2    2016-08-25   46.310001   46.279999\n",
       " 3    2016-08-26   46.419998   45.959999\n",
       " 4    2016-08-29   46.639999   46.730000\n",
       " ...         ...         ...         ...\n",
       " 1254 2021-08-17  140.550003  140.669998\n",
       " 1255 2021-08-18  140.240005  139.830002\n",
       " 1256 2021-08-19  139.600006  140.889999\n",
       " 1257 2021-08-20  141.020004  141.809998\n",
       " 1258 2021-08-23  141.509995  141.985001\n",
       " \n",
       " [1259 rows x 3 columns]}"
      ]
     },
     "execution_count": 308,
     "metadata": {},
     "output_type": "execute_result"
    }
   ],
   "source": [
    "stocks"
   ]
  },
  {
   "cell_type": "markdown",
   "metadata": {},
   "source": [
    "Our goal is to predict stock changes based off twitter data that occurs before the next opening or closing price. To get the data into a workable format, I will need to combine the opening and closing stock prices and sort them by date and time."
   ]
  },
  {
   "cell_type": "code",
   "execution_count": 309,
   "metadata": {},
   "outputs": [],
   "source": [
    "def organize_stocks(stock): #Here\n",
    "\n",
    "        # Instatiate Open and Close\n",
    "        stock_open = stock[['date','open']]\n",
    "        stock_close = stock[['date','close']]\n",
    "\n",
    "        # Convert dates to datetime objects\n",
    "        stock_open['date'] = pd.to_datetime(stock_open['date'])\n",
    "        stock_close['date'] = pd.to_datetime(stock_close['date'])\n",
    "\n",
    "        # Convert datetimes into datetime string format\n",
    "        stock_open['date'] = stock_open['date'].dt.strftime('%Y-%m-%d 09:30:00')\n",
    "        stock_close['date'] = stock_close['date'].dt.strftime('%Y-%m-%d 16:00:00')\n",
    "\n",
    "        # Convert strings back into datetime objects\n",
    "        stock_open['date'] = pd.to_datetime(stock_open['date'])\n",
    "        stock_close['date'] = pd.to_datetime(stock_close['date'])\n",
    "\n",
    "        # Get earliest and latest stock price dates to create a date index\n",
    "        stock_open['price'] = stock_open['open']\n",
    "        stock_open.drop('open', axis=1, inplace=True)\n",
    "\n",
    "        stock_close['price'] = stock_close['close']\n",
    "        stock_close.drop('close', axis=1, inplace=True)\n",
    "\n",
    "        start_date_open = dt.strftime(stock_open.reset_index().date.min(), '%Y-%m-%d %H:%M:%S')\n",
    "        end_date_open = dt.strftime(stock_open.reset_index().date.max(), '%Y-%m-%d %H:%M:%S')\n",
    "\n",
    "        start_date_close = dt.strftime(stock_close.reset_index().date.min(), '%Y-%m-%d %H:%M:%S')\n",
    "        end_date_close = dt.strftime(stock_close.reset_index().date.max(), '%Y-%m-%d %H:%M:%S')\n",
    "\n",
    "        date_indx_open = pd.date_range(start_date_open, end_date_open).tolist()\n",
    "        date_indx_close = pd.date_range(start_date_close, end_date_close).tolist()\n",
    "        date_indx_open = pd.Series(date_indx_open, name='date')\n",
    "        date_indx_close = pd.Series(date_indx_close, name='date')\n",
    "\n",
    "        # Merge date index onto stock dataframes\n",
    "        stock_open = pd.merge(date_indx_open, stock_open, how='left')\n",
    "        stock_close = pd.merge(date_indx_close, stock_close, how='left')\n",
    "\n",
    "        # Interpolate missing values\n",
    "        #stock_open['price'].interpolate(method='linear', inplace=True)\n",
    "        #stock_close['price'].interpolate(method='linear', inplace=True)\n",
    "        \n",
    "        # MAKE SURE YOU CAN UNDERSTAND THIS\n",
    "\n",
    "        # Reset index and join open and close dataframes together\n",
    "        stock_open.set_index('date', inplace=True)\n",
    "        stock_close.set_index('date', inplace=True)\n",
    "\n",
    "        stock = pd.concat([stock_open, stock_close])\n",
    "        \n",
    "        stock.sort_index(inplace=True)\n",
    "        \n",
    "        return stock"
   ]
  },
  {
   "cell_type": "code",
   "execution_count": 310,
   "metadata": {
    "scrolled": true
   },
   "outputs": [],
   "source": [
    "for stock in stocks:\n",
    "    stocks[stock] = organize_stocks(stocks[stock])"
   ]
  },
  {
   "cell_type": "markdown",
   "metadata": {},
   "source": [
    "### 1.2.3 Examine Collected Stocks <a id='1.2.3_Examine_Stocks'></a>"
   ]
  },
  {
   "cell_type": "code",
   "execution_count": 311,
   "metadata": {
    "scrolled": false
   },
   "outputs": [
    {
     "data": {
      "image/png": "[encoded data removed]",
      "text/plain": [
       "<Figure size 432x288 with 1 Axes>"
      ]
     },
     "metadata": {
      "needs_background": "light"
     },
     "output_type": "display_data"
    },
    {
     "data": {
      "image/png": "[encoded data removed]",
      "text/plain": [
       "<Figure size 432x288 with 1 Axes>"
      ]
     },
     "metadata": {
      "needs_background": "light"
     },
     "output_type": "display_data"
    },
    {
     "data": {
      "image/png": "[encoded data removed]",
      "text/plain": [
       "<Figure size 432x288 with 1 Axes>"
      ]
     },
     "metadata": {
      "needs_background": "light"
     },
     "output_type": "display_data"
    },
    {
     "data": {
      "image/png": "[encoded data removed]",
      "text/plain": [
       "<Figure size 432x288 with 1 Axes>"
      ]
     },
     "metadata": {
      "needs_background": "light"
     },
     "output_type": "display_data"
    },
    {
     "data": {
      "image/png": "[encoded data removed]",
      "text/plain": [
       "<Figure size 432x288 with 1 Axes>"
      ]
     },
     "metadata": {
      "needs_background": "light"
     },
     "output_type": "display_data"
    },
    {
     "data": {
      "image/png": "[encoded data removed]",
      "text/plain": [
       "<Figure size 432x288 with 1 Axes>"
      ]
     },
     "metadata": {
      "needs_background": "light"
     },
     "output_type": "display_data"
    }
   ],
   "source": [
    "for stock in stocks:\n",
    "    stocks[stock].plot()\n",
    "    plt.xlabel('date', color='black')\n",
    "    plt.ylabel('price', color='black')\n",
    "    plt.title(stock, color='black')\n",
    "    plt.xticks(color='black')\n",
    "    plt.yticks(color='black')\n",
    "    plt.savefig('./figures/data_wrangling/stocks_{}.png'.format(stock), bbox_inches='tight', tranparent=True)\n",
    "    plt.show()\n",
    "    \n",
    "    "
   ]
  },
  {
   "cell_type": "code",
   "execution_count": 312,
   "metadata": {},
   "outputs": [
    {
     "name": "stdout",
     "output_type": "stream",
     "text": [
      "                     price\n",
      "date                      \n",
      "2016-08-23 09:30:00  False\n",
      "2016-08-23 16:00:00  False\n",
      "2016-08-24 09:30:00  False\n",
      "2016-08-24 16:00:00  False\n",
      "2016-08-25 09:30:00  False\n",
      "...                    ...\n",
      "2021-08-21 16:00:00   True\n",
      "2021-08-22 09:30:00   True\n",
      "2021-08-22 16:00:00   True\n",
      "2021-08-23 09:30:00  False\n",
      "2021-08-23 16:00:00  False\n",
      "\n",
      "[3654 rows x 1 columns]\n",
      "                     price\n",
      "date                      \n",
      "2016-08-23 09:30:00  False\n",
      "2016-08-23 16:00:00  False\n",
      "2016-08-24 09:30:00  False\n",
      "2016-08-24 16:00:00  False\n",
      "2016-08-25 09:30:00  False\n",
      "...                    ...\n",
      "2021-08-21 16:00:00   True\n",
      "2021-08-22 09:30:00   True\n",
      "2021-08-22 16:00:00   True\n",
      "2021-08-23 09:30:00  False\n",
      "2021-08-23 16:00:00  False\n",
      "\n",
      "[3654 rows x 1 columns]\n",
      "                     price\n",
      "date                      \n",
      "2016-08-23 09:30:00  False\n",
      "2016-08-23 16:00:00  False\n",
      "2016-08-24 09:30:00  False\n",
      "2016-08-24 16:00:00  False\n",
      "2016-08-25 09:30:00  False\n",
      "...                    ...\n",
      "2021-08-21 16:00:00   True\n",
      "2021-08-22 09:30:00   True\n",
      "2021-08-22 16:00:00   True\n",
      "2021-08-23 09:30:00  False\n",
      "2021-08-23 16:00:00  False\n",
      "\n",
      "[3654 rows x 1 columns]\n",
      "                     price\n",
      "date                      \n",
      "2016-08-23 09:30:00  False\n",
      "2016-08-23 16:00:00  False\n",
      "2016-08-24 09:30:00  False\n",
      "2016-08-24 16:00:00  False\n",
      "2016-08-25 09:30:00  False\n",
      "...                    ...\n",
      "2021-08-21 16:00:00   True\n",
      "2021-08-22 09:30:00   True\n",
      "2021-08-22 16:00:00   True\n",
      "2021-08-23 09:30:00  False\n",
      "2021-08-23 16:00:00  False\n",
      "\n",
      "[3654 rows x 1 columns]\n",
      "                     price\n",
      "date                      \n",
      "2017-09-29 09:30:00  False\n",
      "2017-09-29 16:00:00  False\n",
      "2017-09-30 09:30:00   True\n",
      "2017-09-30 16:00:00   True\n",
      "2017-10-01 09:30:00   True\n",
      "...                    ...\n",
      "2021-08-21 16:00:00   True\n",
      "2021-08-22 09:30:00   True\n",
      "2021-08-22 16:00:00   True\n",
      "2021-08-23 09:30:00  False\n",
      "2021-08-23 16:00:00  False\n",
      "\n",
      "[2850 rows x 1 columns]\n",
      "                     price\n",
      "date                      \n",
      "2016-08-23 09:30:00  False\n",
      "2016-08-23 16:00:00  False\n",
      "2016-08-24 09:30:00  False\n",
      "2016-08-24 16:00:00  False\n",
      "2016-08-25 09:30:00  False\n",
      "...                    ...\n",
      "2021-08-21 16:00:00   True\n",
      "2021-08-22 09:30:00   True\n",
      "2021-08-22 16:00:00   True\n",
      "2021-08-23 09:30:00  False\n",
      "2021-08-23 16:00:00  False\n",
      "\n",
      "[3654 rows x 1 columns]\n"
     ]
    }
   ],
   "source": [
    "for stock in stocks:\n",
    "    print(stocks[stock].isna())"
   ]
  },
  {
   "cell_type": "code",
   "execution_count": 313,
   "metadata": {},
   "outputs": [
    {
     "name": "stdout",
     "output_type": "stream",
     "text": [
      "TSLA\n",
      "<class 'pandas.core.frame.DataFrame'>\n",
      "DatetimeIndex: 3654 entries, 2016-08-23 09:30:00 to 2021-08-23 16:00:00\n",
      "Data columns (total 1 columns):\n",
      " #   Column  Non-Null Count  Dtype  \n",
      "---  ------  --------------  -----  \n",
      " 0   price   2518 non-null   float64\n",
      "dtypes: float64(1)\n",
      "memory usage: 57.1 KB\n",
      "None\n",
      "BOX\n",
      "<class 'pandas.core.frame.DataFrame'>\n",
      "DatetimeIndex: 3654 entries, 2016-08-23 09:30:00 to 2021-08-23 16:00:00\n",
      "Data columns (total 1 columns):\n",
      " #   Column  Non-Null Count  Dtype  \n",
      "---  ------  --------------  -----  \n",
      " 0   price   2518 non-null   float64\n",
      "dtypes: float64(1)\n",
      "memory usage: 57.1 KB\n",
      "None\n",
      "TWTR\n",
      "<class 'pandas.core.frame.DataFrame'>\n",
      "DatetimeIndex: 3654 entries, 2016-08-23 09:30:00 to 2021-08-23 16:00:00\n",
      "Data columns (total 1 columns):\n",
      " #   Column  Non-Null Count  Dtype  \n",
      "---  ------  --------------  -----  \n",
      " 0   price   2518 non-null   float64\n",
      "dtypes: float64(1)\n",
      "memory usage: 57.1 KB\n",
      "None\n",
      "CRM\n",
      "<class 'pandas.core.frame.DataFrame'>\n",
      "DatetimeIndex: 3654 entries, 2016-08-23 09:30:00 to 2021-08-23 16:00:00\n",
      "Data columns (total 1 columns):\n",
      " #   Column  Non-Null Count  Dtype  \n",
      "---  ------  --------------  -----  \n",
      " 0   price   2518 non-null   float64\n",
      "dtypes: float64(1)\n",
      "memory usage: 57.1 KB\n",
      "None\n",
      "SPCE\n",
      "<class 'pandas.core.frame.DataFrame'>\n",
      "DatetimeIndex: 2850 entries, 2017-09-29 09:30:00 to 2021-08-23 16:00:00\n",
      "Data columns (total 1 columns):\n",
      " #   Column  Non-Null Count  Dtype  \n",
      "---  ------  --------------  -----  \n",
      " 0   price   1962 non-null   float64\n",
      "dtypes: float64(1)\n",
      "memory usage: 44.5 KB\n",
      "None\n",
      "TMUS\n",
      "<class 'pandas.core.frame.DataFrame'>\n",
      "DatetimeIndex: 3654 entries, 2016-08-23 09:30:00 to 2021-08-23 16:00:00\n",
      "Data columns (total 1 columns):\n",
      " #   Column  Non-Null Count  Dtype  \n",
      "---  ------  --------------  -----  \n",
      " 0   price   2518 non-null   float64\n",
      "dtypes: float64(1)\n",
      "memory usage: 57.1 KB\n",
      "None\n"
     ]
    }
   ],
   "source": [
    "for stock in stocks:\n",
    "    print(stock)\n",
    "    print(stocks[stock].info())"
   ]
  },
  {
   "cell_type": "markdown",
   "metadata": {},
   "source": [
    "All of the stocks have the same number of values with the exception of Virgin Galactic, which has been on the NYSE for less than the 5 year max alloted by yfinance. No missing numbers are detected."
   ]
  },
  {
   "cell_type": "markdown",
   "metadata": {},
   "source": [
    "### De-trending the time series stock data "
   ]
  },
  {
   "cell_type": "markdown",
   "metadata": {},
   "source": [
    "We will use the percent change in the stock prices as a target that we will later bin into categories.  "
   ]
  },
  {
   "cell_type": "code",
   "execution_count": 314,
   "metadata": {},
   "outputs": [],
   "source": [
    "for stock in stocks:\n",
    "    stocks[stock]['percent change'] = stocks[stock]['price'].pct_change()\n",
    "    stocks[stock].fillna(0, inplace=True)"
   ]
  },
  {
   "cell_type": "code",
   "execution_count": 315,
   "metadata": {
    "scrolled": true
   },
   "outputs": [
    {
     "data": {
      "image/png": "[encoded data removed]",
      "text/plain": [
       "<Figure size 432x288 with 1 Axes>"
      ]
     },
     "metadata": {
      "needs_background": "light"
     },
     "output_type": "display_data"
    }
   ],
   "source": [
    "_ = plt.plot(stocks['TSLA'][['percent change']])\n",
    "_ = plt.xlabel('date')\n",
    "_ = plt.ylabel('percent change')\n",
    "_ = plt.title('Detrended TSLA stock')\n",
    "plt.savefig('./figures/data_wrangling/detrended_stock.png', bbox_inches='tight')"
   ]
  },
  {
   "cell_type": "code",
   "execution_count": 316,
   "metadata": {},
   "outputs": [],
   "source": [
    "#for stock in stocks:\n",
    "#    stocks[stock].to_pickle(f'./data/{stock}_df.pkl')"
   ]
  },
  {
   "cell_type": "markdown",
   "metadata": {},
   "source": [
    "## 1.2.5 Collecting the tweets <a id='1.2.5_Collecting_Tweet'></a>\n",
    "We will collect the CEOs tweets over the same time-span as the collected stocks"
   ]
  },
  {
   "cell_type": "code",
   "execution_count": 317,
   "metadata": {},
   "outputs": [],
   "source": [
    "# Get the tweets from the CEOs of the companies\n",
    "# Get user_ids in case of name changes. \n",
    "\n",
    "        \n",
    "user_stocks = {'elonmusk':'TSLA', 'levie':'BOX','jack':'TWTR', 'Benioff':'CRM', \n",
    "            'richardbranson':'SPCE', 'JohnLegere':'TMUS'}"
   ]
  },
  {
   "cell_type": "code",
   "execution_count": 318,
   "metadata": {},
   "outputs": [],
   "source": [
    "#start_date = {}\n",
    "#for user in user_stocks:\n",
    "#    start_date[user] = dt.strftime(stocks[user_stocks[user]].reset_index().date.min(), '%Y-%m-%d %H:%M:%S')"
   ]
  },
  {
   "cell_type": "code",
   "execution_count": 319,
   "metadata": {},
   "outputs": [],
   "source": [
    "usernames = list(user_stocks.keys())"
   ]
  },
  {
   "cell_type": "code",
   "execution_count": 320,
   "metadata": {
    "scrolled": true
   },
   "outputs": [],
   "source": [
    "#%%time\n",
    "\n",
    "#ceos = []\n",
    "#for user in usernames:\n",
    "#    c = twint.Config()\n",
    "#    c.Username = user\n",
    "#    c.User_full = True\n",
    "#    c.Count = True\n",
    "#    c.Stats = True\n",
    "#    c.Pandas = True\n",
    "#    c.Store_pandas = True\n",
    "#    c.Hide_output = True\n",
    "#    c.Pandas_clean = True\n",
    "#    c.Since = start_date[user]\n",
    "\n",
    "    # run search\n",
    "#    twint.run.Search(c)\n",
    "\n",
    "# extract columns and save dataframe in list\n",
    "#columns = twint.output.panda.Tweets_df.columns\n",
    "#ceo = twint.output.panda.Tweets_df[columns]\n",
    "#ceos.append(ceo)\n",
    "\n",
    "\n",
    "ceos = pd.read_pickle('./data/ceos.pkl')\n",
    "usernames = ['elonmusk', 'levie', 'jack', 'Benioff','richardbranson', 'JohnLegere']"
   ]
  },
  {
   "cell_type": "code",
   "execution_count": 321,
   "metadata": {
    "scrolled": false
   },
   "outputs": [
    {
     "data": {
      "text/html": [
       "<div>\n",
       "<style scoped>\n",
       "    .dataframe tbody tr th:only-of-type {\n",
       "        vertical-align: middle;\n",
       "    }\n",
       "\n",
       "    .dataframe tbody tr th {\n",
       "        vertical-align: top;\n",
       "    }\n",
       "\n",
       "    .dataframe thead th {\n",
       "        text-align: right;\n",
       "    }\n",
       "</style>\n",
       "<table border=\"1\" class=\"dataframe\">\n",
       "  <thead>\n",
       "    <tr style=\"text-align: right;\">\n",
       "      <th></th>\n",
       "      <th>id</th>\n",
       "      <th>conversation_id</th>\n",
       "      <th>created_at</th>\n",
       "      <th>date</th>\n",
       "      <th>time</th>\n",
       "      <th>timezone</th>\n",
       "      <th>user_id</th>\n",
       "      <th>username</th>\n",
       "      <th>name</th>\n",
       "      <th>place</th>\n",
       "      <th>...</th>\n",
       "      <th>source</th>\n",
       "      <th>user_rt_id</th>\n",
       "      <th>user_rt</th>\n",
       "      <th>retweet_id</th>\n",
       "      <th>reply_to</th>\n",
       "      <th>retweet_date</th>\n",
       "      <th>translate</th>\n",
       "      <th>trans_src</th>\n",
       "      <th>trans_dest</th>\n",
       "      <th>search</th>\n",
       "    </tr>\n",
       "  </thead>\n",
       "  <tbody>\n",
       "    <tr>\n",
       "      <th>0</th>\n",
       "      <td>1417453075892080641</td>\n",
       "      <td>1417427520266268677</td>\n",
       "      <td>2021-07-20 07:55:22 EDT</td>\n",
       "      <td>2021-07-20</td>\n",
       "      <td>07:55:22</td>\n",
       "      <td>-0400</td>\n",
       "      <td>44196397</td>\n",
       "      <td>elonmusk</td>\n",
       "      <td>Elon Musk</td>\n",
       "      <td></td>\n",
       "      <td>...</td>\n",
       "      <td></td>\n",
       "      <td></td>\n",
       "      <td></td>\n",
       "      <td></td>\n",
       "      <td>[{'screen_name': 'vincent13031925', 'name': 'Vincent Yu', 'id': '1689516060'}]</td>\n",
       "      <td></td>\n",
       "      <td></td>\n",
       "      <td></td>\n",
       "      <td></td>\n",
       "      <td>None</td>\n",
       "    </tr>\n",
       "    <tr>\n",
       "      <th>1</th>\n",
       "      <td>1417390555001098246</td>\n",
       "      <td>1417251070989029376</td>\n",
       "      <td>2021-07-20 03:46:56 EDT</td>\n",
       "      <td>2021-07-20</td>\n",
       "      <td>03:46:56</td>\n",
       "      <td>-0400</td>\n",
       "      <td>44196397</td>\n",
       "      <td>elonmusk</td>\n",
       "      <td>Elon Musk</td>\n",
       "      <td></td>\n",
       "      <td>...</td>\n",
       "      <td></td>\n",
       "      <td></td>\n",
       "      <td></td>\n",
       "      <td></td>\n",
       "      <td>[{'screen_name': 'blueorigin', 'name': 'Blue Origin', 'id': '235348644'}]</td>\n",
       "      <td></td>\n",
       "      <td></td>\n",
       "      <td></td>\n",
       "      <td></td>\n",
       "      <td>None</td>\n",
       "    </tr>\n",
       "    <tr>\n",
       "      <th>2</th>\n",
       "      <td>1417293886897098762</td>\n",
       "      <td>1417278493428264963</td>\n",
       "      <td>2021-07-19 21:22:49 EDT</td>\n",
       "      <td>2021-07-19</td>\n",
       "      <td>21:22:49</td>\n",
       "      <td>-0400</td>\n",
       "      <td>44196397</td>\n",
       "      <td>elonmusk</td>\n",
       "      <td>Elon Musk</td>\n",
       "      <td></td>\n",
       "      <td>...</td>\n",
       "      <td></td>\n",
       "      <td></td>\n",
       "      <td></td>\n",
       "      <td></td>\n",
       "      <td>[{'screen_name': 'SpacePadreIsle', 'name': 'SPadre', 'id': '1083699592699543552'}, {'screen_name': 'SpaceX', 'name': 'SpaceX', 'id': '34743251'}]</td>\n",
       "      <td></td>\n",
       "      <td></td>\n",
       "      <td></td>\n",
       "      <td></td>\n",
       "      <td>None</td>\n",
       "    </tr>\n",
       "    <tr>\n",
       "      <th>3</th>\n",
       "      <td>1417277335863140363</td>\n",
       "      <td>1417277092090191884</td>\n",
       "      <td>2021-07-19 20:17:03 EDT</td>\n",
       "      <td>2021-07-19</td>\n",
       "      <td>20:17:03</td>\n",
       "      <td>-0400</td>\n",
       "      <td>44196397</td>\n",
       "      <td>elonmusk</td>\n",
       "      <td>Elon Musk</td>\n",
       "      <td></td>\n",
       "      <td>...</td>\n",
       "      <td></td>\n",
       "      <td></td>\n",
       "      <td></td>\n",
       "      <td></td>\n",
       "      <td>[{'screen_name': 'TLPN_Official', 'name': 'TheLaunchPad', 'id': '1343611083416694785'}, {'screen_name': 'SpaceX', 'name': 'SpaceX', 'id': '34743251'}]</td>\n",
       "      <td></td>\n",
       "      <td></td>\n",
       "      <td></td>\n",
       "      <td></td>\n",
       "      <td>None</td>\n",
       "    </tr>\n",
       "    <tr>\n",
       "      <th>4</th>\n",
       "      <td>1417274819461095432</td>\n",
       "      <td>1417274819461095432</td>\n",
       "      <td>2021-07-19 20:07:03 EDT</td>\n",
       "      <td>2021-07-19</td>\n",
       "      <td>20:07:03</td>\n",
       "      <td>-0400</td>\n",
       "      <td>44196397</td>\n",
       "      <td>elonmusk</td>\n",
       "      <td>Elon Musk</td>\n",
       "      <td></td>\n",
       "      <td>...</td>\n",
       "      <td></td>\n",
       "      <td></td>\n",
       "      <td></td>\n",
       "      <td></td>\n",
       "      <td>[]</td>\n",
       "      <td></td>\n",
       "      <td></td>\n",
       "      <td></td>\n",
       "      <td></td>\n",
       "      <td>None</td>\n",
       "    </tr>\n",
       "  </tbody>\n",
       "</table>\n",
       "<p>5 rows × 37 columns</p>\n",
       "</div>"
      ],
      "text/plain": [
       "                    id      conversation_id               created_at  \\\n",
       "0  1417453075892080641  1417427520266268677  2021-07-20 07:55:22 EDT   \n",
       "1  1417390555001098246  1417251070989029376  2021-07-20 03:46:56 EDT   \n",
       "2  1417293886897098762  1417278493428264963  2021-07-19 21:22:49 EDT   \n",
       "3  1417277335863140363  1417277092090191884  2021-07-19 20:17:03 EDT   \n",
       "4  1417274819461095432  1417274819461095432  2021-07-19 20:07:03 EDT   \n",
       "\n",
       "         date      time timezone   user_id  username       name place  ...  \\\n",
       "0  2021-07-20  07:55:22    -0400  44196397  elonmusk  Elon Musk        ...   \n",
       "1  2021-07-20  03:46:56    -0400  44196397  elonmusk  Elon Musk        ...   \n",
       "2  2021-07-19  21:22:49    -0400  44196397  elonmusk  Elon Musk        ...   \n",
       "3  2021-07-19  20:17:03    -0400  44196397  elonmusk  Elon Musk        ...   \n",
       "4  2021-07-19  20:07:03    -0400  44196397  elonmusk  Elon Musk        ...   \n",
       "\n",
       "  source user_rt_id user_rt retweet_id  \\\n",
       "0                                        \n",
       "1                                        \n",
       "2                                        \n",
       "3                                        \n",
       "4                                        \n",
       "\n",
       "                                                                                                                                                 reply_to  \\\n",
       "0                                                                          [{'screen_name': 'vincent13031925', 'name': 'Vincent Yu', 'id': '1689516060'}]   \n",
       "1                                                                               [{'screen_name': 'blueorigin', 'name': 'Blue Origin', 'id': '235348644'}]   \n",
       "2       [{'screen_name': 'SpacePadreIsle', 'name': 'SPadre', 'id': '1083699592699543552'}, {'screen_name': 'SpaceX', 'name': 'SpaceX', 'id': '34743251'}]   \n",
       "3  [{'screen_name': 'TLPN_Official', 'name': 'TheLaunchPad', 'id': '1343611083416694785'}, {'screen_name': 'SpaceX', 'name': 'SpaceX', 'id': '34743251'}]   \n",
       "4                                                                                                                                                      []   \n",
       "\n",
       "   retweet_date  translate  trans_src trans_dest search  \n",
       "0                                                  None  \n",
       "1                                                  None  \n",
       "2                                                  None  \n",
       "3                                                  None  \n",
       "4                                                  None  \n",
       "\n",
       "[5 rows x 37 columns]"
      ]
     },
     "execution_count": 321,
     "metadata": {},
     "output_type": "execute_result"
    }
   ],
   "source": [
    "ceos.head()"
   ]
  },
  {
   "cell_type": "code",
   "execution_count": 322,
   "metadata": {},
   "outputs": [
    {
     "data": {
      "text/plain": [
       "37"
      ]
     },
     "execution_count": 322,
     "metadata": {},
     "output_type": "execute_result"
    }
   ],
   "source": [
    "len(ceos.columns)"
   ]
  },
  {
   "cell_type": "markdown",
   "metadata": {},
   "source": [
    "Lets look at the number of tweets and the dates they span for each executive."
   ]
  },
  {
   "cell_type": "code",
   "execution_count": 323,
   "metadata": {},
   "outputs": [],
   "source": [
    "CEOS = {}\n",
    "for user in usernames:\n",
    "    CEOS[user] = ceos[ceos['username'] == user]   "
   ]
  },
  {
   "cell_type": "code",
   "execution_count": 324,
   "metadata": {
    "scrolled": false
   },
   "outputs": [
    {
     "name": "stdout",
     "output_type": "stream",
     "text": [
      "ELONMUSK\n",
      "number of tweets: 11622\n",
      "date range:\n",
      "2016-07-20 --- 2021-07-20\n",
      "\n",
      "LEVIE\n",
      "number of tweets: 1736\n",
      "date range:\n",
      "2016-07-21 --- 2021-07-20\n",
      "\n",
      "JACK\n",
      "number of tweets: 5124\n",
      "date range:\n",
      "2016-07-21 --- 2021-07-20\n",
      "\n",
      "BENIOFF\n",
      "number of tweets: 4871\n",
      "date range:\n",
      "2016-07-20 --- 2021-05-28\n",
      "\n",
      "RICHARDBRANSON\n",
      "number of tweets: 7711\n",
      "date range:\n",
      "2017-09-29 --- 2021-07-20\n",
      "\n",
      "JOHNLEGERE\n",
      "number of tweets: 37302\n",
      "date range:\n",
      "2016-07-20 --- 2021-07-20\n",
      "\n"
     ]
    }
   ],
   "source": [
    "start_date = {}\n",
    "end_date = {}\n",
    "for CEO in CEOS:\n",
    "    print(CEO.upper())\n",
    "    print('number of tweets:', len(CEOS[CEO]))\n",
    "    print('date range:')\n",
    "    start_date[CEO] = CEOS[CEO]['date'].min()\n",
    "    end_date[CEO] = CEOS[CEO]['date'].max()\n",
    "    print(start_date[CEO], '---' ,end_date[CEO])\n",
    "    print(\"\")"
   ]
  },
  {
   "cell_type": "code",
   "execution_count": 127,
   "metadata": {},
   "outputs": [],
   "source": [
    "#all_tweets = pd.DataFrame()\n",
    "#for CEO in CEOS:\n",
    "#    all_tweets = all_tweets.append(CEOS[CEO])\n",
    "    \n",
    "#all_tweets.to_pickle(f'/Users/tylerpoore/Workspace/Spring Board/Projects/Capstone_notebooks/Capstone_1_Final/data/ceos.pkl')"
   ]
  },
  {
   "cell_type": "markdown",
   "metadata": {},
   "source": [
    "## Examing and Cleaning the Data "
   ]
  },
  {
   "cell_type": "markdown",
   "metadata": {},
   "source": [
    "### Examining The Tweets "
   ]
  },
  {
   "cell_type": "code",
   "execution_count": 128,
   "metadata": {},
   "outputs": [
    {
     "name": "stdout",
     "output_type": "stream",
     "text": [
      "================\n",
      "elonmusk\n",
      "================\n",
      "         date                               tweet\n",
      "0  2021-07-20     @vincent13031925 Great to hear!\n",
      "1  2021-07-20  @blueorigin Best of luck tomorrow!\n",
      "2  2021-07-19        @SpacePadreIsle @SpaceX Haha\n",
      "================\n",
      "levie\n",
      "================\n",
      "         date  \\\n",
      "0  2021-07-20   \n",
      "1  2021-07-20   \n",
      "2  2021-07-20   \n",
      "\n",
      "                                                                                                                                                                                                                                                                   tweet  \n",
      "0                                                                                                                                                                                                                            This is a very sad take on entrepreneurship  \n",
      "1  Space innovation from many ventures is just plain win-win-win. More funding of research that will lead to unexpected discoveries, more rocket scientists, more knowledge about the universe, and of course the possibility of tourism and expanding to other planets.  \n",
      "2                                                                                                                                                                                                                                       Amazing  https://t.co/YGDtOVvm92  \n",
      "================\n",
      "jack\n",
      "================\n",
      "         date  \\\n",
      "0  2021-07-20   \n",
      "1  2021-07-19   \n",
      "2  2021-07-19   \n",
      "\n",
      "                                                                                                  tweet  \n",
      "0  Square Banking is live! Checking, savings, debit card for small businesses:  https://t.co/FacoHOogPd  \n",
      "1                                                                                    @cslingsby Español  \n",
      "2                                                                               https://t.co/Sip86oI6fU  \n",
      "================\n",
      "Benioff\n",
      "================\n",
      "         date  \\\n",
      "0  2021-05-28   \n",
      "1  2021-05-27   \n",
      "2  2021-05-27   \n",
      "\n",
      "                                                                                                                                            tweet  \n",
      "0                                          Wonderful to be on @MadMoneyOnCNBC tonight announcing our record Q1 results.   https://t.co/anwxjChHdB  \n",
      "1                                                                                          It’s happening! @Dreamforce ❤️ https://t.co/7VMP975nwv  \n",
      "2  Here comes Dreamforce 2021!  In person!  All of our announcements today on @MadMoneyOnCNBC with @jimcramer tonight! 👍  https://t.co/anwxjChHdB  \n",
      "================\n",
      "richardbranson\n",
      "================\n",
      "         date  \\\n",
      "0  2021-07-20   \n",
      "1  2021-07-20   \n",
      "2  2021-07-20   \n",
      "\n",
      "                                                                                                                                          tweet  \n",
      "0                                                                                                                        @virginplus Brilliant!  \n",
      "1                                                  @virginhotels @VirginVoyages @belvederevodka Love the teamwork. @VirginHotels @VirginVoyages  \n",
      "2  Well done @blueorigin, @jeffbezos, Mark, Wally and Oliver. Impressive! Very best to all the crew from me and all the team at @virgingalactic  \n",
      "================\n",
      "JohnLegere\n",
      "================\n",
      "         date  \\\n",
      "0  2021-07-20   \n",
      "1  2021-07-20   \n",
      "2  2021-07-20   \n",
      "\n",
      "                                                                                                                                                                                                        tweet  \n",
      "0                                                                                                                                                       WOW this looks so delicious!  https://t.co/hnOKodchlg  \n",
      "1                                                                                                                                                                    Up up and away!  https://t.co/jvRcpkqng3  \n",
      "2  Call on John is POSTPONED for today but tune in on Thursday, July 22nd at 12 PM ET on Instagram Stories for an extra special Call on John! What do you want to see me give away??  https://t.co/4P3hucQ3io  \n"
     ]
    }
   ],
   "source": [
    "# Examine the scraped data\n",
    "\n",
    "for CEO in CEOS:\n",
    "    print(\"================\")\n",
    "    print(CEO)\n",
    "    print(\"================\")\n",
    "    print(CEOS[CEO][['date','tweet']].head(3))"
   ]
  },
  {
   "cell_type": "markdown",
   "metadata": {},
   "source": [
    "The raw twitter data has mentions, urls, emojis, and other languages besides english at first glance. "
   ]
  },
  {
   "cell_type": "code",
   "execution_count": 148,
   "metadata": {},
   "outputs": [
    {
     "data": {
      "text/plain": [
       "id                                                     1256239815256797184\n",
       "conversation_id                                        1256239815256797184\n",
       "created_at                                         2020-05-01 11:11:26 EDT\n",
       "date                                                            2020-05-01\n",
       "time                                                              11:11:26\n",
       "timezone                                                             -0400\n",
       "user_id                                                           44196397\n",
       "username                                                          elonmusk\n",
       "name                                                             Elon Musk\n",
       "place                                                                     \n",
       "tweet                                    Tesla stock price is too high imo\n",
       "language                                                                en\n",
       "mentions                                                                []\n",
       "urls                                                                    []\n",
       "photos                                                                  []\n",
       "replies_count                                                        12288\n",
       "retweets_count                                                       20913\n",
       "likes_count                                                         187836\n",
       "hashtags                                                                []\n",
       "cashtags                                                                []\n",
       "link               https://twitter.com/elonmusk/status/1256239815256797184\n",
       "retweet                                                              False\n",
       "quote_url                                                                 \n",
       "video                                                                    0\n",
       "thumbnail                                                                 \n",
       "near                                                                      \n",
       "geo                                                                       \n",
       "source                                                                    \n",
       "user_rt_id                                                                \n",
       "user_rt                                                                   \n",
       "retweet_id                                                                \n",
       "reply_to                                                                []\n",
       "retweet_date                                                              \n",
       "translate                                                                 \n",
       "trans_src                                                                 \n",
       "trans_dest                                                                \n",
       "search                                                                None\n",
       "Name: 3883, dtype: object"
      ]
     },
     "execution_count": 148,
     "metadata": {},
     "output_type": "execute_result"
    }
   ],
   "source": [
    "CEOS['elonmusk'].loc[3883]"
   ]
  },
  {
   "cell_type": "code",
   "execution_count": 25,
   "metadata": {},
   "outputs": [
    {
     "name": "stdout",
     "output_type": "stream",
     "text": [
      "<class 'pandas.core.frame.DataFrame'>\n",
      "Int64Index: 11622 entries, 0 to 11621\n",
      "Data columns (total 37 columns):\n",
      " #   Column           Non-Null Count  Dtype \n",
      "---  ------           --------------  ----- \n",
      " 0   id               11622 non-null  object\n",
      " 1   conversation_id  11622 non-null  object\n",
      " 2   created_at       11622 non-null  object\n",
      " 3   date             11622 non-null  object\n",
      " 4   time             11622 non-null  object\n",
      " 5   timezone         11622 non-null  object\n",
      " 6   user_id          11622 non-null  int64 \n",
      " 7   username         11622 non-null  object\n",
      " 8   name             11622 non-null  object\n",
      " 9   place            11622 non-null  object\n",
      " 10  tweet            11622 non-null  object\n",
      " 11  language         11622 non-null  object\n",
      " 12  mentions         11622 non-null  object\n",
      " 13  urls             11622 non-null  object\n",
      " 14  photos           11622 non-null  object\n",
      " 15  replies_count    11622 non-null  int64 \n",
      " 16  retweets_count   11622 non-null  int64 \n",
      " 17  likes_count      11622 non-null  int64 \n",
      " 18  hashtags         11622 non-null  object\n",
      " 19  cashtags         11622 non-null  object\n",
      " 20  link             11622 non-null  object\n",
      " 21  retweet          11622 non-null  bool  \n",
      " 22  quote_url        11622 non-null  object\n",
      " 23  video            11622 non-null  int64 \n",
      " 24  thumbnail        11622 non-null  object\n",
      " 25  near             11622 non-null  object\n",
      " 26  geo              11622 non-null  object\n",
      " 27  source           11622 non-null  object\n",
      " 28  user_rt_id       11622 non-null  object\n",
      " 29  user_rt          11622 non-null  object\n",
      " 30  retweet_id       11622 non-null  object\n",
      " 31  reply_to         11622 non-null  object\n",
      " 32  retweet_date     11622 non-null  object\n",
      " 33  translate        11622 non-null  object\n",
      " 34  trans_src        11622 non-null  object\n",
      " 35  trans_dest       11622 non-null  object\n",
      " 36  search           11622 non-null  object\n",
      "dtypes: bool(1), int64(5), object(31)\n",
      "memory usage: 3.3+ MB\n"
     ]
    }
   ],
   "source": [
    "# Examine the tweet columns\n",
    "\n",
    "CEOS['elonmusk'].info()"
   ]
  },
  {
   "cell_type": "markdown",
   "metadata": {},
   "source": [
    "Looking at the dataframe columns entries, there are no missing values. That may be because they are using a different character than NaN, and I will look into this later. Most are of type object, but there are 4 integer columns: user_id; reply, retweet, and like counts; and video for some odd reason; and 1 boolean retweet column. All of the columns are the same type. Let's examine the columns."
   ]
  },
  {
   "cell_type": "code",
   "execution_count": 26,
   "metadata": {},
   "outputs": [
    {
     "data": {
      "text/html": [
       "<div>\n",
       "<style scoped>\n",
       "    .dataframe tbody tr th:only-of-type {\n",
       "        vertical-align: middle;\n",
       "    }\n",
       "\n",
       "    .dataframe tbody tr th {\n",
       "        vertical-align: top;\n",
       "    }\n",
       "\n",
       "    .dataframe thead th {\n",
       "        text-align: right;\n",
       "    }\n",
       "</style>\n",
       "<table border=\"1\" class=\"dataframe\">\n",
       "  <thead>\n",
       "    <tr style=\"text-align: right;\">\n",
       "      <th></th>\n",
       "      <th>user_id</th>\n",
       "      <th>replies_count</th>\n",
       "      <th>retweets_count</th>\n",
       "      <th>likes_count</th>\n",
       "      <th>video</th>\n",
       "    </tr>\n",
       "  </thead>\n",
       "  <tbody>\n",
       "    <tr>\n",
       "      <th>count</th>\n",
       "      <td>11622.0</td>\n",
       "      <td>11622.000000</td>\n",
       "      <td>11622.000000</td>\n",
       "      <td>1.162200e+04</td>\n",
       "      <td>11622.000000</td>\n",
       "    </tr>\n",
       "    <tr>\n",
       "      <th>mean</th>\n",
       "      <td>44196397.0</td>\n",
       "      <td>985.211065</td>\n",
       "      <td>2602.205989</td>\n",
       "      <td>2.602342e+04</td>\n",
       "      <td>0.060833</td>\n",
       "    </tr>\n",
       "    <tr>\n",
       "      <th>std</th>\n",
       "      <td>0.0</td>\n",
       "      <td>3843.169195</td>\n",
       "      <td>10442.067297</td>\n",
       "      <td>7.333076e+04</td>\n",
       "      <td>0.239034</td>\n",
       "    </tr>\n",
       "    <tr>\n",
       "      <th>min</th>\n",
       "      <td>44196397.0</td>\n",
       "      <td>0.000000</td>\n",
       "      <td>0.000000</td>\n",
       "      <td>9.100000e+01</td>\n",
       "      <td>0.000000</td>\n",
       "    </tr>\n",
       "    <tr>\n",
       "      <th>25%</th>\n",
       "      <td>44196397.0</td>\n",
       "      <td>55.000000</td>\n",
       "      <td>49.000000</td>\n",
       "      <td>1.204000e+03</td>\n",
       "      <td>0.000000</td>\n",
       "    </tr>\n",
       "    <tr>\n",
       "      <th>50%</th>\n",
       "      <td>44196397.0</td>\n",
       "      <td>143.500000</td>\n",
       "      <td>163.000000</td>\n",
       "      <td>3.655500e+03</td>\n",
       "      <td>0.000000</td>\n",
       "    </tr>\n",
       "    <tr>\n",
       "      <th>75%</th>\n",
       "      <td>44196397.0</td>\n",
       "      <td>534.750000</td>\n",
       "      <td>984.000000</td>\n",
       "      <td>1.542325e+04</td>\n",
       "      <td>0.000000</td>\n",
       "    </tr>\n",
       "    <tr>\n",
       "      <th>max</th>\n",
       "      <td>44196397.0</td>\n",
       "      <td>126196.000000</td>\n",
       "      <td>355536.000000</td>\n",
       "      <td>1.574723e+06</td>\n",
       "      <td>1.000000</td>\n",
       "    </tr>\n",
       "  </tbody>\n",
       "</table>\n",
       "</div>"
      ],
      "text/plain": [
       "          user_id  replies_count  retweets_count   likes_count         video\n",
       "count     11622.0   11622.000000    11622.000000  1.162200e+04  11622.000000\n",
       "mean   44196397.0     985.211065     2602.205989  2.602342e+04      0.060833\n",
       "std           0.0    3843.169195    10442.067297  7.333076e+04      0.239034\n",
       "min    44196397.0       0.000000        0.000000  9.100000e+01      0.000000\n",
       "25%    44196397.0      55.000000       49.000000  1.204000e+03      0.000000\n",
       "50%    44196397.0     143.500000      163.000000  3.655500e+03      0.000000\n",
       "75%    44196397.0     534.750000      984.000000  1.542325e+04      0.000000\n",
       "max    44196397.0  126196.000000   355536.000000  1.574723e+06      1.000000"
      ]
     },
     "execution_count": 26,
     "metadata": {},
     "output_type": "execute_result"
    }
   ],
   "source": [
    "# Look at sample integer columns\n",
    "\n",
    "CEOS['elonmusk'].select_dtypes(include=['int']).describe()"
   ]
  },
  {
   "cell_type": "markdown",
   "metadata": {},
   "source": [
    "The video column looks like a boolean"
   ]
  },
  {
   "cell_type": "code",
   "execution_count": 27,
   "metadata": {},
   "outputs": [
    {
     "data": {
      "text/plain": [
       "2"
      ]
     },
     "execution_count": 27,
     "metadata": {},
     "output_type": "execute_result"
    }
   ],
   "source": [
    "CEOS['elonmusk']['video'].nunique()"
   ]
  },
  {
   "cell_type": "code",
   "execution_count": 28,
   "metadata": {},
   "outputs": [
    {
     "data": {
      "text/plain": [
       "707"
      ]
     },
     "execution_count": 28,
     "metadata": {},
     "output_type": "execute_result"
    }
   ],
   "source": [
    "CEOS['elonmusk']['video'].sum()"
   ]
  },
  {
   "cell_type": "code",
   "execution_count": 29,
   "metadata": {},
   "outputs": [
    {
     "data": {
      "text/html": [
       "<div>\n",
       "<style scoped>\n",
       "    .dataframe tbody tr th:only-of-type {\n",
       "        vertical-align: middle;\n",
       "    }\n",
       "\n",
       "    .dataframe tbody tr th {\n",
       "        vertical-align: top;\n",
       "    }\n",
       "\n",
       "    .dataframe thead th {\n",
       "        text-align: right;\n",
       "    }\n",
       "</style>\n",
       "<table border=\"1\" class=\"dataframe\">\n",
       "  <thead>\n",
       "    <tr style=\"text-align: right;\">\n",
       "      <th></th>\n",
       "      <th>id</th>\n",
       "      <th>conversation_id</th>\n",
       "      <th>created_at</th>\n",
       "      <th>date</th>\n",
       "      <th>time</th>\n",
       "      <th>timezone</th>\n",
       "      <th>username</th>\n",
       "      <th>name</th>\n",
       "      <th>place</th>\n",
       "      <th>tweet</th>\n",
       "      <th>...</th>\n",
       "      <th>source</th>\n",
       "      <th>user_rt_id</th>\n",
       "      <th>user_rt</th>\n",
       "      <th>retweet_id</th>\n",
       "      <th>reply_to</th>\n",
       "      <th>retweet_date</th>\n",
       "      <th>translate</th>\n",
       "      <th>trans_src</th>\n",
       "      <th>trans_dest</th>\n",
       "      <th>search</th>\n",
       "    </tr>\n",
       "  </thead>\n",
       "  <tbody>\n",
       "    <tr>\n",
       "      <th>count</th>\n",
       "      <td>11622</td>\n",
       "      <td>11622</td>\n",
       "      <td>11622</td>\n",
       "      <td>11622</td>\n",
       "      <td>11622</td>\n",
       "      <td>11622</td>\n",
       "      <td>11622</td>\n",
       "      <td>11622</td>\n",
       "      <td>11622</td>\n",
       "      <td>11622</td>\n",
       "      <td>...</td>\n",
       "      <td>11622</td>\n",
       "      <td>11622</td>\n",
       "      <td>11622</td>\n",
       "      <td>11622</td>\n",
       "      <td>11622</td>\n",
       "      <td>11622</td>\n",
       "      <td>11622</td>\n",
       "      <td>11622</td>\n",
       "      <td>11622</td>\n",
       "      <td>11622</td>\n",
       "    </tr>\n",
       "    <tr>\n",
       "      <th>unique</th>\n",
       "      <td>11622</td>\n",
       "      <td>5665</td>\n",
       "      <td>11619</td>\n",
       "      <td>1465</td>\n",
       "      <td>10736</td>\n",
       "      <td>1</td>\n",
       "      <td>1</td>\n",
       "      <td>1</td>\n",
       "      <td>1</td>\n",
       "      <td>11554</td>\n",
       "      <td>...</td>\n",
       "      <td>1</td>\n",
       "      <td>1</td>\n",
       "      <td>1</td>\n",
       "      <td>1</td>\n",
       "      <td>5620</td>\n",
       "      <td>1</td>\n",
       "      <td>1</td>\n",
       "      <td>1</td>\n",
       "      <td>1</td>\n",
       "      <td>1</td>\n",
       "    </tr>\n",
       "    <tr>\n",
       "      <th>top</th>\n",
       "      <td>1417453075892080641</td>\n",
       "      <td>828280866451374085</td>\n",
       "      <td>2018-04-01 18:02:31 EDT</td>\n",
       "      <td>2017-03-24</td>\n",
       "      <td>15:39:16</td>\n",
       "      <td>-0400</td>\n",
       "      <td>elonmusk</td>\n",
       "      <td>Elon Musk</td>\n",
       "      <td></td>\n",
       "      <td>@flcnhvy True</td>\n",
       "      <td>...</td>\n",
       "      <td></td>\n",
       "      <td></td>\n",
       "      <td></td>\n",
       "      <td></td>\n",
       "      <td>[]</td>\n",
       "      <td></td>\n",
       "      <td></td>\n",
       "      <td></td>\n",
       "      <td></td>\n",
       "      <td>None</td>\n",
       "    </tr>\n",
       "    <tr>\n",
       "      <th>freq</th>\n",
       "      <td>1</td>\n",
       "      <td>34</td>\n",
       "      <td>2</td>\n",
       "      <td>49</td>\n",
       "      <td>4</td>\n",
       "      <td>11622</td>\n",
       "      <td>11622</td>\n",
       "      <td>11622</td>\n",
       "      <td>11622</td>\n",
       "      <td>6</td>\n",
       "      <td>...</td>\n",
       "      <td>11622</td>\n",
       "      <td>11622</td>\n",
       "      <td>11622</td>\n",
       "      <td>11622</td>\n",
       "      <td>2967</td>\n",
       "      <td>11622</td>\n",
       "      <td>11622</td>\n",
       "      <td>11622</td>\n",
       "      <td>11622</td>\n",
       "      <td>11622</td>\n",
       "    </tr>\n",
       "  </tbody>\n",
       "</table>\n",
       "<p>4 rows × 31 columns</p>\n",
       "</div>"
      ],
      "text/plain": [
       "                         id     conversation_id               created_at  \\\n",
       "count                 11622               11622                    11622   \n",
       "unique                11622                5665                    11619   \n",
       "top     1417453075892080641  828280866451374085  2018-04-01 18:02:31 EDT   \n",
       "freq                      1                  34                        2   \n",
       "\n",
       "              date      time timezone  username       name  place  \\\n",
       "count        11622     11622    11622     11622      11622  11622   \n",
       "unique        1465     10736        1         1          1      1   \n",
       "top     2017-03-24  15:39:16    -0400  elonmusk  Elon Musk          \n",
       "freq            49         4    11622     11622      11622  11622   \n",
       "\n",
       "                tweet  ... source user_rt_id user_rt retweet_id reply_to  \\\n",
       "count           11622  ...  11622      11622   11622      11622    11622   \n",
       "unique          11554  ...      1          1       1          1     5620   \n",
       "top     @flcnhvy True  ...                                            []   \n",
       "freq                6  ...  11622      11622   11622      11622     2967   \n",
       "\n",
       "       retweet_date translate trans_src trans_dest search  \n",
       "count         11622     11622     11622      11622  11622  \n",
       "unique            1         1         1          1      1  \n",
       "top                                                  None  \n",
       "freq          11622     11622     11622      11622  11622  \n",
       "\n",
       "[4 rows x 31 columns]"
      ]
     },
     "execution_count": 29,
     "metadata": {},
     "output_type": "execute_result"
    }
   ],
   "source": [
    "# Look at first set of object columns\n",
    "\n",
    "CEOS['elonmusk'].select_dtypes(include=['object']).describe()"
   ]
  },
  {
   "cell_type": "markdown",
   "metadata": {},
   "source": [
    "A lot of these columns I will exclude as they likely won't contribute any contributable features to predicting the stock price. I will determine the language after cleaning the tweets."
   ]
  },
  {
   "cell_type": "code",
   "execution_count": 30,
   "metadata": {},
   "outputs": [
    {
     "data": {
      "text/html": [
       "<div>\n",
       "<style scoped>\n",
       "    .dataframe tbody tr th:only-of-type {\n",
       "        vertical-align: middle;\n",
       "    }\n",
       "\n",
       "    .dataframe tbody tr th {\n",
       "        vertical-align: top;\n",
       "    }\n",
       "\n",
       "    .dataframe thead th {\n",
       "        text-align: right;\n",
       "    }\n",
       "</style>\n",
       "<table border=\"1\" class=\"dataframe\">\n",
       "  <thead>\n",
       "    <tr style=\"text-align: right;\">\n",
       "      <th></th>\n",
       "      <th>tweet</th>\n",
       "      <th>mentions</th>\n",
       "      <th>urls</th>\n",
       "      <th>photos</th>\n",
       "      <th>hashtags</th>\n",
       "      <th>cashtags</th>\n",
       "      <th>quote_url</th>\n",
       "    </tr>\n",
       "  </thead>\n",
       "  <tbody>\n",
       "    <tr>\n",
       "      <th>count</th>\n",
       "      <td>11622</td>\n",
       "      <td>11622</td>\n",
       "      <td>11622</td>\n",
       "      <td>11622</td>\n",
       "      <td>11622</td>\n",
       "      <td>11622</td>\n",
       "      <td>11622</td>\n",
       "    </tr>\n",
       "    <tr>\n",
       "      <th>unique</th>\n",
       "      <td>11554</td>\n",
       "      <td>137</td>\n",
       "      <td>746</td>\n",
       "      <td>640</td>\n",
       "      <td>17</td>\n",
       "      <td>2</td>\n",
       "      <td>382</td>\n",
       "    </tr>\n",
       "    <tr>\n",
       "      <th>top</th>\n",
       "      <td>@flcnhvy True</td>\n",
       "      <td>[]</td>\n",
       "      <td>[]</td>\n",
       "      <td>[]</td>\n",
       "      <td>[]</td>\n",
       "      <td>[]</td>\n",
       "      <td></td>\n",
       "    </tr>\n",
       "    <tr>\n",
       "      <th>freq</th>\n",
       "      <td>6</td>\n",
       "      <td>11357</td>\n",
       "      <td>10812</td>\n",
       "      <td>10983</td>\n",
       "      <td>11604</td>\n",
       "      <td>11621</td>\n",
       "      <td>11231</td>\n",
       "    </tr>\n",
       "  </tbody>\n",
       "</table>\n",
       "</div>"
      ],
      "text/plain": [
       "                tweet mentions   urls photos hashtags cashtags quote_url\n",
       "count           11622    11622  11622  11622    11622    11622     11622\n",
       "unique          11554      137    746    640       17        2       382\n",
       "top     @flcnhvy True       []     []     []       []       []          \n",
       "freq                6    11357  10812  10983    11604    11621     11231"
      ]
     },
     "execution_count": 30,
     "metadata": {},
     "output_type": "execute_result"
    }
   ],
   "source": [
    "CEOS['elonmusk'][['tweet', 'mentions', 'urls', 'photos','hashtags', 'cashtags', 'quote_url']].describe()"
   ]
  },
  {
   "cell_type": "markdown",
   "metadata": {},
   "source": [
    "The missing values are represented by empty lists. Let's turn this into a better represenation of missing values."
   ]
  },
  {
   "cell_type": "markdown",
   "metadata": {},
   "source": [
    "Let's look at the languages first."
   ]
  },
  {
   "cell_type": "code",
   "execution_count": 31,
   "metadata": {},
   "outputs": [
    {
     "name": "stdout",
     "output_type": "stream",
     "text": [
      "ELONMUSK\n",
      "en     10105\n",
      "und     1123\n",
      "tl       123\n",
      "fr        38\n",
      "de        36\n",
      "Name: language, dtype: int64\n",
      "LEVIE\n",
      "en     1677\n",
      "und      44\n",
      "fr        5\n",
      "es        3\n",
      "it        2\n",
      "Name: language, dtype: int64\n",
      "JACK\n",
      "en     4041\n",
      "und     983\n",
      "es       18\n",
      "fr       15\n",
      "in       11\n",
      "Name: language, dtype: int64\n",
      "BENIOFF\n",
      "en     4696\n",
      "und     117\n",
      "fr       17\n",
      "pt        9\n",
      "es        7\n",
      "Name: language, dtype: int64\n",
      "RICHARDBRANSON\n",
      "en     7652\n",
      "und      48\n",
      "fr        3\n",
      "tl        3\n",
      "ro        2\n",
      "Name: language, dtype: int64\n",
      "JOHNLEGERE\n",
      "en     28752\n",
      "und     8207\n",
      "pt       152\n",
      "es        55\n",
      "fr        33\n",
      "Name: language, dtype: int64\n"
     ]
    }
   ],
   "source": [
    "for CEO in CEOS:\n",
    "    print(CEO.upper())\n",
    "    print(CEOS[CEO]['language'].value_counts()[:5])"
   ]
  },
  {
   "cell_type": "markdown",
   "metadata": {},
   "source": [
    "Let's see what und is"
   ]
  },
  {
   "cell_type": "code",
   "execution_count": 32,
   "metadata": {},
   "outputs": [
    {
     "data": {
      "text/plain": [
       "15                                  @waitbutwhy Pohtaytohz\n",
       "28                                 https://t.co/d4ZOSKZESP\n",
       "31       @JeffTutorials @TonyTesla4Life @WholeMarsBlog Yes\n",
       "44                    @AaronS5_ @FrenchieEAP @karpathy Yes\n",
       "53                                      @Kristennetten Yup\n",
       "                               ...                        \n",
       "11505                                    @huntster1701 yes\n",
       "11506                                      @DavidKYoon yes\n",
       "11540                                 @asunshinegreene yes\n",
       "11605                              https://t.co/Kgkz1Z3FwJ\n",
       "11616                                         @vitiral yup\n",
       "Name: tweet, Length: 1123, dtype: object"
      ]
     },
     "execution_count": 32,
     "metadata": {},
     "output_type": "execute_result"
    }
   ],
   "source": [
    "CEOS['elonmusk']['tweet'][CEOS['elonmusk']['language'] == 'und']"
   ]
  },
  {
   "cell_type": "markdown",
   "metadata": {},
   "source": [
    "It looks like und occurs when there are a lot of mentions, links, or emojis, so I will keep this and clean them later. "
   ]
  },
  {
   "cell_type": "code",
   "execution_count": 33,
   "metadata": {},
   "outputs": [],
   "source": [
    "# Keep the en and und languages \n",
    "for CEO in CEOS:\n",
    "    CEOS[CEO] = CEOS[CEO][(CEOS[CEO]['language'] == 'en') | (CEOS[CEO]['language'] == 'und')]\n",
    "    CEOS[CEO].reset_index(inplace=True, drop=True)"
   ]
  },
  {
   "cell_type": "code",
   "execution_count": 34,
   "metadata": {},
   "outputs": [
    {
     "name": "stdout",
     "output_type": "stream",
     "text": [
      "ELONMUSK\n",
      "en     10105\n",
      "und     1123\n",
      "Name: language, dtype: int64\n",
      "11228\n",
      "LEVIE\n",
      "en     1677\n",
      "und      44\n",
      "Name: language, dtype: int64\n",
      "1721\n",
      "JACK\n",
      "en     4041\n",
      "und     983\n",
      "Name: language, dtype: int64\n",
      "5024\n",
      "BENIOFF\n",
      "en     4696\n",
      "und     117\n",
      "Name: language, dtype: int64\n",
      "4813\n",
      "RICHARDBRANSON\n",
      "en     7652\n",
      "und      48\n",
      "Name: language, dtype: int64\n",
      "7700\n",
      "JOHNLEGERE\n",
      "en     28752\n",
      "und     8207\n",
      "Name: language, dtype: int64\n",
      "36959\n"
     ]
    }
   ],
   "source": [
    "for CEO in CEOS:\n",
    "    print(CEO.upper())\n",
    "    print(CEOS[CEO]['language'].value_counts())\n",
    "    print(CEOS[CEO]['language'].value_counts().sum())"
   ]
  },
  {
   "cell_type": "markdown",
   "metadata": {},
   "source": [
    "### 1.3.2 Converting to Missing Values and Categorical Features <a id='1.3.2_Missing'></a>"
   ]
  },
  {
   "cell_type": "code",
   "execution_count": 35,
   "metadata": {},
   "outputs": [
    {
     "name": "stdout",
     "output_type": "stream",
     "text": [
      "ELONMUSK\n",
      "  mentions urls photos hashtags cashtags thumbnail\n",
      "0       []   []     []       []       []          \n",
      "1       []   []     []       []       []          \n",
      "2       []   []     []       []       []          \n",
      "LEVIE\n",
      "  mentions urls                                             photos hashtags  \\\n",
      "0       []   []                                                 []       []   \n",
      "1       []   []                                                 []       []   \n",
      "2       []   []  [https://pbs.twimg.com/media/E6vgkwJUcAIUI5z.jpg]       []   \n",
      "\n",
      "  cashtags                                        thumbnail  \n",
      "0       []                                                   \n",
      "1       []                                                   \n",
      "2       []  https://pbs.twimg.com/media/E6vgkwJUcAIUI5z.jpg  \n",
      "JACK\n",
      "  mentions                                  urls  \\\n",
      "0       []  [https://squareup.com/us/en/banking]   \n",
      "1       []                                    []   \n",
      "2       []        [https://youtu.be/VcjzHMhBtf0]   \n",
      "\n",
      "                                              photos hashtags cashtags  \\\n",
      "0                                                 []       []       []   \n",
      "1  [https://pbs.twimg.com/media/E6tGb46X0AA5ou4.jpg]       []       []   \n",
      "2                                                 []       []       []   \n",
      "\n",
      "                                         thumbnail  \n",
      "0                                                   \n",
      "1  https://pbs.twimg.com/media/E6tGb46X0AA5ou4.jpg  \n",
      "2                                                   \n",
      "BENIOFF\n",
      "                                            mentions  \\\n",
      "0  [{'screen_name': 'madmoneyoncnbc', 'name': 'ma...   \n",
      "1  [{'screen_name': 'dreamforce', 'name': 'dreamf...   \n",
      "2  [{'screen_name': 'madmoneyoncnbc', 'name': 'ma...   \n",
      "\n",
      "                                                urls photos hashtags cashtags  \\\n",
      "0  [https://www.cnbc.com/video/2021/05/27/salesfo...     []       []       []   \n",
      "1  [https://www.sfchronicle.com/business/article/...     []       []       []   \n",
      "2  [https://www.cnbc.com/video/2021/05/27/salesfo...     []       []       []   \n",
      "\n",
      "  thumbnail  \n",
      "0            \n",
      "1            \n",
      "2            \n",
      "RICHARDBRANSON\n",
      "                                            mentions urls photos hashtags  \\\n",
      "0                                                 []   []     []       []   \n",
      "1  [{'screen_name': 'virginhotels', 'name': 'virg...   []     []       []   \n",
      "2  [{'screen_name': 'blueorigin', 'name': 'blue o...   []     []       []   \n",
      "\n",
      "  cashtags thumbnail  \n",
      "0       []            \n",
      "1       []            \n",
      "2       []            \n",
      "JOHNLEGERE\n",
      "  mentions                                               urls  \\\n",
      "0       []  [https://www.buzzfeed.com/juliawilling/milo-an...   \n",
      "1       []  [https://www.theverge.com/2021/7/19/22580542/j...   \n",
      "2       []                                                 []   \n",
      "\n",
      "                                              photos hashtags cashtags  \\\n",
      "0                                                 []       []       []   \n",
      "1                                                 []       []       []   \n",
      "2  [https://pbs.twimg.com/media/E6veOyjWUAMGWtW.jpg]       []       []   \n",
      "\n",
      "                                         thumbnail  \n",
      "0                                                   \n",
      "1                                                   \n",
      "2  https://pbs.twimg.com/media/E6veOyjWUAMGWtW.jpg  \n"
     ]
    }
   ],
   "source": [
    "for CEO in CEOS:\n",
    "    print(CEO.upper())\n",
    "    print(CEOS[CEO][['mentions', 'urls', 'photos', 'hashtags', 'cashtags', 'thumbnail']].head(3))"
   ]
  },
  {
   "cell_type": "code",
   "execution_count": 36,
   "metadata": {},
   "outputs": [],
   "source": [
    "# Convert empty lists into NaNs for easier processing\n",
    "for CEO in CEOS:\n",
    "    CEOS[CEO][['mentions', 'urls', 'photos', 'hashtags', 'cashtags', 'thumbnail']] = CEOS[CEO][['mentions', 'urls', 'photos', 'hashtags','cashtags', 'thumbnail']].applymap(lambda x: np.nan if len(x) == 0 else x)\n",
    "    "
   ]
  },
  {
   "cell_type": "code",
   "execution_count": 37,
   "metadata": {},
   "outputs": [
    {
     "name": "stdout",
     "output_type": "stream",
     "text": [
      "ELONMUSK\n",
      "<class 'pandas.core.frame.DataFrame'>\n",
      "RangeIndex: 11228 entries, 0 to 11227\n",
      "Data columns (total 6 columns):\n",
      " #   Column     Non-Null Count  Dtype  \n",
      "---  ------     --------------  -----  \n",
      " 0   mentions   259 non-null    object \n",
      " 1   urls       775 non-null    object \n",
      " 2   photos     607 non-null    object \n",
      " 3   hashtags   18 non-null     object \n",
      " 4   cashtags   0 non-null      float64\n",
      " 5   thumbnail  672 non-null    object \n",
      "dtypes: float64(1), object(5)\n",
      "memory usage: 526.4+ KB\n",
      "None\n",
      "LEVIE\n",
      "<class 'pandas.core.frame.DataFrame'>\n",
      "RangeIndex: 1721 entries, 0 to 1720\n",
      "Data columns (total 6 columns):\n",
      " #   Column     Non-Null Count  Dtype \n",
      "---  ------     --------------  ----- \n",
      " 0   mentions   81 non-null     object\n",
      " 1   urls       165 non-null    object\n",
      " 2   photos     135 non-null    object\n",
      " 3   hashtags   12 non-null     object\n",
      " 4   cashtags   2 non-null      object\n",
      " 5   thumbnail  148 non-null    object\n",
      "dtypes: object(6)\n",
      "memory usage: 80.8+ KB\n",
      "None\n",
      "JACK\n",
      "<class 'pandas.core.frame.DataFrame'>\n",
      "RangeIndex: 5024 entries, 0 to 5023\n",
      "Data columns (total 6 columns):\n",
      " #   Column     Non-Null Count  Dtype \n",
      "---  ------     --------------  ----- \n",
      " 0   mentions   729 non-null    object\n",
      " 1   urls       1124 non-null   object\n",
      " 2   photos     462 non-null    object\n",
      " 3   hashtags   410 non-null    object\n",
      " 4   cashtags   5 non-null      object\n",
      " 5   thumbnail  470 non-null    object\n",
      "dtypes: object(6)\n",
      "memory usage: 235.6+ KB\n",
      "None\n",
      "BENIOFF\n",
      "<class 'pandas.core.frame.DataFrame'>\n",
      "RangeIndex: 4813 entries, 0 to 4812\n",
      "Data columns (total 6 columns):\n",
      " #   Column     Non-Null Count  Dtype  \n",
      "---  ------     --------------  -----  \n",
      " 0   mentions   2367 non-null   object \n",
      " 1   urls       2612 non-null   object \n",
      " 2   photos     1651 non-null   object \n",
      " 3   hashtags   329 non-null    object \n",
      " 4   cashtags   0 non-null      float64\n",
      " 5   thumbnail  2026 non-null   object \n",
      "dtypes: float64(1), object(5)\n",
      "memory usage: 225.7+ KB\n",
      "None\n",
      "RICHARDBRANSON\n",
      "<class 'pandas.core.frame.DataFrame'>\n",
      "RangeIndex: 7700 entries, 0 to 7699\n",
      "Data columns (total 6 columns):\n",
      " #   Column     Non-Null Count  Dtype  \n",
      "---  ------     --------------  -----  \n",
      " 0   mentions   3400 non-null   object \n",
      " 1   urls       6331 non-null   object \n",
      " 2   photos     5460 non-null   object \n",
      " 3   hashtags   2742 non-null   object \n",
      " 4   cashtags   0 non-null      float64\n",
      " 5   thumbnail  5933 non-null   object \n",
      "dtypes: float64(1), object(5)\n",
      "memory usage: 361.1+ KB\n",
      "None\n",
      "JOHNLEGERE\n",
      "<class 'pandas.core.frame.DataFrame'>\n",
      "RangeIndex: 36959 entries, 0 to 36958\n",
      "Data columns (total 6 columns):\n",
      " #   Column     Non-Null Count  Dtype \n",
      "---  ------     --------------  ----- \n",
      " 0   mentions   7550 non-null   object\n",
      " 1   urls       7379 non-null   object\n",
      " 2   photos     9057 non-null   object\n",
      " 3   hashtags   9188 non-null   object\n",
      " 4   cashtags   222 non-null    object\n",
      " 5   thumbnail  9940 non-null   object\n",
      "dtypes: object(6)\n",
      "memory usage: 1.7+ MB\n",
      "None\n"
     ]
    }
   ],
   "source": [
    "for CEO in CEOS:\n",
    "    print(CEO.upper())\n",
    "    print(CEOS[CEO][['mentions', 'urls', 'photos', 'hashtags', 'cashtags', 'thumbnail']].info())"
   ]
  },
  {
   "cell_type": "code",
   "execution_count": 38,
   "metadata": {
    "scrolled": false
   },
   "outputs": [
    {
     "name": "stdout",
     "output_type": "stream",
     "text": [
      "ELONMUSK\n",
      "\n",
      "\n",
      "missing values\n",
      "===============\n",
      "mentions     10969\n",
      "urls         10453\n",
      "photos       10621\n",
      "hashtags     11210\n",
      "cashtags     11228\n",
      "thumbnail    10556\n",
      "dtype: int64\n",
      "\n",
      "\n",
      "LEVIE\n",
      "\n",
      "\n",
      "missing values\n",
      "===============\n",
      "mentions     1640\n",
      "urls         1556\n",
      "photos       1586\n",
      "hashtags     1709\n",
      "cashtags     1719\n",
      "thumbnail    1573\n",
      "dtype: int64\n",
      "\n",
      "\n",
      "JACK\n",
      "\n",
      "\n",
      "missing values\n",
      "===============\n",
      "mentions     4295\n",
      "urls         3900\n",
      "photos       4562\n",
      "hashtags     4614\n",
      "cashtags     5019\n",
      "thumbnail    4554\n",
      "dtype: int64\n",
      "\n",
      "\n",
      "BENIOFF\n",
      "\n",
      "\n",
      "missing values\n",
      "===============\n",
      "mentions     2446\n",
      "urls         2201\n",
      "photos       3162\n",
      "hashtags     4484\n",
      "cashtags     4813\n",
      "thumbnail    2787\n",
      "dtype: int64\n",
      "\n",
      "\n",
      "RICHARDBRANSON\n",
      "\n",
      "\n",
      "missing values\n",
      "===============\n",
      "mentions     4300\n",
      "urls         1369\n",
      "photos       2240\n",
      "hashtags     4958\n",
      "cashtags     7700\n",
      "thumbnail    1767\n",
      "dtype: int64\n",
      "\n",
      "\n",
      "JOHNLEGERE\n",
      "\n",
      "\n",
      "missing values\n",
      "===============\n",
      "mentions     29409\n",
      "urls         29580\n",
      "photos       27902\n",
      "hashtags     27771\n",
      "cashtags     36737\n",
      "thumbnail    27019\n",
      "dtype: int64\n",
      "\n",
      "\n"
     ]
    }
   ],
   "source": [
    "for CEO in CEOS:\n",
    "    print(CEO.upper())\n",
    "    print('\\n')\n",
    "    print('missing values')\n",
    "    print('===============')\n",
    "    print(CEOS[CEO][['mentions', 'urls', 'photos', 'hashtags', 'cashtags', 'thumbnail']].isna().sum())\n",
    "    print('\\n')"
   ]
  },
  {
   "cell_type": "code",
   "execution_count": 39,
   "metadata": {
    "scrolled": true
   },
   "outputs": [
    {
     "name": "stdout",
     "output_type": "stream",
     "text": [
      "MENTIONS\n",
      "6        [{'screen_name': 'lifehacker', 'name': 'lifeha...\n",
      "18       [{'screen_name': 'neilbarua', 'name': 'neil ba...\n",
      "20       [{'screen_name': 'candace_parker', 'name': 'ca...\n",
      "29       [{'screen_name': 'coolcatsnft', 'name': 'cool ...\n",
      "43       [{'screen_name': 'richardbranson', 'name': 'ri...\n",
      "                               ...                        \n",
      "36951    [{'screen_name': 'theorlandojones', 'name': 'o...\n",
      "36952    [{'screen_name': 'tmobile', 'name': 't-mobile'...\n",
      "36954    [{'screen_name': 'att', 'name': 'at&t', 'id': ...\n",
      "36956    [{'screen_name': 'att', 'name': 'at&t', 'id': ...\n",
      "36957    [{'screen_name': 'att', 'name': 'at&t', 'id': ...\n",
      "Name: mentions, Length: 7550, dtype: object\n",
      "===========\n",
      "URLS\n",
      "0        [https://www.buzzfeed.com/juliawilling/milo-an...\n",
      "1        [https://www.theverge.com/2021/7/19/22580542/j...\n",
      "3        [https://mashable.com/article/nasa-hubble-imag...\n",
      "5        [https://www.buzzfeed.com/hannahloewentheil/pe...\n",
      "6        [https://lifehacker.com/youve-probably-been-pi...\n",
      "                               ...                        \n",
      "36947                              [http://bit.ly/29YdERB]\n",
      "36948                              [http://bit.ly/2a4U3yK]\n",
      "36949    [https://www.pscp.tv/w/al6BUTE4NTc4fDF5bkpPemV...\n",
      "36955                              [http://bit.ly/29VyzUb]\n",
      "36958                              [http://bit.ly/2a8AhnH]\n",
      "Name: urls, Length: 7379, dtype: object\n",
      "===========\n",
      "PHOTOS\n",
      "2        [https://pbs.twimg.com/media/E6veOyjWUAMGWtW.jpg]\n",
      "4        [https://pbs.twimg.com/media/E6rjNVWWYAIctsn.j...\n",
      "10       [https://pbs.twimg.com/media/E6lviueWYAAKq8l.jpg]\n",
      "11       [https://pbs.twimg.com/media/E6hfHbEWEAYWwwN.j...\n",
      "28       [https://pbs.twimg.com/media/E6LfrZOWQAkT_AO.jpg]\n",
      "                               ...                        \n",
      "36924    [https://pbs.twimg.com/media/Cn7QFz0UkAEqLO6.jpg]\n",
      "36932    [https://pbs.twimg.com/media/Cn5qTfJWEAEIQyr.jpg]\n",
      "36945    [https://pbs.twimg.com/media/Cn2s0M8UkAIn0vg.jpg]\n",
      "36955    [https://pbs.twimg.com/media/Cn0gBayUMAELRqs.jpg]\n",
      "36957    [https://pbs.twimg.com/media/Cn0fMkOVYAIWdTB.jpg]\n",
      "Name: photos, Length: 9057, dtype: object\n",
      "===========\n",
      "HASHTAGS\n",
      "14                    [worldemojiday]\n",
      "28                       [callonjohn]\n",
      "77                       [callonjohn]\n",
      "100                      [callonjohn]\n",
      "122                [standwithreality]\n",
      "                     ...             \n",
      "36952      [duopoly, wednesdaywisdom]\n",
      "36954           [deatthstar, dumpatt]\n",
      "36955           [dumpatt, deatthstar]\n",
      "36957       [deatthstar, notshocking]\n",
      "36958    [pokemongo, tmobiletuesdays]\n",
      "Name: hashtags, Length: 9188, dtype: object\n",
      "===========\n",
      "CASHTAGS\n",
      "780            [tmus]\n",
      "1159           [tmus]\n",
      "2378           [tmus]\n",
      "2379           [tmus]\n",
      "2384           [tmus]\n",
      "             ...     \n",
      "36831          [tmus]\n",
      "36832          [tmus]\n",
      "36836          [tmus]\n",
      "36838    [tmus, tmus]\n",
      "36849      [vz, t, s]\n",
      "Name: cashtags, Length: 222, dtype: object\n",
      "===========\n",
      "THUMBNAIL\n",
      "2        https://pbs.twimg.com/media/E6veOyjWUAMGWtW.jpg\n",
      "4        https://pbs.twimg.com/media/E6rjNVWWYAIctsn.jpg\n",
      "10       https://pbs.twimg.com/media/E6lviueWYAAKq8l.jpg\n",
      "11       https://pbs.twimg.com/media/E6hfHbEWEAYWwwN.jpg\n",
      "28       https://pbs.twimg.com/media/E6LfrZOWQAkT_AO.jpg\n",
      "                              ...                       \n",
      "36924    https://pbs.twimg.com/media/Cn7QFz0UkAEqLO6.jpg\n",
      "36932    https://pbs.twimg.com/media/Cn5qTfJWEAEIQyr.jpg\n",
      "36945    https://pbs.twimg.com/media/Cn2s0M8UkAIn0vg.jpg\n",
      "36955    https://pbs.twimg.com/media/Cn0gBayUMAELRqs.jpg\n",
      "36957    https://pbs.twimg.com/media/Cn0fMkOVYAIWdTB.jpg\n",
      "Name: thumbnail, Length: 9940, dtype: object\n",
      "===========\n"
     ]
    }
   ],
   "source": [
    "categ = ['mentions', 'urls', 'photos', 'hashtags', 'cashtags', 'thumbnail']\n",
    "for categorical in categ:\n",
    "    print(categorical.upper())\n",
    "    print(CEOS['JohnLegere'][categorical][~CEOS['JohnLegere'][categorical].isna()])\n",
    "    print('===========')"
   ]
  },
  {
   "cell_type": "code",
   "execution_count": 40,
   "metadata": {},
   "outputs": [
    {
     "name": "stdout",
     "output_type": "stream",
     "text": [
      "CPU times: user 42.1 s, sys: 476 ms, total: 42.6 s\n",
      "Wall time: 45.1 s\n"
     ]
    }
   ],
   "source": [
    "%%time\n",
    "# Change categoricals to binary values\n",
    "for CEO in CEOS:\n",
    "    for categorical in categ:\n",
    "        CEOS[CEO][categorical][CEOS[CEO][categorical].isnull()] = 0\n",
    "\n",
    "for CEO in CEOS:\n",
    "    for categorical in categ:\n",
    "        for i in range(len(CEOS[CEO])):\n",
    "            if CEOS[CEO][categorical].iloc[i] != 0:\n",
    "                if categorical != 'thumbnail':\n",
    "                    CEOS[CEO][categorical].iloc[i] = len(CEOS[CEO][categorical].iloc[i])\n",
    "                else:\n",
    "                    CEOS[CEO]['thumbnail'].iloc[i] = 1"
   ]
  },
  {
   "cell_type": "code",
   "execution_count": 41,
   "metadata": {},
   "outputs": [],
   "source": [
    "for CEO in CEOS:\n",
    "    CEOS[CEO]['cashtags'] = CEOS[CEO]['cashtags'].astype(int)"
   ]
  },
  {
   "cell_type": "code",
   "execution_count": 42,
   "metadata": {
    "scrolled": false
   },
   "outputs": [
    {
     "name": "stdout",
     "output_type": "stream",
     "text": [
      "ELONMUSK\n",
      "0    10969\n",
      "1      230\n",
      "2       25\n",
      "3        2\n",
      "4        2\n",
      "Name: mentions, dtype: int64\n",
      "============\n",
      "0    10453\n",
      "1      765\n",
      "2        9\n",
      "3        1\n",
      "Name: urls, dtype: int64\n",
      "============\n",
      "0    10621\n",
      "1      571\n",
      "2       23\n",
      "3       11\n",
      "4        2\n",
      "Name: photos, dtype: int64\n",
      "============\n",
      "0    11210\n",
      "1       17\n",
      "2        1\n",
      "Name: hashtags, dtype: int64\n",
      "============\n",
      "0    11228\n",
      "Name: cashtags, dtype: int64\n",
      "============\n",
      "0    10556\n",
      "1      672\n",
      "Name: thumbnail, dtype: int64\n",
      "============\n",
      "LEVIE\n",
      "0    1640\n",
      "1      64\n",
      "2      15\n",
      "3       2\n",
      "Name: mentions, dtype: int64\n",
      "============\n",
      "0    1556\n",
      "1     164\n",
      "2       1\n",
      "Name: urls, dtype: int64\n",
      "============\n",
      "0    1586\n",
      "1     127\n",
      "2       6\n",
      "4       2\n",
      "Name: photos, dtype: int64\n",
      "============\n",
      "0    1709\n",
      "1      12\n",
      "Name: hashtags, dtype: int64\n",
      "============\n",
      "0    1719\n",
      "1       2\n",
      "Name: cashtags, dtype: int64\n",
      "============\n",
      "0    1573\n",
      "1     148\n",
      "Name: thumbnail, dtype: int64\n",
      "============\n",
      "JACK\n",
      "0    4295\n",
      "1     571\n",
      "2     118\n",
      "3      30\n",
      "4       8\n",
      "8       1\n",
      "9       1\n",
      "Name: mentions, dtype: int64\n",
      "============\n",
      "0    3900\n",
      "1    1113\n",
      "2      11\n",
      "Name: urls, dtype: int64\n",
      "============\n",
      "0    4562\n",
      "1     411\n",
      "2      25\n",
      "4      16\n",
      "3      10\n",
      "Name: photos, dtype: int64\n",
      "============\n",
      "0    4614\n",
      "1     386\n",
      "2      22\n",
      "3       2\n",
      "Name: hashtags, dtype: int64\n",
      "============\n",
      "0    5019\n",
      "1       4\n",
      "2       1\n",
      "Name: cashtags, dtype: int64\n",
      "============\n",
      "0    4554\n",
      "1     470\n",
      "Name: thumbnail, dtype: int64\n",
      "============\n",
      "BENIOFF\n",
      "0     2446\n",
      "1     1376\n",
      "2      632\n",
      "3      232\n",
      "4       79\n",
      "5       26\n",
      "6        9\n",
      "7        7\n",
      "8        5\n",
      "18       1\n",
      "Name: mentions, dtype: int64\n",
      "============\n",
      "1    2504\n",
      "0    2201\n",
      "2      99\n",
      "3       9\n",
      "Name: urls, dtype: int64\n",
      "============\n",
      "0    3162\n",
      "1    1345\n",
      "4     199\n",
      "2      93\n",
      "3      14\n",
      "Name: photos, dtype: int64\n",
      "============\n",
      "0    4484\n",
      "1     295\n",
      "2      31\n",
      "3       3\n",
      "Name: hashtags, dtype: int64\n",
      "============\n",
      "0    4813\n",
      "Name: cashtags, dtype: int64\n",
      "============\n",
      "0    2787\n",
      "1    2026\n",
      "Name: thumbnail, dtype: int64\n",
      "============\n",
      "RICHARDBRANSON\n",
      "0     4300\n",
      "1     2378\n",
      "2      777\n",
      "3      179\n",
      "4       44\n",
      "5       14\n",
      "8        3\n",
      "6        2\n",
      "9        2\n",
      "10       1\n",
      "Name: mentions, dtype: int64\n",
      "============\n",
      "1    6310\n",
      "0    1369\n",
      "2      21\n",
      "Name: urls, dtype: int64\n",
      "============\n",
      "1    5395\n",
      "0    2240\n",
      "2      41\n",
      "3      24\n",
      "Name: photos, dtype: int64\n",
      "============\n",
      "0    4958\n",
      "1    2378\n",
      "2     303\n",
      "3      52\n",
      "4       7\n",
      "5       1\n",
      "6       1\n",
      "Name: hashtags, dtype: int64\n",
      "============\n",
      "0    7700\n",
      "Name: cashtags, dtype: int64\n",
      "============\n",
      "1    5933\n",
      "0    1767\n",
      "Name: thumbnail, dtype: int64\n",
      "============\n",
      "JOHNLEGERE\n",
      "0     29409\n",
      "1      5814\n",
      "2      1227\n",
      "3       303\n",
      "4        98\n",
      "5        38\n",
      "6        17\n",
      "7        12\n",
      "8        11\n",
      "12        6\n",
      "10        5\n",
      "9         5\n",
      "11        4\n",
      "14        3\n",
      "17        2\n",
      "15        2\n",
      "13        1\n",
      "18        1\n",
      "16        1\n",
      "Name: mentions, dtype: int64\n",
      "============\n",
      "0    29580\n",
      "1     7280\n",
      "2       98\n",
      "4        1\n",
      "Name: urls, dtype: int64\n",
      "============\n",
      "0    27902\n",
      "1     8331\n",
      "2      359\n",
      "4      251\n",
      "3      116\n",
      "Name: photos, dtype: int64\n",
      "============\n",
      "0     27771\n",
      "1      6689\n",
      "2      1887\n",
      "3       481\n",
      "4       101\n",
      "5        21\n",
      "6         2\n",
      "17        2\n",
      "11        2\n",
      "22        1\n",
      "7         1\n",
      "20        1\n",
      "Name: hashtags, dtype: int64\n",
      "============\n",
      "0    36737\n",
      "1      202\n",
      "2       16\n",
      "3        4\n",
      "Name: cashtags, dtype: int64\n",
      "============\n",
      "0    27019\n",
      "1     9940\n",
      "Name: thumbnail, dtype: int64\n",
      "============\n"
     ]
    }
   ],
   "source": [
    "for CEO in CEOS:\n",
    "    print(CEO.upper())\n",
    "    for categorical in categ:\n",
    "        print(CEOS[CEO][categorical].value_counts())\n",
    "        print('============')"
   ]
  },
  {
   "cell_type": "markdown",
   "metadata": {},
   "source": [
    "### 1.3.3 Select Feature Columns and Combine Tweets for Each Day <a id='1.3.3_Features'></a>\n",
    "\n",
    "I will be keeping most of the categorical and int features, but I won't be keeping the Cashtag column as it is empty for most of the tweets"
   ]
  },
  {
   "cell_type": "code",
   "execution_count": 43,
   "metadata": {},
   "outputs": [],
   "source": [
    "# Set appropriate columns \n",
    "\n",
    "for CEO in CEOS:\n",
    "    CEOS[CEO] = CEOS[CEO][[\n",
    "        'date', 'time', 'username', 'tweet', \n",
    "        'mentions', 'hashtags', 'video', 'photos', 'urls']]"
   ]
  },
  {
   "cell_type": "code",
   "execution_count": 44,
   "metadata": {},
   "outputs": [],
   "source": [
    "# Need to change some of the features to integers\n",
    "for CEO in CEOS:\n",
    "    CEOS[CEO].fillna(0, inplace=True)"
   ]
  },
  {
   "cell_type": "markdown",
   "metadata": {},
   "source": [
    "I will make a separate dataframe for these and append them to a dataframe of tweets that have been grouped by the date. Because I am looking how tweets impact the stock prices, I want to analyze tweets that happen before the price point. To this end I will be looking at the closing price, and tweets that occur on the same day after the market closes will be counted towards the following day. "
   ]
  },
  {
   "cell_type": "code",
   "execution_count": 45,
   "metadata": {},
   "outputs": [],
   "source": [
    "num_tweets = len(CEOS['elonmusk'])"
   ]
  },
  {
   "cell_type": "code",
   "execution_count": 46,
   "metadata": {},
   "outputs": [
    {
     "data": {
      "text/plain": [
       "11228"
      ]
     },
     "execution_count": 46,
     "metadata": {},
     "output_type": "execute_result"
    }
   ],
   "source": [
    "num_tweets"
   ]
  },
  {
   "cell_type": "code",
   "execution_count": 47,
   "metadata": {
    "scrolled": false
   },
   "outputs": [
    {
     "name": "stdout",
     "output_type": "stream",
     "text": [
      "CPU times: user 58.5 s, sys: 653 ms, total: 59.2 s\n",
      "Wall time: 1min 1s\n"
     ]
    }
   ],
   "source": [
    "%%time \n",
    "# Takes ~1 min\n",
    "for CEO in CEOS:\n",
    "    CEOS[CEO] = combine_tweets(CEOS[CEO])"
   ]
  },
  {
   "cell_type": "code",
   "execution_count": 48,
   "metadata": {},
   "outputs": [],
   "source": [
    "assert num_tweets == CEOS['elonmusk']['number of tweets'].sum()"
   ]
  },
  {
   "cell_type": "code",
   "execution_count": 49,
   "metadata": {},
   "outputs": [
    {
     "name": "stdout",
     "output_type": "stream",
     "text": [
      "ELONMUSK\n",
      "Number of days collected: 2179\n",
      "\n",
      "LEVIE\n",
      "Number of days collected: 957\n",
      "\n",
      "JACK\n",
      "Number of days collected: 1476\n",
      "\n",
      "BENIOFF\n",
      "Number of days collected: 1868\n",
      "\n",
      "RICHARDBRANSON\n",
      "Number of days collected: 2009\n",
      "\n",
      "JOHNLEGERE\n",
      "Number of days collected: 3415\n",
      "\n"
     ]
    }
   ],
   "source": [
    "for CEO in CEOS:\n",
    "    print(CEO.upper())\n",
    "    print('Number of days collected: {}'.format(CEOS[CEO].shape[0]))\n",
    "    print(\"\")"
   ]
  },
  {
   "cell_type": "markdown",
   "metadata": {},
   "source": [
    "## 1.4 Combining Stocks and Tweets DataFrames <a id='1.4_Combining_DataFrames'></a>"
   ]
  },
  {
   "cell_type": "code",
   "execution_count": 50,
   "metadata": {
    "scrolled": true
   },
   "outputs": [
    {
     "name": "stdout",
     "output_type": "stream",
     "text": [
      "<built-in method upper of str object at 0x7fd79348dab0>\n",
      "                 date      price  percent change\n",
      "0 2016-08-23 09:30:00  44.863998        0.000000\n",
      "1 2016-08-23 16:00:00  44.967999        0.002318\n",
      "2 2016-08-24 09:30:00  45.410000        0.009829\n",
      "\n",
      "<built-in method upper of str object at 0x7fd794a9c470>\n",
      "                 date  price  percent change\n",
      "0 2016-08-23 09:30:00  12.95        0.000000\n",
      "1 2016-08-23 16:00:00  13.30        0.027027\n",
      "2 2016-08-24 09:30:00  13.40        0.007519\n",
      "\n",
      "<built-in method upper of str object at 0x7fd76a865770>\n",
      "                 date      price  percent change\n",
      "0 2016-08-23 09:30:00  18.650000        0.000000\n",
      "1 2016-08-23 16:00:00  18.690001        0.002145\n",
      "2 2016-08-24 09:30:00  18.799999        0.005885\n",
      "\n",
      "<built-in method upper of str object at 0x7fd79348da30>\n",
      "                 date      price  percent change\n",
      "0 2016-08-23 09:30:00  77.820000        0.000000\n",
      "1 2016-08-23 16:00:00  78.019997        0.002570\n",
      "2 2016-08-24 09:30:00  78.000000       -0.000256\n",
      "\n",
      "<built-in method upper of str object at 0x7fd79348db70>\n",
      "                 date  price  percent change\n",
      "0 2017-09-29 09:30:00   10.5        0.000000\n",
      "1 2017-09-29 16:00:00   10.1       -0.038095\n",
      "2 2017-09-30 09:30:00    0.0        0.000000\n",
      "\n",
      "<built-in method upper of str object at 0x7fd79348d7b0>\n",
      "                 date      price  percent change\n",
      "0 2016-08-23 09:30:00  46.959999        0.000000\n",
      "1 2016-08-23 16:00:00  46.830002       -0.002768\n",
      "2 2016-08-24 09:30:00  46.660000       -0.003630\n",
      "\n"
     ]
    }
   ],
   "source": [
    "# merge stocks on to tweets\n",
    "for stock in stocks:\n",
    "    stocks[stock].reset_index(inplace=True)\n",
    "    print(stock.upper)\n",
    "    print(stocks[stock].head(3))\n",
    "    print(\"\")"
   ]
  },
  {
   "cell_type": "code",
   "execution_count": 51,
   "metadata": {},
   "outputs": [],
   "source": [
    "CEOS_list = list(CEOS.keys())\n",
    "stocks_list = list(stocks.keys())"
   ]
  },
  {
   "cell_type": "code",
   "execution_count": 52,
   "metadata": {},
   "outputs": [],
   "source": [
    "for i in range(len(CEOS_list)):\n",
    "    CEOS[CEOS_list[i]] = CEOS[CEOS_list[i]].merge(stocks[stocks_list[i]], how='left', on='date')\n",
    "    CEOS[CEOS_list[i]] = CEOS[CEOS_list[i]].sort_values(by = 'date').reset_index(drop=True)"
   ]
  },
  {
   "cell_type": "code",
   "execution_count": 53,
   "metadata": {
    "scrolled": true
   },
   "outputs": [
    {
     "name": "stdout",
     "output_type": "stream",
     "text": [
      "ELONMUSK\n",
      "                 date                                              tweet  \\\n",
      "0 2016-07-20 16:00:00  California time Post should go live on Tesla w...   \n",
      "1 2016-07-21 09:30:00  Autopilot prevents serious injury or death of ...   \n",
      "2 2016-07-22 09:30:00  Looking forward to the Gigafactory opening par...   \n",
      "\n",
      "   username  mentions  hashtags  video  photos  urls  number of tweets  price  \\\n",
      "0  elonmusk         0         0      0       0     0                 7    NaN   \n",
      "1  elonmusk         0         0      1       1     0                 6    NaN   \n",
      "2  elonmusk         0         0      0       0     0                 1    NaN   \n",
      "\n",
      "   percent change  \n",
      "0             NaN  \n",
      "1             NaN  \n",
      "2             NaN  \n",
      "LEVIE\n",
      "                 date                                              tweet  \\\n",
      "0 2016-07-21 09:30:00  One part of Twitter right now is a mad man tha...   \n",
      "1 2016-07-21 16:00:00  Ted Cruz deserves kudos. Might be the only per...   \n",
      "2 2016-07-22 09:30:00  Thiel just delivered the first tech speech in ...   \n",
      "\n",
      "  username  mentions  hashtags  video  photos  urls  number of tweets  price  \\\n",
      "0    levie         0         0      0       0     0                 1    NaN   \n",
      "1    levie         0         0      0       0     1                 1    NaN   \n",
      "2    levie         0         0      0       0     0                 2    NaN   \n",
      "\n",
      "   percent change  \n",
      "0             NaN  \n",
      "1             NaN  \n",
      "2             NaN  \n",
      "JACK\n",
      "                 date                                              tweet  \\\n",
      "0 2016-07-21 16:00:00  @wikileaks we don't ban people for expressing ...   \n",
      "1 2016-07-22 09:30:00  @wikileaks all fair points. We are working to ...   \n",
      "2 2016-07-23 16:00:00  \"…you didn't like who you were, so the only th...   \n",
      "\n",
      "  username  mentions  hashtags  video  photos  urls  number of tweets  price  \\\n",
      "0     jack         0         0      1       1     1                 2    NaN   \n",
      "1     jack         0         0      0       0     0                 1    NaN   \n",
      "2     jack         2         0      0       0     2                 3    NaN   \n",
      "\n",
      "   percent change  \n",
      "0             NaN  \n",
      "1             NaN  \n",
      "2             NaN  \n",
      "BENIOFF\n",
      "                 date                                              tweet  \\\n",
      "0 2016-07-21 09:30:00  Don't you love @Neilyoung @Willynelson - Are T...   \n",
      "1 2016-07-22 09:30:00  Congratulations @nba!  And thank you.   https:...   \n",
      "2 2016-07-23 09:30:00  Thank you @cnn @LaurieSegallCNN for @peterthie...   \n",
      "\n",
      "  username  mentions  hashtags  video  photos  urls  number of tweets  price  \\\n",
      "0  Benioff         3         0      0       0     2                 3    NaN   \n",
      "1  Benioff         3         0      0       0     1                 3    NaN   \n",
      "2  Benioff         8         0      0       0     4                 5    NaN   \n",
      "\n",
      "   percent change  \n",
      "0             NaN  \n",
      "1             NaN  \n",
      "2             NaN  \n",
      "RICHARDBRANSON\n",
      "                 date                                              tweet  \\\n",
      "0 2017-09-29 16:00:00  Climate change creates huge opportunities for ...   \n",
      "1 2017-09-30 09:30:00  My top ten quotes on inspiring leadership:  ht...   \n",
      "2 2017-09-30 16:00:00  While I’m excited for the future, it’s interes...   \n",
      "\n",
      "         username  mentions  hashtags  video  photos  urls  number of tweets  \\\n",
      "0  richardbranson         1         4      6       6     8                11   \n",
      "1  richardbranson         2         3      5       5     5                 5   \n",
      "2  richardbranson         2         4      1       1     3                 3   \n",
      "\n",
      "   price  percent change  \n",
      "0   10.1       -0.038095  \n",
      "1    0.0        0.000000  \n",
      "2    0.0        0.000000  \n",
      "JOHNLEGERE\n",
      "                 date                                              tweet  \\\n",
      "0 2016-07-20 16:00:00  @TheOrlandoJones john.legere@t-mobile.com ;) ....   \n",
      "1 2016-07-21 09:30:00  .@TMobile customers are getting unlimited high...   \n",
      "2 2016-07-21 16:00:00  Batman had to make an appearance in #SuicideSq...   \n",
      "\n",
      "     username  mentions  hashtags  video  photos  urls  number of tweets  \\\n",
      "0  JohnLegere         5        10      2       2     2                 9   \n",
      "1  JohnLegere         7         9      1       1     6                16   \n",
      "2  JohnLegere         3         7      1       1     3                 6   \n",
      "\n",
      "   price  percent change  \n",
      "0    NaN             NaN  \n",
      "1    NaN             NaN  \n",
      "2    NaN             NaN  \n"
     ]
    }
   ],
   "source": [
    "for CEO in CEOS:\n",
    "    print(CEO.upper())\n",
    "    print(CEOS[CEO].head(3))"
   ]
  },
  {
   "cell_type": "markdown",
   "metadata": {},
   "source": [
    "### 1.4.1 Sort DataFrames and Clean <a id='1.4.1_Sorting_and_Cleaning'></a>"
   ]
  },
  {
   "cell_type": "code",
   "execution_count": 54,
   "metadata": {},
   "outputs": [],
   "source": [
    "# Combine tweets that occur when market it closed and add to next market open.\n",
    "\n",
    "for CEO in CEOS:\n",
    "    CEOS[CEO] = fix_closed_market_tweets(CEOS[CEO])\n",
    "    CEOS[CEO].reset_index('date', inplace=True)"
   ]
  },
  {
   "cell_type": "code",
   "execution_count": 55,
   "metadata": {},
   "outputs": [
    {
     "name": "stdout",
     "output_type": "stream",
     "text": [
      "elonmusk\n",
      "date                0\n",
      "tweet               0\n",
      "username            0\n",
      "mentions            0\n",
      "hashtags            0\n",
      "video               0\n",
      "photos              0\n",
      "urls                0\n",
      "number of tweets    0\n",
      "price               0\n",
      "percent change      0\n",
      "dtype: int64\n",
      "levie\n",
      "date                0\n",
      "tweet               0\n",
      "username            0\n",
      "mentions            0\n",
      "hashtags            0\n",
      "video               0\n",
      "photos              0\n",
      "urls                0\n",
      "number of tweets    0\n",
      "price               0\n",
      "percent change      0\n",
      "dtype: int64\n",
      "jack\n",
      "date                0\n",
      "tweet               0\n",
      "username            0\n",
      "mentions            0\n",
      "hashtags            0\n",
      "video               0\n",
      "photos              0\n",
      "urls                0\n",
      "number of tweets    0\n",
      "price               0\n",
      "percent change      0\n",
      "dtype: int64\n",
      "Benioff\n",
      "date                0\n",
      "tweet               0\n",
      "username            0\n",
      "mentions            0\n",
      "hashtags            0\n",
      "video               0\n",
      "photos              0\n",
      "urls                0\n",
      "number of tweets    0\n",
      "price               0\n",
      "percent change      0\n",
      "dtype: int64\n",
      "richardbranson\n",
      "date                0\n",
      "tweet               0\n",
      "username            0\n",
      "mentions            0\n",
      "hashtags            0\n",
      "video               0\n",
      "photos              0\n",
      "urls                0\n",
      "number of tweets    0\n",
      "price               0\n",
      "percent change      0\n",
      "dtype: int64\n",
      "JohnLegere\n",
      "date                0\n",
      "tweet               0\n",
      "username            0\n",
      "mentions            0\n",
      "hashtags            0\n",
      "video               0\n",
      "photos              0\n",
      "urls                0\n",
      "number of tweets    0\n",
      "price               0\n",
      "percent change      0\n",
      "dtype: int64\n"
     ]
    }
   ],
   "source": [
    "# Check for missing values\n",
    "for CEO in CEOS:\n",
    "    print(CEO)\n",
    "    print(CEOS[CEO].isna().sum())"
   ]
  },
  {
   "cell_type": "markdown",
   "metadata": {},
   "source": [
    "Because the latest tweets are before the next market opens, some of them have missing values and I will have to remove them for now."
   ]
  },
  {
   "cell_type": "code",
   "execution_count": 56,
   "metadata": {},
   "outputs": [
    {
     "name": "stdout",
     "output_type": "stream",
     "text": [
      "(1531, 11)\n",
      "(705, 11)\n",
      "(1126, 11)\n",
      "(1376, 11)\n",
      "(1406, 11)\n",
      "(2301, 11)\n"
     ]
    }
   ],
   "source": [
    "for CEO in CEOS:\n",
    "    print(CEOS[CEO].shape)"
   ]
  },
  {
   "cell_type": "markdown",
   "metadata": {},
   "source": [
    "Normalize data types"
   ]
  },
  {
   "cell_type": "code",
   "execution_count": 57,
   "metadata": {
    "scrolled": true
   },
   "outputs": [
    {
     "name": "stdout",
     "output_type": "stream",
     "text": [
      "<class 'pandas.core.frame.DataFrame'>\n",
      "RangeIndex: 1531 entries, 0 to 1530\n",
      "Data columns (total 11 columns):\n",
      " #   Column            Non-Null Count  Dtype         \n",
      "---  ------            --------------  -----         \n",
      " 0   date              1531 non-null   datetime64[ns]\n",
      " 1   tweet             1531 non-null   object        \n",
      " 2   username          1531 non-null   object        \n",
      " 3   mentions          1531 non-null   int64         \n",
      " 4   hashtags          1531 non-null   int64         \n",
      " 5   video             1531 non-null   int64         \n",
      " 6   photos            1531 non-null   int64         \n",
      " 7   urls              1531 non-null   int64         \n",
      " 8   number of tweets  1531 non-null   int64         \n",
      " 9   price             1531 non-null   float64       \n",
      " 10  percent change    1531 non-null   float64       \n",
      "dtypes: datetime64[ns](1), float64(2), int64(6), object(2)\n",
      "memory usage: 131.7+ KB\n"
     ]
    }
   ],
   "source": [
    "CEOS['elonmusk'].info()"
   ]
  },
  {
   "cell_type": "code",
   "execution_count": 58,
   "metadata": {},
   "outputs": [],
   "source": [
    "ints_columns = CEOS['elonmusk'].select_dtypes(include=['int']).columns\n",
    "floats_columns = CEOS['elonmusk'].select_dtypes(include=['float']).columns"
   ]
  },
  {
   "cell_type": "code",
   "execution_count": 59,
   "metadata": {},
   "outputs": [],
   "source": [
    "for CEO in CEOS:\n",
    "    CEOS[CEO][ints_columns] = CEOS[CEO][ints_columns].astype(int)\n",
    "    CEOS[CEO][floats_columns] = CEOS[CEO][floats_columns].astype(float)"
   ]
  },
  {
   "cell_type": "markdown",
   "metadata": {},
   "source": [
    "### 1.4.2 DataFrame Prices vs Original Stock Prices <a id='1.4.2_Looking_at_Original_Stocks'></a>"
   ]
  },
  {
   "cell_type": "code",
   "execution_count": 60,
   "metadata": {},
   "outputs": [
    {
     "data": {
      "image/png": "[encoded data removed]",
      "text/plain": [
       "<Figure size 432x288 with 1 Axes>"
      ]
     },
     "metadata": {
      "needs_background": "light"
     },
     "output_type": "display_data"
    },
    {
     "data": {
      "image/png": "[encoded data removed]",
      "text/plain": [
       "<Figure size 432x288 with 1 Axes>"
      ]
     },
     "metadata": {
      "needs_background": "light"
     },
     "output_type": "display_data"
    },
    {
     "data": {
      "image/png": "[encoded data removed]",
      "text/plain": [
       "<Figure size 432x288 with 1 Axes>"
      ]
     },
     "metadata": {
      "needs_background": "light"
     },
     "output_type": "display_data"
    },
    {
     "data": {
      "image/png": "[encoded data removed]",
      "text/plain": [
       "<Figure size 432x288 with 1 Axes>"
      ]
     },
     "metadata": {
      "needs_background": "light"
     },
     "output_type": "display_data"
    },
    {
     "data": {
      "image/png": "[encoded data removed]",
      "text/plain": [
       "<Figure size 432x288 with 1 Axes>"
      ]
     },
     "metadata": {
      "needs_background": "light"
     },
     "output_type": "display_data"
    },
    {
     "data": {
      "image/png": "[encoded data removed]",
      "text/plain": [
       "<Figure size 432x288 with 1 Axes>"
      ]
     },
     "metadata": {
      "needs_background": "light"
     },
     "output_type": "display_data"
    },
    {
     "data": {
      "text/plain": [
       "<Figure size 432x288 with 0 Axes>"
      ]
     },
     "metadata": {},
     "output_type": "display_data"
    }
   ],
   "source": [
    "# Let's look to see how well the full stock prices match the merged tweet and stock DataFrames\n",
    "for i in range(len(stocks_list)):\n",
    "    _ = plt.plot(stocks[stocks_list[i]]['date'], stocks[stocks_list[i]]['price'])\n",
    "    _ = plt.plot(CEOS[CEOS_list[i]]['date'], CEOS[CEOS_list[i]]['price'], c='red')\n",
    "    _ = plt.title(stocks_list[i])\n",
    "    _ = plt.xticks(rotation=60)\n",
    "    _ = plt.legend(['Stock Data', 'Stock Price with Tweets'])\n",
    "    _ = plt.show()\n",
    "    plt.savefig('./figures/data_wrangling/Price_Tweets_{}.png'.format(stocks_list[i]), bbox_inches='tight')"
   ]
  },
  {
   "cell_type": "code",
   "execution_count": 61,
   "metadata": {
    "scrolled": false
   },
   "outputs": [
    {
     "data": {
      "image/png": "[encoded data removed]",
      "text/plain": [
       "<Figure size 432x288 with 2 Axes>"
      ]
     },
     "metadata": {
      "needs_background": "light"
     },
     "output_type": "display_data"
    },
    {
     "data": {
      "image/png": "[encoded data removed]",
      "text/plain": [
       "<Figure size 432x288 with 2 Axes>"
      ]
     },
     "metadata": {
      "needs_background": "light"
     },
     "output_type": "display_data"
    },
    {
     "data": {
      "image/png": "[encoded data removed]",
      "text/plain": [
       "<Figure size 432x288 with 2 Axes>"
      ]
     },
     "metadata": {
      "needs_background": "light"
     },
     "output_type": "display_data"
    },
    {
     "data": {
      "image/png": "[encoded data removed]",
      "text/plain": [
       "<Figure size 432x288 with 2 Axes>"
      ]
     },
     "metadata": {
      "needs_background": "light"
     },
     "output_type": "display_data"
    },
    {
     "data": {
      "image/png": "[encoded data removed]",
      "text/plain": [
       "<Figure size 432x288 with 2 Axes>"
      ]
     },
     "metadata": {
      "needs_background": "light"
     },
     "output_type": "display_data"
    },
    {
     "data": {
      "image/png": "[encoded data removed]",
      "text/plain": [
       "<Figure size 432x288 with 2 Axes>"
      ]
     },
     "metadata": {
      "needs_background": "light"
     },
     "output_type": "display_data"
    }
   ],
   "source": [
    "# Initalize a Figure and Axes\n",
    "for CEO in CEOS:\n",
    "    fig, ax = plt.subplots()\n",
    "\n",
    "    ax.plot(CEOS[CEO]['date'], CEOS[CEO]['price'], color='blue')\n",
    "    plt.ylabel('price')\n",
    "    plt.title(f'{CEO} tweets with stock price')\n",
    "    plt.xticks(rotation=60)\n",
    "\n",
    "    # Create a twin Axes that shares the x-axis\n",
    "    ax2 = ax.twinx()\n",
    "    \n",
    "    ax2.plot(CEOS[CEO]['date'], CEOS[CEO]['number of tweets'], color='g', alpha = 0.4)\n",
    "    plt.ylabel('number of tweets')\n",
    "    plt.legend(['number of tweets'])\n",
    "    plt.savefig('./figures/data_wrangling/num_tweets_stock_price_{}.png'.format(CEO), bbox_inches='tight')\n",
    "    plt.show()"
   ]
  },
  {
   "cell_type": "code",
   "execution_count": 62,
   "metadata": {},
   "outputs": [],
   "source": [
    "test = CEOS['JohnLegere']\n",
    "test2 = CEOS['richardbranson']"
   ]
  },
  {
   "cell_type": "code",
   "execution_count": 63,
   "metadata": {},
   "outputs": [],
   "source": [
    "test = test[test['date'] <= '2019']\n",
    "test2 = test2[test2['date'] >= '2020-07']"
   ]
  },
  {
   "cell_type": "code",
   "execution_count": 64,
   "metadata": {},
   "outputs": [
    {
     "data": {
      "image/png": "[encoded data removed]",
      "text/plain": [
       "<Figure size 432x288 with 2 Axes>"
      ]
     },
     "metadata": {
      "needs_background": "light"
     },
     "output_type": "display_data"
    }
   ],
   "source": [
    "fig, ax = plt.subplots()\n",
    "\n",
    "ax.plot(test['date'], test['price'], color='blue')\n",
    "plt.ylabel('price')\n",
    "plt.title('John Legere tweets with stock price pre 2019')\n",
    "plt.xticks(rotation=60)\n",
    "\n",
    "# Create a twin Axes that shares the x-axis\n",
    "ax2 = ax.twinx()\n",
    "\n",
    "\n",
    "ax2.plot(test['date'], test['number of tweets'], color='g', alpha = 0.4)\n",
    "plt.ylabel('number of tweets')\n",
    "plt.legend(['number of tweets'])\n",
    "plt.savefig('./figures/data_wrangling/num_tweets_stock_price_JohnLegere_pre2019', bbox_inches='tight')\n",
    "plt.show()"
   ]
  },
  {
   "cell_type": "code",
   "execution_count": 65,
   "metadata": {},
   "outputs": [
    {
     "data": {
      "image/png": "[encoded data removed]",
      "text/plain": [
       "<Figure size 432x288 with 2 Axes>"
      ]
     },
     "metadata": {
      "needs_background": "light"
     },
     "output_type": "display_data"
    }
   ],
   "source": [
    "fig, ax = plt.subplots()\n",
    "\n",
    "ax.plot(test2['date'], test2['price'], color='blue')\n",
    "plt.ylabel('price')\n",
    "plt.title('Richard Branson tweets with stock price post July 2020')\n",
    "plt.xticks(rotation=60)\n",
    "\n",
    "# Create a twin Axes that shares the x-axis\n",
    "ax2 = ax.twinx()\n",
    "\n",
    "ax2.plot(test2['date'], test2['number of tweets'], color='g', alpha = 0.4)\n",
    "plt.ylabel('number of tweets')\n",
    "plt.legend(['number of tweets'])\n",
    "plt.savefig('./figures/data_wrangling/num_tweets_stock_price_richardbranson_post2020', bbox_inches='tight')\n",
    "plt.show()"
   ]
  },
  {
   "cell_type": "markdown",
   "metadata": {},
   "source": [
    "## 1.5 Saving Dataframes <a id='1.5_Exporting_DataFrames'></a>"
   ]
  },
  {
   "cell_type": "code",
   "execution_count": 66,
   "metadata": {},
   "outputs": [],
   "source": [
    "for i in range(len(CEOS_list)):\n",
    "    CEOS[CEOS_list[i]].to_pickle(f'./data/{CEOS_list[i]}_df.pkl')"
   ]
  },
  {
   "cell_type": "code",
   "execution_count": 67,
   "metadata": {},
   "outputs": [],
   "source": [
    "tweet_stocks = pd.DataFrame()\n",
    "for CEO in CEOS:\n",
    "    tweet_stocks = tweet_stocks.append(CEOS[CEO])"
   ]
  },
  {
   "cell_type": "code",
   "execution_count": 68,
   "metadata": {
    "scrolled": true
   },
   "outputs": [
    {
     "name": "stdout",
     "output_type": "stream",
     "text": [
      "<class 'pandas.core.frame.DataFrame'>\n",
      "Int64Index: 8445 entries, 0 to 2300\n",
      "Data columns (total 11 columns):\n",
      " #   Column            Non-Null Count  Dtype         \n",
      "---  ------            --------------  -----         \n",
      " 0   date              8445 non-null   datetime64[ns]\n",
      " 1   tweet             8445 non-null   object        \n",
      " 2   username          8445 non-null   object        \n",
      " 3   mentions          8445 non-null   int64         \n",
      " 4   hashtags          8445 non-null   int64         \n",
      " 5   video             8445 non-null   int64         \n",
      " 6   photos            8445 non-null   int64         \n",
      " 7   urls              8445 non-null   int64         \n",
      " 8   number of tweets  8445 non-null   int64         \n",
      " 9   price             8445 non-null   float64       \n",
      " 10  percent change    8445 non-null   float64       \n",
      "dtypes: datetime64[ns](1), float64(2), int64(6), object(2)\n",
      "memory usage: 791.7+ KB\n"
     ]
    }
   ],
   "source": [
    "tweet_stocks.info()"
   ]
  },
  {
   "cell_type": "code",
   "execution_count": 69,
   "metadata": {},
   "outputs": [],
   "source": [
    "tweet_stocks.to_pickle(f'./data/tweet_stocks.pkl')"
   ]
  },
  {
   "cell_type": "markdown",
   "metadata": {},
   "source": [
    "***\n",
    "# Summary"
   ]
  },
  {
   "cell_type": "code",
   "execution_count": 283,
   "metadata": {},
   "outputs": [],
   "source": [
    "collected_tweets = pd.DataFrame(columns=['Twitter Handle', 'Company Affiliation', 'Number of Tweets', 'Company Ticker', 'Number of Stock Days'], index=['Elon Musk', 'Aaron Levie', 'Jack Dorsey', 'Marc Benioff', 'Richard Branson', 'John Legere'])"
   ]
  },
  {
   "cell_type": "code",
   "execution_count": 284,
   "metadata": {},
   "outputs": [],
   "source": [
    "collected_tweets.loc[['Elon Musk'], ['Twitter Handle']] =  '@elonmusk'\n",
    "collected_tweets.loc[['Aaron Levie'], ['Twitter Handle']] =  '@levie'\n",
    "collected_tweets.loc[['Jack Dorsey'], ['Twitter Handle']] =  '@jack'\n",
    "collected_tweets.loc[['Marc Benioff'], ['Twitter Handle']] =  '@Benioff'\n",
    "collected_tweets.loc[['Richard Branson'], ['Twitter Handle']] =  '@richardbranson'\n",
    "collected_tweets.loc[['John Legere'], ['Twitter Handle']] =  '@JohnLegere'"
   ]
  },
  {
   "cell_type": "code",
   "execution_count": 285,
   "metadata": {},
   "outputs": [],
   "source": [
    "collected_tweets.loc[['Elon Musk'], ['Company Affiliation']] =  'CEO and product architect of Tesla, Inc.'\n",
    "collected_tweets.loc[['Aaron Levie'], ['Company Affiliation']] =  'Co-founder of Enterprise Cloud Software Box'\n",
    "collected_tweets.loc[['Jack Dorsey'], ['Company Affiliation']] =  'CEO of Twitter, Inc.'\n",
    "collected_tweets.loc[['Marc Benioff'], ['Company Affiliation']] =  'Founder, chairman and CEO, Salesforce'\n",
    "collected_tweets.loc[['Richard Branson'], ['Company Affiliation']] =  'Founder of Virgin Galactic'\n",
    "collected_tweets.loc[['John Legere'], ['Company Affiliation']] =  'Former CEO T-Mobile US'"
   ]
  },
  {
   "cell_type": "code",
   "execution_count": 286,
   "metadata": {},
   "outputs": [],
   "source": [
    "collected_tweets.loc[['Elon Musk'], ['Number of Tweets']] =  11622\n",
    "collected_tweets.loc[['Aaron Levie'], ['Number of Tweets']] =  1736\n",
    "collected_tweets.loc[['Jack Dorsey'], ['Number of Tweets']] =  5124\n",
    "collected_tweets.loc[['Marc Benioff'], ['Number of Tweets']] =  4871\n",
    "collected_tweets.loc[['Richard Branson'], ['Number of Tweets']] =  7711\n",
    "collected_tweets.loc[['John Legere'], ['Number of Tweets']] =  37302"
   ]
  },
  {
   "cell_type": "code",
   "execution_count": 287,
   "metadata": {},
   "outputs": [],
   "source": [
    "collected_tweets.loc[['Elon Musk'], ['Company Ticker']] =  'TSLA'\n",
    "collected_tweets.loc[['Aaron Levie'], ['Company Ticker']] =  'BOX'\n",
    "collected_tweets.loc[['Jack Dorsey'], ['Company Ticker']] =  'TWTR'\n",
    "collected_tweets.loc[['Marc Benioff'], ['Company Ticker']] =  'CRM'\n",
    "collected_tweets.loc[['Richard Branson'], ['Company Ticker']] =  'SPCE'\n",
    "collected_tweets.loc[['John Legere'], ['Company Ticker']] =  'TMUS'"
   ]
  },
  {
   "cell_type": "code",
   "execution_count": 288,
   "metadata": {},
   "outputs": [],
   "source": [
    "collected_tweets.loc[['Elon Musk'], ['Number of Stock Days']] =  1259\n",
    "collected_tweets.loc[['Aaron Levie'], ['Number of Stock Days']] =  1259\n",
    "collected_tweets.loc[['Jack Dorsey'], ['Number of Stock Days']] =  1259\n",
    "collected_tweets.loc[['Marc Benioff'], ['Number of Stock Days']] =  1259\n",
    "collected_tweets.loc[['Richard Branson'], ['Number of Stock Days']] =  981\n",
    "collected_tweets.loc[['John Legere'], ['Number of Stock Days']] =  1259"
   ]
  },
  {
   "cell_type": "code",
   "execution_count": 290,
   "metadata": {
    "scrolled": true
   },
   "outputs": [
    {
     "name": "stdout",
     "output_type": "stream",
     "text": [
      "|                 | Twitter Handle   | Company Affiliation                         |   Number of Tweets | Company Ticker   |   Number of Stock Days |\n",
      "|:----------------|:-----------------|:--------------------------------------------|-------------------:|:-----------------|-----------------------:|\n",
      "| Elon Musk       | @elonmusk        | CEO and product architect of Tesla, Inc.    |              11622 | TSLA             |                   1259 |\n",
      "| Aaron Levie     | @levie           | Co-founder of Enterprise Cloud Software Box |               1736 | BOX              |                   1259 |\n",
      "| Jack Dorsey     | @jack            | CEO of Twitter, Inc.                        |               5124 | TWTR             |                   1259 |\n",
      "| Marc Benioff    | @Benioff         | Founder, chairman and CEO, Salesforce       |               4871 | CRM              |                   1259 |\n",
      "| Richard Branson | @richardbranson  | Founder of Virgin Galactic                  |               7711 | SPCE             |                    981 |\n",
      "| John Legere     | @JohnLegere      | Former CEO T-Mobile US                      |              37302 | TMUS             |                   1259 |\n"
     ]
    }
   ],
   "source": [
    "print(collected_tweets.to_markdown())"
   ]
  },
  {
   "cell_type": "markdown",
   "metadata": {},
   "source": [
    "|                 | Twitter Handle   | Company Affiliation                         |   Number of Tweets | Company Ticker   |   Number of Stock Days |\n",
    "|:----------------|:-----------------|:--------------------------------------------|-------------------:|:-----------------|-----------------------:|\n",
    "| Elon Musk       | @elonmusk        | CEO and product architect of Tesla, Inc.    |              11622 | TSLA             |                   1259 |\n",
    "| Aaron Levie     | @levie           | Co-founder of Enterprise Cloud Software Box |               1736 | BOX              |                   1259 |\n",
    "| Jack Dorsey     | @jack            | CEO of Twitter, Inc.                        |               5124 | TWTR             |                   1259 |\n",
    "| Marc Benioff    | @Benioff         | Founder, chairman and CEO, Salesforce       |               4871 | CRM              |                   1259 |\n",
    "| Richard Branson | @richardbranson  | Founder of Virgin Galactic                  |               7711 | SPCE             |                    981 |\n",
    "| John Legere     | @JohnLegere      | Former CEO T-Mobile US                      |              37302 | TMUS             |                   1259 |     "
   ]
  },
  {
   "cell_type": "markdown",
   "metadata": {},
   "source": [
    "### Data Collection\n",
    "\n",
    "A maximum of 5-years of stock data were collected from Yahoo! finance using **yfinance**. The following tickers and  corresponding stock dates were collected:\n",
    "\n",
    "- Tesla (TSLA): 1259 \n",
    "- Box (BOX): 1259\n",
    "- Twitter (TWTR): 1259\n",
    "- Salesforce (CRM): 1259\n",
    "- Virgin Galactic (SPCE): 981\n",
    "- T-Mobile (TMUS): 1259\n",
    "\n",
    "All stocks were collected between *August 23rd, 2016* to *July 20th, 2021* with the exception of SPCE where the earliest public stock price is *September 29th, 2017*.\n",
    "\n",
    "Twitter data were scraped via **twint**. Twint has time restrictions for scraping tweets, so the corresponding stock start dates were used. Company executives were selected with the criteria that each must have at least 1000 tweets over the scraped time, they are or were high-level executives in their company and have a strong public association with their company. The following CEOS were picked using their twitter handles., along with the number of tweets that were scraped:\n",
    "\n",
    "- Elon Musk : @elonmusk  \n",
    "     CEO and product architect of Tesla, Inc.\n",
    "       \n",
    "        number of tweets: 11622\n",
    "        date range:\n",
    "        2016-07-20 --- 2021-07-20\n",
    "\n",
    "- Aaron Levie : @levie  \n",
    "    Co-founder of Enterprise Cloud Software Box \n",
    "    \n",
    "        number of tweets: 1736\n",
    "        date range:\n",
    "        2016-07-21 --- 2021-07-20\n",
    "\n",
    "- Jack Dorsey : @jack  \n",
    "    CEO of Twitter, Inc.\n",
    "\n",
    "        number of tweets: 5124\n",
    "        date range:\n",
    "        2016-07-21 --- 2021-07-20\n",
    "\n",
    "- Marc Benioff : @Benioff  \n",
    "    Founder, chairman and CEO, Salesforce\n",
    "\n",
    "        number of tweets: 4871\n",
    "        date range:\n",
    "        2016-07-20 --- 2021-05-28\n",
    "\n",
    "- Richard Branson: @richardbranson\n",
    "    Founder of Virgin Galactic\n",
    "    \n",
    "        number of tweets: 7711\n",
    "        date range:\n",
    "        2017-09-29 --- 2021-07-20\n",
    "\n",
    "- John Legere: @JohnLegere\n",
    "    Former CEO T-Mobile US\n",
    "\n",
    "        number of tweets: 37302\n",
    "        date range:\n",
    "        2016-07-20 --- 2021-07-20\n",
    "\n",
    "\n",
    "Eryk Lewinson's article in Towards Data Science gives a great backgroud as to why it good to use in EDA: \n",
    "**Phik (𝜙k) — get familiar with the latest correlation coefficient**\n",
    "\n",
    "\n",
    "Pearson’s correlation coefficient is a standard approach of measuring correlation between two variables. However, it has some drawbacks[3]:\n",
    "\n",
    "- It works only with continuous variables\n",
    "- It only accounts for a linear relationship between variables\n",
    "- It is sensitive to outliers\n",
    "\n",
    "𝜙k offers several improvements over Pearson's. The key differentiators of $\\phi$k are:\n",
    "\n",
    "- It is based on several refinements to Pearson’s χ2 (chi-squared) contingency test — a hypothesis test for independence between two (or more) variables\n",
    "- It works consistently between categorical, ordinal, and interval (continuous) variables\n",
    "- It captures non-linear dependencies\n",
    "- It reverts to Pearson’s correlation coefficient in the case of a bivariate normal distribution of the input\n",
    "- the algorithm contains a built-in noise reduction technique against statistical fluctuations\n",
    "\n",
    "$\\phi$k's a correlation coefficient based on several refinements to Pearson’s hypothesis test of independence of two variables.\n",
    "\n",
    "Using the coefficient, we can find variable pairs that have (un)expected correlations, and evaluate their statistical significance. We can also interpret the dependencies between each pair of variables.\n",
    "\n",
    "Emphasis is paid to the proper evaluation of statistical significance of correlations and to the interpretation of variable relationships in a contingency table, in particular in case of low statistics samples."
   ]
  },
  {
   "cell_type": "markdown",
   "metadata": {},
   "source": [
    "### Stocks\n",
    "\n",
    "The open and close stock prices with their dates and times were combined into a single dataframe for each collected stock. The index was reset to a date index spanning the first and last dates of the collected stocks. Dates in which the market was closed were set to NaN. The percent change between each stock price was calculated, which we will use as our dependent feature. \n",
    "\n",
    "### Tweets\n",
    "\n",
    "The tweets were organized into Pandas DataFrames containing 37 features for each pulled tweet. Tweets in languages other than english were removed and the features pertaining to the text in the tweet (e.g. hashtags) were selected. The features were converted from lists to intergers counting feature occurances per tweet. Empty lists were set to 0. \n",
    "\n",
    "\n",
    "The tweet and stock dataframes were merged together by date. As we are hypothesizing that tweets will have an impact on the opening or closing stock price, posts were grouped together based off this hypothesis, i.e. tweets that occur between 9:30 am and 4:00 pm on a weekday were grouped into one tweet assuming they would impact that day's closing price. Posts between 4:00 pm the next stock open were grouped together as another tweet. This could mean multiple days could be grouped together as one tweet since number of days between the last closing price and the next opening one varies due to weekends and holidays. The total number of tweets collected per group was added. \n",
    "\n",
    "### Final DataFrame\n",
    "\n",
    "The final dataframe with the collected tweets, tweet features, and associated stock percent changes was saved for further processing. The dataframe contains 8445 rows with 11 features. An example of a row of the dataframe is shown below. "
   ]
  },
  {
   "cell_type": "code",
   "execution_count": 300,
   "metadata": {},
   "outputs": [],
   "source": [
    "feature_desc = pd.DataFrame(columns=['Feature Name', 'Description'], index=['date'])"
   ]
  },
  {
   "cell_type": "code",
   "execution_count": 302,
   "metadata": {},
   "outputs": [
    {
     "data": {
      "text/plain": [
       "(8445, 11)"
      ]
     },
     "execution_count": 302,
     "metadata": {},
     "output_type": "execute_result"
    }
   ],
   "source": [
    "tweet_stocks.shape"
   ]
  },
  {
   "cell_type": "code",
   "execution_count": null,
   "metadata": {},
   "outputs": [],
   "source": [
    "feature_desc['Feature Name']"
   ]
  },
  {
   "cell_type": "code",
   "execution_count": 299,
   "metadata": {},
   "outputs": [
    {
     "data": {
      "text/html": [
       "<div>\n",
       "<style scoped>\n",
       "    .dataframe tbody tr th:only-of-type {\n",
       "        vertical-align: middle;\n",
       "    }\n",
       "\n",
       "    .dataframe tbody tr th {\n",
       "        vertical-align: top;\n",
       "    }\n",
       "\n",
       "    .dataframe thead th {\n",
       "        text-align: right;\n",
       "    }\n",
       "</style>\n",
       "<table border=\"1\" class=\"dataframe\">\n",
       "  <thead>\n",
       "    <tr style=\"text-align: right;\">\n",
       "      <th></th>\n",
       "      <th>date</th>\n",
       "      <th>tweet</th>\n",
       "      <th>username</th>\n",
       "      <th>mentions</th>\n",
       "      <th>hashtags</th>\n",
       "      <th>video</th>\n",
       "      <th>photos</th>\n",
       "      <th>urls</th>\n",
       "      <th>number of tweets</th>\n",
       "      <th>price</th>\n",
       "      <th>percent change</th>\n",
       "    </tr>\n",
       "  </thead>\n",
       "  <tbody>\n",
       "    <tr>\n",
       "      <th>1650</th>\n",
       "      <td>2019-12-11 16:00:00</td>\n",
       "      <td>@ItalianPali1 @SievertMike Make one for us! Can you say 3-PEAT?🏆🏆🏆 @TMobile has been awarded ‘Best Place To Work’ by @Glassdoor for the 3rd year in a row!! Did I mention that we’re also the #1 place to work in wireless?? #AreYouWithUs  https://t.co/iDGLSWQ5vQ We're at the HALFWAY point of #JollyJohn!! Blast your favorite holiday song with 1️⃣2️⃣ @Samsung Galaxy Ear Buds!! 🎵 To win, tell me what present @BraxtonCarter got in the gift exchange? Follow him and use #JollyJohn in your answer below!  https://t.co/onCEmihc2Z</td>\n",
       "      <td>JohnLegere</td>\n",
       "      <td>4</td>\n",
       "      <td>3</td>\n",
       "      <td>1</td>\n",
       "      <td>1</td>\n",
       "      <td>1</td>\n",
       "      <td>3</td>\n",
       "      <td>74.620003</td>\n",
       "      <td>-0.006127</td>\n",
       "    </tr>\n",
       "  </tbody>\n",
       "</table>\n",
       "</div>"
      ],
      "text/plain": [
       "                    date  \\\n",
       "1650 2019-12-11 16:00:00   \n",
       "\n",
       "                                                                                                                                                                                                                                                                                                                                                                                                                                                                                                                                             tweet  \\\n",
       "1650  @ItalianPali1 @SievertMike Make one for us! Can you say 3-PEAT?🏆🏆🏆 @TMobile has been awarded ‘Best Place To Work’ by @Glassdoor for the 3rd year in a row!! Did I mention that we’re also the #1 place to work in wireless?? #AreYouWithUs  https://t.co/iDGLSWQ5vQ We're at the HALFWAY point of #JollyJohn!! Blast your favorite holiday song with 1️⃣2️⃣ @Samsung Galaxy Ear Buds!! 🎵 To win, tell me what present @BraxtonCarter got in the gift exchange? Follow him and use #JollyJohn in your answer below!  https://t.co/onCEmihc2Z    \n",
       "\n",
       "        username  mentions  hashtags  video  photos  urls  number of tweets  \\\n",
       "1650  JohnLegere         4         3      1       1     1                 3   \n",
       "\n",
       "          price  percent change  \n",
       "1650  74.620003       -0.006127  "
      ]
     },
     "execution_count": 299,
     "metadata": {},
     "output_type": "execute_result"
    }
   ],
   "source": [
    "tweet_stocks.sample(1)"
   ]
  },
  {
   "cell_type": "code",
   "execution_count": null,
   "metadata": {},
   "outputs": [],
   "source": []
  }
 ],
 "metadata": {
  "kernelspec": {
   "display_name": "Python 3",
   "language": "python",
   "name": "python3"
  },
  "language_info": {
   "codemirror_mode": {
    "name": "ipython",
    "version": 3
   },
   "file_extension": ".py",
   "mimetype": "text/x-python",
   "name": "python",
   "nbconvert_exporter": "python",
   "pygments_lexer": "ipython3",
   "version": "3.9.4"
  }
 },
 "nbformat": 4,
 "nbformat_minor": 4
}
