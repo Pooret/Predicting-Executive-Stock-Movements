{
 "cells": [
  {
   "cell_type": "markdown",
   "id": "f5691640",
   "metadata": {},
   "source": [
    "# Part 3. Preprocessing and Feature Engineering"
   ]
  },
  {
   "cell_type": "code",
   "execution_count": 1,
   "id": "01663f92",
   "metadata": {
    "scrolled": true
   },
   "outputs": [],
   "source": [
    "from utils import *"
   ]
  },
  {
   "cell_type": "code",
   "execution_count": 2,
   "id": "2e74e419",
   "metadata": {},
   "outputs": [],
   "source": [
    "# Read in the data\n",
    "tweet_stocks = pd.read_pickle('data/tweet_stocks_EDA.pkl')\n",
    "plt.style.use('fivethirtyeight')"
   ]
  },
  {
   "cell_type": "markdown",
   "id": "0b2a8f9f",
   "metadata": {},
   "source": [
    "# Data Preprocessing"
   ]
  },
  {
   "cell_type": "markdown",
   "id": "5cff2627",
   "metadata": {},
   "source": [
    "To get the text ready for machine learning, we will remove punctuation, stopwords, junkwords, and normalize the text by making it lowercase and lemmatizing it."
   ]
  },
  {
   "cell_type": "markdown",
   "id": "58ffd57c",
   "metadata": {},
   "source": [
    "To extract features from the text, we are going to first clean it of any links, mentions, hashtags, and emojis to preserve the syntax of the tweet. We will be looking at two examples during this process."
   ]
  },
  {
   "cell_type": "markdown",
   "id": "08a49210",
   "metadata": {},
   "source": [
    "We have two tweets from Elon Musk that made headlines for how they affected the stock. August 7th, 2018 caused stocks to jump and May 1st, 2020. Let's take a look at these tweets."
   ]
  },
  {
   "cell_type": "code",
   "execution_count": 4,
   "id": "aea8c290",
   "metadata": {},
   "outputs": [
    {
     "name": "stdout",
     "output_type": "stream",
     "text": [
      "Tweet Increases Stock by 10.391%\n",
      "========================\n",
      "Investor support is confirmed. Only reason why this is not certain is that it’s contingent on a shareholder vote. Shareholders could either to sell at 420 or hold shares &amp; go private Good morning 😀 Am considering taking Tesla private at $420. Funding secured.  \n",
      "\n"
     ]
    }
   ],
   "source": [
    "# Sample Text\n",
    "sample = tweet_stocks[tweet_stocks['username'] == 'elonmusk']\n",
    "sample['date'] = pd.to_datetime(sample['date'])\n",
    "sample.set_index('date', inplace=True)\n",
    "\n",
    "pd.options.display.max_colwidth = 1000\n",
    "sample_increase = sample['2018-08-07']\n",
    "sample_tweet_increase = sample_increase[['tweet', 'percent change']]\n",
    "pct_increase = sample_tweet_increase['percent change'].values*100\n",
    "print('Tweet Increases Stock by {:.3f}%'.format(pct_increase[0]))\n",
    "print('========================')\n",
    "print(sample_tweet_increase[['tweet']].values[0][0], '\\n')"
   ]
  },
  {
   "cell_type": "markdown",
   "id": "76636b93",
   "metadata": {},
   "source": [
    "Both twitter samples need to be cleaned, which needs to be able to conserve the context around the text."
   ]
  },
  {
   "cell_type": "code",
   "execution_count": 5,
   "id": "b1e44aa7",
   "metadata": {},
   "outputs": [],
   "source": [
    "tweet_stocks['text'] = tweet_stocks['tweet'].apply(lambda x: clean_text(x, preserve_syntax=True))"
   ]
  },
  {
   "cell_type": "code",
   "execution_count": 6,
   "id": "f395a114",
   "metadata": {},
   "outputs": [
    {
     "name": "stdout",
     "output_type": "stream",
     "text": [
      "Cleaned Tweet Increases Stock by 10.391%\n",
      "========================\n",
      "Investor support is confirmed. Only reason why this is not certain is that it is contingent on a shareholder vote. Shareholders could either to sell at 420 or hold shares go private Good morning Am considering taking Tesla private at 420. Funding secured. \n",
      "\n"
     ]
    }
   ],
   "source": [
    "sample = tweet_stocks[tweet_stocks['username'] == 'elonmusk']\n",
    "sample['date'] = pd.to_datetime(sample['date'])\n",
    "sample.set_index('date', inplace=True)\n",
    "\n",
    "sample_increase = sample['2018-08-07']\n",
    "sample_tweet_increase = sample_increase[['text', 'percent change']]\n",
    "pct_increase = sample_tweet_increase['percent change'].values*100\n",
    "print('Cleaned Tweet Increases Stock by {:.3f}%'.format(pct_increase[0]))\n",
    "print('========================')\n",
    "print(sample_tweet_increase[['text']].values[0][0], '\\n')"
   ]
  },
  {
   "cell_type": "markdown",
   "id": "38c830ee",
   "metadata": {},
   "source": [
    "Apart from a few sentences lacking punctuation, the text itself is preserved including capitalization, which will aid in using Spacy's NLP toolkit to extract text features."
   ]
  },
  {
   "cell_type": "markdown",
   "id": "88d8d3eb",
   "metadata": {},
   "source": [
    "### Extracting Text Features"
   ]
  },
  {
   "cell_type": "code",
   "execution_count": 7,
   "id": "f08880b8",
   "metadata": {},
   "outputs": [],
   "source": [
    "tweet_stocks['number of emojis'] = tweet_stocks['tweet'].apply(lambda x: emoji_counts(x))"
   ]
  },
  {
   "cell_type": "code",
   "execution_count": 8,
   "id": "21ac4c23",
   "metadata": {},
   "outputs": [],
   "source": [
    "nlp = spacy.load('en_core_web_lg')"
   ]
  },
  {
   "cell_type": "code",
   "execution_count": 9,
   "id": "2cc4da86",
   "metadata": {},
   "outputs": [],
   "source": [
    "# Remove empty tweets after cleaning\n",
    "\n",
    "tweet_stocks['tweet length'] = tweet_stocks['text'].apply(lambda x: len(x))\n",
    "tweet_stocks = tweet_stocks[tweet_stocks['tweet length'] != 0]\n",
    "tweet_stocks.reset_index(inplace=True, drop=True)"
   ]
  },
  {
   "cell_type": "code",
   "execution_count": 10,
   "id": "eb256e2a",
   "metadata": {},
   "outputs": [
    {
     "name": "stdout",
     "output_type": "stream",
     "text": [
      "CPU times: user 7min 38s, sys: 34.8 s, total: 8min 13s\n",
      "Wall time: 8min 42s\n"
     ]
    }
   ],
   "source": [
    "%%time\n",
    "# Clocked at 14min 20s\n",
    "df = tweet_stocks.copy(deep=True)\n",
    "text  = 'text'\n",
    "\n",
    "df['number of sentences'] = df[text].apply(lambda x: num_sentences(x))\n",
    "df['number of words'] = df[text].apply(lambda x: num_words(x))\n",
    "df['avg words per sentence'] = df[text].apply(lambda x: avg_words_per_sentence(x))\n",
    "\n",
    "count = df[text].apply(lambda x: noun_counts(x))\n",
    "df['number of nouns'] = 0\n",
    "for i in range(len(count)):\n",
    "    df['number of nouns'].iloc[i] = count[i][0]\n",
    "\n",
    "count = df[text].apply(lambda x: verb_counts(x))\n",
    "df['number of verbs'] = 0\n",
    "for i in range(len(count)):\n",
    "    df['number of verbs'].iloc[i] = count[i][0]\n",
    "\n",
    "count = df[text].apply(lambda x: stopword_counts(x))\n",
    "df['number of stopwords'] = 0\n",
    "for i in range(len(count)):\n",
    "    df['number of stopwords'].iloc[i] = count[i][0]\n",
    "\n",
    "count = df[text].apply(lambda x: org_counts(x))\n",
    "df['number of organizations'] = 0\n",
    "for i in range(len(count)):\n",
    "    df['number of organizations'].iloc[i] = count[i][0]"
   ]
  },
  {
   "cell_type": "code",
   "execution_count": 11,
   "id": "ce0802b1",
   "metadata": {},
   "outputs": [],
   "source": [
    "tweet_stocks = df"
   ]
  },
  {
   "cell_type": "code",
   "execution_count": 12,
   "id": "2711d41c",
   "metadata": {},
   "outputs": [],
   "source": [
    "STOP_WORDS = nlp.Defaults.stop_words"
   ]
  },
  {
   "cell_type": "code",
   "execution_count": 13,
   "id": "ce7401d0",
   "metadata": {},
   "outputs": [
    {
     "data": {
      "text/plain": [
       "date\n",
       "2018-08-07 16:00:00    Investor support is confirmed. Only reason why this is not certain is that it is contingent on a shareholder vote. Shareholders could either to sell at 420 or hold shares go private Good morning Am considering taking Tesla private at 420. Funding secured.\n",
       "Name: text, dtype: object"
      ]
     },
     "execution_count": 13,
     "metadata": {},
     "output_type": "execute_result"
    }
   ],
   "source": [
    "sample_increase['text']"
   ]
  },
  {
   "cell_type": "code",
   "execution_count": 14,
   "id": "7d9b1aac",
   "metadata": {},
   "outputs": [],
   "source": [
    "sample_increase['cleaned'] = sample_increase['tweet'].apply(lambda x: clean_text(x, stop_words=STOP_WORDS))"
   ]
  },
  {
   "cell_type": "code",
   "execution_count": 15,
   "id": "6030ec75",
   "metadata": {
    "scrolled": false
   },
   "outputs": [
    {
     "data": {
      "text/html": [
       "<div>\n",
       "<style scoped>\n",
       "    .dataframe tbody tr th:only-of-type {\n",
       "        vertical-align: middle;\n",
       "    }\n",
       "\n",
       "    .dataframe tbody tr th {\n",
       "        vertical-align: top;\n",
       "    }\n",
       "\n",
       "    .dataframe thead th {\n",
       "        text-align: right;\n",
       "    }\n",
       "</style>\n",
       "<table border=\"1\" class=\"dataframe\">\n",
       "  <thead>\n",
       "    <tr style=\"text-align: right;\">\n",
       "      <th></th>\n",
       "      <th>cleaned</th>\n",
       "    </tr>\n",
       "    <tr>\n",
       "      <th>date</th>\n",
       "      <th></th>\n",
       "    </tr>\n",
       "  </thead>\n",
       "  <tbody>\n",
       "    <tr>\n",
       "      <th>2018-08-07 16:00:00</th>\n",
       "      <td>investor support confirm reason certain contingent shareholder vote shareholder sell hold share private good morning consider take tesla private funding secure</td>\n",
       "    </tr>\n",
       "  </tbody>\n",
       "</table>\n",
       "</div>"
      ],
      "text/plain": [
       "                                                                                                                                                                             cleaned\n",
       "date                                                                                                                                                                                \n",
       "2018-08-07 16:00:00  investor support confirm reason certain contingent shareholder vote shareholder sell hold share private good morning consider take tesla private funding secure"
      ]
     },
     "execution_count": 15,
     "metadata": {},
     "output_type": "execute_result"
    }
   ],
   "source": [
    "sample_increase[['cleaned']]"
   ]
  },
  {
   "cell_type": "markdown",
   "id": "32d05076",
   "metadata": {},
   "source": [
    "We can see from the cleaned text that there are going to be some words that won't be recognized. Let's look at all short words and see if they can be removed."
   ]
  },
  {
   "cell_type": "code",
   "execution_count": 16,
   "id": "18d91a0f",
   "metadata": {
    "scrolled": false
   },
   "outputs": [
    {
     "name": "stdout",
     "output_type": "stream",
     "text": [
      "CPU times: user 1min 25s, sys: 2.85 s, total: 1min 28s\n",
      "Wall time: 1min 30s\n"
     ]
    },
    {
     "data": {
      "text/html": [
       "<div>\n",
       "<style scoped>\n",
       "    .dataframe tbody tr th:only-of-type {\n",
       "        vertical-align: middle;\n",
       "    }\n",
       "\n",
       "    .dataframe tbody tr th {\n",
       "        vertical-align: top;\n",
       "    }\n",
       "\n",
       "    .dataframe thead th {\n",
       "        text-align: right;\n",
       "    }\n",
       "</style>\n",
       "<table border=\"1\" class=\"dataframe\">\n",
       "  <thead>\n",
       "    <tr style=\"text-align: right;\">\n",
       "      <th></th>\n",
       "      <th>date</th>\n",
       "      <th>tweet</th>\n",
       "      <th>username</th>\n",
       "      <th>mentions</th>\n",
       "      <th>hashtags</th>\n",
       "      <th>video</th>\n",
       "      <th>photos</th>\n",
       "      <th>urls</th>\n",
       "      <th>number of tweets</th>\n",
       "      <th>price</th>\n",
       "      <th>...</th>\n",
       "      <th>tweet length</th>\n",
       "      <th>number of sentences</th>\n",
       "      <th>number of words</th>\n",
       "      <th>avg words per sentence</th>\n",
       "      <th>number of nouns</th>\n",
       "      <th>number of verbs</th>\n",
       "      <th>number of stopwords</th>\n",
       "      <th>number of organizations</th>\n",
       "      <th>cleaned</th>\n",
       "      <th>len_cleaned</th>\n",
       "    </tr>\n",
       "  </thead>\n",
       "  <tbody>\n",
       "    <tr>\n",
       "      <th>1158</th>\n",
       "      <td>2020-10-13 16:00:00</td>\n",
       "      <td>This is how we do it. 👍</td>\n",
       "      <td>Benioff</td>\n",
       "      <td>0.000000</td>\n",
       "      <td>0.000000</td>\n",
       "      <td>0.000000</td>\n",
       "      <td>0.000000</td>\n",
       "      <td>0.000000</td>\n",
       "      <td>0.693147</td>\n",
       "      <td>266.829987</td>\n",
       "      <td>...</td>\n",
       "      <td>21</td>\n",
       "      <td>1</td>\n",
       "      <td>6</td>\n",
       "      <td>6.0</td>\n",
       "      <td>0</td>\n",
       "      <td>1</td>\n",
       "      <td>6</td>\n",
       "      <td>0</td>\n",
       "      <td></td>\n",
       "      <td>0</td>\n",
       "    </tr>\n",
       "    <tr>\n",
       "      <th>1241</th>\n",
       "      <td>2021-02-17 16:00:00</td>\n",
       "      <td>The Next ⁦@TIME⁩ 100.  https://t.co/moS5ZsvZiO</td>\n",
       "      <td>Benioff</td>\n",
       "      <td>0.693147</td>\n",
       "      <td>0.000000</td>\n",
       "      <td>0.693147</td>\n",
       "      <td>0.000000</td>\n",
       "      <td>0.000000</td>\n",
       "      <td>0.693147</td>\n",
       "      <td>247.660004</td>\n",
       "      <td>...</td>\n",
       "      <td>13</td>\n",
       "      <td>1</td>\n",
       "      <td>2</td>\n",
       "      <td>3.0</td>\n",
       "      <td>0</td>\n",
       "      <td>0</td>\n",
       "      <td>2</td>\n",
       "      <td>0</td>\n",
       "      <td></td>\n",
       "      <td>0</td>\n",
       "    </tr>\n",
       "    <tr>\n",
       "      <th>1244</th>\n",
       "      <td>2021-02-22 16:00:00</td>\n",
       "      <td>2021 @TIME NEXT 100  https://t.co/3UsgOGOKWH 2021 @TIME NEXT 100  https://t.co/s0QBQcqDch</td>\n",
       "      <td>Benioff</td>\n",
       "      <td>1.098612</td>\n",
       "      <td>0.000000</td>\n",
       "      <td>1.098612</td>\n",
       "      <td>1.098612</td>\n",
       "      <td>0.000000</td>\n",
       "      <td>1.098612</td>\n",
       "      <td>240.949997</td>\n",
       "      <td>...</td>\n",
       "      <td>29</td>\n",
       "      <td>2</td>\n",
       "      <td>2</td>\n",
       "      <td>3.0</td>\n",
       "      <td>0</td>\n",
       "      <td>0</td>\n",
       "      <td>2</td>\n",
       "      <td>0</td>\n",
       "      <td></td>\n",
       "      <td>0</td>\n",
       "    </tr>\n",
       "    <tr>\n",
       "      <th>2382</th>\n",
       "      <td>2018-10-11 09:30:00</td>\n",
       "      <td>@ElwellTeresa  https://t.co/r2Jz7cIEqy @MaxxMinton  https://t.co/e8qUQQT2wC</td>\n",
       "      <td>JohnLegere</td>\n",
       "      <td>0.000000</td>\n",
       "      <td>0.000000</td>\n",
       "      <td>1.098612</td>\n",
       "      <td>1.098612</td>\n",
       "      <td>0.000000</td>\n",
       "      <td>1.098612</td>\n",
       "      <td>66.750000</td>\n",
       "      <td>...</td>\n",
       "      <td>1</td>\n",
       "      <td>1</td>\n",
       "      <td>0</td>\n",
       "      <td>1.0</td>\n",
       "      <td>0</td>\n",
       "      <td>0</td>\n",
       "      <td>0</td>\n",
       "      <td>0</td>\n",
       "      <td></td>\n",
       "      <td>0</td>\n",
       "    </tr>\n",
       "    <tr>\n",
       "      <th>2387</th>\n",
       "      <td>2018-10-15 16:00:00</td>\n",
       "      <td>@Pnwrose64  https://t.co/rwpC9bMscD #MagentaMonday  https://t.co/9njNf7RzhV @222Patriot  https://t.co/FJxWc9vKNy @CyanCopperYoshi You should have @tmobile :)</td>\n",
       "      <td>JohnLegere</td>\n",
       "      <td>0.693147</td>\n",
       "      <td>0.693147</td>\n",
       "      <td>1.386294</td>\n",
       "      <td>1.386294</td>\n",
       "      <td>0.000000</td>\n",
       "      <td>1.609438</td>\n",
       "      <td>67.620003</td>\n",
       "      <td>...</td>\n",
       "      <td>16</td>\n",
       "      <td>1</td>\n",
       "      <td>3</td>\n",
       "      <td>3.0</td>\n",
       "      <td>0</td>\n",
       "      <td>1</td>\n",
       "      <td>2</td>\n",
       "      <td>0</td>\n",
       "      <td></td>\n",
       "      <td>0</td>\n",
       "    </tr>\n",
       "    <tr>\n",
       "      <th>...</th>\n",
       "      <td>...</td>\n",
       "      <td>...</td>\n",
       "      <td>...</td>\n",
       "      <td>...</td>\n",
       "      <td>...</td>\n",
       "      <td>...</td>\n",
       "      <td>...</td>\n",
       "      <td>...</td>\n",
       "      <td>...</td>\n",
       "      <td>...</td>\n",
       "      <td>...</td>\n",
       "      <td>...</td>\n",
       "      <td>...</td>\n",
       "      <td>...</td>\n",
       "      <td>...</td>\n",
       "      <td>...</td>\n",
       "      <td>...</td>\n",
       "      <td>...</td>\n",
       "      <td>...</td>\n",
       "      <td>...</td>\n",
       "      <td>...</td>\n",
       "    </tr>\n",
       "    <tr>\n",
       "      <th>5200</th>\n",
       "      <td>2021-03-17 16:00:00</td>\n",
       "      <td>#bitcoin first #StopAsianHate</td>\n",
       "      <td>jack</td>\n",
       "      <td>0.000000</td>\n",
       "      <td>1.098612</td>\n",
       "      <td>0.000000</td>\n",
       "      <td>0.000000</td>\n",
       "      <td>0.000000</td>\n",
       "      <td>1.098612</td>\n",
       "      <td>70.199997</td>\n",
       "      <td>...</td>\n",
       "      <td>5</td>\n",
       "      <td>1</td>\n",
       "      <td>1</td>\n",
       "      <td>1.0</td>\n",
       "      <td>0</td>\n",
       "      <td>0</td>\n",
       "      <td>1</td>\n",
       "      <td>0</td>\n",
       "      <td></td>\n",
       "      <td>0</td>\n",
       "    </tr>\n",
       "    <tr>\n",
       "      <th>5209</th>\n",
       "      <td>2021-05-05 16:00:00</td>\n",
       "      <td>🏄🏽‍♀️  https://t.co/nWkaqKicZW 🟩  https://t.co/U8rJyyPED5</td>\n",
       "      <td>jack</td>\n",
       "      <td>0.000000</td>\n",
       "      <td>0.000000</td>\n",
       "      <td>0.000000</td>\n",
       "      <td>0.000000</td>\n",
       "      <td>1.098612</td>\n",
       "      <td>1.386294</td>\n",
       "      <td>53.560001</td>\n",
       "      <td>...</td>\n",
       "      <td>1</td>\n",
       "      <td>1</td>\n",
       "      <td>0</td>\n",
       "      <td>1.0</td>\n",
       "      <td>0</td>\n",
       "      <td>0</td>\n",
       "      <td>0</td>\n",
       "      <td>0</td>\n",
       "      <td></td>\n",
       "      <td>0</td>\n",
       "    </tr>\n",
       "    <tr>\n",
       "      <th>5585</th>\n",
       "      <td>2020-05-08 16:00:00</td>\n",
       "      <td>Here’s what we’ve been up to @Box</td>\n",
       "      <td>levie</td>\n",
       "      <td>0.693147</td>\n",
       "      <td>0.000000</td>\n",
       "      <td>0.000000</td>\n",
       "      <td>0.000000</td>\n",
       "      <td>0.000000</td>\n",
       "      <td>0.693147</td>\n",
       "      <td>17.170000</td>\n",
       "      <td>...</td>\n",
       "      <td>31</td>\n",
       "      <td>1</td>\n",
       "      <td>8</td>\n",
       "      <td>8.0</td>\n",
       "      <td>0</td>\n",
       "      <td>1</td>\n",
       "      <td>8</td>\n",
       "      <td>0</td>\n",
       "      <td></td>\n",
       "      <td>0</td>\n",
       "    </tr>\n",
       "    <tr>\n",
       "      <th>7241</th>\n",
       "      <td>2021-07-06 16:00:00</td>\n",
       "      <td>5...</td>\n",
       "      <td>richardbranson</td>\n",
       "      <td>0.000000</td>\n",
       "      <td>0.000000</td>\n",
       "      <td>0.000000</td>\n",
       "      <td>0.000000</td>\n",
       "      <td>0.000000</td>\n",
       "      <td>0.693147</td>\n",
       "      <td>46.310001</td>\n",
       "      <td>...</td>\n",
       "      <td>2</td>\n",
       "      <td>1</td>\n",
       "      <td>0</td>\n",
       "      <td>1.0</td>\n",
       "      <td>0</td>\n",
       "      <td>0</td>\n",
       "      <td>0</td>\n",
       "      <td>0</td>\n",
       "      <td></td>\n",
       "      <td>0</td>\n",
       "    </tr>\n",
       "    <tr>\n",
       "      <th>7242</th>\n",
       "      <td>2021-07-07 09:30:00</td>\n",
       "      <td>4...</td>\n",
       "      <td>richardbranson</td>\n",
       "      <td>0.000000</td>\n",
       "      <td>0.000000</td>\n",
       "      <td>0.000000</td>\n",
       "      <td>0.000000</td>\n",
       "      <td>0.000000</td>\n",
       "      <td>0.693147</td>\n",
       "      <td>46.430000</td>\n",
       "      <td>...</td>\n",
       "      <td>2</td>\n",
       "      <td>1</td>\n",
       "      <td>0</td>\n",
       "      <td>1.0</td>\n",
       "      <td>0</td>\n",
       "      <td>0</td>\n",
       "      <td>0</td>\n",
       "      <td>0</td>\n",
       "      <td></td>\n",
       "      <td>0</td>\n",
       "    </tr>\n",
       "  </tbody>\n",
       "</table>\n",
       "<p>63 rows × 24 columns</p>\n",
       "</div>"
      ],
      "text/plain": [
       "                    date  \\\n",
       "1158 2020-10-13 16:00:00   \n",
       "1241 2021-02-17 16:00:00   \n",
       "1244 2021-02-22 16:00:00   \n",
       "2382 2018-10-11 09:30:00   \n",
       "2387 2018-10-15 16:00:00   \n",
       "...                  ...   \n",
       "5200 2021-03-17 16:00:00   \n",
       "5209 2021-05-05 16:00:00   \n",
       "5585 2020-05-08 16:00:00   \n",
       "7241 2021-07-06 16:00:00   \n",
       "7242 2021-07-07 09:30:00   \n",
       "\n",
       "                                                                                                                                                               tweet  \\\n",
       "1158                                                                                                                                        This is how we do it. 👍    \n",
       "1241                                                                                                                 The Next ⁦@TIME⁩ 100.  https://t.co/moS5ZsvZiO    \n",
       "1244                                                                      2021 @TIME NEXT 100  https://t.co/3UsgOGOKWH 2021 @TIME NEXT 100  https://t.co/s0QBQcqDch    \n",
       "2382                                                                                    @ElwellTeresa  https://t.co/r2Jz7cIEqy @MaxxMinton  https://t.co/e8qUQQT2wC    \n",
       "2387  @Pnwrose64  https://t.co/rwpC9bMscD #MagentaMonday  https://t.co/9njNf7RzhV @222Patriot  https://t.co/FJxWc9vKNy @CyanCopperYoshi You should have @tmobile :)    \n",
       "...                                                                                                                                                              ...   \n",
       "5200                                                                                                                                  #bitcoin first #StopAsianHate    \n",
       "5209                                                                                                      🏄🏽‍♀️  https://t.co/nWkaqKicZW 🟩  https://t.co/U8rJyyPED5    \n",
       "5585                                                                                                                              Here’s what we’ve been up to @Box    \n",
       "7241                                                                                                                                                           5...    \n",
       "7242                                                                                                                                                           4...    \n",
       "\n",
       "            username  mentions  hashtags     video    photos      urls  \\\n",
       "1158         Benioff  0.000000  0.000000  0.000000  0.000000  0.000000   \n",
       "1241         Benioff  0.693147  0.000000  0.693147  0.000000  0.000000   \n",
       "1244         Benioff  1.098612  0.000000  1.098612  1.098612  0.000000   \n",
       "2382      JohnLegere  0.000000  0.000000  1.098612  1.098612  0.000000   \n",
       "2387      JohnLegere  0.693147  0.693147  1.386294  1.386294  0.000000   \n",
       "...              ...       ...       ...       ...       ...       ...   \n",
       "5200            jack  0.000000  1.098612  0.000000  0.000000  0.000000   \n",
       "5209            jack  0.000000  0.000000  0.000000  0.000000  1.098612   \n",
       "5585           levie  0.693147  0.000000  0.000000  0.000000  0.000000   \n",
       "7241  richardbranson  0.000000  0.000000  0.000000  0.000000  0.000000   \n",
       "7242  richardbranson  0.000000  0.000000  0.000000  0.000000  0.000000   \n",
       "\n",
       "      number of tweets       price  ...  tweet length number of sentences  \\\n",
       "1158          0.693147  266.829987  ...            21                   1   \n",
       "1241          0.693147  247.660004  ...            13                   1   \n",
       "1244          1.098612  240.949997  ...            29                   2   \n",
       "2382          1.098612   66.750000  ...             1                   1   \n",
       "2387          1.609438   67.620003  ...            16                   1   \n",
       "...                ...         ...  ...           ...                 ...   \n",
       "5200          1.098612   70.199997  ...             5                   1   \n",
       "5209          1.386294   53.560001  ...             1                   1   \n",
       "5585          0.693147   17.170000  ...            31                   1   \n",
       "7241          0.693147   46.310001  ...             2                   1   \n",
       "7242          0.693147   46.430000  ...             2                   1   \n",
       "\n",
       "     number of words  avg words per sentence  number of nouns  \\\n",
       "1158               6                     6.0                0   \n",
       "1241               2                     3.0                0   \n",
       "1244               2                     3.0                0   \n",
       "2382               0                     1.0                0   \n",
       "2387               3                     3.0                0   \n",
       "...              ...                     ...              ...   \n",
       "5200               1                     1.0                0   \n",
       "5209               0                     1.0                0   \n",
       "5585               8                     8.0                0   \n",
       "7241               0                     1.0                0   \n",
       "7242               0                     1.0                0   \n",
       "\n",
       "      number of verbs  number of stopwords  number of organizations  cleaned  \\\n",
       "1158                1                    6                        0            \n",
       "1241                0                    2                        0            \n",
       "1244                0                    2                        0            \n",
       "2382                0                    0                        0            \n",
       "2387                1                    2                        0            \n",
       "...               ...                  ...                      ...      ...   \n",
       "5200                0                    1                        0            \n",
       "5209                0                    0                        0            \n",
       "5585                1                    8                        0            \n",
       "7241                0                    0                        0            \n",
       "7242                0                    0                        0            \n",
       "\n",
       "      len_cleaned  \n",
       "1158            0  \n",
       "1241            0  \n",
       "1244            0  \n",
       "2382            0  \n",
       "2387            0  \n",
       "...           ...  \n",
       "5200            0  \n",
       "5209            0  \n",
       "5585            0  \n",
       "7241            0  \n",
       "7242            0  \n",
       "\n",
       "[63 rows x 24 columns]"
      ]
     },
     "execution_count": 16,
     "metadata": {},
     "output_type": "execute_result"
    }
   ],
   "source": [
    "%%time\n",
    "# Clocked at 3min 26s\n",
    "tweet_stocks['cleaned'] = tweet_stocks['text'].apply(lambda x:clean_text(x, stop_words=STOP_WORDS))\n",
    "tweet_stocks['len_cleaned'] = tweet_stocks['cleaned'].apply(lambda x: len(x))\n",
    "tweet_stocks[tweet_stocks['len_cleaned'] == 0]"
   ]
  },
  {
   "cell_type": "code",
   "execution_count": 17,
   "id": "4b445cc3",
   "metadata": {},
   "outputs": [],
   "source": [
    "tweet_stocks = tweet_stocks[tweet_stocks['len_cleaned'] != 0].drop('len_cleaned', axis=1).reset_index(drop=True)"
   ]
  },
  {
   "cell_type": "code",
   "execution_count": 18,
   "id": "cd820015",
   "metadata": {},
   "outputs": [],
   "source": [
    "all_text = \" \".join(tweet_stocks['cleaned'])\n",
    "orig_len = len(all_text)\n",
    "small_words = [word for word in all_text.split() if len(word) <= 2]\n",
    "small_words = set(small_words)"
   ]
  },
  {
   "cell_type": "code",
   "execution_count": 19,
   "id": "2e63009a",
   "metadata": {},
   "outputs": [
    {
     "name": "stdout",
     "output_type": "stream",
     "text": [
      "{'hd', 'db', 'lt', 'jo', 'ge', 'sc', 'hb', 'ii', 'hr', 'wo', 'yy', 'ig', 'sw', 'gb', 'pa', 'fa', 'bd', 'gw', 'ap', 'nl', 'mb', 'um', 'ed', 'yo', 'mt', 'jj', 'lv', 'sx', 'lb', 'fy', 'nj', 'hq', 'oh', 'mr', 'cs', 'kt', 'hw', 'kr', 'ct', 'wa', 'bt', 'gt', 'ou', 'tn', 'xs', 'oo', 'cf', 'dt', 'ya', 'ts', 'ld', 'bj', 'hk', 'me', 'bn', 'nz', 'lg', 'nn', 'na', 'ip', 'ab', 'gf', 'la', 'bs', 'di', 'jp', 'tx', 'ak', 'go', 'uc', 'ku', 'le', 'pd', 'vz', 'cv', 'ep', 'ad', 'ny', 'pc', 'tb', 'pi', 'an', 'sm', 'xl', 'xp', 'dq', 'dg', 'gm', 'wd', 'sv', 'up', 'ur', 'km', 'lz', 'aw', 'ma', 'co', 'qk', 'dr', 'fb', 'fh', 'nk', 'bf', 'dp', 'mc', 'hi', 'tl', 'eu', 'fp', 'wr', 'vc', 'jr', 'wh', 'io', 'cd', 'ah', 'cc', 'wm', 'ui', 'mw', 'xx', 'bo', 'kw', 'qs', 'wy', 'rd', 'sp', 'ie', 'rp', 'we', 'qa', 'ns', 'op', 'en', 'ia', 'kc', 'dc', 'ko', 'yc', 'el', 'jk', 'rt', 'fl', 'de', 'fr', 'ks', 'et', 'bi', 'nc', 'tv', 'dj', 'mo', 'gl', 'pm', 'gp', 'jt', 'qr', 'bc', 'ub', 'ce', 'fm', 'sn', 'kg', 'ir', 'sf', 'ox', 'gc', 'uk', 'gr', 'mn', 'hm', 'ar', 'hp', 'uh', 'sq', 'pe', 'os', 'ac', 'pb', 'df', 'ww', 'pr', 'jc', 'cn', 'll', 'vs', 'ai', 'vw', 'wk', 'hh', 'th', 'ok', 'cj', 'ev', 'ex', 'pt', 'ms', 'ho', 'vp', 'sa', 'gs', 'ag', 'jd', 'rn', 'tm', 'ty', 'bu', 'si', 'ht', 'gd', 'eg', 'se', 'vr', 'fe', 'cm', 'he', 'ba', 'va', 'ao', 'ha', 'rc', 'ps', 'ft', 'yr', 'eo', 'ue', 'ga', 'mk', 'xr', 'ti', 'st', 'mm', 'md', 'dm', 'nd', 'al', 'kn', 'un', 'ux'}\n"
     ]
    }
   ],
   "source": [
    "print(small_words)"
   ]
  },
  {
   "cell_type": "markdown",
   "id": "ac6e1322",
   "metadata": {},
   "source": [
    "Let's remove these"
   ]
  },
  {
   "cell_type": "code",
   "execution_count": 20,
   "id": "040aa45d",
   "metadata": {},
   "outputs": [
    {
     "data": {
      "text/html": [
       "<div>\n",
       "<style scoped>\n",
       "    .dataframe tbody tr th:only-of-type {\n",
       "        vertical-align: middle;\n",
       "    }\n",
       "\n",
       "    .dataframe tbody tr th {\n",
       "        vertical-align: top;\n",
       "    }\n",
       "\n",
       "    .dataframe thead th {\n",
       "        text-align: right;\n",
       "    }\n",
       "</style>\n",
       "<table border=\"1\" class=\"dataframe\">\n",
       "  <thead>\n",
       "    <tr style=\"text-align: right;\">\n",
       "      <th></th>\n",
       "      <th>cleaned</th>\n",
       "    </tr>\n",
       "    <tr>\n",
       "      <th>date</th>\n",
       "      <th></th>\n",
       "    </tr>\n",
       "  </thead>\n",
       "  <tbody>\n",
       "    <tr>\n",
       "      <th>2018-08-07 16:00:00</th>\n",
       "      <td>investor support confirm reason certain contingent shareholder vote shareholder sell hold share private good morning consider take tesla private funding secure</td>\n",
       "    </tr>\n",
       "  </tbody>\n",
       "</table>\n",
       "</div>"
      ],
      "text/plain": [
       "                                                                                                                                                                             cleaned\n",
       "date                                                                                                                                                                                \n",
       "2018-08-07 16:00:00  investor support confirm reason certain contingent shareholder vote shareholder sell hold share private good morning consider take tesla private funding secure"
      ]
     },
     "execution_count": 20,
     "metadata": {},
     "output_type": "execute_result"
    }
   ],
   "source": [
    "sample_increase[['cleaned']]"
   ]
  },
  {
   "cell_type": "markdown",
   "id": "95a22b55",
   "metadata": {},
   "source": [
    "This looks like it works. Let's apply it over the whole dataframe."
   ]
  },
  {
   "cell_type": "code",
   "execution_count": 21,
   "id": "66779aa3",
   "metadata": {},
   "outputs": [],
   "source": [
    "tweet_stocks['cleaned'] = tweet_stocks['cleaned'].apply(lambda x:\" \".join([x for x in x.split() if x not in small_words]))"
   ]
  },
  {
   "cell_type": "markdown",
   "id": "071e4bcf",
   "metadata": {},
   "source": [
    "Let's now look at infrequent words to see if we can remove any of them."
   ]
  },
  {
   "cell_type": "code",
   "execution_count": 22,
   "id": "419c5be5",
   "metadata": {},
   "outputs": [],
   "source": [
    "freq_words = pd.Series(all_text.split()).value_counts()\n",
    "rare_words = freq_words[freq_words.values == 1]"
   ]
  },
  {
   "cell_type": "code",
   "execution_count": 23,
   "id": "f9c944a2",
   "metadata": {},
   "outputs": [
    {
     "name": "stdout",
     "output_type": "stream",
     "text": [
      "prone                 1\n",
      "peoplei               1\n",
      "marginalisationhow    1\n",
      "linesit               1\n",
      "rallyoff              1\n",
      "                     ..\n",
      "disgraceful           1\n",
      "hairraise             1\n",
      "covet                 1\n",
      "canoe                 1\n",
      "froman                1\n",
      "Length: 12619, dtype: int64\n"
     ]
    }
   ],
   "source": [
    "print(rare_words)"
   ]
  },
  {
   "cell_type": "markdown",
   "id": "fb0ce113",
   "metadata": {},
   "source": [
    "A lot of these are misspellings and can be safely removed. "
   ]
  },
  {
   "cell_type": "code",
   "execution_count": 24,
   "id": "012d0a90",
   "metadata": {},
   "outputs": [],
   "source": [
    "tweet_stocks['cleaned'] = tweet_stocks['cleaned'].apply(lambda x:\" \".join([x for x in x.split() if x not in rare_words]))"
   ]
  },
  {
   "cell_type": "code",
   "execution_count": 25,
   "id": "2309659e",
   "metadata": {},
   "outputs": [
    {
     "data": {
      "text/html": [
       "<div>\n",
       "<style scoped>\n",
       "    .dataframe tbody tr th:only-of-type {\n",
       "        vertical-align: middle;\n",
       "    }\n",
       "\n",
       "    .dataframe tbody tr th {\n",
       "        vertical-align: top;\n",
       "    }\n",
       "\n",
       "    .dataframe thead th {\n",
       "        text-align: right;\n",
       "    }\n",
       "</style>\n",
       "<table border=\"1\" class=\"dataframe\">\n",
       "  <thead>\n",
       "    <tr style=\"text-align: right;\">\n",
       "      <th></th>\n",
       "      <th>cleaned</th>\n",
       "    </tr>\n",
       "    <tr>\n",
       "      <th>date</th>\n",
       "      <th></th>\n",
       "    </tr>\n",
       "  </thead>\n",
       "  <tbody>\n",
       "    <tr>\n",
       "      <th>2018-08-07 16:00:00</th>\n",
       "      <td>investor support confirm reason certain contingent shareholder vote shareholder sell hold share private good morning consider take tesla private funding secure</td>\n",
       "    </tr>\n",
       "  </tbody>\n",
       "</table>\n",
       "</div>"
      ],
      "text/plain": [
       "                                                                                                                                                                             cleaned\n",
       "date                                                                                                                                                                                \n",
       "2018-08-07 16:00:00  investor support confirm reason certain contingent shareholder vote shareholder sell hold share private good morning consider take tesla private funding secure"
      ]
     },
     "execution_count": 25,
     "metadata": {},
     "output_type": "execute_result"
    }
   ],
   "source": [
    "sample_increase[['cleaned']]"
   ]
  },
  {
   "cell_type": "code",
   "execution_count": 26,
   "id": "5b3099e1",
   "metadata": {},
   "outputs": [],
   "source": [
    "all_text = \" \".join(tweet_stocks['cleaned'])\n",
    "cleaned_len = len(all_text)"
   ]
  },
  {
   "cell_type": "code",
   "execution_count": 27,
   "id": "dfe65172",
   "metadata": {
    "scrolled": false
   },
   "outputs": [
    {
     "name": "stdout",
     "output_type": "stream",
     "text": [
      "Original Text Length: 1566790\n",
      "Cleaned Text Length: 1429339\n",
      "Cleaned / Original: 0.91\n"
     ]
    }
   ],
   "source": [
    "print('Original Text Length: {}'.format(orig_len))\n",
    "print('Cleaned Text Length: {}'.format(cleaned_len))\n",
    "print('Cleaned / Original: {:.2f}'.format(cleaned_len / orig_len))"
   ]
  },
  {
   "cell_type": "code",
   "execution_count": 28,
   "id": "91500502",
   "metadata": {},
   "outputs": [],
   "source": [
    "engineered_feat = ['number of emojis', 'tweet length', 'number of sentences',\n",
    "       'number of words', 'avg words per sentence', 'number of nouns',\n",
    "       'number of verbs', 'number of stopwords', 'number of organizations']"
   ]
  },
  {
   "cell_type": "code",
   "execution_count": 29,
   "id": "441af514",
   "metadata": {},
   "outputs": [
    {
     "data": {
      "image/png": "[encoded data removed]",
      "text/plain": [
       "<Figure size 864x864 with 9 Axes>"
      ]
     },
     "metadata": {},
     "output_type": "display_data"
    }
   ],
   "source": [
    "tweet_stocks[engineered_feat].hist(figsize=(12,12))\n",
    "plt.suptitle('Feature Values (x) vs Feature Counts (y)')\n",
    "plt.tight_layout()\n",
    "plt.show()"
   ]
  },
  {
   "cell_type": "code",
   "execution_count": 30,
   "id": "e8f3c3fb",
   "metadata": {},
   "outputs": [],
   "source": [
    "tweet_stocks[engineered_feat] += 1\n",
    "tweet_stocks[engineered_feat] = np.log(tweet_stocks[engineered_feat])"
   ]
  },
  {
   "cell_type": "code",
   "execution_count": 31,
   "id": "4d3ebc99",
   "metadata": {},
   "outputs": [
    {
     "data": {
      "image/png": "[encoded data removed]",
      "text/plain": [
       "<Figure size 864x864 with 9 Axes>"
      ]
     },
     "metadata": {},
     "output_type": "display_data"
    }
   ],
   "source": [
    "tweet_stocks[engineered_feat].hist(figsize=(12,12))\n",
    "plt.suptitle('Log Transformed Feature Values (x) vs Feature Counts (y)')\n",
    "plt.tight_layout()\n",
    "plt.show()"
   ]
  },
  {
   "cell_type": "markdown",
   "id": "dd0d7c05",
   "metadata": {},
   "source": [
    "# Save Pre-Processed Data and Prepare Features for Machine Learning"
   ]
  },
  {
   "cell_type": "code",
   "execution_count": 32,
   "id": "ddae3b0c",
   "metadata": {},
   "outputs": [],
   "source": [
    "pd.to_pickle(tweet_stocks, './data/pre_processed_df.pkl')"
   ]
  }
 ],
 "metadata": {
  "kernelspec": {
   "display_name": "Python 3",
   "language": "python",
   "name": "python3"
  },
  "language_info": {
   "codemirror_mode": {
    "name": "ipython",
    "version": 3
   },
   "file_extension": ".py",
   "mimetype": "text/x-python",
   "name": "python",
   "nbconvert_exporter": "python",
   "pygments_lexer": "ipython3",
   "version": "3.9.4"
  }
 },
 "nbformat": 4,
 "nbformat_minor": 5
}
