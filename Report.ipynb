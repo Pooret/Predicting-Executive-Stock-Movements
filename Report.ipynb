{
 "cells": [
  {
   "cell_type": "markdown",
   "id": "bc55aa39",
   "metadata": {},
   "source": [
    "### Table of Contents\n",
    "\n",
    "1. Introduction\n",
    "2. Businss Proposal\n",
    "3. Data Acquisition and Wrangling\n",
    "4. Exploratory Data Analysis and Inferential Statistics\n",
    "5. Feature Engineering and Preprocessing\n",
    "6. Modeling\n",
    "7. Interpretability and Conclusions\n",
    "8. Further Work and Future Implementation\n",
    "9. Sources"
   ]
  },
  {
   "cell_type": "markdown",
   "id": "17da6015",
   "metadata": {},
   "source": [
    "***\n",
    "## 1. Introduction"
   ]
  },
  {
   "cell_type": "markdown",
   "id": "260b6ee5",
   "metadata": {},
   "source": [
    "In August of 2018, Elon Musk, CEO of the electric car company Telsa, sent out the tweet \"Am considering taking Telsa private at \\\\$420. Funding secured.\" The result of this tweet was a $40M fine, Musk losing his chair at Telsa, and an 11% increase of Tesla's stock price at the day's close [1].\n",
    "\n",
    "In spite of his censurship, Musk continued send out tweets that directly impacted his own company's stocks. And in 2020, Telsa's stock fell sharply by 10.8% at the close when Musk tweeted \"Telsa stock price is too high imo\" [2]. Investors that have, in the past, carefully done their due diligence in deciding how to allocate their funds are now faced with this new element in how stocks perform: that of social media. Highly influential individuals can, and have, voiced their opinions on the market through various social media platforms, causing prices to rise or fall within hours of publication, and many have claimed this to be outright market manipulation, calling for regulators to get involved. Nonetheless, today's investing strategies now have to rely on closely monitoring social media to alert them for these instances. The rapid market changes from these tweets has caused investors to be fixated on monitoring social media for similar occurrences. "
   ]
  },
  {
   "attachments": {},
   "cell_type": "markdown",
   "id": "bccc0e6c",
   "metadata": {},
   "source": [
    "<img src=\"figures/report/Fig1.png\" alt=\"Fig1\"/>\n",
    "\n",
    "__Figure 1:__   \n",
    ">Elon Musk's 2020 tweet that dropped stop prices by 10.8%"
   ]
  },
  {
   "cell_type": "markdown",
   "id": "fff7a3b3",
   "metadata": {},
   "source": [
    "***\n",
    "## 2. Business Proposal"
   ]
  },
  {
   "cell_type": "markdown",
   "id": "40e38ed8",
   "metadata": {},
   "source": [
    "The accessibility and ubiquity of social media has created a new problem for investors, in which influential individuals can cause dramatic changes in the market. On the other hand, it creates a potentially new and much faster means of assessing stock movements. For example, on January 28th, shares for the CD Projekt developers of Cyberpunk 2077 surged over 12% after Elon Musk tweeted that he liked the game the night before.\n",
    "\n",
    "Having been able to recognize that a stock change would follow this tweet would have an enormous impact on investment strategies.  \n",
    "Andy Swan writes in Forbes that there are 4 types of tweets to look for that influence stocks.\n",
    "\n",
    " - Influential people or groups tweets about a company’s stock\n",
    " - Company tweets about its own stock or by influential investors\n",
    " - Policy events that are tweeted by government insiders or observers\n",
    " - Influencer tweets an opinion about a particular brand or product\n",
    "\n",
    "Given these four tweet types, we will assess executives' twitter feeds to look for changes of their companies' stocks.\n"
   ]
  },
  {
   "cell_type": "markdown",
   "id": "7875ca2c",
   "metadata": {},
   "source": [
    "***\n",
    "## 3. Data Acquisition and Wrangling"
   ]
  },
  {
   "cell_type": "markdown",
   "id": "2307276e",
   "metadata": {},
   "source": [
    "\n",
    "\n",
    "This capstone collected tweets over a 5-year period of the CEOs of several companies. The main reason for this due to the limitations of yfinance's max history allowed when accessing stock data. Twitter data were scraped via twint using these restrictions, including the following criteria:\n",
    "- Each executive's stock must be public\n",
    "- Executives tweet at least 1000 times over the 5 year period\n",
    "- They don't need to be currently at the company, so long as they were affiliated with the company in some capacity over the length of collected tweets\n",
    "\n",
    "Their respective stocks are collected and the tweets are analyzed to determine if the closing price of a stock can be determined from the CEO's tweets. The CEOs, their twitter username, and their associated stocks are as follows:  \n",
    "\n",
    " - Elon Musk : '@elonmusk': Tesla (TSLA)\n",
    " - Aaron Levie : '@levie': Box (BOX)\n",
    " - Jack Dorsey : '@jack': Twitter (TWTR)\n",
    " - Marc Benioff : '@Benioff': Salesforce (CRM)\n",
    " - Richard Branson: @richardbranson: Virgin Galactic (SPCE)\n",
    " - John Legere: @JohnLegere: T-Mobile (TMUS)\n",
    "\n",
    "Overall, the following tweets were collected using twint*\n",
    "\n",
    " + 1660 Tweets from @elonmusk.\n",
    " + 1737 Tweets from @levie.\n",
    " + 5128 Tweets from @jack.\n",
    " + 4858 Tweets from @Benioff.\n",
    " + 7723 Tweets from @richardbranson.\n",
    " + 37249 Tweets from @JohnLegere.\n",
    "\n",
    "The stock data were collected using yfinance to get the opening and closing prices of each executive's stocks over a maximum period of 5 years.*\n",
    " \n",
    "Each stock that was collected has 1,259 entries pertaining to each stock date's open and closing prices, with the starting date on July 25th, 2016 with the exception of Virgin Galactic, which has 960 entries due to its starting date occuring september 29th, 2017. Each stock row has an opening, high, low, closing, volume, dividends, and stock splits entry. \n",
    "\n",
    "\\* *At this time, twint is unable to scrape data further back than 2-weeks, so data used for this notebook are from the last saved twint scrape. To prevent reduction of data due to shortening common dates, yfinance data was also loaded from the last saved yfinance scrape.*"
   ]
  },
  {
   "cell_type": "markdown",
   "id": "02375fad",
   "metadata": {},
   "source": [
    "\n",
    "## Data Wrangling"
   ]
  },
  {
   "cell_type": "markdown",
   "id": "553e3989",
   "metadata": {},
   "source": [
    "Our goal is to predict stock changes based off twitter data that occurs before the next opening or closing price. To get the data into a workable format the opening and closing stock prices were sorted by date and time and combined into a single dataframe. Missing prices (holidays, weekends, etc...) were filled via mean imputation on the organized stocks, and the opening/closing percent changes of the stock prices were calculated."
   ]
  },
  {
   "attachments": {},
   "cell_type": "markdown",
   "id": "07665d88",
   "metadata": {},
   "source": [
    "\n",
    "\n",
    "Fig 2(a) TSLA Price filled via Mean Imputation |Fig 2(b) Detrended TSLA Price Percent Change  \n",
    "- | -\n",
    "<img src=\"figures/report/Fig2a.png\" alt=\"Fig2a\"/>|<img src=\"figures/report/Fig2b.png\" alt=\"Fig2b\"/>\n",
    "\n",
    "__Figure 2(a):__   \n",
    ">An example of colleted stock opening and closing prices with missing values (dates the market wasn't open) filled in with mean imputation.  \n",
    "\n",
    "__Figure 2(b):__  \n",
    ">The same stock detrended by calculating the percent change from the current price to the next price point."
   ]
  },
  {
   "cell_type": "markdown",
   "id": "ee83ca8a",
   "metadata": {},
   "source": [
    "The tweets were scraped using twint over a maximum period since their stock went public. In total, there were 37 features for each scraped tweet from which we selected the following 14 to analyze.\n",
    "\n",
    "     Feature Name                             Description\n",
    "     -----------------------------------------------------\n",
    "    'date'                           date tweet was posted\n",
    "    'time'                     time (EST) tweet was posted\n",
    "    'username'                      posters twitter handle\n",
    "    'tweet'                raw tweet data in string format\n",
    "    'mentions'         list of mentions (@) from raw tweet\n",
    "    'hashtags'         list of hashtags (#) from raw tweet\n",
    "    'cashtags'         list of cashtags ($) from raw tweet\n",
    "    'video'                            list of video links\n",
    "    'photos'                           list of photo links\n",
    "    'urls'                              list of hyperlinks\n",
    "    'thumbnail'                    list of thumbnail links\n",
    "    'replies_count'       number of replies post receieved\n",
    "    'retweets_count'      number of retweets post received\n",
    "    'likes_count'            number of likes post received \n",
    "\n",
    "Missing values were scraped as empty lists, and were converted to 0s for easier processing. Languages other than english and unclassified were removed and urls, photos, thumbnails, mentions, and hashtags were converted to counts. \n",
    "\n",
    "Tweets that occured between opening and closing dates were grouped together into a single row and their respective features were summed.   \n",
    "      \n",
    " + 2179 Tweet-Days from @elonmusk.\n",
    " + 957 Tweet-Days from @levie.\n",
    " + 1476 Tweet-Days from @jack.\n",
    " + 1868 Tweet-Days from @Benioff.\n",
    " + 2009 Tweet-Days from @richardbranson.\n",
    " + 3415 Tweet-Days from @JohnLegere.\n",
    "  \n",
    "Finally, the combined tweets dataframes and associated stocks were merged together by date and time. Any missing values from non-overlapping dates were removed."
   ]
  },
  {
   "cell_type": "markdown",
   "id": "73585f46",
   "metadata": {},
   "source": [
    "***\n",
    "## 4. Exploratory Data Analysis and Inferential Statistics\n",
    "\n",
    "Initial explorations showed that the thumbnails feature was a duplicate of the photos feature, so the thumbnails feature was removed because photos is easier for me to type than thumnbails.\n",
    "\n",
    "Feature are subdivided into three categories:\n",
    "\n",
    "**Time-Sensitive**  \n",
    "*These features will change depending on how much time has passed since the initial post*\n",
    "\n",
    "- Replies Counts   \n",
    "- Likes Counts  \n",
    "- Retweets Counts  \n",
    "\n",
    "**Media**  \n",
    "*These features are links to additional media apart from the tweet itself*\n",
    "\n",
    "- Photos\n",
    "- Videos\n",
    "- Urls\n",
    "\n",
    "**Tags**  \n",
    "*These features are counts of the number of times a tag was used inside of a tweet*\n",
    "\n",
    "- Mentions\n",
    "- Hashtags\n",
    "- Cashtags\n",
    "\n",
    "These features were further explored by grouping the dataframe by username.\n",
    "\n",
    "| username       |   mentions |   hashtags |   cashtags |   video |   photos |   urls |    replies_count |   retweets_count |   likes_count |   number of tweets |    price |   percent change |\n",
    "|:---------------|-----------:|-----------:|-----------:|--------:|---------:|-------:|-----------------:|-----------------:|--------------:|-------------------:|---------:|-----------------:|\n",
    "| Benioff        |       3837 |        362 |          0 |    1999 |     2339 |   2696 |  63794           | 384674           |   1.66148e+06 |               4729 | 267300   |         0.845123 |\n",
    "| JohnLegere     |      10125 |      12154 |        231 |    9840 |    10294 |   7301 | 607419           | 760187           |   4.03523e+06 |              36437 | 262775   |         1.01267  |\n",
    "| elonmusk       |        286 |         19 |          0 |     667 |      653 |    776 |      1.09626e+07 |      2.87978e+07 |   2.88713e+08 |              11182 | 433582   |         4.36966  |\n",
    "| jack           |        932 |        414 |          6 |     463 |      543 |   1095 | 792240           |      1.69175e+06 |   7.24301e+06 |               4962 |  45434.3 |         1.67916  |\n",
    "| levie          |         99 |         11 |          2 |     145 |      144 |    164 |  40258           | 204086           |   1.47645e+06 |               1704 |  17607.4 |         0.943642 |\n",
    "| richardbranson |       4779 |       3179 |          0 |    5933 |     5549 |   6352 | 247238           | 588694           |   3.06961e+06 |               7700 |  27742.9 |         0.792197 |\n",
    "\n",
    "__Table 1:__  \n",
    ">Sum of twitter features grouped by username\n",
    "\n",
    "| username       |   mentions |   hashtags |   cashtags |    video |   photos |     urls |   replies_count |   retweets_count |   likes_count |   number of tweets |    price |   percent change |\n",
    "|:---------------|-----------:|-----------:|-----------:|---------:|---------:|---------:|----------------:|-----------------:|--------------:|-------------------:|---------:|-----------------:|\n",
    "| Benioff        |   2.08987  | 0.197168   | 0          | 1.08878  | 1.27397  | 1.46841  |         34.7462 |          209.517 |       904.946 |            2.57571 | 145.588  |      0.000460307 |\n",
    "| JohnLegere     |   3.02149  | 3.62698    | 0.0689346  | 2.93644  | 3.07192  | 2.17875  |        181.265  |          226.854 |      1204.19  |           10.8735  |  78.4168 |      0.000302198 |\n",
    "| elonmusk       |   0.132592 | 0.00880853 | 0          | 0.309226 | 0.302735 | 0.359759 |       5082.33   |        13350.8   |    133849     |            5.18405 | 201.012  |      0.0020258   |\n",
    "| jack           |   0.646325 | 0.287101   | 0.00416089 | 0.321082 | 0.37656  | 0.759362 |        549.404  |         1173.19  |      5022.89  |            3.44105 |  31.5078 |      0.00116447  |\n",
    "| levie          |   0.104984 | 0.0116649  | 0.00212089 | 0.153765 | 0.152704 | 0.173913 |         42.6914 |          216.422 |      1565.7   |            1.807   |  18.6717 |      0.00100068  |\n",
    "| richardbranson |   2.3788   | 1.58238    | 0          | 2.95321  | 2.76207  | 3.16177  |        123.065  |          293.028 |      1527.93  |            3.83275 |  13.8093 |      0.000394324 |\n",
    "\n",
    "__Table 2:__   \n",
    ">Mean of twitter features grouped by username\n",
    "\n",
    "| username       |   mentions |   hashtags |   cashtags |    video |   photos |     urls |   replies_count |   retweets_count |   likes_count |   number of tweets |     price |   percent change |\n",
    "|:---------------|-----------:|-----------:|-----------:|---------:|---------:|---------:|----------------:|-----------------:|--------------:|-------------------:|----------:|-----------------:|\n",
    "| Benioff        |   2.79335  |   0.578745 |  0         | 1.27104  | 1.87994  | 1.61552  |         63.8039 |          388.356 |       1529.98 |            2.33309 |  51.7178  |        0.0142925 |\n",
    "| JohnLegere     |   3.90027  |   3.98189  |  0.668497  | 2.98101  | 3.23081  | 2.22991  |        448.613  |          982.474 |       1931.22 |            9.1876  |  25.151   |        0.0113919 |\n",
    "| elonmusk       |   0.482571 |   0.134207 |  0         | 0.661261 | 0.704911 | 0.735663 |      12495.5    |        30914.4   |     253784    |            5.30428 | 234.899   |        0.0258205 |\n",
    "| jack           |   2.09385  |   1.26369  |  0.0743934 | 0.768182 | 1.05719  | 1.15234  |       3033.75   |         8060.15  |      28776.1  |            7.38255 |  12.4814  |        0.022442  |\n",
    "| levie          |   0.386347 |   0.107429 |  0.0460287 | 0.399979 | 0.463086 | 0.395675 |         71.4368 |          442.132 |       2667.34 |            1.60178 |   3.12295 |        0.0212546 |\n",
    "| richardbranson |   2.28549  |   2.08349  |  0         | 2.03378  | 1.92621  | 1.93732  |        288.597  |          873.961 |       5041.76 |            2.6671  |   9.08202 |        0.0253507 |\n",
    "\n",
    "__Table 3:__   \n",
    ">Std of twitter features grouped by username\n",
    "\n",
    "As seen in tables __1__ and __2__, TMobile's John Legere has the most tweets and also averages the most (averaging __10.8__ tweets per day in comparison to __1.8__ tweets per day from Aaron Levie of BOX).\n",
    "\n",
    "John Legere also has the largest number of features associated with the tweets, and average the most for tags and photos. CEO of Virgin Galactic, Richard Branson tweets less frequently (averaging __3.8__ tweets/day) but has the most frequent media feature usage (most for videos and urls in his tweets and close to John Legere for average photos posted).\n",
    "\n",
    "Elon Musk is very popular, averaging __133,849__ likes per tweet. Second to him is Twitter's Jack Dorsey with an average of __5,022.89__ likes per tweet, which is a huge difference. As musks tweets were the ones that garned recent media attention, the time-sensitive features will be important in evaluating model to see how impactful they are to the stock price percent change. Ultimately we want to do away with these features as they will change over time, and ultimately want to determine if the stock price change can be predicted as soon as the tweet is posted. Musk does not, however, seem to be a big fan of media features, as he can be seen in table __2__ having low averages for them.\n",
    "\n",
    "Elon Musk had the highest net percent change __436.97%__ and Richard Branson had the least of __79.22%__, however both have the highest standard deviations in percent change: Elon Musk $+/-$ __2.58%__, and Richard Branson $+/-$ __2.53%__. \n",
    "\n"
   ]
  },
  {
   "cell_type": "markdown",
   "id": "3eb98a81",
   "metadata": {},
   "source": [
    "Choose 3-10 charts from your analysis to put in data storytelling doc, and write brief explanation of why they are meaningful make sure to include titles and axis titles (with units) for each chart you’ll probably want to lead with the univariate chart of the target, general rule is go high level to specific\n",
    "\n",
    "Here we examine several business leaders / investors corresponding to different stock prices. For example, Tweets from Elon Musk is examined for impact against Tesla stock price changes. \n",
    "\n",
    "Note this model can be flexible to examine the relationship between any business leader and the corresponding stock value. Here we selected six study cases, since we expect each case to have unique characteristics or relationships. We also want to examine the combined impact on all six stock - think of it as a small portfolio. Although at this stage, the code and model was designed to analysis the impact of sentiment based on these six companies, it can be made flexible enough to support any companies or a mix of companies to construct a portfolio. \n",
    "\n",
    "The table below shows the number of data points associated with each of the six study cases. From the data count, we can identify that certain features with small data count, such as hastags for Levie, may not yield reliable test results. This will be useful in the later stage when we infer information from statistical testing."
   ]
  },
  {
   "cell_type": "markdown",
   "id": "f71403b8",
   "metadata": {},
   "source": [
    "#### Visual Data Exploration"
   ]
  },
  {
   "cell_type": "markdown",
   "id": "dc9ff1de",
   "metadata": {},
   "source": [
    "Here, the price percent change distributions are examined. With special attention to Elon Musk and Richard Branson."
   ]
  },
  {
   "attachments": {},
   "cell_type": "markdown",
   "id": "176a6d77",
   "metadata": {},
   "source": [
    "<img src=\"figures/report/Fig3.png\" alt=\"Fig3\"/>\n",
    "\n",
    "__Figure 3:__  \n",
    ">Distribution of Percent Price Change of all Tweets, with $+/-$ 1 and $+/-$2 standard deviations from the mean (dashed grey line) as indicated by the dashed red lines. A kernal denisty estimate is plotted over the histogram."
   ]
  },
  {
   "attachments": {},
   "cell_type": "markdown",
   "id": "78c2e25c",
   "metadata": {},
   "source": [
    "Fig 4(a)  | Fig 4(b)\n",
    "- | - \n",
    "<img src=\"figures/report/Fig4a.png\" alt=\"Fig4a\"/>|<img src=\"figures/report/Fig4b.png\" alt=\"Fig4b\"/>\n",
    "\n",
    "__Figure 4(a):__   \n",
    ">Elon Musk Distribution of Percent Price Change in Yellow\n",
    "\n",
    "__Figure 4(b):__   \n",
    ">Richard Branson Distribution of Percent Price Change in Red"
   ]
  },
  {
   "cell_type": "markdown",
   "id": "c6a0fa7b",
   "metadata": {},
   "source": [
    "There is a sizeable difference in the distribution of percent changes for Elon Musk vs Richard Branson. What is concerning here is that there will not be enough data in the upper and lower areas to be able to make accurate predictions. To ensure that we can encompass enough data, the cutoff as to whether or not a stock changes is one standard deviation from the mean for each stock. "
   ]
  },
  {
   "cell_type": "markdown",
   "id": "7f352fd4",
   "metadata": {},
   "source": [
    "#### Important Features #####\n",
    "We used a random forest classifier to determine which features were most important to the overall dataset."
   ]
  },
  {
   "cell_type": "markdown",
   "id": "e23aa1dc",
   "metadata": {},
   "source": [
    "Important Features (with time-sensitive features):\n",
    "\n",
    "           retweets_count 0.156 +/- 0.001\n",
    "              likes_count 0.153 +/- 0.001\n",
    "            replies_count 0.152 +/- 0.001\n",
    "         number of tweets 0.116 +/- 0.001\n",
    "                     urls 0.100 +/- 0.002\n",
    "                   photos 0.098 +/- 0.002\n",
    "                    video 0.094 +/- 0.002\n",
    "                 mentions 0.085 +/- 0.001\n",
    "                 hashtags 0.074 +/- 0.001\n",
    "                 cashtags 0.002 +/- 0.000\n",
    "                 \n",
    "Important Features (without time-sensitive features):\n",
    "\n",
    "         number of tweets 0.065 +/- 0.001\n",
    "                 mentions 0.059 +/- 0.001\n",
    "                   photos 0.059 +/- 0.001\n",
    "                     urls 0.058 +/- 0.001\n",
    "                 hashtags 0.054 +/- 0.001\n",
    "                    video 0.053 +/- 0.001\n",
    "                 cashtags 0.002 +/- 0.000"
   ]
  },
  {
   "cell_type": "markdown",
   "id": "f8963d4c",
   "metadata": {},
   "source": [
    "The time-sensitive features; retweets, likes, and replies counts, are the top three most important features, followed by number of tweets. This sweems to make sense as the more popular someone is, the more media attention they receive, and the more likely they are to affect the stock price. The more a person tweets, the more likely something posted will cause a change to occur.\n",
    "    \n",
    "The media-link features; urls, photos, and videos are second-highest when included with the time-sentive features. When time-sensitive features are excluded, number of tweets is highest, followed by a mix of tag and media features. In both cases cashtags are last, likely due to the disparity of data for that feature."
   ]
  },
  {
   "cell_type": "markdown",
   "id": "0d9cd845",
   "metadata": {},
   "source": [
    "#### T-Test Scores and Statistical Significance per Executive"
   ]
  },
  {
   "cell_type": "markdown",
   "id": "bcbb583a",
   "metadata": {},
   "source": [
    "|    | elonmusk         |       score |       p_val | levie            |      score |    p_val | jack             |     score |     p_val | Benioff          |      score |         p_val | richardbranson   |     score |         p_val | JohnLegere       |      score |       p_val |\n",
    "|---:|:-----------------|------------:|------------:|:-----------------|-----------:|---------:|:-----------------|----------:|----------:|:-----------------|-----------:|--------------:|:-----------------|----------:|--------------:|:-----------------|-----------:|------------:|\n",
    "|  0 | mentions         |   0.617013  |   0.537291  | mentions         |  0.385021  | 0.700309 | mentions         |  0.929142 | 0.352971  | mentions         |  -1.33063  |   0.183477    | mentions         |   3.06753 |   0.0021872   | mentions         |  1.88355   | 0.0597122   |\n",
    "|  1 | hashtags         |  -0.871199  |   0.383743  | hashtags         | -1.47883   | 0.139521 | hashtags         |  0.405791 | 0.684956  | hashtags         |   0.924808 |   0.355188    | hashtags         |   4.6613  |   3.34884e-06 | hashtags         |  3.65635   | 0.000259768 |\n",
    "|  2 | cashtags         | nan         | nan         | cashtags         |  0.684704  | 0.493699 | cashtags         | -0.985369 | 0.324608  | cashtags         | nan        | nan           | cashtags         | nan       | nan           | cashtags         | -3.04115   | 0.00237498  |\n",
    "|  3 | video            |  -0.714334  |   0.475098  | video            |  0.316215  | 0.751909 | video            |  1.50067  | 0.13366   | video            |  -1.68023  |   0.093082    | video            |  12.6579  |   2.19007e-35 | video            |  4.3737    | 1.2588e-05  |\n",
    "|  4 | photos           |  -0.732337  |   0.464043  | photos           |  0.0598674 | 0.952274 | photos           |  1.35938  | 0.17424   | photos           |  -1.77444  |   0.0761566   | photos           |  13.9623  |   2.36842e-42 | photos           |  4.94613   | 7.94304e-07 |\n",
    "|  5 | urls             |   2.05559   |   0.0399425 | urls             |  0.656777  | 0.511485 | urls             | -0.205045 | 0.837566  | urls             |  -2.13725  |   0.0327099   | urls             |  13.381   |   3.53631e-39 | urls             | -2.22176   | 0.0263662   |\n",
    "|  6 | replies_count    |  -0.0661824 |   0.947239  | replies_count    |  0.208852  | 0.834609 | replies_count    | -1.7932   | 0.0731508 | replies_count    |  -2.96643  |   0.00305171  | replies_count    |  -3.55781 |   0.000382643 | replies_count    |  0.0878905 | 0.929969    |\n",
    "|  7 | retweets_count   |   1.06854   |   0.285399  | retweets_count   |  1.17663   | 0.239641 | retweets_count   | -0.809602 | 0.418303  | retweets_count   |  -2.35927  |   0.0184154   | retweets_count   |  -1.95644 |   0.0505518   | retweets_count   | -1.88423   | 0.0596211   |\n",
    "|  8 | likes_count      |  -0.276312  |   0.782335  | likes_count      |  1.03573   | 0.300594 | likes_count      | -1.17251  | 0.241187  | likes_count      |  -4.21151  |   2.65964e-05 | likes_count      |  -3.86991 |   0.000112351 | likes_count      | -0.993379  | 0.320597    |\n",
    "|  9 | number of tweets |  -0.355546  |   0.722216  | number of tweets | -0.650271  | 0.515676 | number of tweets |  1.90965  | 0.0563763 | number of tweets |  -2.79375  |   0.00526419  | number of tweets |   9.45199 |   8.9228e-21  | number of tweets |  4.27635   | 1.95284e-05 |\n",
    "\n",
    "__Table 4:__  \n",
    ">T-Test Scores and P values for Feature Differences in Stocks Change vs No Stocks Change "
   ]
  },
  {
   "cell_type": "markdown",
   "id": "0b5c1a62",
   "metadata": {},
   "source": [
    "There is a large difference the T-Test scores between users of the same features. For example, Richard Branson's media features infer that they are ~13x more likely to indicate a stock movement, whereas Elon Musk's are between -0.7 -> 2 times as likely. "
   ]
  },
  {
   "cell_type": "markdown",
   "id": "78539530",
   "metadata": {},
   "source": [
    "Only allowing for scores that that have a p value <= 5% shows another large discrepancy. Take Elon Musk's statistically sificant feature(s):"
   ]
  },
  {
   "cell_type": "markdown",
   "id": "bbf32236",
   "metadata": {},
   "source": [
    "|    | elonmusk   |   score |     p_val |\n",
    "|---:|:-----------|--------:|----------:|\n",
    "|  5 | urls       | 2.05559 | 0.0399425 |\n",
    "\n",
    "__Table 5:__  \n",
    ">Statistically Significant T-Test Scores for Elon Musk (P values <= 5.00%)\n",
    "\n",
    "And compare that to Richard Branson's:"
   ]
  },
  {
   "cell_type": "markdown",
   "id": "a66c2908",
   "metadata": {},
   "source": [
    "|    | richardbranson   |    score |       p_val |\n",
    "|---:|:-----------------|---------:|------------:|\n",
    "|  4 | photos           | 13.9623  | 2.36842e-42 |\n",
    "|  5 | urls             | 13.381   | 3.53631e-39 |\n",
    "|  3 | video            | 12.6579  | 2.19007e-35 |\n",
    "|  9 | number of tweets |  9.45199 | 8.9228e-21  |\n",
    "|  1 | hashtags         |  4.6613  | 3.34884e-06 |\n",
    "|  0 | mentions         |  3.06753 | 0.0021872   |\n",
    "|  6 | replies_count    | -3.55781 | 0.000382643 |\n",
    "|  8 | likes_count      | -3.86991 | 0.000112351 |\n",
    "\n",
    "__Table 6:__   \n",
    ">Statistically Significant T-Test Scores for Richard Branson (P values <= 5.00%)"
   ]
  },
  {
   "cell_type": "markdown",
   "id": "1f1c48c8",
   "metadata": {},
   "source": [
    "To further examine these relationships the distributions, box-plots, and kernal density estimations bewtween stock changes plotted. The replies count was picked as it was one of the most important time-sensitive features that was also statistically significant ."
   ]
  },
  {
   "attachments": {},
   "cell_type": "markdown",
   "id": "1eac0d6f",
   "metadata": {},
   "source": [
    "Fig 5(a) | Fig 5(b)\n",
    "- | -\n",
    "<img src=\"figures/report/Fig5a.png\" alt=\"Fig5a\"/>|<img src=\"figures/report/Fig5b.png\" alt=\"Fig5b\"/>\n",
    "\n",
    "__Figure 5(a):__     \n",
    ">Elon Musk Distribution (in Yellow), Box-Plot, and KDE for Replies Count, Pearson R, T-Test Score, and associated P values are annotated on the plots\n",
    "\n",
    "__Figure 5(b):__    \n",
    ">Richard Branson Distribution (in Red), Box-Plot, and KDE for Replies Count, Pearson R, T-Test Score, and associated P values are annotated on the plots"
   ]
  },
  {
   "cell_type": "markdown",
   "id": "972447dc",
   "metadata": {},
   "source": [
    "From the box plots, we can see that there are some slight differences between the stocks that don't change, vs those that do. The KDE plots reflect this visually with the changing stocks in purple vs no change in yellow. The Pearson Correlation Coefficient for both Elon Musk and Richard Branson's reply counts are not stastically significant to see an indication in correlating them to stock price. \n",
    "\n",
    "The KDE plots shows that there are slight differences between the stocks that change and don't change for both users, though the signs are flipped. They are also both statistically significant, and it's much easier to see the differences in these plots.\n",
    "\n",
    "**The p-value in the elon musk t-test shows it as being statistically significant when it didn't show up in the prior plot. I will rerun this to check.**"
   ]
  },
  {
   "attachments": {},
   "cell_type": "markdown",
   "id": "cf115c35",
   "metadata": {},
   "source": [
    "Fig 6(a) Elon Musk Replies Count Against Stock Price |Fig 6(b) Richard Branson Replies Count Against Stock Price\n",
    "- | -\n",
    "<img src=\"figures/report/Fig6a.png\" alt=\"Fig6a\"/>|<img src=\"figures/report/Fig6b.png\" alt=\"Fig6b\"/>"
   ]
  },
  {
   "cell_type": "markdown",
   "id": "422c83c1",
   "metadata": {},
   "source": [
    "Plotting the replies count against the stock price shows some possible correlation. Richard Bransons stocks are interesting as we see virtually no movement for nearly a year, followed by a period of inactivity in his tweets in 2020, As shown in the horizontal stock price line between those dates. Nonetheless there appears to be a correlation once stocks start moving."
   ]
  },
  {
   "cell_type": "markdown",
   "id": "f6c9a4d4",
   "metadata": {},
   "source": [
    "Photos as a media feature were then examined as the most important statistically significant import feature for Richard Branson. This is to get a sense as to how much the feature contributes to the predictions during model development and testing."
   ]
  },
  {
   "attachments": {},
   "cell_type": "markdown",
   "id": "9d4a5eb8",
   "metadata": {},
   "source": [
    "Fig 7(a) | Fig 7(b)\n",
    "- | -\n",
    "<img src=\"figures/report/Fig7a.png\" alt=\"Fig7a\"/>|<img src=\"figures/report/Fig7b.png\" alt=\"Fig7b\"/>\n",
    "\n",
    "__Figure 7(a):__    \n",
    ">Elon Musk Distribution (in Yellow), Box-Plot, and KDE for Photos, Pearson R, T-Test Score, and associated P values are annotated on the plots\n",
    "\n",
    "__Figure 7(b):__  \n",
    ">Richard Branson Distribution (in Red), Box-Plot, and KDE for Photos, Pearson R, T-Test Score, and associated P values are annotated on the plots"
   ]
  },
  {
   "cell_type": "markdown",
   "id": "11727acb",
   "metadata": {},
   "source": [
    "Elon Musk does not use a lot of media features in his tweets, averaging 0.30 photos per tweet compared to Branson's 2.76. There is a noticable difference in stocks that don't change vs those that do as seen in the box plots and kde plots in figure __7(b)__."
   ]
  },
  {
   "attachments": {},
   "cell_type": "markdown",
   "id": "278e76a6",
   "metadata": {},
   "source": [
    "Fig 8(a) Elon Musk Poto Counts Against Stock Price | Fig 8(b) Richard Branson Photo Counts Against Stock Price\n",
    "- | -\n",
    "<img src=\"figures/report/Fig8a.png\" alt=\"Fig8a\"/>|<img src=\"figures/report/Fig8b.png\" alt=\"Fig8b\"/>"
   ]
  },
  {
   "cell_type": "markdown",
   "id": "859a87a0",
   "metadata": {},
   "source": [
    "In this case, we can see that Musk's use of photos looks to fall within very specified range. Branson's photo counts in figure __8(b)__ look to have a strong correlation when price starts changing. "
   ]
  },
  {
   "cell_type": "markdown",
   "id": "7d9b264b",
   "metadata": {},
   "source": [
    "# $\\phi$k scores\n",
    "\n",
    "Visual inspection of features that affect stock changes was done using a $\\phi$k value.\n",
    "\n",
    "Eryk Lewinson's article in Towards Data Science gives a great backgroud as to why it good to use in EDA: \n",
    "**Phik (𝜙k) — get familiar with the latest correlation coefficient**\n",
    "\n",
    "\n",
    "Pearson’s correlation coefficient is a standard approach of measuring correlation between two variables. However, it has some drawbacks[^3]:\n",
    "\n",
    "- It works only with continuous variables\n",
    "- It only accounts for a linear relationship between variables\n",
    "- It is sensitive to outliers\n",
    "\n",
    "𝜙k offers several improvements over Pearson's. The key differentiators of $\\phi$k are:\n",
    "\n",
    "- It is based on several refinements to Pearson’s χ2 (chi-squared) contingency test — a hypothesis test for independence between two (or more) variables\n",
    "- It works consistently between categorical, ordinal, and interval (continuous) variables\n",
    "- It captures non-linear dependencies\n",
    "- It reverts to Pearson’s correlation coefficient in the case of a bivariate normal distribution of the input\n",
    "- the algorithm contains a built-in noise reduction technique against statistical fluctuations\n",
    "\n",
    "$\\phi$k's a correlation coefficient based on several refinements to Pearson’s hypothesis test of independence of two variables.\n",
    "\n",
    "Using the coefficient, we can find variable pairs that have (un)expected correlations, and evaluate their statistical significance. We can also interpret the dependencies between each pair of variables.\n",
    "\n",
    "Emphasis is paid to the proper evaluation of statistical significance of correlations and to the interpretation of variable relationships in a contingency table, in particular in case of low statistics samples.\n"
   ]
  },
  {
   "attachments": {},
   "cell_type": "markdown",
   "id": "e3e3fd0c",
   "metadata": {},
   "source": [
    "Fig 9(a) $\\phi$k Table of Elon Musk Features | Fig 9(b) $\\phi$k Table of Richard Branson Features\n",
    "- | -\n",
    "<img src=\"figures/report/Fig9a.png\" alt=\"Fig9a\"/>|<img src=\"figures/report/Fig9b.png\" alt=\"Fig9b\"/>"
   ]
  },
  {
   "cell_type": "markdown",
   "id": "f163666f",
   "metadata": {},
   "source": [
    "The scores for the target features of bins and percent change were examined, excluding their correlations with price and each other. \n",
    "> For Elon Musk, __fig 9(a)__'s price's highest scores were the time-sensitive features. With the percent changes separated by stocks that drop, stocks that don't change, and stocks that rise, the media features were more important. For percent change, there were no discerable relationships. \n",
    "\n",
    "\n",
    "> For Richard Branson, it is apparent there are many stronger correlations present than that of Elon Musk's twitter posts as seen in __9(b)__. For price, bins, and percent change, both time-sensitive and media features were significant, but media features were strongest with bins. "
   ]
  },
  {
   "cell_type": "markdown",
   "id": "3501b150",
   "metadata": {},
   "source": [
    "***\n",
    "## 5. Feature Engineering and Preprocessing"
   ]
  },
  {
   "cell_type": "markdown",
   "id": "d0b92660",
   "metadata": {},
   "source": [
    "In an attempt to tease more data from the raw tweets, the counts of various features derived from the text were created:\n",
    "\n",
    "- emoji counts\n",
    "- number of sentences \n",
    "- number of words\n",
    "- avg number of words per sentence\n",
    "\n",
    "Additional features using Spacy were extracted, using the en_core_web_lg model for natural langauge processing:\n",
    "- number of nouns\n",
    "- number of verbs\n",
    "- number of stopwords\n",
    "- number of organizations mentioned in tweet (e.g. Tesla, SpaceX, Twitter, etc.)"
   ]
  },
  {
   "cell_type": "markdown",
   "id": "5f9243bd",
   "metadata": {},
   "source": [
    "## Text Cleaning"
   ]
  },
  {
   "cell_type": "markdown",
   "id": "f77d8a37",
   "metadata": {},
   "source": [
    "The twitter data needs to be cleaned prior to machine learning. In this effort, special characters, punctuation, numbers, and emojis were removed. The text was converted to lowercase and stop words, words shorter than 1 character, and words appearing only once in a document were removed. The final text is lemmatized before return the cleaned text data."
   ]
  },
  {
   "cell_type": "markdown",
   "id": "124d75bc",
   "metadata": {},
   "source": [
    "Tweet Increases Stock by 10.391%  \n",
    "\\========================  \n",
    "\n",
    "| date                | tweet                                                                                                                                                                                                                                                                                                                                                                                                                                                                                                                                                                                                                                                                                                                                                                                                                                                                                                                                                                                                                                                                                     |\n",
    "|:--------------------|:------------------------------------------------------------------------------------------------------------------------------------------------------------------------------------------------------------------------------------------------------------------------------------------------------------------------------------------------------------------------------------------------------------------------------------------------------------------------------------------------------------------------------------------------------------------------------------------------------------------------------------------------------------------------------------------------------------------------------------------------------------------------------------------------------------------------------------------------------------------------------------------------------------------------------------------------------------------------------------------------------------------------------------------------------------------------------------------|\n",
    "| 2018-08-07 16:00:00 | Investor support is confirmed. Only reason why this is not certain is that it’s contingent on a shareholder vote. @MindFieldMusic Def no forced sales. Hope all shareholders remain. Will be way smoother &amp; less disruptive as a private company. Ends negative propaganda from shorts. @thatspacegeek Yes, but liquidity events would be limited to every 6 months or so (like SpaceX) Shareholders could either to sell at 420 or hold shares &amp; go private @heydave7 Absolutely. Am super appreciative of Tesla shareholders. Will ensure their prosperity in any scenario. @Gfilche My hope is *all* current investors remain with Tesla even if we’re private. Would create special purpose fund enabling anyone to stay with Tesla. Already do this with Fidelity’s SpaceX investment. @EvotoRentals Yes @FredericLambert I don’t have a controlling vote now &amp; wouldn’t expect any shareholder to have one if we go private. I won’t be selling in either scenario. Good morning 😀 @LizClaman @Tesla 420 Am considering taking Tesla private at $420. Funding secured. |"
   ]
  },
  {
   "cell_type": "markdown",
   "id": "fa706dff",
   "metadata": {},
   "source": [
    "__Table 7:__  \n",
    ">Collected raw twitter feeds occuring before August 7th, 2018 4:00 pm from Elon Musk."
   ]
  },
  {
   "cell_type": "markdown",
   "id": "56fcba39",
   "metadata": {},
   "source": [
    "| date                | cleaned                                                                                                                                                                                                                                                                                                                                                                                                                                                                                                                                                                                              |\n",
    "|:--------------------|:-----------------------------------------------------------------------------------------------------------------------------------------------------------------------------------------------------------------------------------------------------------------------------------------------------------------------------------------------------------------------------------------------------------------------------------------------------------------------------------------------------------------------------------------------------------------------------------------------------|\n",
    "| 2018-08-07 16:00:00 | investor support confirm reason not certain contingent shareholder vote def force sale hope shareholder remain way smoother disruptive private company end negative propaganda short yes liquidity event limited month like spacex shareholder sell hold share private absolutely super appreciative tesla shareholder ensure prosperity scenario hope current investor remain tesla private create special purpose fund enable stay tesla fidelitys spacex investment yes not control vote not expect shareholder private not sell scenario good morning consider take tesla private funding secure |"
   ]
  },
  {
   "cell_type": "markdown",
   "id": "38fa2c19",
   "metadata": {},
   "source": [
    "__Table 8:__  \n",
    ">Preprocessed twitter feeds from same date-time"
   ]
  },
  {
   "cell_type": "markdown",
   "id": "287d894c",
   "metadata": {},
   "source": [
    "### Vectorization"
   ]
  },
  {
   "cell_type": "markdown",
   "id": "ed295796",
   "metadata": {},
   "source": [
    "The cleaned text was converted into a sparse vector matrix to allow for machine learning. Only unigrams were considered, and the min_df was kept to the default of 1. Both of these features can be modified to see if any improvements in prediction capability can be made by looking at bi and tri-grams and the minimum number of documents that can be kept, but for this project unigrams were kept as support vector machine fit times scale quadratically with sample size. Because data is limited, the min df was kept to 1. Count Vectorizer was also considered, but early explorations didn't see much of a difference between these vectorization methods.\n",
    "\n"
   ]
  },
  {
   "cell_type": "markdown",
   "id": "2b6d17f6",
   "metadata": {},
   "source": [
    "### Feature Scaling"
   ]
  },
  {
   "cell_type": "markdown",
   "id": "3c02040b",
   "metadata": {},
   "source": [
    "Because the scale of the different count features varies significantly, the scales of the features were normalized between 0 and 1 using Min Max Scaler. Other scaling methods were not explored."
   ]
  },
  {
   "cell_type": "markdown",
   "id": "b63655d7",
   "metadata": {},
   "source": [
    "***\n",
    "## 6. Modeling"
   ]
  },
  {
   "cell_type": "markdown",
   "id": "972f0370",
   "metadata": {},
   "source": [
    "### Selecting the Right Metrics\n",
    "\n",
    "We could look at this problem in one of two ways: if an investor were to use this machine learning approach to evaluate investment opportunites from twitter data, assuming predicting stock price changes are the positive label and no stock changes are negative, an investor would prioritize predicting stock changes to examine investment opportunities, that is to minimize opportunity loss. This would be a reason to look at recall scores for model metrics as it provides an indication of missed positive predictions. \n",
    "\n",
    ">$Recall = TP / (TP + FN)$\n",
    "\n",
    "Unlike precision that only comments on the correct positive predictions out of all positive predictions, recall provides an indication of missed positive predictions.\n",
    "\n",
    "For imbalanced learning, recall is typically used to measure the coverage of the minority class.\n",
    "\n",
    "Other metrics like F1 and the ROC-AUC score are also appropriate as it incorporates loss mitigation as a factor (both are indicators of how to optimize both precision and recall)."
   ]
  },
  {
   "cell_type": "markdown",
   "id": "3f0a0063",
   "metadata": {},
   "source": [
    "#### Training/Testing Splits"
   ]
  },
  {
   "cell_type": "markdown",
   "id": "e1430cf0",
   "metadata": {},
   "source": [
    "The following models were trained and evaluated on 70% of the total data. The remaining 30% was set aside for final model testing."
   ]
  },
  {
   "cell_type": "markdown",
   "id": "0fd278e9",
   "metadata": {},
   "source": [
    "## Early Explorations\n",
    "\n",
    "All of the feature sub-categories are included for the initial explorations. To this end, was subdiveded into bins that represent a stock change greater than ~2.5%, labelled as 1, or the positive class, and stocks under the 2.5% change as stocks that don't change, labelled as 0 or the negative class.\n",
    "\n",
    "The distributions of these bins are shown below."
   ]
  },
  {
   "attachments": {},
   "cell_type": "markdown",
   "id": "f2cc55cb",
   "metadata": {},
   "source": [
    "<img src=\"figures/report/Fig10.png\" alt=\"Fig10\"/>\n",
    "\n",
    "__Figure 10:__ \n",
    "\n",
    ">Distributions of stock price changes. Stock percent changes are subdivided into bins of not changing (*label = 0*) vs changing (*label = 1*) with a mean cutoff of $+/-$ 2.5%  = $+/-$ 1 std. The blue label 0 indicates no significant change in stock prices. The orange 1 label shows stocks that have changed past +/- 1 std from the mean"
   ]
  },
  {
   "cell_type": "markdown",
   "id": "58f3d677",
   "metadata": {},
   "source": [
    "    class no change size: 6589.000\n",
    "    class change size: 1484.000"
   ]
  },
  {
   "cell_type": "markdown",
   "id": "4c74cf8d",
   "metadata": {},
   "source": [
    "This dataset is imbalanced. The positive class (change) makes up only ~18% of data. Recall refers to the true positive rate and summarizes how well the positive class was predicted. So we will judge our models off of this parameter, choosing models initially by ranking ROC-AUC scores. "
   ]
  },
  {
   "cell_type": "markdown",
   "id": "d328a2b4",
   "metadata": {},
   "source": [
    "## Grid Search of Classifiers over Twitter Users"
   ]
  },
  {
   "cell_type": "markdown",
   "id": "799fee03",
   "metadata": {},
   "source": [
    "We applied three classification techniques (Logistic Regression, Support Vector Machines, Multinomial Naive Bayes) to the full training set of data. If the classifier supported class weighting, it was used. The scores were averaged over 5 trials. "
   ]
  },
  {
   "cell_type": "markdown",
   "id": "29de0fdf",
   "metadata": {},
   "source": [
    "|    | username       | model                                                                    |   fit_time_mean |   fit_time_std |   score_time_mean |   score_time_std |   test_balanced_accuracy_mean |   test_balanced_accuracy_std |   test_precision_mean |   test_precision_std |   test_recall_mean |   test_recall_std |   test_f1_mean |   test_f1_std |   test_roc_auc_mean |   test_roc_auc_std |   n_samples |   n_pos_label |   n_features |\n",
    "|---:|:---------------|:-------------------------------------------------------------------------|----------------:|---------------:|------------------:|-----------------:|------------------------------:|-----------------------------:|----------------------:|---------------------:|-------------------:|------------------:|---------------:|--------------:|--------------------:|-------------------:|------------:|--------------:|-------------:|\n",
    "|  0 | richardbranson | LogisticRegression(class_weight={0: 1, 1: 4.440026954177897}, n_jobs=-1) |       1.78388   |    0.337945    |         0.0685234 |      0.00221177  |                      0.648705 |                    0.0601133 |              0.38088  |            0.101121  |          0.386232  |         0.111773  |      0.379458  |     0.0968902 |            0.790671 |          0.0344942 |         973 |           117 |           19 |\n",
    "|  1 | richardbranson | SVC(class_weight={0: 1, 1: 4.440026954177897}, probability=True)         |       7.7049    |    0.203011    |         1.00153   |      0.0296884   |                      0.542468 |                    0.0259235 |              0.593333 |            0.136219  |          0.0931159 |         0.0533667 |      0.157942  |     0.0834277 |            0.764328 |          0.029931  |         973 |           117 |           19 |\n",
    "|  2 | richardbranson | MultinomialNB()                                                          |       0.0476386 |    0.000728239 |         0.0677195 |      0.000660165 |                      0.5      |                    0         |              0        |            0         |          0         |         0         |      0         |     0         |            0.742757 |          0.050014  |         973 |           117 |           19 |\n",
    "|  3 | Benioff        | LogisticRegression(class_weight={0: 1, 1: 4.440026954177897}, n_jobs=-1) |       1.04547   |    0.154655    |         0.0711415 |      0.00817086  |                      0.557241 |                    0.0487441 |              0.292266 |            0.0736057 |          0.277815  |         0.0938652 |      0.283557  |     0.0818369 |            0.599403 |          0.0749843 |         877 |           173 |           19 |\n",
    "|  4 | Benioff        | SVC(class_weight={0: 1, 1: 4.440026954177897}, probability=True)         |       6.90156   |    0.142067    |         1.06207   |      0.0285883   |                      0.51256  |                    0.0206567 |              0.276667 |            0.180893  |          0.0521008 |         0.0480831 |      0.0855446 |     0.0756133 |            0.586782 |          0.0587864 |         877 |           173 |           19 |"
   ]
  },
  {
   "cell_type": "markdown",
   "id": "ce2992db",
   "metadata": {},
   "source": [
    "__Table 9:__   \n",
    ">Top 5 performing classifers with various twitter data. Displays average and std of times and scores"
   ]
  },
  {
   "cell_type": "markdown",
   "id": "f6fd77d4",
   "metadata": {},
   "source": [
    "It's not surprising to see that Richard Branson's Twitter data had the highest classification scores (using ROC_AUC), given the statistically different significance betweem stocks that change vs. not change. The logistic regression classification performed the best and was signicantly faster than the support vector classification. We will tune the hyperparameters for the logistic regression classifier and see how much optimization we can acheive. Below are Elon Musk's scores, and there are no significant differences between the classification methods, assuming the data doesn't have any significant patterns that allow for predicting the different stock changes."
   ]
  },
  {
   "cell_type": "markdown",
   "id": "cb6242b1",
   "metadata": {},
   "source": [
    "|    | username   | model                                                                    |   fit_time_mean |   fit_time_std |   score_time_mean |   score_time_std |   test_balanced_accuracy_mean |   test_balanced_accuracy_std |   test_precision_mean |   test_precision_std |   test_recall_mean |   test_recall_std |   test_f1_mean |   test_f1_std |   test_roc_auc_mean |   test_roc_auc_std |   n_samples |   n_pos_label |   n_features |\n",
    "|---:|:-----------|:-------------------------------------------------------------------------|----------------:|---------------:|------------------:|-----------------:|------------------------------:|-----------------------------:|----------------------:|---------------------:|-------------------:|------------------:|---------------:|--------------:|--------------------:|-------------------:|------------:|--------------:|-------------:|\n",
    "| 12 | elonmusk   | SVC(class_weight={0: 1, 1: 4.495575221238938}, probability=True)         |      11.3911    |     0.248364   |         1.73557   |      0.0373565   |                      0.496061 |                    0.011952  |              0.08     |            0.178885  |           0.01     |         0.0223607 |      0.0177778 |     0.0397523 |            0.498181 |          0.0483363 |        1040 |           201 |           19 |\n",
    "| 13 | elonmusk   | LogisticRegression(class_weight={0: 1, 1: 4.495575221238938}, n_jobs=-1) |       1.35609   |     0.0559698  |         0.0787651 |      0.000818128 |                      0.501841 |                    0.0349884 |              0.192783 |            0.0612707 |           0.183659 |         0.0721607 |      0.187606  |     0.0672479 |            0.493166 |          0.0397831 |        1040 |           201 |           19 |\n",
    "| 14 | elonmusk   | MultinomialNB()                                                          |       0.0599119 |     0.00593334 |         0.0959557 |      0.0187183   |                      0.5      |                    0         |              0        |            0         |           0        |         0         |      0         |     0         |            0.487371 |          0.0383289 |        1040 |           201 |           19 |\n",
    "\n",
    "__Table 10:__  \n",
    ">Performance of Elon Musk's data with the three classifiers"
   ]
  },
  {
   "cell_type": "markdown",
   "id": "e0a6a614",
   "metadata": {},
   "source": [
    "It's also somewhat surprising to see that Elon Musk's scores were much lower, and that there wasn't a huge difference between the different classifiers, given that this data contains the time-sensitive features. "
   ]
  },
  {
   "cell_type": "markdown",
   "id": "24db5356",
   "metadata": {},
   "source": [
    "## Examining Best Model"
   ]
  },
  {
   "cell_type": "markdown",
   "id": "da5c1fbd",
   "metadata": {},
   "source": [
    "    richardbranson\n",
    "    LogisticRegression(class_weight={0: 1, 1: 4.440026954177897}, n_jobs=-1)\n",
    "    \n",
    "    Test_roc_auc_mean: 0.791\n",
    "    Test_roc_auc_std: 0.034\n",
    "    Range of test_roc_auc_mean: 0.756 -- 0.825\n",
    "    The mean cross-validation accuracy is: 0.837 +/- 0.025\n",
    "    Precision: 0.415\n",
    "    Recall: 0.440\n",
    "    Balanced accuracy: 0.678\n",
    "\n",
    "                  precision    recall  f1-score   support\n",
    "\n",
    "               0       0.92      0.92      0.92       368\n",
    "               1       0.42      0.44      0.43        50\n",
    "\n",
    "        accuracy                           0.86       418\n",
    "       macro avg       0.67      0.68      0.67       418\n",
    "    weighted avg       0.86      0.86      0.86       418"
   ]
  },
  {
   "attachments": {},
   "cell_type": "markdown",
   "id": "75c7c379",
   "metadata": {},
   "source": [
    "Fig 11(a) | Fig 11(b) | Fig 11(c)\n",
    "- | - | -\n",
    "<img src=\"figures/report/Fig11a.png\" alt=\"Fig11a\"/>|<img src=\"figures/report/Fig11b.png\" alt=\"Fig11b\"/>|<img src=\"figures/report/Fig11c.png\" alt=\"Fig11c\"/>"
   ]
  },
  {
   "cell_type": "markdown",
   "id": "687e5ca7",
   "metadata": {},
   "source": [
    "On examining the top model, we can see from __11(a)__ that it predicted no change 337 out of 368 correctly (91.58%) and change 22 out of 50 correctly (44.00%), with an overall accuracy of 86%. The ROC AUC range of values is between 0.756 and 0.825, so it's scoring doesn't vary too wildly. The precision hovers around 0.4 then drops when recall reaches 0.6 as shown in __11(b)__. This gives us an idea of thresholding later on."
   ]
  },
  {
   "cell_type": "markdown",
   "id": "4b81990a",
   "metadata": {},
   "source": [
    "# Hyperparameter Tuning"
   ]
  },
  {
   "cell_type": "markdown",
   "id": "c3a6fc27",
   "metadata": {},
   "source": [
    "A grid search tuning logistic regrssion's C value, penalty, solver, and boolean dual was cross validated 10 times per classifer's parameters. The average results were scored and ranked via ROC_AUC curves"
   ]
  },
  {
   "cell_type": "markdown",
   "id": "7cfaf408",
   "metadata": {},
   "source": [
    "richardbranson\n",
    "LogisticRegression(class_weight={0: 1, 1: 7.3293413173652695}, n_jobs=-1,\n",
    "                   penalty='l1', solver='saga')\n",
    "\n",
    "The mean cross-validation accuracy is: 0.771 +/- 0.027\n",
    "Precision: 0.330\n",
    "Recall: 0.760\n",
    "Balanced accuracy: 0.775\n",
    "\n",
    "\n",
    "                  precision    recall  f1-score   support\n",
    "\n",
    "               0       0.96      0.79      0.87       368\n",
    "               1       0.33      0.76      0.46        50\n",
    "\n",
    "        accuracy                           0.79       418\n",
    "       macro avg       0.65      0.78      0.66       418\n",
    "    weighted avg       0.89      0.79      0.82       418"
   ]
  },
  {
   "attachments": {},
   "cell_type": "markdown",
   "id": "5a0fcfae",
   "metadata": {},
   "source": [
    "Fig 12(a) | Fig 12(b) | Fig 12(c)\n",
    "- | - | -\n",
    "<img src=\"figures/report/Fig12a.png\" alt=\"Fig12a\"/>|<img src=\"figures/report/Fig12b.png\" alt=\"Fig12b\"/>|<img src=\"figures/report/Fig12c.png\" alt=\"Fig12c\"/>"
   ]
  },
  {
   "cell_type": "markdown",
   "id": "77da2ee7",
   "metadata": {},
   "source": [
    "While the AUC Score in __12(c)__ didn't change, we can see a greater average precision in __12(b)__ and the confusion matrix, __12(a)__ indicates the model underperforms picking stocks that don't change (79% vs 92%), but increases when selecting stocks that do (76% vs 44%). While the overall accuracy slightly dropped (from 86% down to 79%), as we are prioritizing positive class prediction, the 32% increase is welcome."
   ]
  },
  {
   "cell_type": "markdown",
   "id": "c4f05b69",
   "metadata": {},
   "source": [
    "# Business-Case Testing and Modeling\n",
    "In our scenario, an investor would want to see stock changes as quickly as possible, so the twitter features number of replies, retweets, and likes should be discarded as a prediction of new stock price changes on trained on historical data wouldn't have nearly as many counts in those features, and thus aren't a good representation of a real-world application."
   ]
  },
  {
   "cell_type": "markdown",
   "id": "3e57d483",
   "metadata": {},
   "source": [
    "    Important Features (without time-sentive features and with engineered features):\n",
    "\n",
    "       avg words per sentence 0.089 +/- 0.002\n",
    "              number of nouns 0.066 +/- 0.002\n",
    "                 tweet length 0.063 +/- 0.001\n",
    "                       photos 0.062 +/- 0.002\n",
    "             number of tweets 0.057 +/- 0.002\n",
    "          number of stopwords 0.055 +/- 0.001\n",
    "             number of emojis 0.044 +/- 0.001\n",
    "              number of verbs 0.042 +/- 0.002\n",
    "                         urls 0.038 +/- 0.001\n",
    "                        video 0.034 +/- 0.002\n",
    "              number of words 0.032 +/- 0.001\n",
    "          number of sentences 0.027 +/- 0.001\n",
    "                     mentions 0.025 +/- 0.001\n",
    "      number of organizations 0.024 +/- 0.001\n",
    "                     hashtags 0.018 +/- 0.001\n",
    "                     cashtags 0.001 +/- 0.000"
   ]
  },
  {
   "cell_type": "markdown",
   "id": "4ac85099",
   "metadata": {},
   "source": [
    "The same grid search used before was applied again, this time without the time-sensitive features."
   ]
  },
  {
   "cell_type": "markdown",
   "id": "b79d2248",
   "metadata": {},
   "source": [
    "|    | username       | model                                                                    |   fit_time_mean |   fit_time_std |   score_time_mean |   score_time_std |   test_balanced_accuracy_mean |   test_balanced_accuracy_std |   test_precision_mean |   test_precision_std |   test_recall_mean |   test_recall_std |   test_f1_mean |   test_f1_std |   test_roc_auc_mean |   test_roc_auc_std |   n_samples |   n_pos_label |   n_features |\n",
    "|---:|:---------------|:-------------------------------------------------------------------------|----------------:|---------------:|------------------:|-----------------:|------------------------------:|-----------------------------:|----------------------:|---------------------:|-------------------:|------------------:|---------------:|--------------:|--------------------:|-------------------:|------------:|--------------:|-------------:|\n",
    "|  0 | richardbranson | LogisticRegression(class_weight={0: 1, 1: 4.440026954177897}, n_jobs=-1) |       1.69608   |    0.433501    |         0.0695798 |      0.00258659  |                      0.642933 |                    0.0448721 |              0.35164  |            0.0688287 |          0.385145  |         0.0934825 |      0.363525  |     0.0669033 |            0.79977  |          0.0271385 |         973 |           117 |           16 |\n",
    "|  1 | richardbranson | SVC(class_weight={0: 1, 1: 4.440026954177897}, probability=True)         |       8.38487   |    1.55123     |         1.01782   |      0.165583    |                      0.54763  |                    0.0205386 |              0.515714 |            0.138173  |          0.111594  |         0.0497875 |      0.176653  |     0.0660425 |            0.775547 |          0.0351316 |         973 |           117 |           16 |\n",
    "|  2 | richardbranson | MultinomialNB()                                                          |       0.0474452 |    0.000704086 |         0.0681663 |      0.00102037  |                      0.5      |                    0         |              0        |            0         |          0         |         0         |      0         |     0         |            0.761457 |          0.0295217 |         973 |           117 |           16 |\n",
    "|  3 | Benioff        | SVC(class_weight={0: 1, 1: 4.440026954177897}, probability=True)         |       6.54975   |    0.0457198   |         1.00865   |      0.00941416  |                      0.514802 |                    0.0223557 |              0.264127 |            0.18724   |          0.0579832 |         0.0542521 |      0.0930995 |     0.0837707 |            0.603047 |          0.0448385 |         877 |           173 |           16 |\n",
    "|  4 | Benioff        | LogisticRegression(class_weight={0: 1, 1: 4.440026954177897}, n_jobs=-1) |       0.914553  |    0.0442461   |         0.0649292 |      0.00452285  |                      0.55809  |                    0.0348754 |              0.310198 |            0.0876734 |          0.277983  |         0.0723016 |      0.286235  |     0.0538223 |            0.578664 |          0.0410235 |         877 |           173 |           16 |\n",
    "|  5 | JohnLegere     | MultinomialNB()                                                          |       0.0644825 |    0.000569719 |         0.076102  |      0.000556757 |                      0.5      |                    0         |              0        |            0         |          0         |         0         |      0         |     0         |            0.547768 |          0.0194593 |        1632 |           342 |           16 |\n",
    "|  6 | elonmusk       | LogisticRegression(class_weight={0: 1, 1: 4.440026954177897}, n_jobs=-1) |       1.37807   |    0.0641029   |         0.0758756 |      0.00117213  |                      0.505284 |                    0.0314123 |              0.205848 |            0.0562566 |          0.192567  |         0.0599164 |      0.197988  |     0.05613   |            0.530443 |          0.0553866 |        1054 |           208 |           16 |\n",
    "\n",
    "__Table 11:__\n",
    "> >Top 7 performing classifers with various twitter data. Displays average and std of times and scores"
   ]
  },
  {
   "cell_type": "markdown",
   "id": "66f01705",
   "metadata": {},
   "source": [
    "The resuls are much the same as before, though Elon Musk performed better without the time-sensitive features, which is suprising. We are going to examine the top 2 models and look at Elon Musk's best perfoming model to see how the different classifiers are working in comparison to each other as well as across different datasets."
   ]
  },
  {
   "cell_type": "markdown",
   "id": "d2a84971",
   "metadata": {},
   "source": [
    "#### The Best Model"
   ]
  },
  {
   "cell_type": "markdown",
   "id": "c5ca6dc3",
   "metadata": {},
   "source": [
    "    richardbranson\n",
    "    LogisticRegression(class_weight={0: 1, 1: 4.440026954177897}, n_jobs=-1)\n",
    "    \n",
    "    Test_roc_auc_mean: 0.800\n",
    "    Test_roc_auc_std: 0.027\n",
    "    Range of test_roc_auc_mean: 0.773 -- 0.827\n",
    "    The mean cross-validation accuracy is: 0.829 +/- 0.021\n",
    "    Precision: 0.435\n",
    "    Recall: 0.400\n",
    "    Balanced accuracy: 0.665\n",
    "    \n",
    "                  precision    recall  f1-score   support\n",
    "\n",
    "               0       0.92      0.93      0.92       368\n",
    "               1       0.43      0.40      0.42        50\n",
    "\n",
    "        accuracy                           0.87       418\n",
    "       macro avg       0.68      0.66      0.67       418\n",
    "    weighted avg       0.86      0.87      0.86       418"
   ]
  },
  {
   "attachments": {},
   "cell_type": "markdown",
   "id": "b24d90e2",
   "metadata": {},
   "source": [
    "Fig 13(a) | Fig 13(b) | Fig 13(c)\n",
    "- | - | -\n",
    "<img src=\"figures/report/Fig13a.png\" alt=\"Fig13a\"/>|<img src=\"figures/report/Fig13b.png\" alt=\"Fig13b\"/>|<img src=\"figures/report/Fig13c.png\" alt=\"Fig13c\"/>"
   ]
  },
  {
   "cell_type": "markdown",
   "id": "ff34dd15",
   "metadata": {},
   "source": [
    "Again we have Richard Branson with the Logistic Regression Classification. When examined in comparison to the inclusion time-sensitive feature performance, we are seeing some differences. The percentage of correctly classified stocks that did not change is roughly the same (92% vs 91.6%) and is for predicting change (40% vs 44%) and an accuracy of 87% vs the 86% before. However we can see that the precision recall curve __13(b)__ has a precision reaching 60% before decreasing as recall increases. Let's look at the support vector machine classifer in comparison."
   ]
  },
  {
   "cell_type": "markdown",
   "id": "1bb157c8",
   "metadata": {},
   "source": [
    "#### SVM"
   ]
  },
  {
   "cell_type": "markdown",
   "id": "c95d2192",
   "metadata": {},
   "source": [
    "    richardbranson\n",
    "    SVC(class_weight={0: 1, 1: 4.440026954177897}, probability=True)\n",
    "    \n",
    "    Test_roc_auc_mean: 0.776\n",
    "    Test_roc_auc_std: 0.035\n",
    "    Range of test_roc_auc_mean: 0.740 -- 0.811\n",
    "    The mean cross-validation accuracy is: 0.877 +/- 0.007\n",
    "    Precision: 0.333\n",
    "    Recall: 0.080\n",
    "    Balanced accuracy: 0.529\n",
    "    \n",
    "                  precision    recall  f1-score   support\n",
    "\n",
    "               0       0.89      0.98      0.93       368\n",
    "               1       0.33      0.08      0.13        50\n",
    "\n",
    "        accuracy                           0.87       418\n",
    "       macro avg       0.61      0.53      0.53       418\n",
    "    weighted avg       0.82      0.87      0.83       418"
   ]
  },
  {
   "attachments": {},
   "cell_type": "markdown",
   "id": "864e468c",
   "metadata": {},
   "source": [
    "Fig 14(a)| Fig 14(b) | Fig 14(c)\n",
    "- | - | -\n",
    "<img src=\"figures/report/Fig14a.png\" alt=\"Fig14a\"/>|<img src=\"figures/report/Fig14b.png\" alt=\"Fig14b\"/>|<img src=\"figures/report/Fig14c.png\" alt=\"Fig14c\"/>"
   ]
  },
  {
   "cell_type": "markdown",
   "id": "444bcc2d",
   "metadata": {},
   "source": [
    "While Support Vector Machines were better in predicting stocks that didn't change (98%) it fared much poorer at predicting stock changes, correctly doing so only 8% of the time. The precision recall curve in __14(b)__ shows that improving the recall won't allow for much change in the precision."
   ]
  },
  {
   "cell_type": "markdown",
   "id": "1b13e076",
   "metadata": {},
   "source": [
    "#### Elon Musk's Best Model"
   ]
  },
  {
   "cell_type": "markdown",
   "id": "be222aa4",
   "metadata": {},
   "source": [
    "    elonmusk\n",
    "    LogisticRegression(class_weight={0: 1, 1: 4.440026954177897}, n_jobs=-1)\n",
    "    \n",
    "    Test_roc_auc_mean: 0.530\n",
    "    Test_roc_auc_std: 0.055\n",
    "    Range of test_roc_auc_mean: 0.475 -- 0.586\n",
    "    The mean cross-validation accuracy is: 0.685 +/- 0.023\n",
    "    Precision: 0.174\n",
    "    Recall: 0.180\n",
    "    Balanced accuracy: 0.485\n",
    "    \n",
    "                  precision    recall  f1-score   support\n",
    "\n",
    "               0       0.80      0.79      0.79       363\n",
    "               1       0.17      0.18      0.18        89\n",
    "\n",
    "        accuracy                           0.67       452\n",
    "       macro avg       0.49      0.49      0.49       452\n",
    "    weighted avg       0.67      0.67      0.67       452"
   ]
  },
  {
   "attachments": {},
   "cell_type": "markdown",
   "id": "4b98ca5b",
   "metadata": {},
   "source": [
    "Fig 15(a) | Fig 15(b) | Fig 15(c)\n",
    "- | - | -\n",
    "<img src=\"figures/report/Fig15a.png\" alt=\"Fig15a\"/>|<img src=\"figures/report/Fig15b.png\" alt=\"Fig15b\"/>|<img src=\"figures/report/Fig15c.png\" alt=\"Fig15c\"/>"
   ]
  },
  {
   "cell_type": "markdown",
   "id": "cda1150d",
   "metadata": {},
   "source": [
    "From figures __15 a,b__ we can see that the same model that performs well with Richard Branson's tweets undeperforms when applied to Elon Musk's tweets. The ROC AUC score at 54% is little better than guessing. "
   ]
  },
  {
   "cell_type": "markdown",
   "id": "093f3d22",
   "metadata": {},
   "source": [
    "It should be noted that dimension reduction using PCA for the numerical features, and TruncatedSVD were evaluated. Reducing dimensions to account for 95% of variance in the data had a slightly negative impact (as to be expected), and so were not used in model optimization."
   ]
  },
  {
   "cell_type": "markdown",
   "id": "c83082f3",
   "metadata": {},
   "source": [
    "# Running Testing Data"
   ]
  },
  {
   "cell_type": "markdown",
   "id": "6afa6437",
   "metadata": {},
   "source": [
    "    Important Features for Richard Branson (Training Data):\n",
    "\n",
    "                       photos 0.058 +/- 0.004\n",
    "       avg words per sentence 0.038 +/- 0.003\n",
    "                 tweet length 0.035 +/- 0.003\n",
    "          number of stopwords 0.033 +/- 0.003\n",
    "              number of verbs 0.032 +/- 0.002\n",
    "                         urls 0.029 +/- 0.003\n",
    "                     mentions 0.027 +/- 0.003\n",
    "              number of nouns 0.024 +/- 0.002\n",
    "              number of words 0.022 +/- 0.003\n",
    "                     hashtags 0.017 +/- 0.002\n",
    "                        video 0.013 +/- 0.002\n",
    "             number of tweets 0.011 +/- 0.002\n",
    "          number of sentences 0.006 +/- 0.001\n",
    "      number of organizations 0.003 +/- 0.001\n",
    "             number of emojis 0.001 +/- 0.000"
   ]
  },
  {
   "attachments": {},
   "cell_type": "markdown",
   "id": "b95c8e2f",
   "metadata": {},
   "source": [
    "<img src=\"figures/report/Fig16.png\" alt=\"Fig16\"/>\n",
    "\n",
    "\n",
    "__Figure 16:__\n",
    ">Percent Change Distributions for Ricahrd Branson"
   ]
  },
  {
   "cell_type": "markdown",
   "id": "277e9fc4",
   "metadata": {},
   "source": [
    "Statistics for Richard Branson Percent Change Distribution\n",
    "\n",
    "\n",
    "    count    1391.000000\n",
    "    mean        0.000262\n",
    "    std         0.024693\n",
    "    min        -0.178809\n",
    "    25%        -0.002079\n",
    "    50%         0.000000\n",
    "    75%         0.002010\n",
    "    max         0.202145\n",
    "    ---------------------------------------\n",
    "    number of no change samples:       1224\n",
    "    number of change samples:           167               \n",
    "    lower bin boundary:               -2.5%\n",
    "    upper bin boundary:                2.5%\n"
   ]
  },
  {
   "cell_type": "markdown",
   "id": "8abdb67e",
   "metadata": {},
   "source": [
    "#### Optimizing Model and Fitting Test Data"
   ]
  },
  {
   "cell_type": "markdown",
   "id": "2fd91261",
   "metadata": {},
   "source": [
    "    richardbranson\n",
    "    LogisticRegression(class_weight={0: 1, 1: 4.396390374331551}, n_jobs=-1,\n",
    "                       penalty='l1', solver='saga')\n",
    "                       \n",
    "    The mean cross-validation accuracy is: 0.816 +/- 0.006\n",
    "    Precision: 0.364\n",
    "    Recall: 0.494\n",
    "    Balanced accuracy: 0.677\n",
    "                  precision    recall  f1-score   support\n",
    "\n",
    "               0       0.91      0.86      0.88       531\n",
    "               1       0.36      0.49      0.42        87\n",
    "\n",
    "        accuracy                           0.81       618\n",
    "       macro avg       0.64      0.68      0.65       618\n",
    "    weighted avg       0.83      0.81      0.82       618"
   ]
  },
  {
   "attachments": {},
   "cell_type": "markdown",
   "id": "aeb531c9",
   "metadata": {},
   "source": [
    "Fig 17(a) | Fig 17(b) | Fig 17(c)\n",
    "- | - | -\n",
    "<img src=\"figures/report/Fig17a.png\" alt=\"Fig17a\"/>|<img src=\"figures/report/Fig17b.png\" alt=\"Fig17b\"/>|<img src=\"figures/report/Fig17c.png\" alt=\"Fig17c\"/>"
   ]
  },
  {
   "cell_type": "markdown",
   "id": "8ff84cdc",
   "metadata": {},
   "source": [
    "The optimized model perfomed similarly to the model valuated using the training data. It correctly predicted __no change__ __86%__ of time, and __change__ __50%__ of the time. Using thresholding we can optimize the number of correctly predicted change values at the expense of predicted no change. The overall accuracy is __81%__"
   ]
  },
  {
   "cell_type": "markdown",
   "id": "93858f3a",
   "metadata": {},
   "source": [
    "# Thresholding"
   ]
  },
  {
   "cell_type": "markdown",
   "id": "71dace00",
   "metadata": {},
   "source": [
    "    Threshold: 0.316\n",
    "\n",
    "    richardbranson\n",
    "    LogisticRegression(class_weight={0: 1, 1: 4.396390374331551}, n_jobs=-1,\n",
    "                       penalty='l1', solver='saga')\n",
    "                  precision    recall  f1-score   support\n",
    "\n",
    "               0       0.96      0.70      0.81       531\n",
    "               1       0.31      0.80      0.45        87\n",
    "\n",
    "        accuracy                           0.72       618\n",
    "       macro avg       0.63      0.75      0.63       618\n",
    "    weighted avg       0.87      0.72      0.76       618"
   ]
  },
  {
   "attachments": {},
   "cell_type": "markdown",
   "id": "e7f4bd46",
   "metadata": {},
   "source": [
    "Fig 18(a) Threshold of 0.316 | Fig 18(b) Confusion Matrix with Applied Threshold\n",
    "- | -\n",
    "<img src=\"figures/report/Fig18a.png\" alt=\"Fig18a\"/>|<img src=\"figures/report/Fig18b.png\" alt=\"Fig18b\"/>"
   ]
  },
  {
   "cell_type": "markdown",
   "id": "97e961f6",
   "metadata": {},
   "source": [
    "      Confusion Matrix Metrics\n",
    "      ===========================\n",
    "      Of stocks that actually change, how often does the classifier correctly predict them (Sensitivity)?\n",
    "      80.50%\n",
    "      \n",
    "      Of stocks that don't change, how often does the classifier correctly predict them (Specificity)?\n",
    "      70.43%\n",
    "      \n",
    "      How often is the classifier correct?\n",
    "      Accuracy: 70.605%\n",
    "\n",
    "      When it predicts yes, how often is it correct?\n",
    "      Precision: 30.837%\n",
    "\n",
    "      When it's actually no, how often does it predict yes?\n",
    "      False Positive Rate: 29.567%"
   ]
  },
  {
   "cell_type": "markdown",
   "id": "1e496cc9",
   "metadata": {},
   "source": [
    "Using thresholding we were able to increase the number of correctly predicted stock changes by __31%__ at the expense of __-9%__ accuracy and __-16%__ correctly predicted no change values. To an investor this would be ideal in making sure that they capture stock changes as quickly as possible. We lose out on precision, wich is how often is the classifer correct when it predicts stock changes, but to minimize opportunity loss we optimize recall."
   ]
  },
  {
   "cell_type": "markdown",
   "id": "fdb441e2",
   "metadata": {},
   "source": [
    "***\n",
    "## 7. Interpretability and Conclusions\n"
   ]
  },
  {
   "cell_type": "markdown",
   "id": "39ea169a",
   "metadata": {},
   "source": [
    "To assess the model, the most predictive words were analyzed for each group and the most predictive word for change, the positive class, was examined."
   ]
  },
  {
   "cell_type": "markdown",
   "id": "f7aff5ee",
   "metadata": {},
   "source": [
    " \n",
    "    Most Predictive Words for No Change         Most Predictive Words for Change\n",
    "     \n",
    "                like 1.00                                  sneak 0.99\n",
    "             million 1.00                                 crisis 0.99\n",
    "                high 1.00                            spaceflight 1.00\n",
    "                love 1.00                                 repair 1.00\n",
    "                need 1.00                                 reckon 1.00\n",
    "               enjoy 1.00                                   kill 1.00\n",
    "                hope 1.00                                  grand 1.00\n",
    "                know 1.00                                  beach 1.00\n",
    "               quote 1.00                           conversation 1.00\n",
    "                 not 1.00                              executive 1.00           "
   ]
  },
  {
   "cell_type": "markdown",
   "id": "a6740549",
   "metadata": {},
   "source": [
    "The most predictive words for Richard Branson, we see spaceflight in the bin for change, which makes sense given we are examining Virgin Galactic stock changes. Sneak, crisis, and kill may be related to discussions about company projects or goals (both positive and negative), though examining their context would provide more insight.\n",
    "\n",
    "For no change, words that express sentiment, such as like, love, enjoy, and hope seem to indicate little stock movement. This may be due to tweets that are about personal interests outside of the stock have little impact on the stock itself, whereas words discussing the company itself are more impactful. \n",
    "\n",
    "Looking at the word **spaceflight**\n",
    "\n",
    "    Document id: 1420\n",
    "    Percent Change: -0.001\n",
    "    Probability(Change) = 0.062\n",
    "    True class: no change"
   ]
  },
  {
   "cell_type": "markdown",
   "id": "4578aebb",
   "metadata": {},
   "source": [
    "Original Tweet:\n",
    ">*'.@VirginGalactic is moving to New Mexico  https://t.co/kSsQC1PQJw  https://t.co/JSoNjeTABM We have now completed two spaceflights and we’ll carry on the flight test program in New Mexico  https://t.co/kSsQC1PQJw @VirginGalactic  https://t.co/7qWrvr1Hlf It’s going to be special to see the world’s most beautiful spaceship fly from one of the world’s most wonderfully designed buildings, Spaceport America  https://t.co/kSsQC1PQJw @virgingalactic  https://t.co/owrz1dOBOy Thrilled to announce that @VirginGalactic is taking its next step towards full commercial service by moving its operations to Spaceport America in New Mexico this summer  https://t.co/kSsQC1PQJw  https://t.co/WAIb2fXrPa Watch live: Thrilled to announce @virgingalactic's next step towards commercial service  https://t.co/1iyX7kZEYg  https://t.co/bgBxzqwLIM\""
   ]
  },
  {
   "attachments": {},
   "cell_type": "markdown",
   "id": "63cc3ec9",
   "metadata": {},
   "source": [
    "Fig 19(a) Highlighted Cleaned Text| Fig 19(b) Text Probability | Fig 19(c) Feature Probability\n",
    "- | - | -\n",
    "<img src=\"figures/report/Fig19a.png\" alt=\"Fig19a\"/>|<img src=\"figures/report/Fig19b.png\" alt=\"Fig19b\"/>|<img src=\"figures/report/Fig19c.png\" alt=\"Fig19c\"/>"
   ]
  },
  {
   "cell_type": "markdown",
   "id": "f2443e86",
   "metadata": {},
   "source": [
    "Figure __19(a)__ gighlights the words in the text that are impactful of the bins. We can see that the text overall predicts a __73%__ chance that stocks are not going to change, which is correct. The percent change for this tweet is __-0.1%__. Despite this, the tweet is discussing Virgin Galactic directly, so not only is it surprising that it correctly predicted no change, but that there was actually no associated change with the stock. The words design, spaceflight, spaceport, and take are associated with stock changes, but oddly flight itself is associated with no cahnges. The overall prediction based off the text features is in figure __19(b)__ and the predictions for the numerical features are in __19(c)__. In this case the features were more accurate in their prediction, and we can see which ones had the greatest impact below."
   ]
  },
  {
   "attachments": {},
   "cell_type": "markdown",
   "id": "679af80f",
   "metadata": {},
   "source": [
    "Fig 20(a) Word Contributions to Predictions | Fig 20(b) Feature Contibutions to Predictions\n",
    "- | -\n",
    "<img src=\"figures/report/Fig20a.png\" alt=\"Fig20a\"/>|<img src=\"figures/report/Fig20b.png\" alt=\"Fig20b\"/>"
   ]
  },
  {
   "cell_type": "markdown",
   "id": "4bb3c750",
   "metadata": {},
   "source": [
    "Figure __20(a)__ shows each word's contribution to the overall prediction, with most showing no change. For the features in __20(b)__ Shows that the average number of words in this tweet is strongly predictive of no change (> 73.50), whereas the number of stopwords between 33.50 and 52.50 is secondmost in the correct prediction. The strongly predictive features in the tweet are based off the text itself and not the media features, which is unexpected."
   ]
  },
  {
   "cell_type": "markdown",
   "id": "0637eeb0",
   "metadata": {},
   "source": [
    "## Examining Misclassifications"
   ]
  },
  {
   "cell_type": "markdown",
   "id": "3996510b",
   "metadata": {},
   "source": [
    "Change was incorrectly predicted as no change 17 times. The worst misclassification is examined."
   ]
  },
  {
   "cell_type": "markdown",
   "id": "feac75cb",
   "metadata": {},
   "source": [
    "#### Top misclassification of incorrectly predicting no change"
   ]
  },
  {
   "cell_type": "markdown",
   "id": "0aff54f6",
   "metadata": {},
   "source": [
    "    Document id: 1789\n",
    "    Percent Change: -0.038\n",
    "    Probability(Change) = 0.60%\n",
    "    True class: change"
   ]
  },
  {
   "cell_type": "markdown",
   "id": "fbe100f2",
   "metadata": {},
   "source": [
    "Original Tweet:\n",
    ">*'Climate change creates huge opportunities for innovation, not least in transportation. Here’s one example  https://t.co/yEPnQFirpo #RunOnLess  https://t.co/ypbp5RmDZl How to develop a team of leaders:  https://t.co/P0qc7kD55K @virginmobilecan #readbyrichard  https://t.co/PSKjZgaGoo Exciting project to modernise Saudi Arabia &amp; welcome tourists to beautiful undiscovered country &amp; stunning landscape  https://t.co/jIFLJ10wBe  https://t.co/GUmn8qxdKJ @apolloxxxx Thank you for your kind words @RdzSaint Forget one, here’s 65 – not all on entrepreneurship, but all useful for an entrepreneur  https://t.co/wTT9njdKlh As a kid one of my heroes was Lawrence of Arabia. Treat to see this restored train he blew up in Saudi Arabia  https://t.co/jIFLJ10wBe  https://t.co/X2SDLsHQU8 @sarah_robes15 Thank you Sarah, that’s lovely to hear. Next up - #FindingMyVirginity @ErranteMec I’m delighted to hear you enjoyed it. My new autobiography is out next month too, so good timing! #FindingMyVirginity Visited incredible UNESCO World Heritage Site, Mada’in Saleh. Privelige to see this awe-inspiring ancient ruin  https://t.co/jIFLJ10wBe  https://t.co/CtHQ1Rprsf Quite an experience to be in Saudi Arabia on the day women were given the right to drive for the 1st time  https://t.co/jIFLJ10wBe  https://t.co/mdFeQz4Q94 Just enjoyed a fascinating visit to Saudi Arabia, a country where great change is taking place step by step  https://t.co/jIFLJ10wBe'*"
   ]
  },
  {
   "attachments": {},
   "cell_type": "markdown",
   "id": "56fede16",
   "metadata": {},
   "source": [
    "Fig 21(a) Highlighted Cleaned Text| Fig 21(b) Text Probability | Fig 21(c) Feature Probability\n",
    "- | - | - \n",
    "<img src=\"figures/report/Fig21a.png\" alt=\"Fig21a\"/>|<img src=\"figures/report/Fig21b.png\" alt=\"Fig21b\"/>|<img src=\"figures/report/Fig21c.png\" alt=\"Fig21c\"/>"
   ]
  },
  {
   "cell_type": "markdown",
   "id": "689c1626",
   "metadata": {},
   "source": [
    "The model incorrectly predicted that there's only  __6.3%__ confidence that the stock was going to change when, in fact, it did. The actual stock dropped __-3.8%__ and is well below the __-2.5%__ cutoff. There are a few things about this tweet that make it hard to predict. There were 11 tweets between the previous closing price and the next one, and Richard Branson averages roughly 3/day, so there's a lot of diparate ideas collected together here. Discussions of climate change, modernizing Saudi Arabia, his autobiography, and a correspondence with Sarah are linked together. Not is a stop word that was included in the text, and it has a strong impact on no change prediction. Removing some stop words is something to look into for future explorations."
   ]
  },
  {
   "attachments": {},
   "cell_type": "markdown",
   "id": "6174ea43",
   "metadata": {},
   "source": [
    "Fig 22(a) Word Contributions to Predictions | Fig 22(b) Feature Contibutions to Predictions\n",
    "- | -\n",
    "<img src=\"figures/report/Fig22a.png\" alt=\"Fig22a\"/>|<img src=\"figures/report/Fig22b.png\" alt=\"Fig22b\"/>"
   ]
  },
  {
   "cell_type": "markdown",
   "id": "0b2e9e03",
   "metadata": {},
   "source": [
    "Figure __22(a)__ shows words describing climate change are predictive of no stock movement. The number of stopwords, verbs, and length of the tweet are much more impactful that the correctly predictions made by the number of words, nouns, and sentences shown in __22(b)__. "
   ]
  },
  {
   "cell_type": "markdown",
   "id": "203faded",
   "metadata": {},
   "source": [
    "The model misclassified no change as change 157 times\n",
    "\n",
    "#### Top misclassification of incorrectly predicting no change\n",
    "\n",
    "    Top misclassification\n",
    "    Document id: 1737\n",
    "    Percent Change: 0.002\n",
    "    Probability(Change) = 91.07%\n",
    "    True class: no change"
   ]
  },
  {
   "cell_type": "markdown",
   "id": "710cb323",
   "metadata": {},
   "source": [
    "Original Tweet:\n",
    ">*'Discussing the future of design, #STEM and what it takes to paint a rocket with Heidi Rueff - @Virgin_Orbit’s graphic designer:  https://t.co/9A8bS11DoM #VirginFamily  https://t.co/8vvuvruqtt'*"
   ]
  },
  {
   "attachments": {},
   "cell_type": "markdown",
   "id": "795ab5f9",
   "metadata": {},
   "source": [
    "Fig 23(a) Highlighted Cleaned Text| Fig 23(b) Text Probability | Fig 23(c) Feature Probability\n",
    "- | - | -\n",
    "<img src=\"figures/report/Fig23a.png\" alt=\"Fig23a\"/>|<img src=\"figures/report/Fig23b.png\" alt=\"Fig23b\"/>|<img src=\"figures/report/Fig23c.png\" alt=\"Fig23c\"/>"
   ]
  },
  {
   "cell_type": "markdown",
   "id": "bf6b890d",
   "metadata": {},
   "source": [
    "The model predicts that stocks change with __91%__ confidence, but the percent change is only __0.2%__. This tweet has the opposite problem where it is very short, and the text does a much poorer job at predicting the correct class than the features do. In this case the features *correctly* predicted the stock not to change (figure __23(c)__. As the word design is so strongly indicative of stocks changing, it's impact on a short tweet like the one above can sway the algorithm to make the incorrect predictions."
   ]
  },
  {
   "attachments": {},
   "cell_type": "markdown",
   "id": "5bb6c059",
   "metadata": {},
   "source": [
    "Fig 24(a) Word Contributions to Predictions | Fig 24(b) Feature Contibutions to Predictions\n",
    "- | -\n",
    "<img src=\"figures/report/Fig24a.png\" alt=\"Fig24a\"/>|<img src=\"figures/report/Fig24b.png\" alt=\"Fig24b\"/>"
   ]
  },
  {
   "cell_type": "markdown",
   "id": "0e9d9294",
   "metadata": {},
   "source": [
    "Again, the engineered features seems to be the strongest influencer on making the correct prediction __24(b)__. Model Predictions using just the text and the features wil be examined to see if one or the other is better alone in making correct predictions."
   ]
  },
  {
   "cell_type": "markdown",
   "id": "ad2511d4",
   "metadata": {},
   "source": [
    "# Just Features"
   ]
  },
  {
   "cell_type": "markdown",
   "id": "4a50c052",
   "metadata": {},
   "source": [
    "    richardbranson\n",
    "    LogisticRegression(C=0.1, class_weight={0: 1, 1: 4.440026954177897}, n_jobs=-1,\n",
    "                       penalty='l1', solver='liblinear')\n",
    "                       \n",
    "    The mean cross-validation accuracy is: 0.788 +/- 0.024\n",
    "    Precision: 0.141\n",
    "    Recall: 1.000\n",
    "    Balanced accuracy: 0.500\n",
    "    \n",
    "                  precision    recall  f1-score   support\n",
    "\n",
    "               0       0.00      0.00      0.00       531\n",
    "               1       0.14      1.00      0.25        87\n",
    "\n",
    "        accuracy                           0.14       618\n",
    "       macro avg       0.07      0.50      0.12       618\n",
    "    weighted avg       0.02      0.14      0.03       618"
   ]
  },
  {
   "cell_type": "markdown",
   "id": "16236bad",
   "metadata": {},
   "source": [
    "Just using features correctly predicts all of the stocks that changed, but misses all of the stocks that don't change. "
   ]
  },
  {
   "cell_type": "markdown",
   "id": "59e014f5",
   "metadata": {},
   "source": [
    "# Just Words"
   ]
  },
  {
   "cell_type": "markdown",
   "id": "7dcd9852",
   "metadata": {},
   "source": [
    "\n",
    "    richardbranson\n",
    "    LogisticRegression(C=0.01, class_weight={0: 1, 1: 4.440026954177897}, n_jobs=-1,\n",
    "                       solver='liblinear')\n",
    "                       \n",
    "    The mean cross-validation accuracy is: 0.880 +/- 0.002\n",
    "    Precision: 0.000\n",
    "    Recall: 0.000\n",
    "    Balanced accuracy: 0.500\n",
    "                  precision    recall  f1-score   support\n",
    "\n",
    "               0       0.86      1.00      0.92       531\n",
    "               1       0.00      0.00      0.00        87\n",
    "\n",
    "        accuracy                           0.86       618\n",
    "       macro avg       0.43      0.50      0.46       618\n",
    "    weighted avg       0.74      0.86      0.79       618"
   ]
  },
  {
   "cell_type": "markdown",
   "id": "0b6029ac",
   "metadata": {},
   "source": [
    "Oddly, using just words has the opposite effect in correctly predicting when stocks don't change, but missing all of the times when stocks do change. The combination of tweets and features is necessary to get any predictive power from the model."
   ]
  },
  {
   "attachments": {},
   "cell_type": "markdown",
   "id": "88b103a4",
   "metadata": {},
   "source": [
    "# Conclusions\n",
    "\n",
    "Overall, we were able to make predictions about an executive's stock changes over a very nuanced set of features. The way in which a person tweets has a sizable impact on whether or not predictions can be made. \n",
    "\n",
    "\n",
    "<img src=\"figures/report/Fig25.png\" alt=\"Fig25\"/>\n",
    "\n",
    "\n",
    "__Figure 25:__\n",
    "> Swarm plot of percent change in change/no change bins. The color bar on the right shows the probability of predicting the positive class with blue being 100% probability of the stock changing and red being 0% probability of that stock changing. "
   ]
  },
  {
   "cell_type": "markdown",
   "id": "43244b8c",
   "metadata": {},
   "source": [
    "From the swarm plot in figure __25__, we can see from the color bar that stocks predicted to change (blue) are correctly classified as such, and that a lot of of the stocks not changing are in orange and red in the no change bin. What's interesting here is that the no change bin has values in the upper and lower percent change cutoffs that are incorrectly predcited to be change, but modifying the cuttoff value for the bining by lowering the threshold (from $+/-$ 2.5% down to $+/-$ 1.0% would allow for predictions to be accurately classified. "
   ]
  },
  {
   "cell_type": "markdown",
   "id": "048fd394",
   "metadata": {},
   "source": [
    "From this exploration, the user who posts the tweets has greater influence on predictive powers than the choice of model. From the twitter feeds that were scraped, Richard Branson's had the most predictive power, and so the task becomes finding tweets that are similar in their feature distributions. This is a difficult task as the nuances as to how a person tweets and the topics they choose to post varies greatly between users. Facebook's CEO Mark Zuckerberg barely tweets at all, for example. So patterns matching Richard Branson's would need to be explored. "
   ]
  },
  {
   "cell_type": "markdown",
   "id": "d693056a",
   "metadata": {},
   "source": [
    "Another consideration is to remove short tweets and to scrape data that only pertains to certain topics. This was done in early testing, in which tweets belonging to certain categories were removed (e.g. those pertaining to climate change, the election, and travel), but this truncated the already small amount of viable Twitter data and had mixed results. "
   ]
  },
  {
   "cell_type": "markdown",
   "id": "30558249",
   "metadata": {},
   "source": [
    "As this is only looking at stocks that the Twitter users' were either currently or formely CEOs of, it would be interesting to see if mentions of other stocks, such as the Cyberpunk Game by Elon Musk, could also be predicted."
   ]
  },
  {
   "cell_type": "markdown",
   "id": "1f9a4786",
   "metadata": {},
   "source": [
    "***\n",
    "## 8. Further Work and Future Implementation\n",
    "\n",
    "The best model would correctly predict if a stock price were to drop, rise, or stay the same, so a multiclassification prediction would be the next immediate exploration. The change/no change was used for thie initial project mainly due to the visual differences discovered during EDA between stock changes, and as a means to assess if there was any predictive power at all from the user's posts.\n",
    "\n",
    "- Apart from the three classifiers studied, random forest and stochastic gradient descent were also used, but ultimately not included in the final analysis as they perfomed poorer than the logistic regression in all test cases. However, some ensemble methods such as XGBoost haven't been tried, and using Deep Learning for text predictions has been shown to be effective in cases where other models fail.\n",
    "\n",
    "- The vectorization methods applied could be tuned by examining various uni, bi, and ti-gram combinations, along with changing the minimum number of documents. Word embedding models are also something that should be tried as they could be able to capture more context associated with the words than simple term-document frequency methods. \n",
    "\n",
    "- BERT (Bidirectional Encoder Representations from Transformers) is a deep learning method that has been shown to be very effective for NLP predictions, and pre-trained models using a financial corpus would be a must to try on the twitter posts to analyze stock change prices.\n",
    "\n",
    "Additionally, we are only looking at the executive's company stocks, and looking for stock changes from mentions of that user would be a better tool, as we could find influential twitter users that have predictive power over a variety of stocks."
   ]
  },
  {
   "cell_type": "markdown",
   "id": "5007657f",
   "metadata": {},
   "source": [
    "***\n",
    "## 9. Sources\n",
    "\n",
    "[1] https://www.nytimes.com/2018/08/07/business/tesla-stock-elon-musk-private.html  \n",
    "[2] https://www.cnbc.com/2020/05/01/tesla-ceo-elon-musk-says-stock-price-is-too-high-shares-fall.html  \n",
    "[3]https://towardsdatascience.com/phik-k-get-familiar-with-the-latest-correlation-coefficient-9ba0032b37e7#:~:text=Phik%20(%F0%9D%9C%99k)%20is%20a%20new,a%20bivariate%20normal%20input%20distribution."
   ]
  },
  {
   "cell_type": "code",
   "execution_count": null,
   "id": "446330c8",
   "metadata": {},
   "outputs": [],
   "source": []
  }
 ],
 "metadata": {
  "kernelspec": {
   "display_name": "Python 3",
   "language": "python",
   "name": "python3"
  },
  "language_info": {
   "codemirror_mode": {
    "name": "ipython",
    "version": 3
   },
   "file_extension": ".py",
   "mimetype": "text/x-python",
   "name": "python",
   "nbconvert_exporter": "python",
   "pygments_lexer": "ipython3",
   "version": "3.9.4"
  }
 },
 "nbformat": 4,
 "nbformat_minor": 5
}
